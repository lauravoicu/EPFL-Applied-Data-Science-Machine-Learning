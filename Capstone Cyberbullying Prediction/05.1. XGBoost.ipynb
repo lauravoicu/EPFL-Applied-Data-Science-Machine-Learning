{
 "cells": [
  {
   "cell_type": "markdown",
   "metadata": {},
   "source": [
    "# Cyberbullying On Social Media\n",
    "\n",
    "# XGBoost"
   ]
  },
  {
   "cell_type": "code",
   "execution_count": 1,
   "metadata": {},
   "outputs": [],
   "source": [
    "import numpy as np\n",
    "import pandas as pd\n",
    "import matplotlib as mpl\n",
    "import matplotlib.pyplot as plt  \n",
    "import seaborn as sns\n",
    "\n",
    "\n",
    "from sklearn.metrics import f1_score\n",
    "from sklearn.model_selection import GridSearchCV, train_test_split\n",
    "from sklearn.pipeline import Pipeline\n",
    "from sklearn import metrics\n",
    "from sklearn.metrics import classification_report\n",
    "from sklearn.metrics import f1_score, roc_auc_score, roc_curve\n",
    "\n",
    "import imblearn\n",
    "# print(imblearn.__version__)\n",
    "from imblearn.over_sampling import SMOTE\n",
    "\n",
    "# !pip install xgboost\n",
    "\n",
    "import xgboost as xgb\n",
    "from xgboost import XGBClassifier\n",
    "from xgboost import plot_tree\n",
    "\n",
    "import warnings\n",
    "warnings.filterwarnings('ignore')\n",
    "warnings.simplefilter('ignore')"
   ]
  },
  {
   "cell_type": "code",
   "execution_count": 2,
   "metadata": {},
   "outputs": [],
   "source": [
    "df = pd.read_csv('labeled_insta_cleaned.csv', encoding = 'utf-8-sig', engine = 'python')"
   ]
  },
  {
   "cell_type": "code",
   "execution_count": 3,
   "metadata": {},
   "outputs": [],
   "source": [
    "comments = df['tidy_text']\n",
    "labels = df['label_bullying']"
   ]
  },
  {
   "cell_type": "code",
   "execution_count": 4,
   "metadata": {},
   "outputs": [],
   "source": [
    "#keep the same random state for reproducibility\n",
    "RANDOM_STATE = 12\n",
    "TRAIN_TEST_SPLIT_SIZE = .1\n",
    "VALIDATION_SPLIT_SIZE = .2"
   ]
  },
  {
   "cell_type": "markdown",
   "metadata": {},
   "source": [
    "**XGBoost**\n",
    "\n",
    "Extreme Gradient Boosting (xgboost) is an advanced implementation of the gradient boosting algorithm. It has both linear model solver and tree learning algorithms. Its ability to do parallel computation on a single machine makes it extremely fast. \n",
    "\n",
    "Some key benefits of XGBoost are:\n",
    "\n",
    "- Regularization - helps in reducing overfitting\n",
    "\n",
    "- Parallel Processing - XGBoost implements parallel processing and is blazingly faster as compared to GBM.\n",
    "\n",
    "- Handling Missing Values - It has an in-built routine to handle missing values.\n",
    "\n",
    "- Built-in Cross-Validation - allows user to run a cross-validation at each iteration of the boosting process\n",
    "\n",
    "\n",
    "For this part I will perform the following steps:\n",
    "- Evaluate the XGBoost model for the different word embeddings\n",
    "- Tune the regularization strength parameter with cross-validated grid-search for each type of embeddings\n",
    "- Check the predictions against the actual values\n",
    "- Compare the results for the different word embeddings"
   ]
  },
  {
   "cell_type": "markdown",
   "metadata": {},
   "source": [
    "**Hyperparameter Tuning**\n",
    "\n",
    "XGBoost has quite a many tuning parameters and sometimes it becomes tricky to properly tune them. I used these guides for ideas on how to tune the model:\n",
    "\n",
    "https://www.analyticsvidhya.com/blog/2016/03/complete-guide-parameter-tuning-xgboost-with-codes-python/\n",
    "https://blog.cambridgespark.com/hyperparameter-tuning-in-xgboost-4ff9100a3b2f\n",
    "https://towardsdatascience.com/fine-tuning-xgboost-in-python-like-a-boss-b4543ed8b1e"
   ]
  },
  {
   "cell_type": "markdown",
   "metadata": {},
   "source": [
    "**Quick note on the method**\n",
    "\n",
    "In an ideal world, with infinite resources and where time is not an issue, I could run a giant grid search with all the parameters together and find the optimal solution. In fact, I gave it a try: using TFIDF I managed to find the optimal parameters after about 8 hours. For Word2Vec and using the same searh space as here I had to give up after 20 hours. Perhaps it is still doable with really small datasets, but for this dataset (which is by far not the largest), the training time was growing exponentially, and each step in the tuning process was becoming more and more expensive. \n",
    "\n",
    "In practice this approach is rarely feasible, so instead I'll go through the parameters one or two at a time. After careful reading, I decided to tune 5 of the hyperparameters that usually have a big impact on the performance. In theory it would be necessary to test all combinations to ensure we find THE optimal solution, but here I will try to find a good enough one by improving the model with a reasonable number of steps.\n",
    "\n",
    "I somehow wanted to still give it a try using GridSearchCV as well, so I decided to try using a smaller search space. Interestingly enough, although the parameters I found here by manual trials were in the search space, GridSearchCV found different best parameters. Even though the parameters found were different, the results are the same. This tells us that tuning the parameters has little influence on the results, and the quality of the results is mostly influenced by the size and quality of the data set, and there isn't much more that can be done to improve these results."
   ]
  },
  {
   "cell_type": "markdown",
   "metadata": {},
   "source": [
    "\n",
    "**Approach for Parameter Tuning**\n",
    "\n",
    "- Choose a relatively high learning rate. The default learning rate of 0.3 used at this stage. \n",
    "\n",
    "- Tune tree-specific parameters such as max_depth, min_child_weight, subsample, colsample_bytree keeping the learning rate fixed.\n",
    "\n",
    "- Tune the learning rate.\n",
    "\n",
    "- Finally tune gamma to avoid overfitting (optional).\n",
    "\n",
    "- Determine the optimum number of trees. XGBoost also has its own cv function which performs cross-validation at each boosting iteration and returns the optimum number of trees required. I will set a very high number of trees (or num_boost_round in XGBoost terminology and rely on early stopping."
   ]
  },
  {
   "cell_type": "markdown",
   "metadata": {},
   "source": [
    "**Using XGBoost’s CV**\n",
    "\n",
    "In order to tune the hyperparameters, I will use the cv function from XGBoost. It allows  to run cross-validation on the training dataset and returns a score (either built-in or customly defined).\n",
    "It requires the following inputs:\n",
    "- params: dictionary of parameters.\n",
    "- dtrain matrix.\n",
    "- num_boost_round: number of boosting rounds. Here I will use a large number and count on early_stopping_rounds to find the optimal number of rounds before reaching the maximum.\n",
    "- seed: random seed. It's important to set a seed here, to ensure we are using the same folds for each step so we can properly compare the scores with different parameters.\n",
    "- nfold: the number of folds to use for cross-validation. Setting this to 5, same as for the other classifiers.\n",
    "- metrics: the metrics to use to evaluate the model. For this part I have defined a custom F1 score metric, since XGBoost does not have one natively, and I wanted to compare to other classifiers using the same metric.\n",
    "\n",
    "\n",
    "**A note about num_boost_round and early_stopping_rounds**\n",
    "\n",
    "XGBoost is a gradient boosting method, as such it adds trees in every iteration to improve the prediction accuracy (performance). \n",
    "\n",
    "The prediction performance increases when you add more and more trees until it starts to overfit, at which point the it will start to decrease. So we need to find that optimum number of trees. It is basically impossible to guess this number, and this is what XGBoost.cv is for. It partitions the training data into two subsets. The first subset is used to train XGBoost, the second is used as a validation set. After each iteration (which adds an additional tree) XGBoost calculates the new validation error. With that XGBoost is able to detect when it starts to overfit (when the chosen evaluation metric starts to either increase (loss), or decrease (our custom F1 score)). This will give us the optimal number of trees for a given set of hyperparameters.\n",
    "\n",
    "The num_boost_rounds (number of trees) parameter is not part of the PARAMETERS dictionary, but it is also a tunable parameter. num_boost_round corresponds to the number of boosting rounds or trees to build. Its optimal value highly depends on the other parameters. This means it should be re-tuned each time we update a parameter. I could do this by tuning it together with all parameters in the grid-search, but it requires a lot of computational effort. Fortunately XGBoost provides a nice way to find the best number of rounds while training. Since trees are built sequentially, instead of fixing the number of rounds at the beginning, we can test our model at each step and see if adding a new tree/boost round improves performance. If the performance hasn’t improved for a specific number of rounds (as defined by the variable early_stopping_round), we stop the training and keep the best number of boosting rounds. \n",
    "\n",
    "\n",
    "I've decided here to use the XGBoost algorithm directly for tuning (mostly because it makes cross validation easy), there is also a scikit learn wrapper around XGBoost called XGBRegressor. The XGBoost algorithm is more customizeable, but the scikit learn wrapper plays more nicely with pipelines (and doesn't need DMatrix input)."
   ]
  },
  {
   "cell_type": "markdown",
   "metadata": {},
   "source": [
    "***\n",
    "\n",
    "**Utility Functions**\n",
    "\n",
    "***"
   ]
  },
  {
   "cell_type": "code",
   "execution_count": 5,
   "metadata": {},
   "outputs": [],
   "source": [
    "def custom_f1_score(preds, d_train):\n",
    "    labels = d_train.get_label().astype(np.int)\n",
    "    preds = (preds >= 0.5).astype(np.int)\n",
    "    return [('f1_score', f1_score(labels, preds))]"
   ]
  },
  {
   "cell_type": "code",
   "execution_count": 6,
   "metadata": {},
   "outputs": [],
   "source": [
    "# setup color scheme and standard figure size for all figures\n",
    "mpl.rcParams['figure.figsize'] = (12, 10)\n",
    "colors = plt.rcParams['axes.prop_cycle'].by_key()['color']"
   ]
  },
  {
   "cell_type": "code",
   "execution_count": 7,
   "metadata": {},
   "outputs": [],
   "source": [
    "def plot_cfm(labels, predictions, p = 0.5):\n",
    "    cfm = metrics.confusion_matrix(labels, predictions > p)\n",
    "    plt.figure(figsize = (5,5))\n",
    "    sns.heatmap(cfm, annot = True, fmt = \"d\")\n",
    "    plt.title('Confusion matrix @{:.2f}'.format(p))\n",
    "    plt.ylabel('Actual values')\n",
    "    plt.xlabel('Predicted values')\n",
    "\n",
    "    print('True Negatives: ', cfm[0][0])\n",
    "    print('False Positives: ', cfm[0][1])\n",
    "    print('False Negatives: ', cfm[1][0])\n",
    "    print('True Positives: ', cfm[1][1])"
   ]
  },
  {
   "cell_type": "code",
   "execution_count": 8,
   "metadata": {},
   "outputs": [],
   "source": [
    "def plot_roc(name, labels, predictions, **kwargs):\n",
    "    fp, tp, _ = roc_curve(labels, predictions)\n",
    "    roc_auc = metrics.auc(fp, tp)    \n",
    "    plt.title('Receiver Operating Characteristic')\n",
    "    plt.plot(fp, tp, label = name + ' AUC = %0.2f' % roc_auc, linewidth=2, **kwargs)\n",
    "    plt.legend(loc = 'lower right')\n",
    "    plt.plot([0, 1], [0, 1], linewidth=2, color=colors[6], linestyle=':')\n",
    "    plt.xlabel('False positives [%]')\n",
    "    plt.ylabel('True positives [%]')\n",
    "    plt.grid(True)\n",
    "    ax = plt.gca()\n",
    "    ax.set_aspect('equal')"
   ]
  },
  {
   "cell_type": "code",
   "execution_count": 9,
   "metadata": {},
   "outputs": [],
   "source": [
    "def init_params():\n",
    "#     Initialize with default parameters\n",
    "    PARAMETERS['max_depth'] = 6\n",
    "    PARAMETERS['min_child_weight'] = 1\n",
    "    PARAMETERS['eta'] = .3\n",
    "    PARAMETERS['subsample'] = 1\n",
    "    PARAMETERS['colsample_bytree'] = 1\n",
    "    return PARAMETERS"
   ]
  },
  {
   "cell_type": "code",
   "execution_count": 10,
   "metadata": {},
   "outputs": [],
   "source": [
    "def cross_validation(PARAMETERS, d_train):\n",
    "    cv_results = xgb.cv(PARAMETERS,\n",
    "        d_train,\n",
    "        feval = custom_f1_score,\n",
    "        num_boost_round = NUM_BOOST_ROUNDS,\n",
    "        maximize = True,\n",
    "        seed = RANDOM_SEED,\n",
    "        nfold = 5,\n",
    "        early_stopping_rounds = EARLY_STOPPING_ROUNDS\n",
    "    )\n",
    "    return cv_results"
   ]
  },
  {
   "cell_type": "markdown",
   "metadata": {},
   "source": [
    "***\n",
    "\n",
    "**TF-IDF**\n",
    "\n",
    "***"
   ]
  },
  {
   "cell_type": "markdown",
   "metadata": {},
   "source": [
    "**Prepare the data set and DMatrices**\n",
    "\n",
    "Notice that here we will use the training features which have already been upsampled using SMOTE."
   ]
  },
  {
   "cell_type": "code",
   "execution_count": 11,
   "metadata": {},
   "outputs": [],
   "source": [
    "train_tfidf_features = np.load('train_dataset_tfidf_features.npy', allow_pickle=True)\n",
    "train_tfidf_labels = np.load('train_dataset_tfidf_labels.npy', allow_pickle=True)"
   ]
  },
  {
   "cell_type": "code",
   "execution_count": 12,
   "metadata": {},
   "outputs": [],
   "source": [
    "test_tfidf_features = np.load('test_dataset_tfidf_features.npy', allow_pickle=True)\n",
    "test_tfidf_labels = np.load('test_dataset_tfidf_labels.npy', allow_pickle=True)"
   ]
  },
  {
   "cell_type": "code",
   "execution_count": 13,
   "metadata": {},
   "outputs": [],
   "source": [
    "val_tfidf_features = np.load('val_dataset_tfidf_features.npy', allow_pickle=True)\n",
    "val_tfidf_labels = np.load('val_dataset_tfidf_labels.npy', allow_pickle=True)"
   ]
  },
  {
   "cell_type": "code",
   "execution_count": 14,
   "metadata": {},
   "outputs": [
    {
     "name": "stdout",
     "output_type": "stream",
     "text": [
      "x: (11304, 1000) float64\n",
      "y: (11304,) int64\n"
     ]
    }
   ],
   "source": [
    "# Create X/y arrays\n",
    "x_train_tfidf = train_tfidf_features.item()\n",
    "y_train_tfidf = train_tfidf_labels\n",
    "\n",
    "print('x:', x_train_tfidf.shape, x_train_tfidf.dtype)\n",
    "print('y:', y_train_tfidf.shape, y_train_tfidf.dtype)"
   ]
  },
  {
   "cell_type": "code",
   "execution_count": 15,
   "metadata": {},
   "outputs": [
    {
     "name": "stdout",
     "output_type": "stream",
     "text": [
      "x: (1104, 1000) float64\n",
      "y: (1104,) int64\n"
     ]
    }
   ],
   "source": [
    "# Create X/y arrays\n",
    "x_test_tfidf = test_tfidf_features.item()\n",
    "y_test_tfidf = test_tfidf_labels\n",
    "\n",
    "print('x:', x_test_tfidf.shape, x_test_tfidf.dtype)\n",
    "print('y:', y_test_tfidf.shape, y_test_tfidf.dtype)"
   ]
  },
  {
   "cell_type": "code",
   "execution_count": 16,
   "metadata": {},
   "outputs": [
    {
     "name": "stdout",
     "output_type": "stream",
     "text": [
      "x: (1986, 1000) float64\n",
      "y: (1986,) int64\n"
     ]
    }
   ],
   "source": [
    "# Create X/y arrays\n",
    "x_val_tfidf = val_tfidf_features.item()\n",
    "y_val_tfidf = val_tfidf_labels\n",
    "\n",
    "print('x:', x_val_tfidf.shape, x_val_tfidf.dtype)\n",
    "print('y:', y_val_tfidf.shape, y_val_tfidf.dtype)"
   ]
  },
  {
   "cell_type": "markdown",
   "metadata": {},
   "source": [
    "Instead of numpy arrays or pandas data frames, XGBoost uses DMatrices. A DMatrix can contain both the features and the target. The data is already loaded into arrays, so I can use them to create the DMatrix. "
   ]
  },
  {
   "cell_type": "code",
   "execution_count": 17,
   "metadata": {},
   "outputs": [],
   "source": [
    "# A DMatrix can contain both the features and the target.\n",
    "d_train_tfidf = xgb.DMatrix(x_train_tfidf, label = y_train_tfidf) \n",
    "d_test_tfidf = xgb.DMatrix(x_test_tfidf, label = y_test_tfidf)\n",
    "d_val_tfidf = xgb.DMatrix(x_val_tfidf, label = y_val_tfidf)\n",
    "watchlist_tfidf = [(d_train_tfidf, 'train'), (d_val_tfidf, 'val')]"
   ]
  },
  {
   "cell_type": "code",
   "execution_count": 18,
   "metadata": {},
   "outputs": [],
   "source": [
    "# Initialize with default parameters\n",
    "PARAMETERS = {\n",
    "     'objective':'binary:logistic',\n",
    "     'max_depth': 6,\n",
    "     'min_child_weight': 1,\n",
    "     'eta': .3,\n",
    "     'subsample': 1,\n",
    "     'colsample_bytree': 1\n",
    "  }"
   ]
  },
  {
   "cell_type": "code",
   "execution_count": 19,
   "metadata": {},
   "outputs": [],
   "source": [
    "RANDOM_SEED = 12\n",
    "NUM_BOOST_ROUNDS = 1000\n",
    "EARLY_STOPPING_ROUNDS = 20"
   ]
  },
  {
   "cell_type": "markdown",
   "metadata": {},
   "source": [
    "**Tune max_depth and min_child_weight** \n",
    "\n",
    "I'll tune these concurrently using a basic grid search, meaning I'll test all combinations of the two variables in a certain range. Whichever combination has the best cross validation score, will be set as values for the next round.\n",
    "\n",
    "\n",
    "- max_depth is the largest depth allowed on any decision tree in the ensemble, where tree depth is the number of nodes from the root down to the farthest away leaf. Larger max_depth values allow for more complex trees, which means a larger chance of capturing complicated features but also a larger chance of overfitting.\n",
    "- min_child_weight is a regularization factor that changes how often tree nodes split in tree creation. Only nodes with a hessian (second order partial derivative) larger than min_child_weight are allowed to split. Smaller min_child_weight values mean more complex trees, and therefore more chance of overfitting."
   ]
  },
  {
   "cell_type": "code",
   "execution_count": 20,
   "metadata": {},
   "outputs": [
    {
     "name": "stdout",
     "output_type": "stream",
     "text": [
      "Performing cross validation for parameters max_depth = 3, min_child_weight = 1\n",
      "\tF1 Score 0.7344211999999999 reached after 202 rounds\n",
      "Performing cross validation for parameters max_depth = 3, min_child_weight = 3\n",
      "\tF1 Score 0.7418172 reached after 355 rounds\n",
      "Performing cross validation for parameters max_depth = 3, min_child_weight = 5\n",
      "\tF1 Score 0.7276526 reached after 154 rounds\n",
      "Performing cross validation for parameters max_depth = 5, min_child_weight = 1\n",
      "\tF1 Score 0.7491482000000002 reached after 202 rounds\n",
      "Performing cross validation for parameters max_depth = 5, min_child_weight = 3\n",
      "\tF1 Score 0.741549 reached after 198 rounds\n",
      "Performing cross validation for parameters max_depth = 5, min_child_weight = 5\n",
      "\tF1 Score 0.7333841999999999 reached after 125 rounds\n",
      "Performing cross validation for parameters max_depth = 7, min_child_weight = 1\n",
      "\tF1 Score 0.7554122 reached after 196 rounds\n",
      "Performing cross validation for parameters max_depth = 7, min_child_weight = 3\n",
      "\tF1 Score 0.73979 reached after 120 rounds\n",
      "Performing cross validation for parameters max_depth = 7, min_child_weight = 5\n",
      "\tF1 Score 0.7376318000000002 reached after 135 rounds\n",
      "Performing cross validation for parameters max_depth = 9, min_child_weight = 1\n",
      "\tF1 Score 0.7563244 reached after 123 rounds\n",
      "Performing cross validation for parameters max_depth = 9, min_child_weight = 3\n",
      "\tF1 Score 0.7381214 reached after 66 rounds\n",
      "Performing cross validation for parameters max_depth = 9, min_child_weight = 5\n",
      "\tF1 Score 0.7374454 reached after 98 rounds\n",
      "Best params: 9, 1, F1 Score: 0.7563244\n"
     ]
    }
   ],
   "source": [
    "# Tune max_depth and min_child_weight\n",
    "gs_space = [\n",
    "    (max_depth, min_child_weight)\n",
    "    for max_depth in range(3,10,2)\n",
    "        for min_child_weight in range(1,6,2)\n",
    "]\n",
    "max_f1 = 0. # initializing with 0 \n",
    "best_params = None \n",
    "for max_depth, min_child_weight in gs_space:\n",
    "    print(\"Performing cross validation for parameters max_depth = {}, min_child_weight = {}\".format(max_depth, min_child_weight))\n",
    "    \n",
    "    # Update parameters\n",
    "    PARAMETERS['max_depth'] = max_depth\n",
    "    PARAMETERS['min_child_weight'] = min_child_weight\n",
    "    \n",
    "    # Run cross validation\n",
    "    cv_results = cross_validation(PARAMETERS, d_train_tfidf)\n",
    "    \n",
    "    # Find best F1 Score\n",
    "    mean_f1 = cv_results['test-f1_score-mean'].max()\n",
    "    \n",
    "    boost_rounds = np.argmax(cv_results['test-f1_score-mean'])    \n",
    "    print(\"\\tF1 Score {} reached after {} rounds\".format(mean_f1, boost_rounds))    \n",
    "    if mean_f1 > max_f1:\n",
    "        max_f1 = mean_f1\n",
    "        best_params = (max_depth, min_child_weight) \n",
    "\n",
    "print(\"Best params: {}, {}, F1 Score: {}\".format(best_params[0], best_params[1], max_f1))"
   ]
  },
  {
   "cell_type": "code",
   "execution_count": 21,
   "metadata": {},
   "outputs": [],
   "source": [
    "# Update max_depth and min_child_weight parameters.\n",
    "PARAMETERS['max_depth'] = best_params[0]\n",
    "PARAMETERS['min_child_weight'] = best_params[1]"
   ]
  },
  {
   "cell_type": "markdown",
   "metadata": {},
   "source": [
    "**Tune subsample and colsample**\n",
    "\n",
    "- subsample is the fraction of datapoints (rows of the training data) to sample at each round (each tree), with 0 meaning no rows are sampled and 1 meaning all rows are sampled. The higher the value, the more likely to overfit the data.\n",
    "- colsample_bytree is the fraction of features (columns of the training data) to sample at each round (each tree), with 0 meaning no columns are sampled and 1 meaning all columns are sampled. The higher the value, the more likely to overfit the data."
   ]
  },
  {
   "cell_type": "code",
   "execution_count": 22,
   "metadata": {},
   "outputs": [
    {
     "name": "stdout",
     "output_type": "stream",
     "text": [
      "Performing cross validation for parameters subsample = 0.5, colsample_bytree = 0.5\n",
      "\tF1 Score 0.731029 reached after 55 rounds\n",
      "Performing cross validation for parameters subsample = 0.5, colsample_bytree = 0.6\n",
      "\tF1 Score 0.7408 reached after 92 rounds\n",
      "Performing cross validation for parameters subsample = 0.5, colsample_bytree = 0.7\n",
      "\tF1 Score 0.7437509999999999 reached after 139 rounds\n",
      "Performing cross validation for parameters subsample = 0.5, colsample_bytree = 0.8\n",
      "\tF1 Score 0.743267 reached after 106 rounds\n",
      "Performing cross validation for parameters subsample = 0.5, colsample_bytree = 0.9\n",
      "\tF1 Score 0.7427072 reached after 134 rounds\n",
      "Performing cross validation for parameters subsample = 0.6, colsample_bytree = 0.5\n",
      "\tF1 Score 0.737936 reached after 85 rounds\n",
      "Performing cross validation for parameters subsample = 0.6, colsample_bytree = 0.6\n",
      "\tF1 Score 0.7458592 reached after 107 rounds\n",
      "Performing cross validation for parameters subsample = 0.6, colsample_bytree = 0.7\n",
      "\tF1 Score 0.7442572 reached after 75 rounds\n",
      "Performing cross validation for parameters subsample = 0.6, colsample_bytree = 0.8\n",
      "\tF1 Score 0.7497130000000001 reached after 141 rounds\n",
      "Performing cross validation for parameters subsample = 0.6, colsample_bytree = 0.9\n",
      "\tF1 Score 0.7441212 reached after 84 rounds\n",
      "Performing cross validation for parameters subsample = 0.7, colsample_bytree = 0.5\n",
      "\tF1 Score 0.7492116000000001 reached after 154 rounds\n",
      "Performing cross validation for parameters subsample = 0.7, colsample_bytree = 0.6\n",
      "\tF1 Score 0.7472898 reached after 94 rounds\n",
      "Performing cross validation for parameters subsample = 0.7, colsample_bytree = 0.7\n",
      "\tF1 Score 0.746569 reached after 79 rounds\n",
      "Performing cross validation for parameters subsample = 0.7, colsample_bytree = 0.8\n",
      "\tF1 Score 0.7479018 reached after 110 rounds\n",
      "Performing cross validation for parameters subsample = 0.7, colsample_bytree = 0.9\n",
      "\tF1 Score 0.7468816 reached after 80 rounds\n",
      "Performing cross validation for parameters subsample = 0.8, colsample_bytree = 0.5\n",
      "\tF1 Score 0.7444428000000001 reached after 102 rounds\n",
      "Performing cross validation for parameters subsample = 0.8, colsample_bytree = 0.6\n",
      "\tF1 Score 0.7504028 reached after 111 rounds\n",
      "Performing cross validation for parameters subsample = 0.8, colsample_bytree = 0.7\n",
      "\tF1 Score 0.7541556 reached after 197 rounds\n",
      "Performing cross validation for parameters subsample = 0.8, colsample_bytree = 0.8\n",
      "\tF1 Score 0.7526415999999999 reached after 169 rounds\n",
      "Performing cross validation for parameters subsample = 0.8, colsample_bytree = 0.9\n",
      "\tF1 Score 0.7543484 reached after 111 rounds\n",
      "Performing cross validation for parameters subsample = 0.9, colsample_bytree = 0.5\n",
      "\tF1 Score 0.7513212 reached after 125 rounds\n",
      "Performing cross validation for parameters subsample = 0.9, colsample_bytree = 0.6\n",
      "\tF1 Score 0.7486202000000001 reached after 77 rounds\n",
      "Performing cross validation for parameters subsample = 0.9, colsample_bytree = 0.7\n",
      "\tF1 Score 0.7455957999999999 reached after 57 rounds\n",
      "Performing cross validation for parameters subsample = 0.9, colsample_bytree = 0.8\n",
      "\tF1 Score 0.7547708 reached after 154 rounds\n",
      "Performing cross validation for parameters subsample = 0.9, colsample_bytree = 0.9\n",
      "\tF1 Score 0.7586228 reached after 175 rounds\n",
      "Best params: 0.9, 0.9, F1 Score: 0.7586228\n"
     ]
    }
   ],
   "source": [
    "# Tuning subsample and colsample\n",
    "gs_space = [\n",
    "    (subsample, colsample_bytree)\n",
    "    for subsample in [i/10. for i in range(5,10)]\n",
    "    for colsample_bytree in [i/10. for i in range(5,10)] \n",
    "]\n",
    "max_f1 = 0. \n",
    "best_params = None \n",
    "for subsample, colsample_bytree in gs_space:\n",
    "    print(\"Performing cross validation for parameters subsample = {}, colsample_bytree = {}\".format(subsample, colsample_bytree))\n",
    "    \n",
    "    # Update parameters\n",
    "    PARAMETERS['colsample_bytree'] = colsample_bytree\n",
    "    PARAMETERS['subsample'] = subsample\n",
    "    \n",
    "    # Run cross validation\n",
    "    cv_results = cross_validation(PARAMETERS, d_train_tfidf)\n",
    "\n",
    "    # Find best F1 Score\n",
    "    mean_f1 = cv_results['test-f1_score-mean'].max()\n",
    "    boost_rounds = np.argmax(cv_results['test-f1_score-mean'])    \n",
    "    print(\"\\tF1 Score {} reached after {} rounds\".format(mean_f1, boost_rounds))\n",
    "    if mean_f1 > max_f1:\n",
    "        max_f1 = mean_f1\n",
    "        best_params = (subsample, colsample_bytree) \n",
    "\n",
    "print(\"Best params: {}, {}, F1 Score: {}\".format(best_params[0], best_params[1], max_f1))"
   ]
  },
  {
   "cell_type": "code",
   "execution_count": 23,
   "metadata": {},
   "outputs": [],
   "source": [
    "# Update subsample and colsample_bytree\n",
    "PARAMETERS['subsample'] = best_params[0]\n",
    "PARAMETERS['colsample_bytree'] = best_params[1]"
   ]
  },
  {
   "cell_type": "markdown",
   "metadata": {},
   "source": [
    "**Tune eta**\n",
    "\n",
    "Eta in XGBoost works the same way as a learning_rate, in the sense that it controls how quickly each step changes. The smaller the eta, the smaller each step, which means the algorithm will likely take more steps to converge."
   ]
  },
  {
   "cell_type": "code",
   "execution_count": 24,
   "metadata": {},
   "outputs": [
    {
     "name": "stdout",
     "output_type": "stream",
     "text": [
      "Performing cross validation for parameter eta = 0.3\n",
      "\tF1 Score 0.7586228 reached after 175 rounds\n",
      "Performing cross validation for parameter eta = 0.2\n",
      "\tF1 Score 0.7633306 reached after 257 rounds\n",
      "Performing cross validation for parameter eta = 0.1\n",
      "\tF1 Score 0.7492773999999999 reached after 181 rounds\n",
      "Performing cross validation for parameter eta = 0.05\n",
      "\tF1 Score 0.7478846000000001 reached after 292 rounds\n",
      "Performing cross validation for parameter eta = 0.01\n",
      "\tF1 Score 0.6331840000000001 reached after 11 rounds\n",
      "Performing cross validation for parameter eta = 0.005\n",
      "\tF1 Score 0.6344196 reached after 11 rounds\n",
      "Best params: 0.2, F1 Score: 0.7633306\n"
     ]
    }
   ],
   "source": [
    "# Tune the learning rate.\n",
    "max_f1 = 0. \n",
    "best_params = None \n",
    "for eta in [.3, .2, .1, .05, .01, .005]:\n",
    "    print(\"Performing cross validation for parameter eta = {}\".format(eta))\n",
    "    \n",
    "    # Update ETA\n",
    "    PARAMETERS['eta'] = eta\n",
    "    \n",
    "    # Run cross validation\n",
    "    cv_results = cross_validation(PARAMETERS, d_train_tfidf)\n",
    "\n",
    "    # Find best F1 Score\n",
    "    mean_f1 = cv_results['test-f1_score-mean'].max()\n",
    "    boost_rounds = np.argmax(cv_results['test-f1_score-mean'])    \n",
    "    print(\"\\tF1 Score {} reached after {} rounds\".format(mean_f1, boost_rounds))\n",
    "    if mean_f1 > max_f1:\n",
    "        max_f1 = mean_f1\n",
    "        best_params = eta \n",
    "print(\"Best params: {}, F1 Score: {}\".format(best_params, max_f1))"
   ]
  },
  {
   "cell_type": "code",
   "execution_count": 25,
   "metadata": {},
   "outputs": [],
   "source": [
    "# Update eta.\n",
    "PARAMETERS['eta'] = best_params"
   ]
  },
  {
   "cell_type": "markdown",
   "metadata": {},
   "source": [
    "Let’s have a look at the final list of tuned parameters."
   ]
  },
  {
   "cell_type": "code",
   "execution_count": 26,
   "metadata": {},
   "outputs": [
    {
     "data": {
      "text/plain": [
       "{'objective': 'binary:logistic',\n",
       " 'max_depth': 9,\n",
       " 'min_child_weight': 1,\n",
       " 'eta': 0.2,\n",
       " 'subsample': 0.9,\n",
       " 'colsample_bytree': 0.9}"
      ]
     },
     "execution_count": 26,
     "metadata": {},
     "output_type": "execute_result"
    }
   ],
   "source": [
    "PARAMETERS"
   ]
  },
  {
   "cell_type": "markdown",
   "metadata": {},
   "source": [
    "Finally I can now use these tuned parameters in the xgboost model. I will set a very high num_boost_round and rely on early stopping to stop the model if its performance doesn’t improve in 20 rounds."
   ]
  },
  {
   "cell_type": "code",
   "execution_count": 27,
   "metadata": {},
   "outputs": [
    {
     "name": "stdout",
     "output_type": "stream",
     "text": [
      "[0]\ttrain-error:0.33086\tval-error:0.31470\ttrain-f1_score:0.57981\tval-f1_score:0.36493\n",
      "Multiple eval metrics have been passed: 'val-f1_score' will be used for early stopping.\n",
      "\n",
      "Will train until val-f1_score hasn't improved in 20 rounds.\n",
      "[1]\ttrain-error:0.29618\tval-error:0.31118\ttrain-f1_score:0.63961\tval-f1_score:0.37322\n",
      "[2]\ttrain-error:0.27681\tval-error:0.30765\ttrain-f1_score:0.66581\tval-f1_score:0.37843\n",
      "[3]\ttrain-error:0.27247\tval-error:0.30463\ttrain-f1_score:0.67338\tval-f1_score:0.39439\n",
      "[4]\ttrain-error:0.26937\tval-error:0.30715\ttrain-f1_score:0.67692\tval-f1_score:0.39122\n",
      "[5]\ttrain-error:0.25690\tval-error:0.30614\ttrain-f1_score:0.69566\tval-f1_score:0.40158\n",
      "[6]\ttrain-error:0.25027\tval-error:0.29909\ttrain-f1_score:0.70669\tval-f1_score:0.41765\n",
      "[7]\ttrain-error:0.24531\tval-error:0.29859\ttrain-f1_score:0.71690\tval-f1_score:0.43470\n",
      "[8]\ttrain-error:0.23894\tval-error:0.30060\ttrain-f1_score:0.72593\tval-f1_score:0.43089\n",
      "[9]\ttrain-error:0.23487\tval-error:0.30413\ttrain-f1_score:0.73125\tval-f1_score:0.42911\n",
      "[10]\ttrain-error:0.22939\tval-error:0.29809\ttrain-f1_score:0.73848\tval-f1_score:0.43295\n",
      "[11]\ttrain-error:0.22187\tval-error:0.33736\ttrain-f1_score:0.77332\tval-f1_score:0.46741\n",
      "[12]\ttrain-error:0.22452\tval-error:0.29809\ttrain-f1_score:0.74467\tval-f1_score:0.42636\n",
      "[13]\ttrain-error:0.22213\tval-error:0.29909\ttrain-f1_score:0.74832\tval-f1_score:0.42553\n",
      "[14]\ttrain-error:0.22054\tval-error:0.29809\ttrain-f1_score:0.74967\tval-f1_score:0.42524\n",
      "[15]\ttrain-error:0.21169\tval-error:0.32931\ttrain-f1_score:0.78200\tval-f1_score:0.46829\n",
      "[16]\ttrain-error:0.20939\tval-error:0.32780\ttrain-f1_score:0.78401\tval-f1_score:0.46508\n",
      "[17]\ttrain-error:0.20612\tval-error:0.32477\ttrain-f1_score:0.78667\tval-f1_score:0.46650\n",
      "[18]\ttrain-error:0.20471\tval-error:0.32377\ttrain-f1_score:0.78782\tval-f1_score:0.46372\n",
      "[19]\ttrain-error:0.20090\tval-error:0.32226\ttrain-f1_score:0.79175\tval-f1_score:0.46399\n",
      "[20]\ttrain-error:0.19993\tval-error:0.32326\ttrain-f1_score:0.79296\tval-f1_score:0.46141\n",
      "[21]\ttrain-error:0.19789\tval-error:0.31772\ttrain-f1_score:0.79396\tval-f1_score:0.46206\n",
      "[22]\ttrain-error:0.19728\tval-error:0.32226\ttrain-f1_score:0.79545\tval-f1_score:0.45854\n",
      "[23]\ttrain-error:0.19604\tval-error:0.32175\ttrain-f1_score:0.79647\tval-f1_score:0.45802\n",
      "[24]\ttrain-error:0.19400\tval-error:0.32024\ttrain-f1_score:0.79868\tval-f1_score:0.46193\n",
      "[25]\ttrain-error:0.19214\tval-error:0.31571\ttrain-f1_score:0.80026\tval-f1_score:0.46819\n",
      "[26]\ttrain-error:0.19135\tval-error:0.31974\ttrain-f1_score:0.80205\tval-f1_score:0.46862\n",
      "[27]\ttrain-error:0.18869\tval-error:0.32024\ttrain-f1_score:0.80483\tval-f1_score:0.46823\n",
      "[28]\ttrain-error:0.18577\tval-error:0.31772\ttrain-f1_score:0.80741\tval-f1_score:0.46930\n",
      "[29]\ttrain-error:0.18480\tval-error:0.31621\ttrain-f1_score:0.80837\tval-f1_score:0.47049\n",
      "[30]\ttrain-error:0.18312\tval-error:0.31420\ttrain-f1_score:0.81009\tval-f1_score:0.47119\n",
      "[31]\ttrain-error:0.18144\tval-error:0.31370\ttrain-f1_score:0.81216\tval-f1_score:0.47159\n",
      "[32]\ttrain-error:0.17879\tval-error:0.31017\ttrain-f1_score:0.81511\tval-f1_score:0.47350\n",
      "[33]\ttrain-error:0.17790\tval-error:0.31017\ttrain-f1_score:0.81599\tval-f1_score:0.47260\n",
      "[34]\ttrain-error:0.17693\tval-error:0.30816\ttrain-f1_score:0.81698\tval-f1_score:0.47692\n",
      "[35]\ttrain-error:0.17374\tval-error:0.30614\ttrain-f1_score:0.82011\tval-f1_score:0.47586\n",
      "[36]\ttrain-error:0.17374\tval-error:0.31621\ttrain-f1_score:0.82152\tval-f1_score:0.46959\n",
      "[37]\ttrain-error:0.17242\tval-error:0.31823\ttrain-f1_score:0.82300\tval-f1_score:0.46441\n",
      "[38]\ttrain-error:0.17162\tval-error:0.31722\ttrain-f1_score:0.82373\tval-f1_score:0.46610\n",
      "[39]\ttrain-error:0.17020\tval-error:0.31470\ttrain-f1_score:0.82509\tval-f1_score:0.47435\n",
      "[40]\ttrain-error:0.16906\tval-error:0.31269\ttrain-f1_score:0.82607\tval-f1_score:0.47595\n",
      "[41]\ttrain-error:0.16799\tval-error:0.31118\ttrain-f1_score:0.82707\tval-f1_score:0.47716\n",
      "[42]\ttrain-error:0.16631\tval-error:0.31269\ttrain-f1_score:0.82893\tval-f1_score:0.47506\n",
      "[43]\ttrain-error:0.16472\tval-error:0.31218\ttrain-f1_score:0.83064\tval-f1_score:0.47547\n",
      "[44]\ttrain-error:0.16463\tval-error:0.31319\ttrain-f1_score:0.83142\tval-f1_score:0.47466\n",
      "[45]\ttrain-error:0.16366\tval-error:0.30967\ttrain-f1_score:0.83234\tval-f1_score:0.48013\n",
      "[46]\ttrain-error:0.16313\tval-error:0.31017\ttrain-f1_score:0.83315\tval-f1_score:0.48148\n",
      "[47]\ttrain-error:0.16233\tval-error:0.30866\ttrain-f1_score:0.83407\tval-f1_score:0.47918\n",
      "[48]\ttrain-error:0.16154\tval-error:0.30916\ttrain-f1_score:0.83397\tval-f1_score:0.47069\n",
      "[49]\ttrain-error:0.15994\tval-error:0.31017\ttrain-f1_score:0.83549\tval-f1_score:0.46897\n",
      "[50]\ttrain-error:0.15941\tval-error:0.31067\ttrain-f1_score:0.83579\tval-f1_score:0.46856\n",
      "[51]\ttrain-error:0.15871\tval-error:0.31067\ttrain-f1_score:0.83738\tval-f1_score:0.47400\n",
      "[52]\ttrain-error:0.15764\tval-error:0.31017\ttrain-f1_score:0.83827\tval-f1_score:0.47260\n",
      "[53]\ttrain-error:0.15782\tval-error:0.31168\ttrain-f1_score:0.83814\tval-f1_score:0.47049\n",
      "[54]\ttrain-error:0.15729\tval-error:0.31269\ttrain-f1_score:0.83907\tval-f1_score:0.47059\n",
      "[55]\ttrain-error:0.15694\tval-error:0.31470\ttrain-f1_score:0.83946\tval-f1_score:0.46718\n",
      "[56]\ttrain-error:0.15570\tval-error:0.31269\ttrain-f1_score:0.84067\tval-f1_score:0.46878\n",
      "[57]\ttrain-error:0.15543\tval-error:0.31370\ttrain-f1_score:0.84101\tval-f1_score:0.46615\n",
      "[58]\ttrain-error:0.15464\tval-error:0.31319\ttrain-f1_score:0.84215\tval-f1_score:0.46928\n",
      "[59]\ttrain-error:0.15357\tval-error:0.31118\ttrain-f1_score:0.84343\tval-f1_score:0.47359\n",
      "[60]\ttrain-error:0.15322\tval-error:0.31218\ttrain-f1_score:0.84379\tval-f1_score:0.47008\n",
      "[61]\ttrain-error:0.15180\tval-error:0.31118\ttrain-f1_score:0.84540\tval-f1_score:0.47089\n",
      "[62]\ttrain-error:0.15021\tval-error:0.30967\ttrain-f1_score:0.84706\tval-f1_score:0.47301\n",
      "[63]\ttrain-error:0.14906\tval-error:0.31470\ttrain-f1_score:0.84886\tval-f1_score:0.46899\n",
      "[64]\ttrain-error:0.14818\tval-error:0.31420\ttrain-f1_score:0.84982\tval-f1_score:0.46848\n",
      "[65]\ttrain-error:0.14853\tval-error:0.31319\ttrain-f1_score:0.84938\tval-f1_score:0.47019\n",
      "[66]\ttrain-error:0.14827\tval-error:0.31420\ttrain-f1_score:0.84963\tval-f1_score:0.46939\n",
      "Stopping. Best iteration:\n",
      "[46]\ttrain-error:0.16313\tval-error:0.31017\ttrain-f1_score:0.83315\tval-f1_score:0.48148\n",
      "\n"
     ]
    }
   ],
   "source": [
    "xgb_model = xgb.train(\n",
    "    PARAMETERS,\n",
    "    d_train_tfidf,\n",
    "    feval = custom_f1_score,\n",
    "    num_boost_round = NUM_BOOST_ROUNDS,\n",
    "    maximize = True,\n",
    "    evals = watchlist_tfidf,\n",
    "    early_stopping_rounds = EARLY_STOPPING_ROUNDS, \n",
    "    verbose_eval=True)"
   ]
  },
  {
   "cell_type": "code",
   "execution_count": 28,
   "metadata": {},
   "outputs": [],
   "source": [
    "# XGBoost returns probabilities by default.\n",
    "y_probas_train_tfidf = xgb_model.predict(d_train_tfidf)\n",
    "y_probas_test_tfidf = xgb_model.predict(d_test_tfidf)"
   ]
  },
  {
   "cell_type": "code",
   "execution_count": 29,
   "metadata": {},
   "outputs": [],
   "source": [
    "y_pred_test_tfidf = np.round(y_probas_test_tfidf)"
   ]
  },
  {
   "cell_type": "code",
   "execution_count": 30,
   "metadata": {},
   "outputs": [
    {
     "name": "stdout",
     "output_type": "stream",
     "text": [
      "True Negatives:  610\n",
      "False Positives:  175\n",
      "False Negatives:  169\n",
      "True Positives:  150\n"
     ]
    },
    {
     "data": {
      "image/png": "[encoded data removed]",
      "text/plain": [
       "<Figure size 360x360 with 2 Axes>"
      ]
     },
     "metadata": {
      "needs_background": "light"
     },
     "output_type": "display_data"
    }
   ],
   "source": [
    "plot_cfm(y_test_tfidf, y_probas_test_tfidf)"
   ]
  },
  {
   "cell_type": "code",
   "execution_count": 31,
   "metadata": {},
   "outputs": [
    {
     "name": "stdout",
     "output_type": "stream",
     "text": [
      "              precision    recall  f1-score   support\n",
      "\n",
      "           0       0.78      0.78      0.78       785\n",
      "           1       0.46      0.47      0.47       319\n",
      "\n",
      "    accuracy                           0.69      1104\n",
      "   macro avg       0.62      0.62      0.62      1104\n",
      "weighted avg       0.69      0.69      0.69      1104\n",
      "\n"
     ]
    }
   ],
   "source": [
    "print(classification_report(y_test_tfidf, y_pred_test_tfidf))"
   ]
  },
  {
   "cell_type": "markdown",
   "metadata": {},
   "source": [
    "Compared to the other models, which seemed to concentrate on maximing either one of precision or recall, at the cost of the other, XGBoost achieves similar scores for both precision and recall (for both classes).\n",
    "\n",
    "\n",
    "The XGBoost model got 78% of the test set majority class right, but struggles to recognize the minority class (bullying comments), with only 150 comments predicted correctly."
   ]
  },
  {
   "cell_type": "code",
   "execution_count": 32,
   "metadata": {},
   "outputs": [
    {
     "name": "stdout",
     "output_type": "stream",
     "text": [
      "TFDIF F1: 0.69\n"
     ]
    }
   ],
   "source": [
    "f1_tfidf = f1_score(y_test_tfidf, y_pred_test_tfidf, average='weighted')\n",
    "print('TFDIF F1: %.2f' % f1_tfidf)"
   ]
  },
  {
   "cell_type": "code",
   "execution_count": 33,
   "metadata": {},
   "outputs": [
    {
     "name": "stdout",
     "output_type": "stream",
     "text": [
      "TFIDF AUC: 0.69\n"
     ]
    }
   ],
   "source": [
    "auc_tfidf = roc_auc_score(y_test_tfidf, y_probas_test_tfidf)\n",
    "print('TFIDF AUC: %.2f' % auc_tfidf)"
   ]
  },
  {
   "cell_type": "code",
   "execution_count": 34,
   "metadata": {},
   "outputs": [
    {
     "data": {
      "image/png": "[encoded data removed]",
      "text/plain": [
       "<Figure size 864x720 with 1 Axes>"
      ]
     },
     "metadata": {
      "needs_background": "light"
     },
     "output_type": "display_data"
    }
   ],
   "source": [
    "plot_roc(\"Train TFIDF\", y_train_tfidf, y_probas_train_tfidf, color = colors[0])\n",
    "plot_roc(\"Test TFIDF\", y_test_tfidf, y_probas_test_tfidf, color = colors[0], linestyle = '--')"
   ]
  },
  {
   "cell_type": "markdown",
   "metadata": {},
   "source": [
    "Interestingly enough, compared to the other models where the train and test curves followed a similar curve, XGBoost seems to achieve an extremely good ROC AUC curve for the training data, but fails to generalize for the test data. "
   ]
  },
  {
   "cell_type": "markdown",
   "metadata": {},
   "source": [
    "***\n",
    "\n",
    "**Word2Vec**\n",
    "\n",
    "***"
   ]
  },
  {
   "cell_type": "markdown",
   "metadata": {},
   "source": [
    "Apply the same steps for the Word2Vec vectors."
   ]
  },
  {
   "cell_type": "markdown",
   "metadata": {},
   "source": [
    "**Prepare the datasets**\n",
    "\n",
    "Preparing the datasets here also needs to account for the train-validation-test split, as well as applying SMOTE to the training data only."
   ]
  },
  {
   "cell_type": "code",
   "execution_count": 35,
   "metadata": {},
   "outputs": [],
   "source": [
    "w2v_features = np.load('w2v_features.npy', allow_pickle=True)"
   ]
  },
  {
   "cell_type": "code",
   "execution_count": 36,
   "metadata": {},
   "outputs": [
    {
     "name": "stdout",
     "output_type": "stream",
     "text": [
      "x: (11033, 100) float64\n",
      "y: (11033,) int64\n"
     ]
    }
   ],
   "source": [
    "# Create X/y arrays\n",
    "comments_w2v = w2v_features\n",
    "labels_w2v = labels\n",
    "print('x:', comments_w2v.shape, comments_w2v.dtype) \n",
    "print('y:', labels_w2v.shape, labels_w2v.dtype)"
   ]
  },
  {
   "cell_type": "code",
   "execution_count": 37,
   "metadata": {},
   "outputs": [],
   "source": [
    "x_train_val_w2v, x_test_w2v, y_train_val_w2v, y_test_w2v = train_test_split(comments_w2v, labels_w2v,\n",
    "                                                  test_size = TRAIN_TEST_SPLIT_SIZE, stratify = labels_w2v,\n",
    "                                                  random_state = RANDOM_STATE)"
   ]
  },
  {
   "cell_type": "code",
   "execution_count": 38,
   "metadata": {},
   "outputs": [],
   "source": [
    "x_train_w2v, x_val_w2v, y_train_w2v, y_val_w2v = train_test_split(x_train_val_w2v, y_train_val_w2v,\n",
    "                                                  test_size = VALIDATION_SPLIT_SIZE, stratify = y_train_val_w2v,\n",
    "                                                  random_state = RANDOM_STATE)"
   ]
  },
  {
   "cell_type": "code",
   "execution_count": 39,
   "metadata": {},
   "outputs": [],
   "source": [
    "# transform the training dataset only.\n",
    "sm = SMOTE(random_state = RANDOM_STATE)\n",
    "x_train_w2v_sm, y_train_w2v_sm = sm.fit_sample(x_train_w2v, y_train_w2v)"
   ]
  },
  {
   "cell_type": "code",
   "execution_count": 40,
   "metadata": {},
   "outputs": [],
   "source": [
    "# A DMatrix can contain both the features and the target.\n",
    "d_train_w2v = xgb.DMatrix(x_train_w2v_sm, label = y_train_w2v_sm) \n",
    "d_test_w2v = xgb.DMatrix(x_test_w2v, label = y_test_w2v)\n",
    "d_val_w2v = xgb.DMatrix(x_val_w2v, label = y_val_w2v)\n",
    "watchlist_w2v = [(d_train_w2v, 'train'), (d_val_w2v, 'val')]"
   ]
  },
  {
   "cell_type": "code",
   "execution_count": 41,
   "metadata": {},
   "outputs": [
    {
     "data": {
      "text/plain": [
       "{'objective': 'binary:logistic',\n",
       " 'max_depth': 6,\n",
       " 'min_child_weight': 1,\n",
       " 'eta': 0.3,\n",
       " 'subsample': 1,\n",
       " 'colsample_bytree': 1}"
      ]
     },
     "execution_count": 41,
     "metadata": {},
     "output_type": "execute_result"
    }
   ],
   "source": [
    "# initialize parameters to default values\n",
    "init_params()"
   ]
  },
  {
   "cell_type": "code",
   "execution_count": 42,
   "metadata": {},
   "outputs": [
    {
     "name": "stdout",
     "output_type": "stream",
     "text": [
      "Performing cross validation for parameters max_depth = 3, min_child_weight = 1\n",
      "\tF1 Score 0.7518264 reached after 267 rounds\n",
      "Performing cross validation for parameters max_depth = 3, min_child_weight = 3\n",
      "\tF1 Score 0.7648468 reached after 428 rounds\n",
      "Performing cross validation for parameters max_depth = 3, min_child_weight = 5\n",
      "\tF1 Score 0.7599676 reached after 342 rounds\n",
      "Performing cross validation for parameters max_depth = 5, min_child_weight = 1\n",
      "\tF1 Score 0.8076508 reached after 333 rounds\n",
      "Performing cross validation for parameters max_depth = 5, min_child_weight = 3\n",
      "\tF1 Score 0.800615 reached after 283 rounds\n",
      "Performing cross validation for parameters max_depth = 5, min_child_weight = 5\n",
      "\tF1 Score 0.7985990000000001 reached after 214 rounds\n",
      "Performing cross validation for parameters max_depth = 7, min_child_weight = 1\n",
      "\tF1 Score 0.8165804 reached after 162 rounds\n",
      "Performing cross validation for parameters max_depth = 7, min_child_weight = 3\n",
      "\tF1 Score 0.8113642000000001 reached after 228 rounds\n",
      "Performing cross validation for parameters max_depth = 7, min_child_weight = 5\n",
      "\tF1 Score 0.8118764 reached after 267 rounds\n",
      "Performing cross validation for parameters max_depth = 9, min_child_weight = 1\n",
      "\tF1 Score 0.8246354 reached after 201 rounds\n",
      "Performing cross validation for parameters max_depth = 9, min_child_weight = 3\n",
      "\tF1 Score 0.8214134 reached after 178 rounds\n",
      "Performing cross validation for parameters max_depth = 9, min_child_weight = 5\n",
      "\tF1 Score 0.8159426 reached after 169 rounds\n",
      "Best params: 9, 1, F1 Score: 0.8246354\n"
     ]
    }
   ],
   "source": [
    "# Tune max_depth and min_child_weight\n",
    "gs_space = [\n",
    "    (max_depth, min_child_weight)\n",
    "    for max_depth in range(3,10,2)\n",
    "        for min_child_weight in range(1,6,2)\n",
    "]\n",
    "max_f1 = 0. # initializing with 0 \n",
    "best_params = None \n",
    "for max_depth, min_child_weight in gs_space:\n",
    "    print(\"Performing cross validation for parameters max_depth = {}, min_child_weight = {}\".format(max_depth, min_child_weight))\n",
    "    \n",
    "    # Update  parameters\n",
    "    PARAMETERS['max_depth'] = max_depth\n",
    "    PARAMETERS['min_child_weight'] = min_child_weight\n",
    "    \n",
    "    # Run cross validation\n",
    "    cv_results = cross_validation(PARAMETERS, d_train_w2v)\n",
    "\n",
    "    # Find best F1 Score\n",
    "    mean_f1 = cv_results['test-f1_score-mean'].max()\n",
    "    \n",
    "    boost_rounds = np.argmax(cv_results['test-f1_score-mean'])    \n",
    "    print(\"\\tF1 Score {} reached after {} rounds\".format(mean_f1, boost_rounds))    \n",
    "    if mean_f1 > max_f1:\n",
    "        max_f1 = mean_f1\n",
    "        best_params = (max_depth, min_child_weight) \n",
    "\n",
    "print(\"Best params: {}, {}, F1 Score: {}\".format(best_params[0], best_params[1], max_f1))"
   ]
  },
  {
   "cell_type": "code",
   "execution_count": 43,
   "metadata": {},
   "outputs": [],
   "source": [
    "# Update max_depth and min_child_weight parameters.\n",
    "PARAMETERS['max_depth'] = best_params[0]\n",
    "PARAMETERS['min_child_weight'] = best_params[1]"
   ]
  },
  {
   "cell_type": "code",
   "execution_count": 44,
   "metadata": {},
   "outputs": [
    {
     "name": "stdout",
     "output_type": "stream",
     "text": [
      "Performing cross validation for parameters subsample = 0.5, colsample_bytree = 0.5\n",
      "\tF1 Score 0.80381 reached after 208 rounds\n",
      "Performing cross validation for parameters subsample = 0.5, colsample_bytree = 0.6\n",
      "\tF1 Score 0.8002238 reached after 187 rounds\n",
      "Performing cross validation for parameters subsample = 0.5, colsample_bytree = 0.7\n",
      "\tF1 Score 0.80555 reached after 198 rounds\n",
      "Performing cross validation for parameters subsample = 0.5, colsample_bytree = 0.8\n",
      "\tF1 Score 0.8000672 reached after 128 rounds\n",
      "Performing cross validation for parameters subsample = 0.5, colsample_bytree = 0.9\n",
      "\tF1 Score 0.7955722000000001 reached after 108 rounds\n",
      "Performing cross validation for parameters subsample = 0.6, colsample_bytree = 0.5\n",
      "\tF1 Score 0.804864 reached after 135 rounds\n",
      "Performing cross validation for parameters subsample = 0.6, colsample_bytree = 0.6\n",
      "\tF1 Score 0.7978736000000001 reached after 108 rounds\n",
      "Performing cross validation for parameters subsample = 0.6, colsample_bytree = 0.7\n",
      "\tF1 Score 0.7978866 reached after 88 rounds\n",
      "Performing cross validation for parameters subsample = 0.6, colsample_bytree = 0.8\n",
      "\tF1 Score 0.8020906 reached after 133 rounds\n",
      "Performing cross validation for parameters subsample = 0.6, colsample_bytree = 0.9\n",
      "\tF1 Score 0.8048869999999999 reached after 102 rounds\n",
      "Performing cross validation for parameters subsample = 0.7, colsample_bytree = 0.5\n",
      "\tF1 Score 0.8008778 reached after 95 rounds\n",
      "Performing cross validation for parameters subsample = 0.7, colsample_bytree = 0.6\n",
      "\tF1 Score 0.8079038000000001 reached after 180 rounds\n",
      "Performing cross validation for parameters subsample = 0.7, colsample_bytree = 0.7\n",
      "\tF1 Score 0.8052873999999999 reached after 106 rounds\n",
      "Performing cross validation for parameters subsample = 0.7, colsample_bytree = 0.8\n",
      "\tF1 Score 0.8142956 reached after 166 rounds\n",
      "Performing cross validation for parameters subsample = 0.7, colsample_bytree = 0.9\n",
      "\tF1 Score 0.812517 reached after 178 rounds\n",
      "Performing cross validation for parameters subsample = 0.8, colsample_bytree = 0.5\n",
      "\tF1 Score 0.818009 reached after 254 rounds\n",
      "Performing cross validation for parameters subsample = 0.8, colsample_bytree = 0.6\n",
      "\tF1 Score 0.8125622 reached after 98 rounds\n",
      "Performing cross validation for parameters subsample = 0.8, colsample_bytree = 0.7\n",
      "\tF1 Score 0.8172146 reached after 188 rounds\n",
      "Performing cross validation for parameters subsample = 0.8, colsample_bytree = 0.8\n",
      "\tF1 Score 0.8109254 reached after 114 rounds\n",
      "Performing cross validation for parameters subsample = 0.8, colsample_bytree = 0.9\n",
      "\tF1 Score 0.8165977999999999 reached after 164 rounds\n",
      "Performing cross validation for parameters subsample = 0.9, colsample_bytree = 0.5\n",
      "\tF1 Score 0.8148962 reached after 150 rounds\n",
      "Performing cross validation for parameters subsample = 0.9, colsample_bytree = 0.6\n",
      "\tF1 Score 0.8149544000000001 reached after 140 rounds\n",
      "Performing cross validation for parameters subsample = 0.9, colsample_bytree = 0.7\n",
      "\tF1 Score 0.8216514 reached after 212 rounds\n",
      "Performing cross validation for parameters subsample = 0.9, colsample_bytree = 0.8\n",
      "\tF1 Score 0.8144521999999998 reached after 103 rounds\n",
      "Performing cross validation for parameters subsample = 0.9, colsample_bytree = 0.9\n",
      "\tF1 Score 0.8196760000000001 reached after 120 rounds\n",
      "Best params: 0.9, 0.7, F1 Score: 0.8216514\n"
     ]
    }
   ],
   "source": [
    "# Tune subsample and colsample\n",
    "gs_space = [\n",
    "    (subsample, colsample_bytree)\n",
    "    for subsample in [i/10. for i in range(5,10)]\n",
    "    for colsample_bytree in [i/10. for i in range(5,10)] \n",
    "]\n",
    "max_f1 = 0. \n",
    "best_params = None \n",
    "for subsample, colsample_bytree in gs_space:\n",
    "    print(\"Performing cross validation for parameters subsample = {}, colsample_bytree = {}\".format(subsample, colsample_bytree))\n",
    "    \n",
    "    # Update parameters\n",
    "    PARAMETERS['colsample_bytree'] = colsample_bytree\n",
    "    PARAMETERS['subsample'] = subsample\n",
    "\n",
    "    # Run cross validation\n",
    "    cv_results = cross_validation(PARAMETERS, d_train_w2v)\n",
    "\n",
    "    # Find best F1 Score\n",
    "    mean_f1 = cv_results['test-f1_score-mean'].max()\n",
    "    boost_rounds = np.argmax(cv_results['test-f1_score-mean'])    \n",
    "    print(\"\\tF1 Score {} reached after {} rounds\".format(mean_f1, boost_rounds))\n",
    "    if mean_f1 > max_f1:\n",
    "        max_f1 = mean_f1\n",
    "        best_params = (subsample, colsample_bytree) \n",
    "\n",
    "print(\"Best params: {}, {}, F1 Score: {}\".format(best_params[0], best_params[1], max_f1))"
   ]
  },
  {
   "cell_type": "code",
   "execution_count": 45,
   "metadata": {},
   "outputs": [],
   "source": [
    "# Update subsample and colsample_bytree\n",
    "PARAMETERS['subsample'] = best_params[0]\n",
    "PARAMETERS['colsample_bytree'] = best_params[1]"
   ]
  },
  {
   "cell_type": "code",
   "execution_count": 46,
   "metadata": {},
   "outputs": [
    {
     "name": "stdout",
     "output_type": "stream",
     "text": [
      "Performing cross validation for parameter eta = 0.3\n",
      "\tF1 Score 0.8216514 reached after 212 rounds\n",
      "Performing cross validation for parameter eta = 0.2\n",
      "\tF1 Score 0.8266275999999999 reached after 254 rounds\n",
      "Performing cross validation for parameter eta = 0.1\n",
      "\tF1 Score 0.8295769999999999 reached after 282 rounds\n",
      "Performing cross validation for parameter eta = 0.05\n",
      "\tF1 Score 0.8270854 reached after 245 rounds\n",
      "Performing cross validation for parameter eta = 0.01\n",
      "\tF1 Score 0.8177808000000001 reached after 509 rounds\n",
      "Performing cross validation for parameter eta = 0.005\n",
      "\tF1 Score 0.8108016000000001 reached after 806 rounds\n",
      "Best params: 0.1, F1 Score: 0.8295769999999999\n"
     ]
    }
   ],
   "source": [
    "# Tune the learning rate.\n",
    "max_f1 = 0. \n",
    "best_params = None \n",
    "for eta in [.3, .2, .1, .05, .01, .005]:\n",
    "    print(\"Performing cross validation for parameter eta = {}\".format(eta))\n",
    "    \n",
    "    # Update ETA\n",
    "    PARAMETERS['eta'] = eta\n",
    "\n",
    "    # Run cross validation\n",
    "    cv_results = cross_validation(PARAMETERS, d_train_w2v)\n",
    "\n",
    "    # Find best F1 Score\n",
    "    mean_f1 = cv_results['test-f1_score-mean'].max()\n",
    "    boost_rounds = np.argmax(cv_results['test-f1_score-mean'])    \n",
    "    print(\"\\tF1 Score {} reached after {} rounds\".format(mean_f1, boost_rounds))\n",
    "    if mean_f1 > max_f1:\n",
    "        max_f1 = mean_f1\n",
    "        best_params = eta \n",
    "print(\"Best params: {}, F1 Score: {}\".format(best_params, max_f1))"
   ]
  },
  {
   "cell_type": "code",
   "execution_count": 47,
   "metadata": {},
   "outputs": [],
   "source": [
    "# Update eta.\n",
    "PARAMETERS['eta'] = best_params"
   ]
  },
  {
   "cell_type": "code",
   "execution_count": 48,
   "metadata": {},
   "outputs": [
    {
     "data": {
      "text/plain": [
       "{'objective': 'binary:logistic',\n",
       " 'max_depth': 9,\n",
       " 'min_child_weight': 1,\n",
       " 'eta': 0.1,\n",
       " 'subsample': 0.9,\n",
       " 'colsample_bytree': 0.7}"
      ]
     },
     "execution_count": 48,
     "metadata": {},
     "output_type": "execute_result"
    }
   ],
   "source": [
    "PARAMETERS"
   ]
  },
  {
   "cell_type": "code",
   "execution_count": 49,
   "metadata": {},
   "outputs": [
    {
     "name": "stdout",
     "output_type": "stream",
     "text": [
      "[0]\ttrain-error:0.20718\tval-error:0.40987\ttrain-f1_score:0.80405\tval-f1_score:0.44326\n",
      "Multiple eval metrics have been passed: 'val-f1_score' will be used for early stopping.\n",
      "\n",
      "Will train until val-f1_score hasn't improved in 20 rounds.\n",
      "[1]\ttrain-error:0.15764\tval-error:0.36355\ttrain-f1_score:0.84388\tval-f1_score:0.46039\n",
      "[2]\ttrain-error:0.13048\tval-error:0.34592\ttrain-f1_score:0.87083\tval-f1_score:0.46537\n",
      "[3]\ttrain-error:0.11651\tval-error:0.32477\ttrain-f1_score:0.88460\tval-f1_score:0.49570\n",
      "[4]\ttrain-error:0.10412\tval-error:0.32780\ttrain-f1_score:0.89689\tval-f1_score:0.47962\n",
      "[5]\ttrain-error:0.09183\tval-error:0.31823\ttrain-f1_score:0.90904\tval-f1_score:0.48701\n",
      "[6]\ttrain-error:0.08307\tval-error:0.32024\ttrain-f1_score:0.91752\tval-f1_score:0.48208\n",
      "[7]\ttrain-error:0.07953\tval-error:0.30715\ttrain-f1_score:0.92111\tval-f1_score:0.50082\n",
      "[8]\ttrain-error:0.07236\tval-error:0.31218\ttrain-f1_score:0.92830\tval-f1_score:0.48760\n",
      "[9]\ttrain-error:0.06953\tval-error:0.30111\ttrain-f1_score:0.93115\tval-f1_score:0.49748\n",
      "[10]\ttrain-error:0.06405\tval-error:0.30765\ttrain-f1_score:0.93657\tval-f1_score:0.48264\n",
      "[11]\ttrain-error:0.05927\tval-error:0.30312\ttrain-f1_score:0.94141\tval-f1_score:0.49069\n",
      "[12]\ttrain-error:0.05724\tval-error:0.30362\ttrain-f1_score:0.94340\tval-f1_score:0.48593\n",
      "[13]\ttrain-error:0.05467\tval-error:0.29909\ttrain-f1_score:0.94613\tval-f1_score:0.49144\n",
      "[14]\ttrain-error:0.05202\tval-error:0.29859\ttrain-f1_score:0.94871\tval-f1_score:0.49099\n",
      "[15]\ttrain-error:0.05042\tval-error:0.29859\ttrain-f1_score:0.95023\tval-f1_score:0.48923\n",
      "[16]\ttrain-error:0.04830\tval-error:0.29859\ttrain-f1_score:0.95238\tval-f1_score:0.48747\n",
      "[17]\ttrain-error:0.04609\tval-error:0.30212\ttrain-f1_score:0.95458\tval-f1_score:0.48454\n",
      "[18]\ttrain-error:0.04450\tval-error:0.30413\ttrain-f1_score:0.95622\tval-f1_score:0.47751\n",
      "[19]\ttrain-error:0.04414\tval-error:0.30362\ttrain-f1_score:0.95655\tval-f1_score:0.47702\n",
      "[20]\ttrain-error:0.04317\tval-error:0.30312\ttrain-f1_score:0.95751\tval-f1_score:0.48014\n",
      "[21]\ttrain-error:0.04184\tval-error:0.30312\ttrain-f1_score:0.95888\tval-f1_score:0.47469\n",
      "[22]\ttrain-error:0.03990\tval-error:0.29557\ttrain-f1_score:0.96077\tval-f1_score:0.48373\n",
      "[23]\ttrain-error:0.03910\tval-error:0.29204\ttrain-f1_score:0.96154\tval-f1_score:0.49301\n",
      "[24]\ttrain-error:0.03654\tval-error:0.29607\ttrain-f1_score:0.96404\tval-f1_score:0.48057\n",
      "[25]\ttrain-error:0.03539\tval-error:0.28953\ttrain-f1_score:0.96511\tval-f1_score:0.48523\n",
      "[26]\ttrain-error:0.03406\tval-error:0.28802\ttrain-f1_score:0.96646\tval-f1_score:0.48837\n",
      "[27]\ttrain-error:0.03344\tval-error:0.28550\ttrain-f1_score:0.96708\tval-f1_score:0.49148\n",
      "Stopping. Best iteration:\n",
      "[7]\ttrain-error:0.07953\tval-error:0.30715\ttrain-f1_score:0.92111\tval-f1_score:0.50082\n",
      "\n"
     ]
    }
   ],
   "source": [
    "xgb_model = xgb.train(\n",
    "    PARAMETERS,\n",
    "    d_train_w2v,\n",
    "    feval = custom_f1_score,\n",
    "    num_boost_round = NUM_BOOST_ROUNDS,\n",
    "    maximize = True,\n",
    "    evals = watchlist_w2v,\n",
    "    early_stopping_rounds = EARLY_STOPPING_ROUNDS, \n",
    "    verbose_eval = True)"
   ]
  },
  {
   "cell_type": "code",
   "execution_count": 50,
   "metadata": {},
   "outputs": [],
   "source": [
    "y_probas_train_w2v = xgb_model.predict(d_train_w2v)\n",
    "y_probas_test_w2v = xgb_model.predict(d_test_w2v)"
   ]
  },
  {
   "cell_type": "code",
   "execution_count": 51,
   "metadata": {},
   "outputs": [],
   "source": [
    "y_pred_test_w2v = np.round(y_probas_test_w2v)"
   ]
  },
  {
   "cell_type": "code",
   "execution_count": 52,
   "metadata": {},
   "outputs": [
    {
     "name": "stdout",
     "output_type": "stream",
     "text": [
      "True Negatives:  638\n",
      "False Positives:  147\n",
      "False Negatives:  181\n",
      "True Positives:  138\n"
     ]
    },
    {
     "data": {
      "image/png": "[encoded data removed]",
      "text/plain": [
       "<Figure size 360x360 with 2 Axes>"
      ]
     },
     "metadata": {
      "needs_background": "light"
     },
     "output_type": "display_data"
    }
   ],
   "source": [
    "plot_cfm(y_test_w2v, y_probas_test_w2v)"
   ]
  },
  {
   "cell_type": "code",
   "execution_count": 53,
   "metadata": {},
   "outputs": [
    {
     "name": "stdout",
     "output_type": "stream",
     "text": [
      "              precision    recall  f1-score   support\n",
      "\n",
      "           0       0.78      0.81      0.80       785\n",
      "           1       0.48      0.43      0.46       319\n",
      "\n",
      "    accuracy                           0.70      1104\n",
      "   macro avg       0.63      0.62      0.63      1104\n",
      "weighted avg       0.69      0.70      0.70      1104\n",
      "\n"
     ]
    }
   ],
   "source": [
    "print(classification_report(y_test_w2v, y_pred_test_w2v))"
   ]
  },
  {
   "cell_type": "markdown",
   "metadata": {},
   "source": [
    "Using word embedding vectors, XGBoost manages to identify a bit more 0's as 0's (620 versus 610), but a bit less 1's as 1's (138 versus 150), achieving overall very similar score to XGBoost with TF-IDF."
   ]
  },
  {
   "cell_type": "code",
   "execution_count": 54,
   "metadata": {},
   "outputs": [
    {
     "name": "stdout",
     "output_type": "stream",
     "text": [
      "W2V F1: 0.70\n"
     ]
    }
   ],
   "source": [
    "f1_w2v = f1_score(y_test_w2v, y_pred_test_w2v, average='weighted')\n",
    "print('W2V F1: %.2f' % f1_w2v)"
   ]
  },
  {
   "cell_type": "code",
   "execution_count": 55,
   "metadata": {},
   "outputs": [
    {
     "name": "stdout",
     "output_type": "stream",
     "text": [
      "W2V AUC: 0.68\n"
     ]
    }
   ],
   "source": [
    "auc_w2v = roc_auc_score(y_test_w2v, y_probas_test_w2v)\n",
    "print('W2V AUC: %.2f' % auc_w2v)"
   ]
  },
  {
   "cell_type": "code",
   "execution_count": 56,
   "metadata": {},
   "outputs": [
    {
     "data": {
      "image/png": "[encoded data removed]",
      "text/plain": [
       "<Figure size 864x720 with 1 Axes>"
      ]
     },
     "metadata": {
      "needs_background": "light"
     },
     "output_type": "display_data"
    }
   ],
   "source": [
    "plot_roc(\"Train W2V\", y_train_w2v_sm, y_probas_train_w2v, color = colors[0])\n",
    "plot_roc(\"Test W2V\", y_test_w2v, y_probas_test_w2v, color = colors[0], linestyle='--')"
   ]
  },
  {
   "cell_type": "markdown",
   "metadata": {},
   "source": [
    "Here we notice a similar behaviour as for the TF-IDF features: XGBoost seems to achieve an almost perfect ROC AUC curve for the training data, but fails to generalize for the test data."
   ]
  },
  {
   "cell_type": "markdown",
   "metadata": {},
   "source": [
    "***\n",
    "\n",
    "**Glove/FastText Embeddings**\n",
    "\n",
    "***"
   ]
  },
  {
   "cell_type": "code",
   "execution_count": 57,
   "metadata": {},
   "outputs": [],
   "source": [
    "gft_features = np.load('gloveft_features.npy', allow_pickle=True)"
   ]
  },
  {
   "cell_type": "code",
   "execution_count": 58,
   "metadata": {},
   "outputs": [
    {
     "name": "stdout",
     "output_type": "stream",
     "text": [
      "x: (11033, 100) float64\n",
      "y: (11033,) int64\n"
     ]
    }
   ],
   "source": [
    "# Create X/y arrays\n",
    "comments_gft = gft_features\n",
    "labels_gft = labels\n",
    "print('x:', comments_gft.shape, comments_gft.dtype) \n",
    "print('y:', labels_gft.shape, labels_gft.dtype)"
   ]
  },
  {
   "cell_type": "code",
   "execution_count": 59,
   "metadata": {},
   "outputs": [],
   "source": [
    "x_train_val_gft, x_test_gft, y_train_val_gft, y_test_gft = train_test_split(comments_gft, labels_gft,\n",
    "                                                  test_size = TRAIN_TEST_SPLIT_SIZE, stratify = labels_gft,\n",
    "                                                  random_state = RANDOM_STATE)"
   ]
  },
  {
   "cell_type": "code",
   "execution_count": 60,
   "metadata": {},
   "outputs": [],
   "source": [
    "x_train_gft, x_val_gft, y_train_gft, y_val_gft = train_test_split(x_train_val_gft, y_train_val_gft,\n",
    "                                                  test_size = VALIDATION_SPLIT_SIZE, stratify = y_train_val_gft,\n",
    "                                                  random_state = RANDOM_STATE)"
   ]
  },
  {
   "cell_type": "code",
   "execution_count": 61,
   "metadata": {},
   "outputs": [],
   "source": [
    "# transform the training dataset only\n",
    "sm = SMOTE(random_state = RANDOM_STATE)\n",
    "x_train_gft_sm, y_train_gft_sm = sm.fit_sample(x_train_gft, y_train_gft)"
   ]
  },
  {
   "cell_type": "code",
   "execution_count": 62,
   "metadata": {},
   "outputs": [],
   "source": [
    "# A DMatrix can contain both the features and the target.\n",
    "d_train_gft = xgb.DMatrix(x_train_gft_sm, label = y_train_gft_sm) \n",
    "d_test_gft = xgb.DMatrix(x_test_gft, label = y_test_gft)\n",
    "d_val_gft = xgb.DMatrix(x_val_gft, label = y_val_gft)\n",
    "watchlist_gft = [(d_train_gft, 'train'), (d_val_gft, 'val')]"
   ]
  },
  {
   "cell_type": "code",
   "execution_count": 63,
   "metadata": {},
   "outputs": [
    {
     "data": {
      "text/plain": [
       "{'objective': 'binary:logistic',\n",
       " 'max_depth': 6,\n",
       " 'min_child_weight': 1,\n",
       " 'eta': 0.3,\n",
       " 'subsample': 1,\n",
       " 'colsample_bytree': 1}"
      ]
     },
     "execution_count": 63,
     "metadata": {},
     "output_type": "execute_result"
    }
   ],
   "source": [
    "# initialize parameters to default values\n",
    "init_params()"
   ]
  },
  {
   "cell_type": "code",
   "execution_count": 64,
   "metadata": {},
   "outputs": [
    {
     "name": "stdout",
     "output_type": "stream",
     "text": [
      "Performing cross validation for parameters max_depth = 3, min_child_weight = 1\n",
      "\tF1 Score 0.7560974 reached after 279 rounds\n",
      "Performing cross validation for parameters max_depth = 3, min_child_weight = 3\n",
      "\tF1 Score 0.7532612000000001 reached after 291 rounds\n",
      "Performing cross validation for parameters max_depth = 3, min_child_weight = 5\n",
      "\tF1 Score 0.7584024 reached after 320 rounds\n",
      "Performing cross validation for parameters max_depth = 5, min_child_weight = 1\n",
      "\tF1 Score 0.7932216 reached after 138 rounds\n",
      "Performing cross validation for parameters max_depth = 5, min_child_weight = 3\n",
      "\tF1 Score 0.797352 reached after 199 rounds\n",
      "Performing cross validation for parameters max_depth = 5, min_child_weight = 5\n",
      "\tF1 Score 0.8042456 reached after 335 rounds\n",
      "Performing cross validation for parameters max_depth = 7, min_child_weight = 1\n",
      "\tF1 Score 0.8204722 reached after 213 rounds\n",
      "Performing cross validation for parameters max_depth = 7, min_child_weight = 3\n",
      "\tF1 Score 0.8122469999999999 reached after 165 rounds\n",
      "Performing cross validation for parameters max_depth = 7, min_child_weight = 5\n",
      "\tF1 Score 0.808878 reached after 162 rounds\n",
      "Performing cross validation for parameters max_depth = 9, min_child_weight = 1\n",
      "\tF1 Score 0.8218348000000001 reached after 240 rounds\n",
      "Performing cross validation for parameters max_depth = 9, min_child_weight = 3\n",
      "\tF1 Score 0.8153428000000001 reached after 166 rounds\n",
      "Performing cross validation for parameters max_depth = 9, min_child_weight = 5\n",
      "\tF1 Score 0.8112464000000001 reached after 142 rounds\n",
      "Best params: 9, 1, F1 Score: 0.8218348000000001\n"
     ]
    }
   ],
   "source": [
    "# Tune max_depth and min_child_weight\n",
    "gs_space = [\n",
    "    (max_depth, min_child_weight)\n",
    "    for max_depth in range(3,10,2)\n",
    "        for min_child_weight in range(1,6,2)\n",
    "]\n",
    "max_f1 = 0. # initializing with 0 \n",
    "best_params = None \n",
    "for max_depth, min_child_weight in gs_space:\n",
    "    print(\"Performing cross validation for parameters max_depth = {}, min_child_weight = {}\".format(max_depth, min_child_weight))\n",
    "    \n",
    "    # Update parameters\n",
    "    PARAMETERS['max_depth'] = max_depth\n",
    "    PARAMETERS['min_child_weight'] = min_child_weight\n",
    "\n",
    "    # Run cross validation\n",
    "    cv_results = cross_validation(PARAMETERS, d_train_gft)\n",
    "\n",
    "    # Find best F1 Score\n",
    "    mean_f1 = cv_results['test-f1_score-mean'].max()\n",
    "    \n",
    "    boost_rounds = np.argmax(cv_results['test-f1_score-mean'])    \n",
    "    print(\"\\tF1 Score {} reached after {} rounds\".format(mean_f1, boost_rounds))    \n",
    "    if mean_f1 > max_f1:\n",
    "        max_f1 = mean_f1\n",
    "        best_params = (max_depth, min_child_weight) \n",
    "\n",
    "print(\"Best params: {}, {}, F1 Score: {}\".format(best_params[0], best_params[1], max_f1))"
   ]
  },
  {
   "cell_type": "code",
   "execution_count": 65,
   "metadata": {},
   "outputs": [],
   "source": [
    "# Update max_depth and min_child_weight parameters.\n",
    "PARAMETERS['max_depth'] = best_params[0]\n",
    "PARAMETERS['min_child_weight'] = best_params[1]"
   ]
  },
  {
   "cell_type": "code",
   "execution_count": 66,
   "metadata": {},
   "outputs": [
    {
     "name": "stdout",
     "output_type": "stream",
     "text": [
      "Performing cross validation for parameters subsample = 0.5, colsample_bytree = 0.5\n",
      "\tF1 Score 0.7930691999999999 reached after 138 rounds\n",
      "Performing cross validation for parameters subsample = 0.5, colsample_bytree = 0.6\n",
      "\tF1 Score 0.7923562000000001 reached after 166 rounds\n",
      "Performing cross validation for parameters subsample = 0.5, colsample_bytree = 0.7\n",
      "\tF1 Score 0.8020493999999999 reached after 214 rounds\n",
      "Performing cross validation for parameters subsample = 0.5, colsample_bytree = 0.8\n",
      "\tF1 Score 0.8016866 reached after 179 rounds\n",
      "Performing cross validation for parameters subsample = 0.5, colsample_bytree = 0.9\n",
      "\tF1 Score 0.8023022 reached after 208 rounds\n",
      "Performing cross validation for parameters subsample = 0.6, colsample_bytree = 0.5\n",
      "\tF1 Score 0.7943993999999999 reached after 108 rounds\n",
      "Performing cross validation for parameters subsample = 0.6, colsample_bytree = 0.6\n",
      "\tF1 Score 0.8023372 reached after 133 rounds\n",
      "Performing cross validation for parameters subsample = 0.6, colsample_bytree = 0.7\n",
      "\tF1 Score 0.7951409999999999 reached after 108 rounds\n",
      "Performing cross validation for parameters subsample = 0.6, colsample_bytree = 0.8\n",
      "\tF1 Score 0.8010915999999998 reached after 135 rounds\n",
      "Performing cross validation for parameters subsample = 0.6, colsample_bytree = 0.9\n",
      "\tF1 Score 0.8108438 reached after 259 rounds\n",
      "Performing cross validation for parameters subsample = 0.7, colsample_bytree = 0.5\n",
      "\tF1 Score 0.8107641999999998 reached after 273 rounds\n",
      "Performing cross validation for parameters subsample = 0.7, colsample_bytree = 0.6\n",
      "\tF1 Score 0.8023125999999999 reached after 108 rounds\n",
      "Performing cross validation for parameters subsample = 0.7, colsample_bytree = 0.7\n",
      "\tF1 Score 0.8051550000000001 reached after 108 rounds\n",
      "Performing cross validation for parameters subsample = 0.7, colsample_bytree = 0.8\n",
      "\tF1 Score 0.8130382 reached after 207 rounds\n",
      "Performing cross validation for parameters subsample = 0.7, colsample_bytree = 0.9\n",
      "\tF1 Score 0.8092822 reached after 167 rounds\n",
      "Performing cross validation for parameters subsample = 0.8, colsample_bytree = 0.5\n",
      "\tF1 Score 0.8108679999999999 reached after 167 rounds\n",
      "Performing cross validation for parameters subsample = 0.8, colsample_bytree = 0.6\n",
      "\tF1 Score 0.8086460000000001 reached after 158 rounds\n",
      "Performing cross validation for parameters subsample = 0.8, colsample_bytree = 0.7\n",
      "\tF1 Score 0.8045442000000002 reached after 119 rounds\n",
      "Performing cross validation for parameters subsample = 0.8, colsample_bytree = 0.8\n",
      "\tF1 Score 0.8163958000000001 reached after 204 rounds\n",
      "Performing cross validation for parameters subsample = 0.8, colsample_bytree = 0.9\n",
      "\tF1 Score 0.8129546 reached after 153 rounds\n",
      "Performing cross validation for parameters subsample = 0.9, colsample_bytree = 0.5\n",
      "\tF1 Score 0.8158284 reached after 150 rounds\n",
      "Performing cross validation for parameters subsample = 0.9, colsample_bytree = 0.6\n",
      "\tF1 Score 0.8140212 reached after 173 rounds\n",
      "Performing cross validation for parameters subsample = 0.9, colsample_bytree = 0.7\n",
      "\tF1 Score 0.8181968000000002 reached after 199 rounds\n",
      "Performing cross validation for parameters subsample = 0.9, colsample_bytree = 0.8\n",
      "\tF1 Score 0.8133322 reached after 120 rounds\n",
      "Performing cross validation for parameters subsample = 0.9, colsample_bytree = 0.9\n",
      "\tF1 Score 0.8174132000000001 reached after 146 rounds\n",
      "Best params: 0.9, 0.7, F1 Score: 0.8181968000000002\n"
     ]
    }
   ],
   "source": [
    "# Tune subsample and colsample\n",
    "gs_space = [\n",
    "    (subsample, colsample_bytree)\n",
    "    for subsample in [i/10. for i in range(5,10)]\n",
    "    for colsample_bytree in [i/10. for i in range(5,10)]\n",
    "]\n",
    "max_f1 = 0. \n",
    "best_params = None \n",
    "for subsample, colsample_bytree in gs_space:\n",
    "    print(\"Performing cross validation for parameters subsample = {}, colsample_bytree = {}\".format(subsample, colsample_bytree))\n",
    "    \n",
    "    # Update parameters\n",
    "    PARAMETERS['colsample_bytree'] = colsample_bytree\n",
    "    PARAMETERS['subsample'] = subsample\n",
    "    \n",
    "    # Run cross validation\n",
    "    cv_results = cross_validation(PARAMETERS, d_train_gft)\n",
    "\n",
    "    # Find best F1 Score\n",
    "    mean_f1 = cv_results['test-f1_score-mean'].max()\n",
    "    boost_rounds = np.argmax(cv_results['test-f1_score-mean'])    \n",
    "    print(\"\\tF1 Score {} reached after {} rounds\".format(mean_f1, boost_rounds))\n",
    "    if mean_f1 > max_f1:\n",
    "        max_f1 = mean_f1\n",
    "        best_params = (subsample, colsample_bytree) \n",
    "\n",
    "print(\"Best params: {}, {}, F1 Score: {}\".format(best_params[0], best_params[1], max_f1))"
   ]
  },
  {
   "cell_type": "code",
   "execution_count": 67,
   "metadata": {},
   "outputs": [],
   "source": [
    "# Update subsample and colsample_bytree\n",
    "PARAMETERS['subsample'] = best_params[0]\n",
    "PARAMETERS['colsample_bytree'] = best_params[1]"
   ]
  },
  {
   "cell_type": "code",
   "execution_count": 68,
   "metadata": {},
   "outputs": [
    {
     "name": "stdout",
     "output_type": "stream",
     "text": [
      "Performing cross validation for parameter eta = 0.3\n",
      "\tF1 Score 0.8181968000000002 reached after 199 rounds\n",
      "Performing cross validation for parameter eta = 0.2\n",
      "\tF1 Score 0.8192194 reached after 162 rounds\n",
      "Performing cross validation for parameter eta = 0.1\n",
      "\tF1 Score 0.8276498 reached after 219 rounds\n",
      "Performing cross validation for parameter eta = 0.05\n",
      "\tF1 Score 0.8233364 reached after 302 rounds\n",
      "Performing cross validation for parameter eta = 0.01\n",
      "\tF1 Score 0.8107937999999999 reached after 500 rounds\n",
      "Performing cross validation for parameter eta = 0.005\n",
      "\tF1 Score 0.7982684 reached after 534 rounds\n",
      "Best params: 0.1, F1 Score: 0.8276498\n"
     ]
    }
   ],
   "source": [
    "# Tune the learning rate.\n",
    "max_f1 = 0. \n",
    "best_params = None \n",
    "for eta in [.3, .2, .1, .05, .01, .005]:\n",
    "    print(\"Performing cross validation for parameter eta = {}\".format(eta))\n",
    "    \n",
    "    # Update ETA\n",
    "    PARAMETERS['eta'] = eta\n",
    "\n",
    "    # Run cross validation\n",
    "    cv_results = cross_validation(PARAMETERS, d_train_gft)\n",
    "\n",
    "    # Find best F1 Score\n",
    "    mean_f1 = cv_results['test-f1_score-mean'].max()\n",
    "    boost_rounds = np.argmax(cv_results['test-f1_score-mean'])    \n",
    "    print(\"\\tF1 Score {} reached after {} rounds\".format(mean_f1, boost_rounds))\n",
    "    if mean_f1 > max_f1:\n",
    "        max_f1 = mean_f1\n",
    "        best_params = eta \n",
    "print(\"Best params: {}, F1 Score: {}\".format(best_params, max_f1))"
   ]
  },
  {
   "cell_type": "code",
   "execution_count": 69,
   "metadata": {},
   "outputs": [],
   "source": [
    "# Update eta.\n",
    "PARAMETERS['eta'] = best_params"
   ]
  },
  {
   "cell_type": "code",
   "execution_count": 70,
   "metadata": {},
   "outputs": [
    {
     "data": {
      "text/plain": [
       "{'objective': 'binary:logistic',\n",
       " 'max_depth': 9,\n",
       " 'min_child_weight': 1,\n",
       " 'eta': 0.1,\n",
       " 'subsample': 0.9,\n",
       " 'colsample_bytree': 0.7}"
      ]
     },
     "execution_count": 70,
     "metadata": {},
     "output_type": "execute_result"
    }
   ],
   "source": [
    "PARAMETERS"
   ]
  },
  {
   "cell_type": "code",
   "execution_count": 71,
   "metadata": {},
   "outputs": [
    {
     "name": "stdout",
     "output_type": "stream",
     "text": [
      "[0]\ttrain-error:0.21860\tval-error:0.36455\ttrain-f1_score:0.77837\tval-f1_score:0.43359\n",
      "Multiple eval metrics have been passed: 'val-f1_score' will be used for early stopping.\n",
      "\n",
      "Will train until val-f1_score hasn't improved in 20 rounds.\n",
      "[1]\ttrain-error:0.15897\tval-error:0.36506\ttrain-f1_score:0.84005\tval-f1_score:0.43580\n",
      "[2]\ttrain-error:0.13641\tval-error:0.35247\ttrain-f1_score:0.86378\tval-f1_score:0.44882\n",
      "[3]\ttrain-error:0.11934\tval-error:0.33635\ttrain-f1_score:0.88063\tval-f1_score:0.45603\n",
      "[4]\ttrain-error:0.11421\tval-error:0.33031\ttrain-f1_score:0.88616\tval-f1_score:0.45875\n",
      "[5]\ttrain-error:0.10209\tval-error:0.32377\ttrain-f1_score:0.89807\tval-f1_score:0.46639\n",
      "[6]\ttrain-error:0.09510\tval-error:0.32125\ttrain-f1_score:0.90472\tval-f1_score:0.45840\n",
      "[7]\ttrain-error:0.08997\tval-error:0.32075\ttrain-f1_score:0.90998\tval-f1_score:0.44753\n",
      "[8]\ttrain-error:0.08183\tval-error:0.32075\ttrain-f1_score:0.91825\tval-f1_score:0.45228\n",
      "[9]\ttrain-error:0.07511\tval-error:0.31823\ttrain-f1_score:0.92545\tval-f1_score:0.45043\n",
      "[10]\ttrain-error:0.07219\tval-error:0.32024\ttrain-f1_score:0.92840\tval-f1_score:0.44983\n",
      "[11]\ttrain-error:0.06670\tval-error:0.31823\ttrain-f1_score:0.93378\tval-f1_score:0.44659\n",
      "[12]\ttrain-error:0.06290\tval-error:0.31420\ttrain-f1_score:0.93756\tval-f1_score:0.45739\n",
      "[13]\ttrain-error:0.05830\tval-error:0.31521\ttrain-f1_score:0.94232\tval-f1_score:0.45184\n",
      "[14]\ttrain-error:0.05600\tval-error:0.31521\ttrain-f1_score:0.94452\tval-f1_score:0.44894\n",
      "[15]\ttrain-error:0.05078\tval-error:0.30816\ttrain-f1_score:0.94973\tval-f1_score:0.46127\n",
      "[16]\ttrain-error:0.05007\tval-error:0.30916\ttrain-f1_score:0.95045\tval-f1_score:0.45760\n",
      "[17]\ttrain-error:0.04742\tval-error:0.31218\ttrain-f1_score:0.95312\tval-f1_score:0.44742\n",
      "[18]\ttrain-error:0.04459\tval-error:0.31420\ttrain-f1_score:0.95591\tval-f1_score:0.44286\n",
      "[19]\ttrain-error:0.04273\tval-error:0.31017\ttrain-f1_score:0.95773\tval-f1_score:0.45000\n",
      "[20]\ttrain-error:0.04140\tval-error:0.30564\ttrain-f1_score:0.95905\tval-f1_score:0.45658\n",
      "[21]\ttrain-error:0.03813\tval-error:0.30514\ttrain-f1_score:0.96228\tval-f1_score:0.44809\n",
      "[22]\ttrain-error:0.03583\tval-error:0.30514\ttrain-f1_score:0.96459\tval-f1_score:0.45109\n",
      "[23]\ttrain-error:0.03441\tval-error:0.30715\ttrain-f1_score:0.96601\tval-f1_score:0.44646\n",
      "[24]\ttrain-error:0.03424\tval-error:0.29909\ttrain-f1_score:0.96617\tval-f1_score:0.45505\n",
      "[25]\ttrain-error:0.03388\tval-error:0.29909\ttrain-f1_score:0.96655\tval-f1_score:0.45304\n",
      "Stopping. Best iteration:\n",
      "[5]\ttrain-error:0.10209\tval-error:0.32377\ttrain-f1_score:0.89807\tval-f1_score:0.46639\n",
      "\n"
     ]
    }
   ],
   "source": [
    "xgb_model = xgb.train(\n",
    "    PARAMETERS,\n",
    "    d_train_gft,\n",
    "    feval = custom_f1_score,\n",
    "    num_boost_round = NUM_BOOST_ROUNDS,\n",
    "    maximize = True,\n",
    "    evals = watchlist_gft,\n",
    "    early_stopping_rounds = EARLY_STOPPING_ROUNDS, \n",
    "    verbose_eval=True)"
   ]
  },
  {
   "cell_type": "code",
   "execution_count": 72,
   "metadata": {},
   "outputs": [],
   "source": [
    "y_probas_train_gft = xgb_model.predict(d_train_gft)\n",
    "y_probas_test_gft = xgb_model.predict(d_test_gft)"
   ]
  },
  {
   "cell_type": "code",
   "execution_count": 73,
   "metadata": {},
   "outputs": [],
   "source": [
    "y_pred_test_gft = np.round(y_probas_test_gft)"
   ]
  },
  {
   "cell_type": "code",
   "execution_count": 74,
   "metadata": {},
   "outputs": [
    {
     "name": "stdout",
     "output_type": "stream",
     "text": [
      "True Negatives:  632\n",
      "False Positives:  153\n",
      "False Negatives:  190\n",
      "True Positives:  129\n"
     ]
    },
    {
     "data": {
      "image/png": "[encoded data removed]",
      "text/plain": [
       "<Figure size 360x360 with 2 Axes>"
      ]
     },
     "metadata": {
      "needs_background": "light"
     },
     "output_type": "display_data"
    }
   ],
   "source": [
    "plot_cfm(y_test_gft, y_probas_test_gft)"
   ]
  },
  {
   "cell_type": "code",
   "execution_count": 75,
   "metadata": {},
   "outputs": [
    {
     "name": "stdout",
     "output_type": "stream",
     "text": [
      "              precision    recall  f1-score   support\n",
      "\n",
      "           0       0.77      0.81      0.79       785\n",
      "           1       0.46      0.40      0.43       319\n",
      "\n",
      "    accuracy                           0.69      1104\n",
      "   macro avg       0.61      0.60      0.61      1104\n",
      "weighted avg       0.68      0.69      0.68      1104\n",
      "\n"
     ]
    }
   ],
   "source": [
    "print(classification_report(y_test_gft, y_pred_test_gft))"
   ]
  },
  {
   "cell_type": "code",
   "execution_count": 76,
   "metadata": {},
   "outputs": [
    {
     "name": "stdout",
     "output_type": "stream",
     "text": [
      "Glove/FastText F1: 0.68\n"
     ]
    }
   ],
   "source": [
    "f1_gft = f1_score(y_test_gft, y_pred_test_gft, average='weighted')\n",
    "print('Glove/FastText F1: %.2f' % f1_gft)"
   ]
  },
  {
   "cell_type": "code",
   "execution_count": 77,
   "metadata": {},
   "outputs": [
    {
     "name": "stdout",
     "output_type": "stream",
     "text": [
      "Glove/FastText AUC: 0.68\n"
     ]
    }
   ],
   "source": [
    "auc_gft = roc_auc_score(y_test_gft, y_probas_test_gft)\n",
    "print('Glove/FastText AUC: %.2f' % auc_gft)"
   ]
  },
  {
   "cell_type": "code",
   "execution_count": 78,
   "metadata": {},
   "outputs": [
    {
     "data": {
      "image/png": "[encoded data removed]",
      "text/plain": [
       "<Figure size 864x720 with 1 Axes>"
      ]
     },
     "metadata": {
      "needs_background": "light"
     },
     "output_type": "display_data"
    }
   ],
   "source": [
    "plot_roc(\"Train Glove/FastText\", y_train_gft_sm, y_probas_train_gft, color = colors[0])\n",
    "plot_roc(\"Test Glove/FastText\", y_test_gft, y_probas_test_gft, color = colors[0], linestyle = '--')"
   ]
  },
  {
   "cell_type": "markdown",
   "metadata": {},
   "source": [
    "***\n",
    "\n",
    "**Summary**\n",
    "\n",
    "***"
   ]
  },
  {
   "cell_type": "code",
   "execution_count": 79,
   "metadata": {},
   "outputs": [
    {
     "name": "stdout",
     "output_type": "stream",
     "text": [
      "┌───────────────────────────┬────────────────────┬────────────────────┐\n",
      "│ Classifier                │ F1                 │ AUC                │\n",
      "├───────────────────────────┼────────────────────┼────────────────────┤\n",
      "│ XGBoost w. TFIDF          │ 0.6892596358013905 │  0.685484096399976 │\n",
      "├───────────────────────────┼────────────────────┼────────────────────┤\n",
      "│ XGBoost w. Word2Vec       │ 0.6976852546625566 │ 0.6808537827206838 │\n",
      "├───────────────────────────┼────────────────────┼────────────────────┤\n",
      "│ XGBoost w. Glove/FastText │ 0.6833246610782787 │ 0.6786534352974063 │\n",
      "└───────────────────────────┴────────────────────┴────────────────────┘\n"
     ]
    }
   ],
   "source": [
    "# !pip install tabletext\n",
    "import tabletext\n",
    "\n",
    "table = [[\"Classifier\", \"F1\", \"AUC\"],\n",
    "        [\"XGBoost w. TFIDF\", f1_tfidf, auc_tfidf],\n",
    "        [\"XGBoost w. Word2Vec\", f1_w2v, auc_w2v],\n",
    "        [\"XGBoost w. Glove/FastText\", f1_gft, auc_gft],\n",
    "        ]\n",
    "\n",
    "\n",
    "print (tabletext.to_text(table))"
   ]
  },
  {
   "cell_type": "code",
   "execution_count": 80,
   "metadata": {},
   "outputs": [
    {
     "data": {
      "image/png": "[encoded data removed]",
      "text/plain": [
       "<Figure size 864x720 with 1 Axes>"
      ]
     },
     "metadata": {
      "needs_background": "light"
     },
     "output_type": "display_data"
    }
   ],
   "source": [
    "plot_roc(\"Test TFIDF\", y_test_tfidf, y_probas_test_tfidf, color = colors[0], linestyle = '--')\n",
    "\n",
    "plot_roc(\"Test W2V\", y_test_w2v, y_probas_test_w2v, color = colors[1], linestyle = '--')\n",
    "\n",
    "plot_roc(\"Test Glove/FastText\", y_test_gft, y_probas_test_gft, color = colors[2], linestyle = '--')"
   ]
  },
  {
   "cell_type": "code",
   "execution_count": null,
   "metadata": {},
   "outputs": [],
   "source": []
  }
 ],
 "metadata": {
  "kernelspec": {
   "display_name": "Python 3",
   "language": "python",
   "name": "python3"
  },
  "language_info": {
   "codemirror_mode": {
    "name": "ipython",
    "version": 3
   },
   "file_extension": ".py",
   "mimetype": "text/x-python",
   "name": "python",
   "nbconvert_exporter": "python",
   "pygments_lexer": "ipython3",
   "version": "3.6.10"
  }
 },
 "nbformat": 4,
 "nbformat_minor": 2
}
