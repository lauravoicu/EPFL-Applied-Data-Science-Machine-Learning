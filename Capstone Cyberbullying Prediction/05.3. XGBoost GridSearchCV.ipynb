{
 "cells": [
  {
   "cell_type": "markdown",
   "metadata": {},
   "source": [
    "# Cyberbullying On Social Media\n",
    "\n",
    "# XGBoost with GridSearchCV\n",
    "\n",
    "**NOTE: Please note that running the entire notebook takes approximately 20 hours.**"
   ]
  },
  {
   "cell_type": "code",
   "execution_count": 1,
   "metadata": {},
   "outputs": [],
   "source": [
    "import numpy as np\n",
    "import pandas as pd\n",
    "import matplotlib as mpl\n",
    "import matplotlib.pyplot as plt  \n",
    "import seaborn as sns\n",
    "\n",
    "\n",
    "from sklearn.metrics import f1_score\n",
    "from sklearn.model_selection import GridSearchCV\n",
    "from sklearn.pipeline import Pipeline\n",
    "from sklearn import metrics\n",
    "from sklearn.metrics import classification_report\n",
    "from sklearn.metrics import f1_score, roc_auc_score, roc_curve\n",
    "from sklearn.model_selection import train_test_split\n",
    "# !pip install xgboost\n",
    "\n",
    "import xgboost as xgb\n",
    "\n",
    "from xgboost import XGBClassifier\n",
    "import warnings\n",
    "warnings.filterwarnings('ignore')\n",
    "warnings.simplefilter('ignore')\n",
    "import imblearn\n",
    "# print(imblearn.__version__)\n",
    "from imblearn.over_sampling import SMOTE\n",
    "from imblearn.pipeline import Pipeline\n",
    "\n",
    "# !pip install tabletext\n",
    "import tabletext"
   ]
  },
  {
   "cell_type": "code",
   "execution_count": 2,
   "metadata": {},
   "outputs": [],
   "source": [
    "df = pd.read_csv('labeled_insta_cleaned.csv', encoding = 'utf-8-sig', engine = 'python')"
   ]
  },
  {
   "cell_type": "code",
   "execution_count": 3,
   "metadata": {},
   "outputs": [],
   "source": [
    "comments = df['tidy_text']\n",
    "labels = df['label_bullying']"
   ]
  },
  {
   "cell_type": "code",
   "execution_count": 4,
   "metadata": {},
   "outputs": [],
   "source": [
    "#keep the same random state for reproducibility\n",
    "RANDOM_STATE = 12\n",
    "TRAIN_TEST_SPLIT_SIZE = .1\n",
    "VALIDATION_SPLIT_SIZE = .2"
   ]
  },
  {
   "cell_type": "markdown",
   "metadata": {},
   "source": [
    "***\n",
    "\n",
    "**Utility Functions**\n",
    "\n",
    "***"
   ]
  },
  {
   "cell_type": "code",
   "execution_count": 5,
   "metadata": {},
   "outputs": [],
   "source": [
    "def custom_f1_score(predictions, d_train):\n",
    "    labels = d_train.get_label().astype(np.int)\n",
    "    predictions = (predictions >= 0.5).astype(np.int)\n",
    "    return [('f1_score', f1_score(labels, predictions))]"
   ]
  },
  {
   "cell_type": "code",
   "execution_count": 6,
   "metadata": {},
   "outputs": [],
   "source": [
    "# setup color scheme and standard figure size for all figures\n",
    "mpl.rcParams['figure.figsize'] = (12, 10)\n",
    "colors = plt.rcParams['axes.prop_cycle'].by_key()['color']"
   ]
  },
  {
   "cell_type": "code",
   "execution_count": 7,
   "metadata": {},
   "outputs": [],
   "source": [
    "def plot_cfm(labels, predictions, p = 0.5):\n",
    "    cfm = metrics.confusion_matrix(labels, predictions)\n",
    "    plt.figure(figsize = (5,5))\n",
    "    sns.heatmap(cfm, annot = True, fmt = \"d\")\n",
    "    plt.title('Confusion matrix @{:.2f}'.format(p))\n",
    "    plt.ylabel('Actual values')\n",
    "    plt.xlabel('Predicted values')\n",
    "\n",
    "    print('True Negatives: ', cfm[0][0])\n",
    "    print('False Positives: ', cfm[0][1])\n",
    "    print('False Negatives: ', cfm[1][0])\n",
    "    print('True Positives: ', cfm[1][1])"
   ]
  },
  {
   "cell_type": "code",
   "execution_count": 8,
   "metadata": {},
   "outputs": [],
   "source": [
    "def plot_roc(name, labels, predictions, **kwargs):\n",
    "    fp, tp, _ = roc_curve(labels, predictions)\n",
    "    roc_auc = metrics.auc(fp, tp)    \n",
    "    plt.title('Receiver Operating Characteristic')\n",
    "    plt.plot(fp, tp, label = name + ' AUC = %0.2f' % roc_auc, linewidth=2, **kwargs)\n",
    "    plt.legend(loc = 'lower right')\n",
    "    plt.plot([0, 1], [0, 1], linewidth=2, color=colors[6], linestyle=':')\n",
    "    plt.xlabel('False positives [%]')\n",
    "    plt.ylabel('True positives [%]')\n",
    "    plt.grid(True)\n",
    "    ax = plt.gca()\n",
    "    ax.set_aspect('equal')"
   ]
  },
  {
   "cell_type": "markdown",
   "metadata": {},
   "source": [
    "***\n",
    "\n",
    "**XGBoost**\n",
    "\n",
    "***\n",
    "\n",
    "Extreme Gradient Boosting (xgboost) is an advanced implementation of the gradient boosting algorithm. It has both linear model solver and tree learning algorithms. Its ability to do parallel computation on a single machine makes it extremely fast. \n",
    "\n",
    "Some key benefits of XGBoost are:\n",
    "\n",
    "- Regularization - helps in reducing overfitting\n",
    "\n",
    "- Parallel Processing - XGBoost implements parallel processing and is blazingly faster as compared to GBM.\n",
    "\n",
    "- Handling Missing Values - It has an in-built routine to handle missing values.\n",
    "\n",
    "- Built-in Cross-Validation - allows user to run a cross-validation at each iteration of the boosting process"
   ]
  },
  {
   "cell_type": "markdown",
   "metadata": {},
   "source": [
    "**Hyperparameter Tuning**"
   ]
  },
  {
   "cell_type": "markdown",
   "metadata": {},
   "source": [
    "In order to tune the hyperparameters, I will use a grid search with 5-fold cross-validation. It allows  to run cross-validation on the training dataset and returns a score (either built-in or customly defined).\n",
    "\n",
    "**A note about using XGBoost with GridSearchCV**\n",
    "\n",
    "I wanted to compare the results obtaining by tuning XGBoost manually versus using GridSearchCV. As mentioned in the other notebook, using GridSearchCV for so many parameters is computationally very expensive. So I decided to slightly reduce the search space here. Overall running the entire notebook requires about 20-30 hours (depending on the run). For this reason I only did it once, just to compare. Interestingly GridSearchCV found at time completely different best parameters than my manual search (at times with quite big difference in terms of max_depth and min_child_weight for example). However, the end results are almost the same. This implies that tuning the hyperparameters plays a secondary role, and the results cannot be improved much, because of the nature of the data set (small data set and non-separable classes)."
   ]
  },
  {
   "cell_type": "markdown",
   "metadata": {},
   "source": [
    "**Tune max_depth and min_child_weight** \n",
    "\n",
    "- max_depth is the largest depth allowed on any decision tree in the ensemble, where tree depth is the number of nodes from the root down to the farthest away leaf. Larger max_depth values allow for more complex trees, which means a larger chance of capturing complicated features but also a larger chance of overfitting.\n",
    "- min_child_weight is a regularization factor that changes how often tree nodes split in tree creation. "
   ]
  },
  {
   "cell_type": "markdown",
   "metadata": {},
   "source": [
    "**Tune subsample and colsample**\n",
    "\n",
    "- subsample is the fraction of datapoints (rows of the training data) to sample at each round (each tree), with 0 meaning no rows are sampled and 1 meaning all rows are sampled. The higher the value, the more likely to overfit the data.\n",
    "- colsample_bytree is the fraction of features (columns of the training data) to sample at each round (each tree), with 0 meaning no columns are sampled and 1 meaning all columns are sampled. The higher the value, the more likely to overfit the data."
   ]
  },
  {
   "cell_type": "markdown",
   "metadata": {},
   "source": [
    "**Tune eta**\n",
    "\n",
    "Eta in XGBoost works the same way as a learning_rate, in the sense that it controls how quickly each step changes. The smaller the eta, the smaller each step, which means the algorithm will likely take more steps to converge."
   ]
  },
  {
   "cell_type": "markdown",
   "metadata": {},
   "source": [
    "**Tune num_boost_round and early_stopping_rounds**\n",
    "\n",
    "XGBoost is a gradient boosting method, as such it adds trees in every iteration to improve the prediction accuracy (performance). \n",
    "\n",
    "The prediction performance increases when you add more and more trees until it starts to overfit, at which point the it will start to decrease. So we need to find that optimum number of trees. It is basically impossible to guess this number from the get-go. That is what XGBoost.cv is for. It partitions the training data into two subsets. The first subset is used to train XGBoost, the second is used as a validation set. After each iteration (which adds an additional tree) XGBoost calculates the new validation error. With that XGBoost is able to detect when it starts to overfit (when the validation error starts to increase). This will give us the optimal number of trees for a given set of hyperparameters.\n",
    "\n",
    "The num_boost_rounds (number of trees) parameter is not part of the PARAMETERS dictionary, but it is a tunable parameter. num_boost_round corresponds to the number of boosting rounds or trees to build. Its optimal value highly depends on the other parameters, and thus it should be re-tuned each time we update a parameter. I could do this by tuning it together with all parameters in a grid-search, but it requires a lot of computational effort.\n",
    "Fortunately XGBoost provides a nice way to find the best number of rounds while training. Since trees are built sequentially, instead of fixing the number of rounds at the beginning, we can test our model at each step and see if adding a new tree/boost round improves performance. If the performance hasn’t improved for a specific number of rounds (as defined by the variable early_stopping_round), we stop the training and keep the best number of boosting rounds. \n",
    "\n",
    "- num_boost_round: number of boosting rounds. Here I will use a large number and count on early_stopping_rounds to find the optimal number of rounds before reaching the maximum.\n",
    "- metrics: the metrics to use to evaluate the model. For this part I have defined a custom F1 score metric, since XGBoost does not have one natively, and I wanted to compare to other classifiers using the same metric.\n",
    "\n",
    "\n",
    "I've decided here to use the XGBoost algorithm directly but there is also a scikit learn wrapper around XGBoost called XGBRegressor. The XGBoost algorithm is more customizeable, but the scikit learn wrapper plays more nicely with pipelines (and doesn't need DMatrix input)."
   ]
  },
  {
   "cell_type": "code",
   "execution_count": 9,
   "metadata": {},
   "outputs": [],
   "source": [
    "# Initialize with default parameters\n",
    "PARAMETERS = {\n",
    "     'objective':'binary:logistic',\n",
    "     'max_depth': 6,\n",
    "     'min_child_weight': 1,\n",
    "     'eta': .3,\n",
    "     'subsample': 1,\n",
    "     'colsample_bytree': 1\n",
    "  }"
   ]
  },
  {
   "cell_type": "markdown",
   "metadata": {},
   "source": [
    "***\n",
    "\n",
    "**TF-IDF**\n",
    "\n",
    "***"
   ]
  },
  {
   "cell_type": "code",
   "execution_count": 10,
   "metadata": {},
   "outputs": [],
   "source": [
    "train_tfidf_features = np.load('train_dataset_unbalanced_tfidf_features.npy', allow_pickle=True)\n",
    "train_tfidf_labels = np.load('train_dataset_unbalanced_tfidf_labels.npy', allow_pickle=True)"
   ]
  },
  {
   "cell_type": "code",
   "execution_count": 11,
   "metadata": {},
   "outputs": [],
   "source": [
    "test_tfidf_features = np.load('test_dataset_tfidf_features.npy', allow_pickle=True)\n",
    "test_tfidf_labels = np.load('test_dataset_tfidf_labels.npy', allow_pickle=True)"
   ]
  },
  {
   "cell_type": "code",
   "execution_count": 12,
   "metadata": {},
   "outputs": [],
   "source": [
    "val_tfidf_features = np.load('val_dataset_tfidf_features.npy', allow_pickle=True)\n",
    "val_tfidf_labels = np.load('val_dataset_tfidf_labels.npy', allow_pickle=True)"
   ]
  },
  {
   "cell_type": "code",
   "execution_count": 13,
   "metadata": {},
   "outputs": [
    {
     "name": "stdout",
     "output_type": "stream",
     "text": [
      "x: (7943, 1000) float64\n",
      "y: (7943,) int64\n"
     ]
    }
   ],
   "source": [
    "# Create X/y arrays\n",
    "x_train_tfidf = train_tfidf_features.item()\n",
    "y_train_tfidf = train_tfidf_labels\n",
    "\n",
    "print('x:', x_train_tfidf .shape, x_train_tfidf .dtype)\n",
    "print('y:', y_train_tfidf .shape, y_train_tfidf .dtype)"
   ]
  },
  {
   "cell_type": "code",
   "execution_count": 14,
   "metadata": {},
   "outputs": [
    {
     "name": "stdout",
     "output_type": "stream",
     "text": [
      "x: (1104, 1000) float64\n",
      "y: (1104,) int64\n"
     ]
    }
   ],
   "source": [
    "# Create X/y arrays\n",
    "x_test_tfidf = test_tfidf_features.item()\n",
    "y_test_tfidf = test_tfidf_labels\n",
    "\n",
    "print('x:', x_test_tfidf.shape, x_test_tfidf.dtype)\n",
    "print('y:', y_test_tfidf.shape, y_test_tfidf.dtype)"
   ]
  },
  {
   "cell_type": "code",
   "execution_count": 15,
   "metadata": {},
   "outputs": [
    {
     "name": "stdout",
     "output_type": "stream",
     "text": [
      "x: (1986, 1000) float64\n",
      "y: (1986,) int64\n"
     ]
    }
   ],
   "source": [
    "# Create X/y arrays\n",
    "x_val_tfidf = val_tfidf_features.item()\n",
    "y_val_tfidf = val_tfidf_labels\n",
    "\n",
    "print('x:', x_val_tfidf.shape, x_val_tfidf.dtype)\n",
    "print('y:', y_val_tfidf.shape, y_val_tfidf.dtype)"
   ]
  },
  {
   "cell_type": "markdown",
   "metadata": {},
   "source": [
    "Let's define the search space for grid search. I have tried wider intervals with a larger step between each value and then narrowed it down. After several iterations I found that the optimal value was in the following ranges. Here I am showing only the final selection of parameters since this is computationally very expensive."
   ]
  },
  {
   "cell_type": "code",
   "execution_count": 16,
   "metadata": {},
   "outputs": [],
   "source": [
    "SEARCH_SPACE = [\n",
    "  {\n",
    "    'classifier__max_depth': range(3,10,2),\n",
    "    'classifier__min_child_weight': range(1,6,2),\n",
    "    'classifier__colsample_bytree': [0.8, 0.9, 1],\n",
    "    'classifier__subsample': [0.8, 0.9, 1],\n",
    "    'classifier__eta': [.3, .2, .1],\n",
    "  }\n",
    "]"
   ]
  },
  {
   "cell_type": "code",
   "execution_count": 17,
   "metadata": {},
   "outputs": [],
   "source": [
    "pipeline = Pipeline(steps = [('sm', SMOTE(random_state = RANDOM_STATE)), ('classifier', xgb.XGBClassifier(objective = 'binary:logistic'))])"
   ]
  },
  {
   "cell_type": "code",
   "execution_count": 18,
   "metadata": {},
   "outputs": [],
   "source": [
    "SCORING = {'AUC': 'roc_auc', 'F1': 'f1'}"
   ]
  },
  {
   "cell_type": "code",
   "execution_count": 19,
   "metadata": {},
   "outputs": [],
   "source": [
    "gs = GridSearchCV(pipeline, SEARCH_SPACE, cv = 5, scoring=SCORING, refit = 'F1', return_train_score = True, verbose = True, n_jobs=-1)"
   ]
  },
  {
   "cell_type": "code",
   "execution_count": 20,
   "metadata": {},
   "outputs": [
    {
     "name": "stdout",
     "output_type": "stream",
     "text": [
      "Fitting 5 folds for each of 324 candidates, totalling 1620 fits\n"
     ]
    },
    {
     "name": "stderr",
     "output_type": "stream",
     "text": [
      "[Parallel(n_jobs=-1)]: Using backend LokyBackend with 4 concurrent workers.\n",
      "[Parallel(n_jobs=-1)]: Done  42 tasks      | elapsed:  2.0min\n",
      "[Parallel(n_jobs=-1)]: Done 192 tasks      | elapsed: 13.9min\n",
      "[Parallel(n_jobs=-1)]: Done 442 tasks      | elapsed: 29.6min\n",
      "[Parallel(n_jobs=-1)]: Done 792 tasks      | elapsed: 54.2min\n",
      "[Parallel(n_jobs=-1)]: Done 1242 tasks      | elapsed: 87.1min\n",
      "[Parallel(n_jobs=-1)]: Done 1620 out of 1620 | elapsed: 114.4min finished\n"
     ]
    },
    {
     "data": {
      "text/plain": [
       "GridSearchCV(cv=5,\n",
       "             estimator=Pipeline(steps=[('sm', SMOTE(random_state=12)),\n",
       "                                       ('classifier',\n",
       "                                        XGBClassifier(base_score=None,\n",
       "                                                      booster=None,\n",
       "                                                      colsample_bylevel=None,\n",
       "                                                      colsample_bynode=None,\n",
       "                                                      colsample_bytree=None,\n",
       "                                                      gamma=None, gpu_id=None,\n",
       "                                                      importance_type='gain',\n",
       "                                                      interaction_constraints=None,\n",
       "                                                      learning_rate=None,\n",
       "                                                      max_delta_step=None,\n",
       "                                                      max_depth=None,\n",
       "                                                      min_child_weight=None,\n",
       "                                                      m...\n",
       "                                                      tree_method=None,\n",
       "                                                      validate_parameters=None,\n",
       "                                                      verbosity=None))]),\n",
       "             n_jobs=-1,\n",
       "             param_grid=[{'classifier__colsample_bytree': [0.8, 0.9, 1],\n",
       "                          'classifier__eta': [0.3, 0.2, 0.1],\n",
       "                          'classifier__max_depth': range(3, 10, 2),\n",
       "                          'classifier__min_child_weight': range(1, 6, 2),\n",
       "                          'classifier__subsample': [0.8, 0.9, 1]}],\n",
       "             refit='F1', return_train_score=True,\n",
       "             scoring={'AUC': 'roc_auc', 'F1': 'f1'}, verbose=True)"
      ]
     },
     "execution_count": 20,
     "metadata": {},
     "output_type": "execute_result"
    }
   ],
   "source": [
    "gs.fit(x_train_tfidf, y_train_tfidf)"
   ]
  },
  {
   "cell_type": "markdown",
   "metadata": {},
   "source": [
    "Let’s have a look at the final list of tuned parameters."
   ]
  },
  {
   "cell_type": "code",
   "execution_count": 21,
   "metadata": {},
   "outputs": [
    {
     "name": "stdout",
     "output_type": "stream",
     "text": [
      "{'classifier__colsample_bytree': 0.8, 'classifier__eta': 0.2, 'classifier__max_depth': 3, 'classifier__min_child_weight': 1, 'classifier__subsample': 0.8}\n",
      "0.46799632651043205\n",
      "Pipeline(steps=[('sm', SMOTE(random_state=12)),\n",
      "                ('classifier',\n",
      "                 XGBClassifier(base_score=0.5, booster='gbtree',\n",
      "                               colsample_bylevel=1, colsample_bynode=1,\n",
      "                               colsample_bytree=0.8, eta=0.2, gamma=0,\n",
      "                               gpu_id=-1, importance_type='gain',\n",
      "                               interaction_constraints='',\n",
      "                               learning_rate=0.200000003, max_delta_step=0,\n",
      "                               max_depth=3, min_child_weight=1, missing=nan,\n",
      "                               monotone_constraints='()', n_estimators=100,\n",
      "                               n_jobs=0, num_parallel_tree=1, random_state=0,\n",
      "                               reg_alpha=0, reg_lambda=1, scale_pos_weight=1,\n",
      "                               subsample=0.8, tree_method='exact',\n",
      "                               validate_parameters=1, verbosity=None))])\n"
     ]
    }
   ],
   "source": [
    "print(gs.best_params_) \n",
    "print(gs.best_score_) \n",
    "print(gs.best_estimator_) "
   ]
  },
  {
   "cell_type": "code",
   "execution_count": 22,
   "metadata": {},
   "outputs": [],
   "source": [
    "PARAMETERS['max_depth'] = gs.best_params_['classifier__max_depth']\n",
    "PARAMETERS['min_child_weight'] = gs.best_params_['classifier__min_child_weight']\n",
    "PARAMETERS['subsample'] = gs.best_params_['classifier__subsample']\n",
    "PARAMETERS['colsample_bytree'] = gs.best_params_['classifier__colsample_bytree']\n",
    "PARAMETERS['eta'] = gs.best_params_['classifier__eta']"
   ]
  },
  {
   "cell_type": "code",
   "execution_count": 23,
   "metadata": {},
   "outputs": [
    {
     "data": {
      "text/plain": [
       "{'objective': 'binary:logistic',\n",
       " 'max_depth': 3,\n",
       " 'min_child_weight': 1,\n",
       " 'eta': 0.2,\n",
       " 'subsample': 0.8,\n",
       " 'colsample_bytree': 0.8}"
      ]
     },
     "execution_count": 23,
     "metadata": {},
     "output_type": "execute_result"
    }
   ],
   "source": [
    "PARAMETERS"
   ]
  },
  {
   "cell_type": "markdown",
   "metadata": {},
   "source": [
    "**DMatrices**\n",
    "\n",
    "Instead of numpy arrays or pandas data frames, XGBoost uses DMatrices. A DMatrix can contain both the features and the target. The data is already loaded into arrays, so I can use them to create the DMatrix. "
   ]
  },
  {
   "cell_type": "code",
   "execution_count": 24,
   "metadata": {},
   "outputs": [],
   "source": [
    "# transform the training dataset only\n",
    "sm = SMOTE(random_state = RANDOM_STATE)\n",
    "x_train_tfidf_sm, y_train_tfidf_sm = sm.fit_sample(x_train_tfidf, y_train_tfidf)"
   ]
  },
  {
   "cell_type": "code",
   "execution_count": 25,
   "metadata": {},
   "outputs": [],
   "source": [
    "# A DMatrix can contain both the features and the target.\n",
    "d_train_tfidf = xgb.DMatrix(x_train_tfidf_sm, label = y_train_tfidf_sm) \n",
    "d_test_tfidf = xgb.DMatrix(x_test_tfidf, label = y_test_tfidf) \n",
    "d_val_tfidf = xgb.DMatrix(x_val_tfidf, label = y_val_tfidf)\n",
    "watchlist_tfidf = [(d_train_tfidf, 'train'), (d_val_tfidf, 'val')]"
   ]
  },
  {
   "cell_type": "code",
   "execution_count": 26,
   "metadata": {},
   "outputs": [],
   "source": [
    "NUM_BOOST_ROUNDS = 1000\n",
    "EARLY_STOPPING_ROUNDS = 20"
   ]
  },
  {
   "cell_type": "markdown",
   "metadata": {},
   "source": [
    "Finally I can now use the parameters tuned in the previous steps in the xgboost model. I will set a very high num_boost_round and rely on early stopping to stop the model if its performance doesn’t improve in 20 rounds."
   ]
  },
  {
   "cell_type": "code",
   "execution_count": 27,
   "metadata": {},
   "outputs": [
    {
     "name": "stdout",
     "output_type": "stream",
     "text": [
      "[0]\ttrain-error:0.41499\tval-error:0.26939\ttrain-f1_score:0.33319\tval-f1_score:0.24965\n",
      "Multiple eval metrics have been passed: 'val-f1_score' will be used for early stopping.\n",
      "\n",
      "Will train until val-f1_score hasn't improved in 20 rounds.\n",
      "[1]\ttrain-error:0.36757\tval-error:0.32377\ttrain-f1_score:0.53797\tval-f1_score:0.39167\n",
      "[2]\ttrain-error:0.36695\tval-error:0.31974\ttrain-f1_score:0.53571\tval-f1_score:0.39466\n",
      "[3]\ttrain-error:0.35819\tval-error:0.30765\ttrain-f1_score:0.54775\tval-f1_score:0.40622\n",
      "[4]\ttrain-error:0.35810\tval-error:0.31118\ttrain-f1_score:0.54942\tval-f1_score:0.40116\n",
      "[5]\ttrain-error:0.35757\tval-error:0.31470\ttrain-f1_score:0.55069\tval-f1_score:0.40191\n",
      "[6]\ttrain-error:0.34156\tval-error:0.31722\ttrain-f1_score:0.58219\tval-f1_score:0.40678\n",
      "[7]\ttrain-error:0.33554\tval-error:0.31521\ttrain-f1_score:0.59385\tval-f1_score:0.40943\n",
      "[8]\ttrain-error:0.33156\tval-error:0.31370\ttrain-f1_score:0.59820\tval-f1_score:0.41060\n",
      "[9]\ttrain-error:0.32413\tval-error:0.31672\ttrain-f1_score:0.61013\tval-f1_score:0.40604\n",
      "[10]\ttrain-error:0.32369\tval-error:0.31168\ttrain-f1_score:0.60490\tval-f1_score:0.39492\n",
      "[11]\ttrain-error:0.32210\tval-error:0.31067\ttrain-f1_score:0.60735\tval-f1_score:0.39450\n",
      "[12]\ttrain-error:0.32006\tval-error:0.31168\ttrain-f1_score:0.61130\tval-f1_score:0.39373\n",
      "[13]\ttrain-error:0.31909\tval-error:0.30916\ttrain-f1_score:0.61360\tval-f1_score:0.39804\n",
      "[14]\ttrain-error:0.31431\tval-error:0.30715\ttrain-f1_score:0.62407\tval-f1_score:0.41346\n",
      "[15]\ttrain-error:0.30874\tval-error:0.30715\ttrain-f1_score:0.63684\tval-f1_score:0.42015\n",
      "[16]\ttrain-error:0.30025\tval-error:0.30614\ttrain-f1_score:0.64960\tval-f1_score:0.41874\n",
      "[17]\ttrain-error:0.29892\tval-error:0.30765\ttrain-f1_score:0.65111\tval-f1_score:0.41419\n",
      "[18]\ttrain-error:0.29821\tval-error:0.31118\ttrain-f1_score:0.65107\tval-f1_score:0.41030\n",
      "[19]\ttrain-error:0.29786\tval-error:0.31067\ttrain-f1_score:0.65242\tval-f1_score:0.41406\n",
      "[20]\ttrain-error:0.29211\tval-error:0.30715\ttrain-f1_score:0.66265\tval-f1_score:0.42777\n",
      "[21]\ttrain-error:0.29122\tval-error:0.35599\ttrain-f1_score:0.70738\tval-f1_score:0.47120\n",
      "[22]\ttrain-error:0.29220\tval-error:0.30765\ttrain-f1_score:0.66286\tval-f1_score:0.42413\n",
      "[23]\ttrain-error:0.29087\tval-error:0.35448\ttrain-f1_score:0.70638\tval-f1_score:0.46423\n",
      "[24]\ttrain-error:0.28937\tval-error:0.35347\ttrain-f1_score:0.70782\tval-f1_score:0.46494\n",
      "[25]\ttrain-error:0.28733\tval-error:0.35196\ttrain-f1_score:0.70880\tval-f1_score:0.46519\n",
      "[26]\ttrain-error:0.28539\tval-error:0.34995\ttrain-f1_score:0.70994\tval-f1_score:0.46580\n",
      "[27]\ttrain-error:0.28530\tval-error:0.34743\ttrain-f1_score:0.70917\tval-f1_score:0.46512\n",
      "[28]\ttrain-error:0.28521\tval-error:0.34844\ttrain-f1_score:0.70929\tval-f1_score:0.46106\n",
      "[29]\ttrain-error:0.28238\tval-error:0.34491\ttrain-f1_score:0.71160\tval-f1_score:0.46693\n",
      "[30]\ttrain-error:0.28185\tval-error:0.34491\ttrain-f1_score:0.71209\tval-f1_score:0.46609\n",
      "[31]\ttrain-error:0.28132\tval-error:0.34542\ttrain-f1_score:0.71227\tval-f1_score:0.46490\n",
      "[32]\ttrain-error:0.28008\tval-error:0.34340\ttrain-f1_score:0.71307\tval-f1_score:0.46299\n",
      "[33]\ttrain-error:0.27964\tval-error:0.34089\ttrain-f1_score:0.71329\tval-f1_score:0.46567\n",
      "[34]\ttrain-error:0.27866\tval-error:0.34139\ttrain-f1_score:0.71369\tval-f1_score:0.46361\n",
      "[35]\ttrain-error:0.27663\tval-error:0.34089\ttrain-f1_score:0.71622\tval-f1_score:0.46398\n",
      "[36]\ttrain-error:0.27159\tval-error:0.34089\ttrain-f1_score:0.72086\tval-f1_score:0.46482\n",
      "[37]\ttrain-error:0.27061\tval-error:0.33787\ttrain-f1_score:0.72254\tval-f1_score:0.47207\n",
      "[38]\ttrain-error:0.26805\tval-error:0.33635\ttrain-f1_score:0.72430\tval-f1_score:0.47319\n",
      "[39]\ttrain-error:0.26407\tval-error:0.33132\ttrain-f1_score:0.72777\tval-f1_score:0.47276\n",
      "[40]\ttrain-error:0.25973\tval-error:0.32477\ttrain-f1_score:0.73109\tval-f1_score:0.47773\n",
      "[41]\ttrain-error:0.25982\tval-error:0.32679\ttrain-f1_score:0.73008\tval-f1_score:0.47364\n",
      "[42]\ttrain-error:0.25849\tval-error:0.32578\ttrain-f1_score:0.73129\tval-f1_score:0.47270\n",
      "[43]\ttrain-error:0.25885\tval-error:0.32679\ttrain-f1_score:0.73156\tval-f1_score:0.47193\n",
      "[44]\ttrain-error:0.25717\tval-error:0.32578\ttrain-f1_score:0.73391\tval-f1_score:0.47780\n",
      "[45]\ttrain-error:0.25557\tval-error:0.32276\ttrain-f1_score:0.73571\tval-f1_score:0.48181\n",
      "[46]\ttrain-error:0.25531\tval-error:0.32477\ttrain-f1_score:0.73663\tval-f1_score:0.48109\n",
      "[47]\ttrain-error:0.25469\tval-error:0.32427\ttrain-f1_score:0.73729\tval-f1_score:0.48231\n",
      "[48]\ttrain-error:0.25433\tval-error:0.32175\ttrain-f1_score:0.73747\tval-f1_score:0.48509\n",
      "[49]\ttrain-error:0.25336\tval-error:0.31974\ttrain-f1_score:0.73835\tval-f1_score:0.48666\n",
      "[50]\ttrain-error:0.25265\tval-error:0.32075\ttrain-f1_score:0.73913\tval-f1_score:0.48504\n",
      "[51]\ttrain-error:0.25318\tval-error:0.32226\ttrain-f1_score:0.73782\tval-f1_score:0.48052\n",
      "[52]\ttrain-error:0.25248\tval-error:0.32125\ttrain-f1_score:0.73773\tval-f1_score:0.47876\n",
      "[53]\ttrain-error:0.25186\tval-error:0.32175\ttrain-f1_score:0.73883\tval-f1_score:0.47922\n",
      "[54]\ttrain-error:0.25159\tval-error:0.32276\ttrain-f1_score:0.73975\tval-f1_score:0.48265\n",
      "[55]\ttrain-error:0.25159\tval-error:0.32326\ttrain-f1_score:0.73994\tval-f1_score:0.48142\n",
      "[56]\ttrain-error:0.25318\tval-error:0.32628\ttrain-f1_score:0.73977\tval-f1_score:0.48408\n",
      "[57]\ttrain-error:0.25274\tval-error:0.32729\ttrain-f1_score:0.74030\tval-f1_score:0.48248\n",
      "[58]\ttrain-error:0.25239\tval-error:0.32780\ttrain-f1_score:0.74066\tval-f1_score:0.48045\n",
      "[59]\ttrain-error:0.25168\tval-error:0.32830\ttrain-f1_score:0.74176\tval-f1_score:0.48089\n",
      "[60]\ttrain-error:0.25115\tval-error:0.32780\ttrain-f1_score:0.74198\tval-f1_score:0.47962\n",
      "[61]\ttrain-error:0.25089\tval-error:0.32780\ttrain-f1_score:0.74218\tval-f1_score:0.47878\n",
      "[62]\ttrain-error:0.24974\tval-error:0.32679\ttrain-f1_score:0.74320\tval-f1_score:0.47955\n",
      "[63]\ttrain-error:0.24841\tval-error:0.32679\ttrain-f1_score:0.74459\tval-f1_score:0.47872\n",
      "[64]\ttrain-error:0.24690\tval-error:0.32528\ttrain-f1_score:0.74574\tval-f1_score:0.48071\n",
      "[65]\ttrain-error:0.24673\tval-error:0.32628\ttrain-f1_score:0.74588\tval-f1_score:0.47742\n",
      "[66]\ttrain-error:0.24460\tval-error:0.32276\ttrain-f1_score:0.74710\tval-f1_score:0.47759\n",
      "[67]\ttrain-error:0.24443\tval-error:0.32326\ttrain-f1_score:0.74742\tval-f1_score:0.47549\n",
      "[68]\ttrain-error:0.24398\tval-error:0.32377\ttrain-f1_score:0.74831\tval-f1_score:0.47510\n",
      "[69]\ttrain-error:0.24292\tval-error:0.32276\ttrain-f1_score:0.74968\tval-f1_score:0.47588\n",
      "Stopping. Best iteration:\n",
      "[49]\ttrain-error:0.25336\tval-error:0.31974\ttrain-f1_score:0.73835\tval-f1_score:0.48666\n",
      "\n"
     ]
    }
   ],
   "source": [
    "xgb_model = xgb.train(\n",
    "    PARAMETERS,\n",
    "    d_train_tfidf,\n",
    "    feval = custom_f1_score,\n",
    "    num_boost_round = NUM_BOOST_ROUNDS,\n",
    "    maximize = True,\n",
    "    evals = watchlist_tfidf,\n",
    "    early_stopping_rounds = EARLY_STOPPING_ROUNDS, \n",
    "    verbose_eval = True)"
   ]
  },
  {
   "cell_type": "code",
   "execution_count": 28,
   "metadata": {},
   "outputs": [],
   "source": [
    "# XGBoost returns probabilities by default.\n",
    "y_probas_train_tfidf = xgb_model.predict(d_train_tfidf)\n",
    "y_probas_test_tfidf = xgb_model.predict(d_test_tfidf)"
   ]
  },
  {
   "cell_type": "code",
   "execution_count": 29,
   "metadata": {},
   "outputs": [],
   "source": [
    "y_pred_test_tfidf = np.round(y_probas_test_tfidf)"
   ]
  },
  {
   "cell_type": "code",
   "execution_count": 30,
   "metadata": {},
   "outputs": [
    {
     "data": {
      "text/plain": [
       "array([[588, 197],\n",
       "       [158, 161]])"
      ]
     },
     "execution_count": 30,
     "metadata": {},
     "output_type": "execute_result"
    }
   ],
   "source": [
    "cnf_matrix = metrics.confusion_matrix(y_test_tfidf, y_pred_test_tfidf)\n",
    "cnf_matrix"
   ]
  },
  {
   "cell_type": "code",
   "execution_count": 31,
   "metadata": {},
   "outputs": [
    {
     "name": "stdout",
     "output_type": "stream",
     "text": [
      "True Negatives:  588\n",
      "False Positives:  197\n",
      "False Negatives:  158\n",
      "True Positives:  161\n"
     ]
    },
    {
     "data": {
      "image/png": "[encoded data removed]",
      "text/plain": [
       "<Figure size 360x360 with 2 Axes>"
      ]
     },
     "metadata": {
      "needs_background": "light"
     },
     "output_type": "display_data"
    }
   ],
   "source": [
    "plot_cfm(y_test_tfidf, y_pred_test_tfidf)"
   ]
  },
  {
   "cell_type": "code",
   "execution_count": 32,
   "metadata": {},
   "outputs": [
    {
     "name": "stdout",
     "output_type": "stream",
     "text": [
      "              precision    recall  f1-score   support\n",
      "\n",
      "           0       0.79      0.75      0.77       785\n",
      "           1       0.45      0.50      0.48       319\n",
      "\n",
      "    accuracy                           0.68      1104\n",
      "   macro avg       0.62      0.63      0.62      1104\n",
      "weighted avg       0.69      0.68      0.68      1104\n",
      "\n"
     ]
    }
   ],
   "source": [
    "print(classification_report(y_test_tfidf, y_pred_test_tfidf))"
   ]
  },
  {
   "cell_type": "markdown",
   "metadata": {},
   "source": [
    "GridSearchCV find different parameters than my manual tuning of the hyperparameters. Although the end results aren't any different, this configuration of the model achieves better precision and recall for the minority class with 161 samples predicted correctly."
   ]
  },
  {
   "cell_type": "code",
   "execution_count": 33,
   "metadata": {},
   "outputs": [
    {
     "name": "stdout",
     "output_type": "stream",
     "text": [
      "TFDIF F1: 0.684\n"
     ]
    }
   ],
   "source": [
    "f1_tfidf = f1_score(y_test_tfidf, y_pred_test_tfidf, average = 'weighted')\n",
    "print('TFDIF F1: %.3f' % f1_tfidf)"
   ]
  },
  {
   "cell_type": "code",
   "execution_count": 34,
   "metadata": {},
   "outputs": [
    {
     "name": "stdout",
     "output_type": "stream",
     "text": [
      "TFIDF AUC: 0.683\n"
     ]
    }
   ],
   "source": [
    "auc_tfidf = roc_auc_score(y_test_tfidf, y_probas_test_tfidf)\n",
    "print('TFIDF AUC: %.3f' % auc_tfidf)"
   ]
  },
  {
   "cell_type": "code",
   "execution_count": 35,
   "metadata": {},
   "outputs": [
    {
     "data": {
      "image/png": "[encoded data removed]",
      "text/plain": [
       "<Figure size 864x720 with 1 Axes>"
      ]
     },
     "metadata": {
      "needs_background": "light"
     },
     "output_type": "display_data"
    }
   ],
   "source": [
    "plot_roc(\"Train TFIDF\", y_train_tfidf_sm, y_probas_train_tfidf, color = colors[0])\n",
    "plot_roc(\"Test TFIDF\", y_test_tfidf, y_probas_test_tfidf, color = colors[0], linestyle = '--')"
   ]
  },
  {
   "cell_type": "markdown",
   "metadata": {},
   "source": [
    "***\n",
    "\n",
    "**Word2Vec**\n",
    "\n",
    "***"
   ]
  },
  {
   "cell_type": "code",
   "execution_count": 36,
   "metadata": {},
   "outputs": [],
   "source": [
    "w2v_features = np.load('w2v_features.npy', allow_pickle=True)"
   ]
  },
  {
   "cell_type": "code",
   "execution_count": 37,
   "metadata": {},
   "outputs": [
    {
     "name": "stdout",
     "output_type": "stream",
     "text": [
      "x: (11033, 100) float64\n",
      "y: (11033,) int64\n"
     ]
    }
   ],
   "source": [
    "# Create X/y arrays\n",
    "comments_w2v = w2v_features\n",
    "labels_w2v = labels\n",
    "print('x:', comments_w2v.shape, comments_w2v.dtype) \n",
    "print('y:', labels_w2v.shape, labels_w2v.dtype)"
   ]
  },
  {
   "cell_type": "code",
   "execution_count": 38,
   "metadata": {},
   "outputs": [],
   "source": [
    "x_train_val_w2v, x_test_w2v, y_train_val_w2v, y_test_w2v = train_test_split(comments_w2v, labels_w2v,\n",
    "                                                  test_size = TRAIN_TEST_SPLIT_SIZE, stratify = labels_w2v,\n",
    "                                                  random_state = RANDOM_STATE)"
   ]
  },
  {
   "cell_type": "code",
   "execution_count": 39,
   "metadata": {},
   "outputs": [],
   "source": [
    "x_train_w2v, x_val_w2v, y_train_w2v, y_val_w2v = train_test_split(x_train_val_w2v, y_train_val_w2v,\n",
    "                                                  test_size = VALIDATION_SPLIT_SIZE, stratify = y_train_val_w2v,\n",
    "                                                  random_state = RANDOM_STATE)"
   ]
  },
  {
   "cell_type": "code",
   "execution_count": 40,
   "metadata": {},
   "outputs": [],
   "source": [
    "gs = GridSearchCV(pipeline, SEARCH_SPACE, cv = 5, scoring = SCORING, refit = 'F1', return_train_score = True, verbose = True, n_jobs = -1)"
   ]
  },
  {
   "cell_type": "code",
   "execution_count": 41,
   "metadata": {},
   "outputs": [
    {
     "name": "stdout",
     "output_type": "stream",
     "text": [
      "Fitting 5 folds for each of 324 candidates, totalling 1620 fits\n"
     ]
    },
    {
     "name": "stderr",
     "output_type": "stream",
     "text": [
      "[Parallel(n_jobs=-1)]: Using backend LokyBackend with 4 concurrent workers.\n",
      "[Parallel(n_jobs=-1)]: Done  42 tasks      | elapsed:  1.9min\n",
      "[Parallel(n_jobs=-1)]: Done 192 tasks      | elapsed: 14.8min\n",
      "[Parallel(n_jobs=-1)]: Done 442 tasks      | elapsed: 33.2min\n",
      "[Parallel(n_jobs=-1)]: Done 792 tasks      | elapsed: 63.2min\n",
      "[Parallel(n_jobs=-1)]: Done 1242 tasks      | elapsed: 106.0min\n",
      "[Parallel(n_jobs=-1)]: Done 1620 out of 1620 | elapsed: 143.2min finished\n"
     ]
    },
    {
     "data": {
      "text/plain": [
       "GridSearchCV(cv=5,\n",
       "             estimator=Pipeline(steps=[('sm', SMOTE(random_state=12)),\n",
       "                                       ('classifier',\n",
       "                                        XGBClassifier(base_score=None,\n",
       "                                                      booster=None,\n",
       "                                                      colsample_bylevel=None,\n",
       "                                                      colsample_bynode=None,\n",
       "                                                      colsample_bytree=None,\n",
       "                                                      gamma=None, gpu_id=None,\n",
       "                                                      importance_type='gain',\n",
       "                                                      interaction_constraints=None,\n",
       "                                                      learning_rate=None,\n",
       "                                                      max_delta_step=None,\n",
       "                                                      max_depth=None,\n",
       "                                                      min_child_weight=None,\n",
       "                                                      m...\n",
       "                                                      tree_method=None,\n",
       "                                                      validate_parameters=None,\n",
       "                                                      verbosity=None))]),\n",
       "             n_jobs=-1,\n",
       "             param_grid=[{'classifier__colsample_bytree': [0.8, 0.9, 1],\n",
       "                          'classifier__eta': [0.3, 0.2, 0.1],\n",
       "                          'classifier__max_depth': range(3, 10, 2),\n",
       "                          'classifier__min_child_weight': range(1, 6, 2),\n",
       "                          'classifier__subsample': [0.8, 0.9, 1]}],\n",
       "             refit='F1', return_train_score=True,\n",
       "             scoring={'AUC': 'roc_auc', 'F1': 'f1'}, verbose=True)"
      ]
     },
     "execution_count": 41,
     "metadata": {},
     "output_type": "execute_result"
    }
   ],
   "source": [
    "gs.fit(x_train_w2v, y_train_w2v)"
   ]
  },
  {
   "cell_type": "code",
   "execution_count": 42,
   "metadata": {},
   "outputs": [
    {
     "name": "stdout",
     "output_type": "stream",
     "text": [
      "{'classifier__colsample_bytree': 0.8, 'classifier__eta': 0.1, 'classifier__max_depth': 3, 'classifier__min_child_weight': 3, 'classifier__subsample': 0.9}\n",
      "0.48372357829674417\n",
      "Pipeline(steps=[('sm', SMOTE(random_state=12)),\n",
      "                ('classifier',\n",
      "                 XGBClassifier(base_score=0.5, booster='gbtree',\n",
      "                               colsample_bylevel=1, colsample_bynode=1,\n",
      "                               colsample_bytree=0.8, eta=0.1, gamma=0,\n",
      "                               gpu_id=-1, importance_type='gain',\n",
      "                               interaction_constraints='',\n",
      "                               learning_rate=0.100000001, max_delta_step=0,\n",
      "                               max_depth=3, min_child_weight=3, missing=nan,\n",
      "                               monotone_constraints='()', n_estimators=100,\n",
      "                               n_jobs=0, num_parallel_tree=1, random_state=0,\n",
      "                               reg_alpha=0, reg_lambda=1, scale_pos_weight=1,\n",
      "                               subsample=0.9, tree_method='exact',\n",
      "                               validate_parameters=1, verbosity=None))])\n"
     ]
    }
   ],
   "source": [
    "print(gs.best_params_) \n",
    "print(gs.best_score_) \n",
    "print(gs.best_estimator_) "
   ]
  },
  {
   "cell_type": "code",
   "execution_count": 43,
   "metadata": {},
   "outputs": [],
   "source": [
    "PARAMETERS['max_depth'] = gs.best_params_['classifier__max_depth']\n",
    "PARAMETERS['min_child_weight'] = gs.best_params_['classifier__min_child_weight']\n",
    "PARAMETERS['subsample'] = gs.best_params_['classifier__subsample']\n",
    "PARAMETERS['colsample_bytree'] = gs.best_params_['classifier__colsample_bytree']\n",
    "PARAMETERS['eta'] = gs.best_params_['classifier__eta']"
   ]
  },
  {
   "cell_type": "code",
   "execution_count": 44,
   "metadata": {},
   "outputs": [],
   "source": [
    "# transform the training dataset only\n",
    "sm = SMOTE(random_state = RANDOM_STATE)\n",
    "x_train_w2v_sm, y_train_w2v_sm = sm.fit_sample(x_train_w2v, y_train_w2v)"
   ]
  },
  {
   "cell_type": "code",
   "execution_count": 45,
   "metadata": {},
   "outputs": [],
   "source": [
    "# A DMatrix can contain both the features and the target.\n",
    "d_train_w2v = xgb.DMatrix(x_train_w2v_sm, label = y_train_w2v_sm) \n",
    "d_val_w2v = xgb.DMatrix(x_val_w2v, label = y_val_w2v)\n",
    "d_test_w2v = xgb.DMatrix(x_test_w2v, label = y_test_w2v)\n",
    "watchlist_w2v = [(d_train_w2v, 'train'), (d_val_w2v, 'val')]"
   ]
  },
  {
   "cell_type": "code",
   "execution_count": 46,
   "metadata": {},
   "outputs": [
    {
     "name": "stdout",
     "output_type": "stream",
     "text": [
      "[0]\ttrain-error:0.37376\tval-error:0.35448\ttrain-f1_score:0.60833\tval-f1_score:0.47852\n",
      "Multiple eval metrics have been passed: 'val-f1_score' will be used for early stopping.\n",
      "\n",
      "Will train until val-f1_score hasn't improved in 20 rounds.\n",
      "[1]\ttrain-error:0.34191\tval-error:0.33736\ttrain-f1_score:0.63389\tval-f1_score:0.48933\n",
      "[2]\ttrain-error:0.34581\tval-error:0.34038\ttrain-f1_score:0.62740\tval-f1_score:0.48080\n",
      "[3]\ttrain-error:0.33183\tval-error:0.32326\ttrain-f1_score:0.64482\tval-f1_score:0.50233\n",
      "[4]\ttrain-error:0.32944\tval-error:0.32880\ttrain-f1_score:0.64954\tval-f1_score:0.50191\n",
      "[5]\ttrain-error:0.32758\tval-error:0.33182\ttrain-f1_score:0.65589\tval-f1_score:0.50488\n",
      "[6]\ttrain-error:0.32351\tval-error:0.33484\ttrain-f1_score:0.66261\tval-f1_score:0.50113\n",
      "[7]\ttrain-error:0.32086\tval-error:0.33837\ttrain-f1_score:0.66661\tval-f1_score:0.49926\n",
      "[8]\ttrain-error:0.32086\tval-error:0.32981\ttrain-f1_score:0.66593\tval-f1_score:0.50863\n",
      "[9]\ttrain-error:0.32077\tval-error:0.33384\ttrain-f1_score:0.66581\tval-f1_score:0.50263\n",
      "[10]\ttrain-error:0.31396\tval-error:0.32880\ttrain-f1_score:0.67257\tval-f1_score:0.50643\n",
      "[11]\ttrain-error:0.31414\tval-error:0.32880\ttrain-f1_score:0.67214\tval-f1_score:0.49962\n",
      "[12]\ttrain-error:0.31033\tval-error:0.32628\ttrain-f1_score:0.67597\tval-f1_score:0.50383\n",
      "[13]\ttrain-error:0.30609\tval-error:0.32477\ttrain-f1_score:0.68075\tval-f1_score:0.50801\n",
      "[14]\ttrain-error:0.30688\tval-error:0.32377\ttrain-f1_score:0.67924\tval-f1_score:0.51103\n",
      "[15]\ttrain-error:0.30325\tval-error:0.32729\ttrain-f1_score:0.68371\tval-f1_score:0.50683\n",
      "[16]\ttrain-error:0.30166\tval-error:0.33082\ttrain-f1_score:0.68658\tval-f1_score:0.49962\n",
      "[17]\ttrain-error:0.29972\tval-error:0.33031\ttrain-f1_score:0.68722\tval-f1_score:0.50152\n",
      "[18]\ttrain-error:0.29857\tval-error:0.32981\ttrain-f1_score:0.68960\tval-f1_score:0.50114\n",
      "[19]\ttrain-error:0.29857\tval-error:0.33132\ttrain-f1_score:0.68994\tval-f1_score:0.50076\n",
      "[20]\ttrain-error:0.29821\tval-error:0.33384\ttrain-f1_score:0.69031\tval-f1_score:0.49658\n",
      "[21]\ttrain-error:0.29512\tval-error:0.32880\ttrain-f1_score:0.69293\tval-f1_score:0.50191\n",
      "[22]\ttrain-error:0.29503\tval-error:0.32679\ttrain-f1_score:0.69288\tval-f1_score:0.50420\n",
      "[23]\ttrain-error:0.29273\tval-error:0.32427\ttrain-f1_score:0.69516\tval-f1_score:0.50689\n",
      "[24]\ttrain-error:0.29220\tval-error:0.32377\ttrain-f1_score:0.69544\tval-f1_score:0.50424\n",
      "[25]\ttrain-error:0.29105\tval-error:0.32326\ttrain-f1_score:0.69767\tval-f1_score:0.50842\n",
      "[26]\ttrain-error:0.29034\tval-error:0.32427\ttrain-f1_score:0.69846\tval-f1_score:0.50538\n",
      "[27]\ttrain-error:0.28972\tval-error:0.32578\ttrain-f1_score:0.69957\tval-f1_score:0.50269\n",
      "[28]\ttrain-error:0.28724\tval-error:0.32528\ttrain-f1_score:0.70126\tval-f1_score:0.50077\n",
      "[29]\ttrain-error:0.28769\tval-error:0.32125\ttrain-f1_score:0.70011\tval-f1_score:0.50389\n",
      "[30]\ttrain-error:0.28804\tval-error:0.32175\ttrain-f1_score:0.70002\tval-f1_score:0.50656\n",
      "[31]\ttrain-error:0.28521\tval-error:0.31923\ttrain-f1_score:0.70330\tval-f1_score:0.51005\n",
      "[32]\ttrain-error:0.28494\tval-error:0.32024\ttrain-f1_score:0.70256\tval-f1_score:0.50774\n",
      "[33]\ttrain-error:0.28521\tval-error:0.32175\ttrain-f1_score:0.70225\tval-f1_score:0.50733\n",
      "[34]\ttrain-error:0.28450\tval-error:0.32377\ttrain-f1_score:0.70294\tval-f1_score:0.50194\n",
      "Stopping. Best iteration:\n",
      "[14]\ttrain-error:0.30688\tval-error:0.32377\ttrain-f1_score:0.67924\tval-f1_score:0.51103\n",
      "\n"
     ]
    }
   ],
   "source": [
    "xgb_model = xgb.train(\n",
    "    PARAMETERS,\n",
    "    d_train_w2v,\n",
    "    feval = custom_f1_score,\n",
    "    num_boost_round = NUM_BOOST_ROUNDS,\n",
    "    maximize = True,\n",
    "    evals = watchlist_w2v,\n",
    "    early_stopping_rounds = EARLY_STOPPING_ROUNDS, \n",
    "    verbose_eval = True)"
   ]
  },
  {
   "cell_type": "code",
   "execution_count": 47,
   "metadata": {},
   "outputs": [],
   "source": [
    "y_probas_train_w2v = xgb_model.predict(d_train_w2v)\n",
    "y_probas_test_w2v = xgb_model.predict(d_test_w2v)"
   ]
  },
  {
   "cell_type": "code",
   "execution_count": 48,
   "metadata": {},
   "outputs": [],
   "source": [
    "y_pred_test_w2v = np.round(y_probas_test_w2v)"
   ]
  },
  {
   "cell_type": "code",
   "execution_count": 49,
   "metadata": {},
   "outputs": [
    {
     "data": {
      "text/plain": [
       "array([[563, 222],\n",
       "       [159, 160]])"
      ]
     },
     "execution_count": 49,
     "metadata": {},
     "output_type": "execute_result"
    }
   ],
   "source": [
    "cnf_matrix = metrics.confusion_matrix(y_test_w2v, y_pred_test_w2v)\n",
    "cnf_matrix"
   ]
  },
  {
   "cell_type": "code",
   "execution_count": 50,
   "metadata": {},
   "outputs": [
    {
     "name": "stdout",
     "output_type": "stream",
     "text": [
      "True Negatives:  563\n",
      "False Positives:  222\n",
      "False Negatives:  159\n",
      "True Positives:  160\n"
     ]
    },
    {
     "data": {
      "image/png": "[encoded data removed]",
      "text/plain": [
       "<Figure size 360x360 with 2 Axes>"
      ]
     },
     "metadata": {
      "needs_background": "light"
     },
     "output_type": "display_data"
    }
   ],
   "source": [
    "plot_cfm(y_test_w2v, y_pred_test_w2v)"
   ]
  },
  {
   "cell_type": "code",
   "execution_count": 51,
   "metadata": {},
   "outputs": [
    {
     "name": "stdout",
     "output_type": "stream",
     "text": [
      "              precision    recall  f1-score   support\n",
      "\n",
      "           0       0.78      0.72      0.75       785\n",
      "           1       0.42      0.50      0.46       319\n",
      "\n",
      "    accuracy                           0.65      1104\n",
      "   macro avg       0.60      0.61      0.60      1104\n",
      "weighted avg       0.68      0.65      0.66      1104\n",
      "\n"
     ]
    }
   ],
   "source": [
    "print(classification_report(y_test_w2v, y_pred_test_w2v))"
   ]
  },
  {
   "cell_type": "code",
   "execution_count": 52,
   "metadata": {},
   "outputs": [
    {
     "name": "stdout",
     "output_type": "stream",
     "text": [
      "W2V F1: 0.663\n"
     ]
    }
   ],
   "source": [
    "f1_w2v = f1_score(y_test_w2v, y_pred_test_w2v, average = 'weighted')\n",
    "print('W2V F1: %.3f' % f1_w2v)"
   ]
  },
  {
   "cell_type": "code",
   "execution_count": 53,
   "metadata": {},
   "outputs": [
    {
     "name": "stdout",
     "output_type": "stream",
     "text": [
      "W2V AUC: 0.685\n"
     ]
    }
   ],
   "source": [
    "auc_w2v = roc_auc_score(y_test_w2v, y_probas_test_w2v)\n",
    "print('W2V AUC: %.3f' % auc_w2v)"
   ]
  },
  {
   "cell_type": "code",
   "execution_count": 54,
   "metadata": {},
   "outputs": [
    {
     "data": {
      "image/png": "[encoded data removed]",
      "text/plain": [
       "<Figure size 864x720 with 1 Axes>"
      ]
     },
     "metadata": {
      "needs_background": "light"
     },
     "output_type": "display_data"
    }
   ],
   "source": [
    "plot_roc(\"Train W2V\", y_train_w2v_sm, y_probas_train_w2v, color = colors[0])\n",
    "plot_roc(\"Test W2V\", y_test_w2v, y_probas_test_w2v, color = colors[0], linestyle='--')"
   ]
  },
  {
   "cell_type": "markdown",
   "metadata": {},
   "source": [
    "***\n",
    "\n",
    "**Glove/FastText Embeddings**\n",
    "\n",
    "***"
   ]
  },
  {
   "cell_type": "code",
   "execution_count": 55,
   "metadata": {},
   "outputs": [],
   "source": [
    "gft_features = np.load('gloveft_features.npy', allow_pickle=True)"
   ]
  },
  {
   "cell_type": "code",
   "execution_count": 56,
   "metadata": {},
   "outputs": [
    {
     "name": "stdout",
     "output_type": "stream",
     "text": [
      "x: (11033, 100) float64\n",
      "y: (11033,) int64\n"
     ]
    }
   ],
   "source": [
    "# Create X/y arrays\n",
    "comments_gft = gft_features\n",
    "labels_gft = labels\n",
    "print('x:', comments_gft.shape, comments_gft.dtype) \n",
    "print('y:', labels_gft.shape, labels_gft.dtype)"
   ]
  },
  {
   "cell_type": "code",
   "execution_count": 57,
   "metadata": {},
   "outputs": [],
   "source": [
    "x_train_val_gft, x_test_gft, y_train_val_gft, y_test_gft = train_test_split(comments_gft, labels_gft,\n",
    "                                                  test_size = TRAIN_TEST_SPLIT_SIZE, stratify = labels_gft,\n",
    "                                                  random_state = RANDOM_STATE)"
   ]
  },
  {
   "cell_type": "code",
   "execution_count": 58,
   "metadata": {},
   "outputs": [],
   "source": [
    "x_train_gft, x_val_gft, y_train_gft, y_val_gft = train_test_split(x_train_val_gft, y_train_val_gft,\n",
    "                                                  test_size = VALIDATION_SPLIT_SIZE, stratify = y_train_val_gft,\n",
    "                                                  random_state = RANDOM_STATE)"
   ]
  },
  {
   "cell_type": "code",
   "execution_count": 59,
   "metadata": {},
   "outputs": [],
   "source": [
    "gs = GridSearchCV(pipeline, SEARCH_SPACE, cv = 5, scoring = SCORING, refit = 'F1', return_train_score = True, verbose = True, n_jobs = -1)"
   ]
  },
  {
   "cell_type": "code",
   "execution_count": 60,
   "metadata": {},
   "outputs": [
    {
     "name": "stdout",
     "output_type": "stream",
     "text": [
      "Fitting 5 folds for each of 324 candidates, totalling 1620 fits\n"
     ]
    },
    {
     "name": "stderr",
     "output_type": "stream",
     "text": [
      "[Parallel(n_jobs=-1)]: Using backend LokyBackend with 4 concurrent workers.\n",
      "[Parallel(n_jobs=-1)]: Done  42 tasks      | elapsed:  1.9min\n",
      "[Parallel(n_jobs=-1)]: Done 192 tasks      | elapsed: 14.6min\n",
      "[Parallel(n_jobs=-1)]: Done 442 tasks      | elapsed: 32.8min\n",
      "[Parallel(n_jobs=-1)]: Done 792 tasks      | elapsed: 298.2min\n",
      "[Parallel(n_jobs=-1)]: Done 1242 tasks      | elapsed: 372.0min\n",
      "[Parallel(n_jobs=-1)]: Done 1620 out of 1620 | elapsed: 412.2min finished\n"
     ]
    },
    {
     "data": {
      "text/plain": [
       "GridSearchCV(cv=5,\n",
       "             estimator=Pipeline(steps=[('sm', SMOTE(random_state=12)),\n",
       "                                       ('classifier',\n",
       "                                        XGBClassifier(base_score=None,\n",
       "                                                      booster=None,\n",
       "                                                      colsample_bylevel=None,\n",
       "                                                      colsample_bynode=None,\n",
       "                                                      colsample_bytree=None,\n",
       "                                                      gamma=None, gpu_id=None,\n",
       "                                                      importance_type='gain',\n",
       "                                                      interaction_constraints=None,\n",
       "                                                      learning_rate=None,\n",
       "                                                      max_delta_step=None,\n",
       "                                                      max_depth=None,\n",
       "                                                      min_child_weight=None,\n",
       "                                                      m...\n",
       "                                                      tree_method=None,\n",
       "                                                      validate_parameters=None,\n",
       "                                                      verbosity=None))]),\n",
       "             n_jobs=-1,\n",
       "             param_grid=[{'classifier__colsample_bytree': [0.8, 0.9, 1],\n",
       "                          'classifier__eta': [0.3, 0.2, 0.1],\n",
       "                          'classifier__max_depth': range(3, 10, 2),\n",
       "                          'classifier__min_child_weight': range(1, 6, 2),\n",
       "                          'classifier__subsample': [0.8, 0.9, 1]}],\n",
       "             refit='F1', return_train_score=True,\n",
       "             scoring={'AUC': 'roc_auc', 'F1': 'f1'}, verbose=True)"
      ]
     },
     "execution_count": 60,
     "metadata": {},
     "output_type": "execute_result"
    }
   ],
   "source": [
    "gs.fit(x_train_gft, y_train_gft)"
   ]
  },
  {
   "cell_type": "code",
   "execution_count": 61,
   "metadata": {},
   "outputs": [
    {
     "name": "stdout",
     "output_type": "stream",
     "text": [
      "{'classifier__colsample_bytree': 0.8, 'classifier__eta': 0.1, 'classifier__max_depth': 3, 'classifier__min_child_weight': 1, 'classifier__subsample': 1}\n",
      "0.48379636547364485\n",
      "Pipeline(steps=[('sm', SMOTE(random_state=12)),\n",
      "                ('classifier',\n",
      "                 XGBClassifier(base_score=0.5, booster='gbtree',\n",
      "                               colsample_bylevel=1, colsample_bynode=1,\n",
      "                               colsample_bytree=0.8, eta=0.1, gamma=0,\n",
      "                               gpu_id=-1, importance_type='gain',\n",
      "                               interaction_constraints='',\n",
      "                               learning_rate=0.100000001, max_delta_step=0,\n",
      "                               max_depth=3, min_child_weight=1, missing=nan,\n",
      "                               monotone_constraints='()', n_estimators=100,\n",
      "                               n_jobs=0, num_parallel_tree=1, random_state=0,\n",
      "                               reg_alpha=0, reg_lambda=1, scale_pos_weight=1,\n",
      "                               subsample=1, tree_method='exact',\n",
      "                               validate_parameters=1, verbosity=None))])\n"
     ]
    }
   ],
   "source": [
    "print(gs.best_params_) \n",
    "print(gs.best_score_) \n",
    "print(gs.best_estimator_) "
   ]
  },
  {
   "cell_type": "code",
   "execution_count": 62,
   "metadata": {},
   "outputs": [],
   "source": [
    "# transform the training dataset only\n",
    "sm = SMOTE(random_state = RANDOM_STATE)\n",
    "x_train_gft_sm, y_train_gft_sm = sm.fit_sample(x_train_gft, y_train_gft)"
   ]
  },
  {
   "cell_type": "code",
   "execution_count": 63,
   "metadata": {},
   "outputs": [],
   "source": [
    "PARAMETERS['max_depth'] = gs.best_params_['classifier__max_depth']\n",
    "PARAMETERS['min_child_weight'] = gs.best_params_['classifier__min_child_weight']\n",
    "PARAMETERS['subsample'] = gs.best_params_['classifier__subsample']\n",
    "PARAMETERS['colsample_bytree'] = gs.best_params_['classifier__colsample_bytree']\n",
    "PARAMETERS['eta'] = gs.best_params_['classifier__eta']"
   ]
  },
  {
   "cell_type": "code",
   "execution_count": 64,
   "metadata": {},
   "outputs": [],
   "source": [
    "# A DMatrix can contain both the features and the target.\n",
    "d_train_gft = xgb.DMatrix(x_train_gft_sm, label = y_train_gft_sm) \n",
    "d_val_gft = xgb.DMatrix(x_val_gft, label = y_val_gft)\n",
    "d_test_gft = xgb.DMatrix(x_test_gft, label = y_test_gft)\n",
    "watchlist_gft = [(d_train_gft, 'train'), (d_val_gft, 'val')]"
   ]
  },
  {
   "cell_type": "code",
   "execution_count": 65,
   "metadata": {},
   "outputs": [
    {
     "name": "stdout",
     "output_type": "stream",
     "text": [
      "[0]\ttrain-error:0.36403\tval-error:0.35096\ttrain-f1_score:0.59700\tval-f1_score:0.44106\n",
      "Multiple eval metrics have been passed: 'val-f1_score' will be used for early stopping.\n",
      "\n",
      "Will train until val-f1_score hasn't improved in 20 rounds.\n",
      "[1]\ttrain-error:0.36226\tval-error:0.34945\ttrain-f1_score:0.59967\tval-f1_score:0.44480\n",
      "[2]\ttrain-error:0.34475\tval-error:0.36304\ttrain-f1_score:0.63993\tval-f1_score:0.44751\n",
      "[3]\ttrain-error:0.33740\tval-error:0.34894\ttrain-f1_score:0.63855\tval-f1_score:0.44956\n",
      "[4]\ttrain-error:0.33457\tval-error:0.34542\ttrain-f1_score:0.64667\tval-f1_score:0.46490\n",
      "[5]\ttrain-error:0.32803\tval-error:0.34038\ttrain-f1_score:0.65313\tval-f1_score:0.47270\n",
      "[6]\ttrain-error:0.31918\tval-error:0.33887\ttrain-f1_score:0.66362\tval-f1_score:0.46882\n",
      "[7]\ttrain-error:0.31679\tval-error:0.34340\ttrain-f1_score:0.66417\tval-f1_score:0.46468\n",
      "[8]\ttrain-error:0.31670\tval-error:0.34038\ttrain-f1_score:0.66667\tval-f1_score:0.46939\n",
      "[9]\ttrain-error:0.31299\tval-error:0.33938\ttrain-f1_score:0.66773\tval-f1_score:0.46929\n",
      "[10]\ttrain-error:0.31307\tval-error:0.33333\ttrain-f1_score:0.66729\tval-f1_score:0.47874\n",
      "[11]\ttrain-error:0.30671\tval-error:0.33686\ttrain-f1_score:0.67583\tval-f1_score:0.47857\n",
      "[12]\ttrain-error:0.30511\tval-error:0.33787\ttrain-f1_score:0.67937\tval-f1_score:0.47290\n",
      "[13]\ttrain-error:0.30211\tval-error:0.33938\ttrain-f1_score:0.68188\tval-f1_score:0.47261\n",
      "[14]\ttrain-error:0.30157\tval-error:0.33635\ttrain-f1_score:0.68338\tval-f1_score:0.48056\n",
      "[15]\ttrain-error:0.30202\tval-error:0.33635\ttrain-f1_score:0.68354\tval-f1_score:0.48137\n",
      "[16]\ttrain-error:0.29954\tval-error:0.33434\ttrain-f1_score:0.68689\tval-f1_score:0.48206\n",
      "[17]\ttrain-error:0.29804\tval-error:0.33585\ttrain-f1_score:0.68832\tval-f1_score:0.47850\n",
      "[18]\ttrain-error:0.29609\tval-error:0.33031\ttrain-f1_score:0.69115\tval-f1_score:0.48670\n",
      "[19]\ttrain-error:0.29476\tval-error:0.32477\ttrain-f1_score:0.69239\tval-f1_score:0.49173\n",
      "[20]\ttrain-error:0.29379\tval-error:0.32830\ttrain-f1_score:0.69344\tval-f1_score:0.48983\n",
      "[21]\ttrain-error:0.29052\tval-error:0.32830\ttrain-f1_score:0.69716\tval-f1_score:0.48742\n",
      "[22]\ttrain-error:0.28901\tval-error:0.32628\ttrain-f1_score:0.69881\tval-f1_score:0.48653\n",
      "[23]\ttrain-error:0.28999\tval-error:0.32679\ttrain-f1_score:0.69710\tval-f1_score:0.48287\n",
      "[24]\ttrain-error:0.28963\tval-error:0.33182\ttrain-f1_score:0.69747\tval-f1_score:0.47905\n",
      "[25]\ttrain-error:0.28733\tval-error:0.33132\ttrain-f1_score:0.69970\tval-f1_score:0.47695\n",
      "[26]\ttrain-error:0.28627\tval-error:0.33333\ttrain-f1_score:0.70120\tval-f1_score:0.47544\n",
      "[27]\ttrain-error:0.28530\tval-error:0.33484\ttrain-f1_score:0.70290\tval-f1_score:0.47597\n",
      "[28]\ttrain-error:0.28592\tval-error:0.33132\ttrain-f1_score:0.70168\tval-f1_score:0.47943\n",
      "[29]\ttrain-error:0.28521\tval-error:0.33535\ttrain-f1_score:0.70225\tval-f1_score:0.47393\n",
      "[30]\ttrain-error:0.28344\tval-error:0.33333\ttrain-f1_score:0.70405\tval-f1_score:0.47377\n",
      "[31]\ttrain-error:0.28247\tval-error:0.33233\ttrain-f1_score:0.70542\tval-f1_score:0.47702\n",
      "[32]\ttrain-error:0.28167\tval-error:0.33082\ttrain-f1_score:0.70562\tval-f1_score:0.47566\n",
      "[33]\ttrain-error:0.28087\tval-error:0.33082\ttrain-f1_score:0.70594\tval-f1_score:0.47482\n",
      "[34]\ttrain-error:0.28034\tval-error:0.32880\ttrain-f1_score:0.70671\tval-f1_score:0.47634\n",
      "[35]\ttrain-error:0.28061\tval-error:0.32880\ttrain-f1_score:0.70619\tval-f1_score:0.47802\n",
      "[36]\ttrain-error:0.27840\tval-error:0.32578\ttrain-f1_score:0.70853\tval-f1_score:0.48364\n",
      "[37]\ttrain-error:0.27733\tval-error:0.32729\ttrain-f1_score:0.70921\tval-f1_score:0.48248\n",
      "[38]\ttrain-error:0.27822\tval-error:0.32477\ttrain-f1_score:0.70834\tval-f1_score:0.48687\n",
      "[39]\ttrain-error:0.27716\tval-error:0.32427\ttrain-f1_score:0.70983\tval-f1_score:0.48726\n",
      "Stopping. Best iteration:\n",
      "[19]\ttrain-error:0.29476\tval-error:0.32477\ttrain-f1_score:0.69239\tval-f1_score:0.49173\n",
      "\n"
     ]
    }
   ],
   "source": [
    "xgb_model = xgb.train(\n",
    "    PARAMETERS,\n",
    "    d_train_gft,\n",
    "    feval = custom_f1_score,\n",
    "    num_boost_round = NUM_BOOST_ROUNDS,\n",
    "    maximize = True,\n",
    "    evals = watchlist_gft,\n",
    "    early_stopping_rounds = EARLY_STOPPING_ROUNDS, \n",
    "    verbose_eval = True)"
   ]
  },
  {
   "cell_type": "code",
   "execution_count": 66,
   "metadata": {},
   "outputs": [],
   "source": [
    "y_probas_train_gft = xgb_model.predict(d_train_gft)\n",
    "y_probas_test_gft = xgb_model.predict(d_test_gft)"
   ]
  },
  {
   "cell_type": "code",
   "execution_count": 67,
   "metadata": {},
   "outputs": [],
   "source": [
    "y_pred_test_gft = np.round(y_probas_test_gft)"
   ]
  },
  {
   "cell_type": "code",
   "execution_count": 68,
   "metadata": {},
   "outputs": [
    {
     "data": {
      "text/plain": [
       "array([[575, 210],\n",
       "       [157, 162]])"
      ]
     },
     "execution_count": 68,
     "metadata": {},
     "output_type": "execute_result"
    }
   ],
   "source": [
    "cnf_matrix = metrics.confusion_matrix(y_test_gft, y_pred_test_gft)\n",
    "cnf_matrix"
   ]
  },
  {
   "cell_type": "code",
   "execution_count": 69,
   "metadata": {},
   "outputs": [
    {
     "name": "stdout",
     "output_type": "stream",
     "text": [
      "True Negatives:  575\n",
      "False Positives:  210\n",
      "False Negatives:  157\n",
      "True Positives:  162\n"
     ]
    },
    {
     "data": {
      "image/png": "[encoded data removed]",
      "text/plain": [
       "<Figure size 360x360 with 2 Axes>"
      ]
     },
     "metadata": {
      "needs_background": "light"
     },
     "output_type": "display_data"
    }
   ],
   "source": [
    "plot_cfm(y_test_gft, y_pred_test_gft)"
   ]
  },
  {
   "cell_type": "code",
   "execution_count": 70,
   "metadata": {},
   "outputs": [
    {
     "name": "stdout",
     "output_type": "stream",
     "text": [
      "              precision    recall  f1-score   support\n",
      "\n",
      "           0       0.79      0.73      0.76       785\n",
      "           1       0.44      0.51      0.47       319\n",
      "\n",
      "    accuracy                           0.67      1104\n",
      "   macro avg       0.61      0.62      0.61      1104\n",
      "weighted avg       0.68      0.67      0.67      1104\n",
      "\n"
     ]
    }
   ],
   "source": [
    "print(classification_report(y_test_gft, y_pred_test_gft))"
   ]
  },
  {
   "cell_type": "code",
   "execution_count": 71,
   "metadata": {},
   "outputs": [
    {
     "name": "stdout",
     "output_type": "stream",
     "text": [
      "Glove/FastText F1: 0.675\n"
     ]
    }
   ],
   "source": [
    "f1_gft = f1_score(y_test_gft, y_pred_test_gft, average='weighted')\n",
    "print('Glove/FastText F1: %.3f' % f1_gft)"
   ]
  },
  {
   "cell_type": "code",
   "execution_count": 72,
   "metadata": {},
   "outputs": [
    {
     "name": "stdout",
     "output_type": "stream",
     "text": [
      "Glove/FastText AUC: 0.674\n"
     ]
    }
   ],
   "source": [
    "auc_gft = roc_auc_score(y_test_gft, y_probas_test_gft)\n",
    "print('Glove/FastText AUC: %.3f' % auc_gft)"
   ]
  },
  {
   "cell_type": "code",
   "execution_count": 73,
   "metadata": {},
   "outputs": [
    {
     "data": {
      "image/png": "[encoded data removed]",
      "text/plain": [
       "<Figure size 864x720 with 1 Axes>"
      ]
     },
     "metadata": {
      "needs_background": "light"
     },
     "output_type": "display_data"
    }
   ],
   "source": [
    "plot_roc(\"Train Glove/FastText\", y_train_gft_sm, y_probas_train_gft, color = colors[0])\n",
    "plot_roc(\"Test Glove/FastText\", y_test_gft, y_probas_test_gft, color = colors[0], linestyle = '--')"
   ]
  },
  {
   "cell_type": "markdown",
   "metadata": {},
   "source": [
    "***\n",
    "\n",
    "**Summary**\n",
    "\n",
    "***"
   ]
  },
  {
   "cell_type": "code",
   "execution_count": 74,
   "metadata": {},
   "outputs": [
    {
     "name": "stdout",
     "output_type": "stream",
     "text": [
      "┌───────────────────────────┬────────────────────┬────────────────────┐\n",
      "│ Classifier                │ F1                 │ AUC                │\n",
      "├───────────────────────────┼────────────────────┼────────────────────┤\n",
      "│ XGBoost w. TFIDF          │  0.683608427494417 │ 0.6831839147015953 │\n",
      "├───────────────────────────┼────────────────────┼────────────────────┤\n",
      "│ XGBoost w. Word2Vec       │ 0.6631854226884968 │ 0.6854102190363995 │\n",
      "├───────────────────────────┼────────────────────┼────────────────────┤\n",
      "│ XGBoost w. Glove/FastText │ 0.6745140589652208 │ 0.6743645548389673 │\n",
      "└───────────────────────────┴────────────────────┴────────────────────┘\n"
     ]
    }
   ],
   "source": [
    "data = [[\"Classifier\", \"F1\", \"AUC\"],\n",
    "        [\"XGBoost w. TFIDF\", f1_tfidf, auc_tfidf],\n",
    "        [\"XGBoost w. Word2Vec\", f1_w2v, auc_w2v],\n",
    "        [\"XGBoost w. Glove/FastText\", f1_gft, auc_gft],\n",
    "        ]\n",
    "\n",
    "print (tabletext.to_text(data))"
   ]
  },
  {
   "cell_type": "code",
   "execution_count": 75,
   "metadata": {},
   "outputs": [
    {
     "data": {
      "image/png": "[encoded data removed]",
      "text/plain": [
       "<Figure size 864x720 with 1 Axes>"
      ]
     },
     "metadata": {
      "needs_background": "light"
     },
     "output_type": "display_data"
    }
   ],
   "source": [
    "plot_roc(\"Test TFIDF\", y_test_tfidf, y_probas_test_tfidf, color = colors[0], linestyle = '--')\n",
    "\n",
    "plot_roc(\"Test W2V\", y_test_w2v, y_probas_test_w2v, color = colors[1], linestyle = '--')\n",
    "\n",
    "plot_roc(\"Test Glove/FastText\", y_test_gft, y_probas_test_gft, color = colors[2], linestyle = '--')"
   ]
  },
  {
   "cell_type": "code",
   "execution_count": null,
   "metadata": {},
   "outputs": [],
   "source": []
  },
  {
   "cell_type": "code",
   "execution_count": null,
   "metadata": {},
   "outputs": [],
   "source": []
  }
 ],
 "metadata": {
  "kernelspec": {
   "display_name": "Python 3",
   "language": "python",
   "name": "python3"
  },
  "language_info": {
   "codemirror_mode": {
    "name": "ipython",
    "version": 3
   },
   "file_extension": ".py",
   "mimetype": "text/x-python",
   "name": "python",
   "nbconvert_exporter": "python",
   "pygments_lexer": "ipython3",
   "version": "3.6.10"
  }
 },
 "nbformat": 4,
 "nbformat_minor": 2
}
