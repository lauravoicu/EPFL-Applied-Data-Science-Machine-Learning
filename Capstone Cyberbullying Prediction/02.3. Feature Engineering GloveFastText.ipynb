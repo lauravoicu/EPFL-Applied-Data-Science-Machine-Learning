{
 "cells": [
  {
   "cell_type": "markdown",
   "metadata": {},
   "source": [
    "# Cyberbullying On Social Media\n",
    "\n",
    "# Feature Engineering"
   ]
  },
  {
   "cell_type": "code",
   "execution_count": 1,
   "metadata": {},
   "outputs": [],
   "source": [
    "# dependencies\n",
    "import pandas as pd\n",
    "import os\n",
    "import numpy as np\n",
    "import matplotlib as mpl\n",
    "import matplotlib.pyplot as plt\n",
    "import seaborn as sns\n",
    "import glob\n",
    "from collections import Counter\n",
    "\n",
    "import re    # for regular expressions \n",
    "import nltk  # for text manipulation \n",
    "import string \n",
    "import warnings \n",
    "import seaborn as sns \n",
    "\n",
    "import multiprocessing\n",
    "\n",
    "pd.set_option(\"display.max_colwidth\", 200) \n",
    "warnings.filterwarnings(\"ignore\", category=DeprecationWarning) \n",
    "\n",
    "%matplotlib inline\n",
    "\n",
    "from sklearn.model_selection import train_test_split\n",
    "from sklearn.preprocessing import StandardScaler\n",
    "from sklearn.metrics import accuracy_score, confusion_matrix, roc_curve\n",
    "\n",
    "import gensim\n",
    "from gensim.models.keyedvectors import KeyedVectors\n",
    "from gensim.scripts.glove2word2vec import glove2word2vec"
   ]
  },
  {
   "cell_type": "code",
   "execution_count": 2,
   "metadata": {},
   "outputs": [],
   "source": [
    "df = pd.read_csv('labeled_insta_cleaned.csv', encoding='utf-8-sig', engine='python')"
   ]
  },
  {
   "cell_type": "code",
   "execution_count": 3,
   "metadata": {},
   "outputs": [],
   "source": [
    "#keep the same random state for reproducibility\n",
    "RANDOM_STATE = 12\n",
    "TRAIN_TEST_SPLIT_SIZE = 0.1\n",
    "VALIDATION_SPLIT_SIZE = 0.2"
   ]
  },
  {
   "cell_type": "code",
   "execution_count": 4,
   "metadata": {},
   "outputs": [],
   "source": [
    "comments = df['tidy_text'].values\n",
    "labels = df['label_bullying'].values"
   ]
  },
  {
   "cell_type": "markdown",
   "metadata": {},
   "source": [
    "***\n",
    "\n",
    "**Pretrained Word Embeddings**\n",
    "\n",
    "***\n",
    "\n",
    "A word embedding is a class of approaches for representing words and documents using a dense vector representation.\n",
    "It is considered an improvement over more the traditional encoding schemes where large sparse vectors were used to represent each word or to score each word within a vector to represent an entire vocabulary. These representations were sparse because the vocabularies were vast and a given word or document would be represented by a large vector comprised mostly of zero values.\n",
    "\n",
    "Instead, in an embedding, words are represented by dense vectors where a vector represents the projection of the word into a continuous vector space.\n",
    "\n",
    "The position of a word within the vector space is learned from text and is based on the words that surround the word when it is used.\n",
    "\n",
    "The position of a word in the learned vector space is referred to as its embedding. Two popular examples of methods of learning word embeddings from text include: Word2Vec, GloVe or FastText."
   ]
  },
  {
   "cell_type": "markdown",
   "metadata": {},
   "source": [
    "**GloVe**\n",
    "\n",
    "Global Vectors for Word Representation (GloVe) is an unsupervised learning algorithm for obtaining vector representations for words. It’s basically computing co-word occurrences statistics from a large corpus. This is different compared to Word2Vec skip-gram or CBOW models, which is trained using model predictions of the current word given a window of surrounding words.\n",
    "Ultimately though, GloVe is concerned with achieving word embeddings. The goal is to find a high dimensional vector representation for each word. This is different from BOW models which can result in a very sparse matrix with no attractive mathematical properties other than classification in machine learning. For word embeddings, we can create structures and reason on word distances on this high dimensional space. We’ll find for example, the word “cat” is close to other feline entities such as “tiger”, “kitty” and “lion”. We’ll also see that “cat” is farther than “dog” as compared to “kitty”. "
   ]
  },
  {
   "cell_type": "markdown",
   "metadata": {},
   "source": [
    "**FastText**\n",
    "\n",
    "FastText was developed by Facebook with a stable release being open-sourced in 2017. The most noticeable difference between fastText and word2vec is that fastText splits out words using n-gram characters. This approach is a significant improvement over word2vec for two reasons:\n",
    "1. The ability to infer out-of-vocabulary words.\n",
    "2. The robustness to spelling mistakes and typos. The same character level modelling also means that fastText is robust enough to handle spelling variations. This is particularly useful in the analysis of Social Media content."
   ]
  },
  {
   "cell_type": "markdown",
   "metadata": {},
   "source": [
    "***\n",
    "\n",
    "**GloVe and FastText**\n"
   ]
  },
  {
   "cell_type": "code",
   "execution_count": 5,
   "metadata": {},
   "outputs": [],
   "source": [
    "GLOVE_FILENAME = 'glove.twitter.27B.200d.txt'"
   ]
  },
  {
   "cell_type": "code",
   "execution_count": 6,
   "metadata": {},
   "outputs": [],
   "source": [
    "FASTTEXT_FILENAME = 'crawl-300d-2M.vec'"
   ]
  },
  {
   "cell_type": "code",
   "execution_count": 7,
   "metadata": {},
   "outputs": [],
   "source": [
    "mpl.rcParams['figure.figsize'] = (12, 10)\n",
    "colors = plt.rcParams['axes.prop_cycle'].by_key()['color']"
   ]
  },
  {
   "cell_type": "code",
   "execution_count": 8,
   "metadata": {},
   "outputs": [],
   "source": [
    "wpt = nltk.WordPunctTokenizer()\n",
    "tokenized_comments = [wpt.tokenize(comment) for comment in comments]"
   ]
  },
  {
   "cell_type": "markdown",
   "metadata": {},
   "source": [
    "First load the embeddings separately and combine them later."
   ]
  },
  {
   "cell_type": "code",
   "execution_count": 9,
   "metadata": {},
   "outputs": [
    {
     "data": {
      "text/plain": [
       "(1193514, 200)"
      ]
     },
     "execution_count": 9,
     "metadata": {},
     "output_type": "execute_result"
    }
   ],
   "source": [
    "glove2word2vec(glove_input_file = GLOVE_FILENAME, word2vec_output_file = \"gensim_glove_vectors.txt\")"
   ]
  },
  {
   "cell_type": "code",
   "execution_count": 10,
   "metadata": {},
   "outputs": [],
   "source": [
    "glove_model = KeyedVectors.load_word2vec_format(\"gensim_glove_vectors.txt\", binary = False)"
   ]
  },
  {
   "cell_type": "code",
   "execution_count": 11,
   "metadata": {},
   "outputs": [],
   "source": [
    "ft_model = KeyedVectors.load_word2vec_format(FASTTEXT_FILENAME, binary = False)"
   ]
  },
  {
   "cell_type": "markdown",
   "metadata": {},
   "source": [
    "Let's check the most similar words and compare to the previously trained Word2Vec."
   ]
  },
  {
   "cell_type": "code",
   "execution_count": 13,
   "metadata": {},
   "outputs": [
    {
     "data": {
      "text/plain": [
       "[('despise', 0.7917031645774841),\n",
       " ('HATE', 0.7900916934013367),\n",
       " ('Hate', 0.7767899632453918),\n",
       " ('detest', 0.7619196176528931),\n",
       " ('loathe', 0.7572115659713745),\n",
       " ('dislike', 0.7513971924781799),\n",
       " ('hating', 0.704501748085022),\n",
       " ('hatred', 0.6993839740753174),\n",
       " ('hated', 0.697160005569458),\n",
       " ('dispise', 0.657025158405304)]"
      ]
     },
     "execution_count": 13,
     "metadata": {},
     "output_type": "execute_result"
    }
   ],
   "source": [
    "ft_model.wv.most_similar(\"hate\")"
   ]
  },
  {
   "cell_type": "code",
   "execution_count": 14,
   "metadata": {},
   "outputs": [
    {
     "data": {
      "text/plain": [
       "[('shit', 0.8846099376678467),\n",
       " ('hell', 0.840812623500824),\n",
       " ('bitch', 0.8312326669692993),\n",
       " ('fucking', 0.830012321472168),\n",
       " ('damn', 0.8262269496917725),\n",
       " ('wtf', 0.8196028470993042),\n",
       " ('fuckin', 0.791408360004425),\n",
       " (\"n't\", 0.7901071310043335),\n",
       " ('that', 0.7883279323577881),\n",
       " ('nigga', 0.7844579219818115)]"
      ]
     },
     "execution_count": 14,
     "metadata": {},
     "output_type": "execute_result"
    }
   ],
   "source": [
    "glove_model.wv.most_similar(\"hate\")"
   ]
  },
  {
   "cell_type": "markdown",
   "metadata": {},
   "source": [
    "FastText finds a lot of similarities here mostly based on common lexical root (HATE, Hate, hating, hated, hatred) rather than synonyms or correlations like Glove."
   ]
  },
  {
   "cell_type": "code",
   "execution_count": 14,
   "metadata": {},
   "outputs": [
    {
     "data": {
      "text/plain": [
       "[('a-hole', 0.7980272769927979),\n",
       " ('assholes', 0.7966619729995728),\n",
       " ('dickhead', 0.7765179872512817),\n",
       " ('asshat', 0.763733983039856),\n",
       " ('douchebag', 0.7635151743888855),\n",
       " ('shithead', 0.7561006546020508),\n",
       " ('ass-hole', 0.7475216388702393),\n",
       " ('fucker', 0.7441247701644897),\n",
       " ('fucktard', 0.7440173029899597),\n",
       " ('fuckhead', 0.7433903813362122)]"
      ]
     },
     "execution_count": 14,
     "metadata": {},
     "output_type": "execute_result"
    }
   ],
   "source": [
    "ft_model.wv.most_similar(\"asshole\")"
   ]
  },
  {
   "cell_type": "code",
   "execution_count": 15,
   "metadata": {},
   "outputs": [
    {
     "data": {
      "text/plain": [
       "[('faggot', 0.759504497051239),\n",
       " ('fucker', 0.7343281507492065),\n",
       " ('cunt', 0.7339721918106079),\n",
       " ('dumbass', 0.7336857318878174),\n",
       " ('assholes', 0.7178757786750793),\n",
       " ('dick', 0.7010302543640137),\n",
       " ('twat', 0.6922847032546997),\n",
       " ('bastard', 0.6884878873825073),\n",
       " ('douchebag', 0.6879569888114929),\n",
       " ('whore', 0.6878525614738464)]"
      ]
     },
     "execution_count": 15,
     "metadata": {},
     "output_type": "execute_result"
    }
   ],
   "source": [
    "glove_model.wv.most_similar(\"asshole\")"
   ]
  },
  {
   "cell_type": "markdown",
   "metadata": {},
   "source": [
    "Again Glove seems to find richer semantic similarities."
   ]
  },
  {
   "cell_type": "code",
   "execution_count": 16,
   "metadata": {},
   "outputs": [
    {
     "data": {
      "text/plain": [
       "[('fantastic', 0.7921966910362244),\n",
       " ('terrific', 0.7699298858642578),\n",
       " ('good', 0.7414898872375488),\n",
       " ('wonderful', 0.7349137663841248),\n",
       " ('geat', 0.7158622741699219),\n",
       " ('GREAT', 0.7043700218200684),\n",
       " ('excellent', 0.6949211955070496),\n",
       " ('tremendous', 0.6918985247612),\n",
       " ('grest', 0.6787239909172058),\n",
       " ('awesome', 0.6748533248901367)]"
      ]
     },
     "execution_count": 16,
     "metadata": {},
     "output_type": "execute_result"
    }
   ],
   "source": [
    "ft_model.wv.most_similar(\"great\")"
   ]
  },
  {
   "cell_type": "code",
   "execution_count": 17,
   "metadata": {},
   "outputs": [
    {
     "data": {
      "text/plain": [
       "[('good', 0.8672515749931335),\n",
       " ('amazing', 0.858441948890686),\n",
       " ('awesome', 0.839326024055481),\n",
       " ('wonderful', 0.832552433013916),\n",
       " ('fantastic', 0.8157325387001038),\n",
       " ('well', 0.7814643979072571),\n",
       " ('have', 0.7786161303520203),\n",
       " ('such', 0.7777701616287231),\n",
       " ('hope', 0.7770050168037415),\n",
       " ('there', 0.7764202356338501)]"
      ]
     },
     "execution_count": 17,
     "metadata": {},
     "output_type": "execute_result"
    }
   ],
   "source": [
    "glove_model.wv.most_similar(\"great\")"
   ]
  },
  {
   "cell_type": "markdown",
   "metadata": {},
   "source": [
    "At a first glance, Glove seems to have a much richer vocabulary and finds more meaningful similarities, based on synonyms rather than variations of the same word, as seems to be the case for FastText. Note that this is not a general statement, but rather applies to the limited number of words I've chosen here as an example.\n",
    "\n",
    "In the next part I'm going to create a word2vec model and train it my corpus. Then using build_vocab I will update the embeddings with the ones from the pre-trained Glove and FastText and retrain on my corpus."
   ]
  },
  {
   "cell_type": "code",
   "execution_count": 26,
   "metadata": {},
   "outputs": [],
   "source": [
    "FEATURE_SIZE = 100"
   ]
  },
  {
   "cell_type": "code",
   "execution_count": 27,
   "metadata": {},
   "outputs": [],
   "source": [
    "cores = multiprocessing.cpu_count() # Count the number of cores in the computer\n",
    "\n",
    "w2v_model = gensim.models.Word2Vec(tokenized_comments, \n",
    "                                   size = FEATURE_SIZE, # Dimensionality of the feature vectors. Typical values (50, 300), depending on vocabulary size. \n",
    "                                   window = 5, # The maximum distance between the current and predicted word within a sentence. E.g. window words on the left and window words on the left of our target.\n",
    "                                   # Typical values are (2, 10).\n",
    "                                   min_count = 100, #Ignores all words with total absolute frequency lower than this - (2, 100).\n",
    "                                   workers = cores, \n",
    "                                   iter = 10 # Number of iterations (epochs) over the corpus. 5 is a good starting point. \n",
    "                                  )"
   ]
  },
  {
   "cell_type": "code",
   "execution_count": 28,
   "metadata": {},
   "outputs": [],
   "source": [
    "# building the vocabulary again will reset the count.\n",
    "count = w2v_model.corpus_count"
   ]
  },
  {
   "cell_type": "markdown",
   "metadata": {},
   "source": [
    "Use first FastText and then Glove since word embeddings will be updated. As we've seen before Glove has much better embeddings and finds much more meaningful similarities. "
   ]
  },
  {
   "cell_type": "code",
   "execution_count": 29,
   "metadata": {},
   "outputs": [
    {
     "data": {
      "text/plain": [
       "(5468195, 9024580)"
      ]
     },
     "execution_count": 29,
     "metadata": {},
     "output_type": "execute_result"
    }
   ],
   "source": [
    "w2v_model.build_vocab([list(ft_model.vocab.keys())], update = True)\n",
    "# w2v_model.intersect_word2vec_format(FASTTEXT_FILENAME, binary=True)\n",
    "w2v_model.train(tokenized_comments, total_examples = count, epochs = w2v_model.iter)"
   ]
  },
  {
   "cell_type": "code",
   "execution_count": 30,
   "metadata": {},
   "outputs": [
    {
     "data": {
      "text/plain": [
       "(5468492, 9024580)"
      ]
     },
     "execution_count": 30,
     "metadata": {},
     "output_type": "execute_result"
    }
   ],
   "source": [
    "w2v_model.build_vocab([list(glove_model.vocab.keys())], update=True)\n",
    "# w2v_model.intersect_word2vec_format(GLOVE_FILENAME, binary=True)\n",
    "w2v_model.train(tokenized_comments, total_examples = count, epochs = w2v_model.iter)"
   ]
  },
  {
   "cell_type": "code",
   "execution_count": 31,
   "metadata": {},
   "outputs": [],
   "source": [
    "# Build word vector for training \n",
    "# Code from: https://medium.com/district-data-labs/modern-methods-for-sentiment-analysis-694eaf725244\n",
    "def word_vector(text):\n",
    "    vec = np.zeros(FEATURE_SIZE).reshape((1, FEATURE_SIZE))\n",
    "    count = 0.\n",
    "    for word in text:\n",
    "        try:\n",
    "            vec += w2v_model[word].reshape((1, FEATURE_SIZE))\n",
    "            count += 1.\n",
    "        except KeyError:\n",
    "            continue\n",
    "    if count != 0:\n",
    "        vec /= count\n",
    "    return vec\n",
    "\n",
    "gloveft_arrays = np.concatenate([word_vector(z) for z in tokenized_comments])"
   ]
  },
  {
   "cell_type": "code",
   "execution_count": 32,
   "metadata": {},
   "outputs": [
    {
     "data": {
      "text/plain": [
       "(11033, 100)"
      ]
     },
     "execution_count": 32,
     "metadata": {},
     "output_type": "execute_result"
    }
   ],
   "source": [
    "gloveft_arrays.shape"
   ]
  },
  {
   "cell_type": "code",
   "execution_count": 33,
   "metadata": {},
   "outputs": [],
   "source": [
    "np.save(\"gloveft_features.npy\", np.array(gloveft_arrays))"
   ]
  },
  {
   "cell_type": "code",
   "execution_count": 34,
   "metadata": {},
   "outputs": [],
   "source": [
    "w2v_model.save(\"gloveft.model\")"
   ]
  },
  {
   "cell_type": "markdown",
   "metadata": {},
   "source": [
    "Borrowing the code from https://towardsdatascience.com/google-news-and-leo-tolstoy-visualizing-word2vec-word-embeddings-with-t-sne-11558d8bd4d, let's visualize the embeddings found by combining the two models."
   ]
  },
  {
   "cell_type": "code",
   "execution_count": 35,
   "metadata": {},
   "outputs": [],
   "source": [
    "keys = ['fuck', 'asshole', 'shit', 'hate', 'bitch', 'damn', 'suck']"
   ]
  },
  {
   "cell_type": "code",
   "execution_count": 36,
   "metadata": {},
   "outputs": [],
   "source": [
    "embedding_clusters = []\n",
    "word_clusters = []\n",
    "for word in keys:\n",
    "    embeddings = []\n",
    "    words = []\n",
    "    for similar_word, _ in w2v_model.most_similar(word, topn=20):\n",
    "        words.append(similar_word)\n",
    "        embeddings.append(w2v_model[similar_word])\n",
    "    embedding_clusters.append(embeddings)\n",
    "    word_clusters.append(words)"
   ]
  },
  {
   "cell_type": "code",
   "execution_count": 37,
   "metadata": {},
   "outputs": [],
   "source": [
    "from  sklearn.manifold import TSNE\n",
    "\n",
    "embedding_clusters = np.array(embedding_clusters)\n",
    "n, m, k = embedding_clusters.shape\n",
    "tsne = TSNE(perplexity=100, n_components=2, init='pca', n_iter=1000, random_state=RANDOM_STATE)\n",
    "embeddings_tsne = np.array(tsne.fit_transform(embedding_clusters.reshape(n * m, k))).reshape(n, m, 2)"
   ]
  },
  {
   "cell_type": "code",
   "execution_count": 38,
   "metadata": {},
   "outputs": [
    {
     "data": {
      "image/png": "[encoded data removed]",
      "text/plain": [
       "<Figure size 1152x648 with 1 Axes>"
      ]
     },
     "metadata": {
      "needs_background": "light"
     },
     "output_type": "display_data"
    }
   ],
   "source": [
    "import matplotlib.cm as cm\n",
    "plt.figure(figsize=(16, 9))\n",
    "colors = cm.rainbow(np.linspace(0, 1, len(keys)))\n",
    "for label, embeddings, words, color in zip(keys, embeddings_tsne, word_clusters, colors):\n",
    "    x = embeddings[:, 0]\n",
    "    y = embeddings[:, 1]\n",
    "    plt.scatter(x, y, c=np.array([color]), alpha=0.5, label=label)\n",
    "    for i, word in enumerate(words):\n",
    "        plt.annotate(word, alpha=0.5, xy=(x[i], y[i]), xytext=(5, 2),\n",
    "                         textcoords='offset points', ha='right', va='bottom', size=8)\n",
    "plt.legend(loc=4)\n",
    "plt.title('Similar words to most common words')\n",
    "plt.grid(True)\n",
    "plt.show()"
   ]
  },
  {
   "cell_type": "code",
   "execution_count": 39,
   "metadata": {},
   "outputs": [
    {
     "data": {
      "text/plain": [
       "[('ignore', 0.4308149814605713),\n",
       " ('upset', 0.39012598991394043),\n",
       " ('hat', 0.372810423374176),\n",
       " ('perrie', 0.34126049280166626),\n",
       " ('sometimes', 0.32696348428726196),\n",
       " ('jealous', 0.3183085322380066),\n",
       " ('annoy', 0.3030823767185211),\n",
       " ('ship', 0.2914774417877197),\n",
       " ('bother', 0.2905590534210205),\n",
       " ('love', 0.28317204117774963)]"
      ]
     },
     "execution_count": 39,
     "metadata": {},
     "output_type": "execute_result"
    }
   ],
   "source": [
    "w2v_model.wv.most_similar(\"hate\")"
   ]
  },
  {
   "cell_type": "code",
   "execution_count": 40,
   "metadata": {},
   "outputs": [
    {
     "data": {
      "text/plain": [
       "[('bitch', 0.4400940537452698),\n",
       " ('insult', 0.4317570924758911),\n",
       " ('call', 0.41583579778671265),\n",
       " ('cunt', 0.4046573042869568),\n",
       " ('fuck', 0.394946813583374),\n",
       " ('idiot', 0.3792377710342407),\n",
       " ('gtfo', 0.36895516514778137),\n",
       " ('report', 0.3640785217285156),\n",
       " ('dumbass', 0.36379364132881165),\n",
       " ('fucker', 0.3590446710586548)]"
      ]
     },
     "execution_count": 40,
     "metadata": {},
     "output_type": "execute_result"
    }
   ],
   "source": [
    "w2v_model.wv.most_similar(\"asshole\")"
   ]
  },
  {
   "cell_type": "code",
   "execution_count": 41,
   "metadata": {},
   "outputs": [
    {
     "data": {
      "text/plain": [
       "[('good', 0.5842822790145874),\n",
       " ('awesome', 0.5627833008766174),\n",
       " ('amaze', 0.5249366164207458),\n",
       " ('talented', 0.4459196627140045),\n",
       " ('nice', 0.3718303442001343),\n",
       " ('talent', 0.3514777421951294),\n",
       " ('sir', 0.3440554440021515),\n",
       " ('inspire', 0.33812206983566284),\n",
       " ('bless', 0.30848726630210876),\n",
       " ('sweet', 0.3055313527584076)]"
      ]
     },
     "execution_count": 41,
     "metadata": {},
     "output_type": "execute_result"
    }
   ],
   "source": [
    "w2v_model.wv.most_similar(\"great\")"
   ]
  },
  {
   "cell_type": "markdown",
   "metadata": {},
   "source": [
    "For the most part, the similar word are the same as when using word2vec only, but not always. An interesting combination is the hate-love similarity found here. The order/similarity is different and my hope is that this will make a difference in the predictive modelling part."
   ]
  },
  {
   "cell_type": "code",
   "execution_count": null,
   "metadata": {},
   "outputs": [],
   "source": []
  }
 ],
 "metadata": {
  "kernelspec": {
   "display_name": "Python 3",
   "language": "python",
   "name": "python3"
  },
  "language_info": {
   "codemirror_mode": {
    "name": "ipython",
    "version": 3
   },
   "file_extension": ".py",
   "mimetype": "text/x-python",
   "name": "python",
   "nbconvert_exporter": "python",
   "pygments_lexer": "ipython3",
   "version": "3.6.10"
  }
 },
 "nbformat": 4,
 "nbformat_minor": 2
}
