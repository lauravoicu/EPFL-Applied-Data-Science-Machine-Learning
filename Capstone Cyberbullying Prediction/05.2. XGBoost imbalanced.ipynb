{
 "cells": [
  {
   "cell_type": "markdown",
   "metadata": {},
   "source": [
    "# Cyberbullying On Social Media\n",
    "\n",
    "# XGBoost"
   ]
  },
  {
   "cell_type": "code",
   "execution_count": 1,
   "metadata": {},
   "outputs": [],
   "source": [
    "import numpy as np\n",
    "import pandas as pd\n",
    "import matplotlib as mpl\n",
    "import matplotlib.pyplot as plt  \n",
    "import seaborn as sns\n",
    "\n",
    "\n",
    "from sklearn.metrics import f1_score\n",
    "from sklearn.model_selection import GridSearchCV, train_test_split\n",
    "from sklearn.pipeline import Pipeline\n",
    "from sklearn import metrics\n",
    "from sklearn.metrics import classification_report\n",
    "from sklearn.metrics import f1_score, roc_auc_score, roc_curve\n",
    "\n",
    "import imblearn\n",
    "# print(imblearn.__version__)\n",
    "from imblearn.over_sampling import SMOTE\n",
    "\n",
    "# !pip install xgboost\n",
    "\n",
    "import xgboost as xgb\n",
    "from xgboost import XGBClassifier\n",
    "from xgboost import plot_tree\n",
    "\n",
    "import warnings\n",
    "warnings.filterwarnings('ignore')\n",
    "warnings.simplefilter('ignore')"
   ]
  },
  {
   "cell_type": "code",
   "execution_count": 2,
   "metadata": {},
   "outputs": [],
   "source": [
    "df = pd.read_csv('labeled_insta_cleaned.csv', encoding = 'utf-8-sig', engine = 'python')"
   ]
  },
  {
   "cell_type": "code",
   "execution_count": 3,
   "metadata": {},
   "outputs": [],
   "source": [
    "comments = df['tidy_text']\n",
    "labels = df['label_bullying']"
   ]
  },
  {
   "cell_type": "code",
   "execution_count": 4,
   "metadata": {},
   "outputs": [],
   "source": [
    "#keep the same random state for reproducibility\n",
    "RANDOM_STATE = 12\n",
    "TRAIN_TEST_SPLIT_SIZE = .1\n",
    "VALIDATION_SPLIT_SIZE = .2"
   ]
  },
  {
   "cell_type": "markdown",
   "metadata": {},
   "source": [
    "**XGBoost**\n",
    "\n",
    "Extreme Gradient Boosting (xgboost) is an advanced implementation of the gradient boosting algorithm. It has both linear model solver and tree learning algorithms. Its ability to do parallel computation on a single machine makes it extremely fast. \n",
    "\n",
    "Some key benefits of XGBoost are:\n",
    "\n",
    "- Regularization - helps in reducing overfitting\n",
    "\n",
    "- Parallel Processing - XGBoost implements parallel processing and is blazingly faster as compared to GBM.\n",
    "\n",
    "- Handling Missing Values - It has an in-built routine to handle missing values.\n",
    "\n",
    "- Built-in Cross-Validation - allows user to run a cross-validation at each iteration of the boosting process\n",
    "\n",
    "\n",
    "For this part I will perform the following steps:\n",
    "- Evaluate the XGBoost model for the different word embeddings\n",
    "- Tune the regularization strength parameter with cross-validated grid-search for each type of embeddings\n",
    "- Check the predictions against the actual values\n",
    "- Compare the results for the different word embeddings"
   ]
  },
  {
   "cell_type": "markdown",
   "metadata": {},
   "source": [
    "**Hyperparameter Tuning**\n",
    "\n",
    "XGBoost has quite a many tuning parameters and sometimes it becomes tricky to properly tune them. I used these guides for ideas on how to tune the model:\n",
    "\n",
    "https://www.analyticsvidhya.com/blog/2016/03/complete-guide-parameter-tuning-xgboost-with-codes-python/\n",
    "https://blog.cambridgespark.com/hyperparameter-tuning-in-xgboost-4ff9100a3b2f\n",
    "https://towardsdatascience.com/fine-tuning-xgboost-in-python-like-a-boss-b4543ed8b1e"
   ]
  },
  {
   "cell_type": "markdown",
   "metadata": {},
   "source": [
    "**Quick note on the method**\n",
    "\n",
    "In an ideal world, with infinite resources and where time is not an issue, I could run a giant grid search with all the parameters together and find the optimal solution. In fact, I gave it a try: using TFIDF I managed to find the optimal parameters after about 8 hours. For Word2Vec and using the same searh space as here I had to give up after 20 hours. Perhaps it is still doable with really small datasets, but for this dataset (which is by far not the largest), the training time was growing exponentially, and each step in the tuning process was becoming more and more expensive. \n",
    "\n",
    "In practice this approach is rarely feasible, so instead I'll go through the parameters one or two at a time. After careful reading, I decided to tune 5 of the hyperparameters that usually have a big impact on the performance. In theory it would be necessary to test all combinations to ensure we find THE optimal solution, but here I will try to find a good enough one by improving the model with a reasonable number of steps.\n",
    "\n",
    "I somehow wanted to still give it a try using GridSearchCV as well, so I decided to try using a smaller search space. Interestingly enough, although the parameters I found here by manual trials were in the search space, GridSearchCV found different best parameters. Even though the parameters found were different, the results are the same. This tells us that tuning the parameters has little influence on the results, and the quality of the results is mostly influenced by the size and quality of the data set, and there isn't much more that can be done to improve these results."
   ]
  },
  {
   "cell_type": "markdown",
   "metadata": {},
   "source": [
    "\n",
    "**Approach for Parameter Tuning**\n",
    "\n",
    "- Choose a relatively high learning rate. The default learning rate of 0.3 used at this stage. \n",
    "\n",
    "- Tune tree-specific parameters such as max_depth, min_child_weight, subsample, colsample_bytree keeping the learning rate fixed.\n",
    "\n",
    "- Tune the learning rate.\n",
    "\n",
    "- Finally tune gamma to avoid overfitting (optional).\n",
    "\n",
    "- Determine the optimum number of trees. XGBoost also has its own cv function which performs cross-validation at each boosting iteration and returns the optimum number of trees required. I will set a very high number of trees (or num_boost_round in XGBoost terminology and rely on early stopping."
   ]
  },
  {
   "cell_type": "markdown",
   "metadata": {},
   "source": [
    "**Using XGBoost’s CV**\n",
    "\n",
    "In order to tune the hyperparameters, I will use the cv function from XGBoost. It allows  to run cross-validation on the training dataset and returns a score (either built-in or customly defined).\n",
    "It requires the following inputs:\n",
    "- params: dictionary of parameters.\n",
    "- dtrain matrix.\n",
    "- num_boost_round: number of boosting rounds. Here I will use a large number and count on early_stopping_rounds to find the optimal number of rounds before reaching the maximum.\n",
    "- seed: random seed. It's important to set a seed here, to ensure we are using the same folds for each step so we can properly compare the scores with different parameters.\n",
    "- nfold: the number of folds to use for cross-validation. Setting this to 5, same as for the other classifiers.\n",
    "- metrics: the metrics to use to evaluate the model. For this part I have defined a custom F1 score metric, since XGBoost does not have one natively, and I wanted to compare to other classifiers using the same metric.\n",
    "\n",
    "\n",
    "**A note about num_boost_round and early_stopping_rounds**\n",
    "\n",
    "XGBoost is a gradient boosting method, as such it adds trees in every iteration to improve the prediction accuracy (performance). \n",
    "\n",
    "The prediction performance increases when you add more and more trees until it starts to overfit, at which point the it will start to decrease. So we need to find that optimum number of trees. It is basically impossible to guess this number, and this is what XGBoost.cv is for. It partitions the training data into two subsets. The first subset is used to train XGBoost, the second is used as a validation set. After each iteration (which adds an additional tree) XGBoost calculates the new validation error. With that XGBoost is able to detect when it starts to overfit (when the chosen evaluation metric starts to either increase (loss), or decrease (our custom F1 score)). This will give us the optimal number of trees for a given set of hyperparameters.\n",
    "\n",
    "The num_boost_rounds (number of trees) parameter is not part of the PARAMETERS dictionary, but it is also a tunable parameter. num_boost_round corresponds to the number of boosting rounds or trees to build. Its optimal value highly depends on the other parameters. This means it should be re-tuned each time we update a parameter. I could do this by tuning it together with all parameters in the grid-search, but it requires a lot of computational effort. Fortunately XGBoost provides a nice way to find the best number of rounds while training. Since trees are built sequentially, instead of fixing the number of rounds at the beginning, we can test our model at each step and see if adding a new tree/boost round improves performance. If the performance hasn’t improved for a specific number of rounds (as defined by the variable early_stopping_round), we stop the training and keep the best number of boosting rounds. \n",
    "\n",
    "\n",
    "I've decided here to use the XGBoost algorithm directly for tuning (mostly because it makes cross validation easy), there is also a scikit learn wrapper around XGBoost called XGBRegressor. The XGBoost algorithm is more customizeable, but the scikit learn wrapper plays more nicely with pipelines (and doesn't need DMatrix input)."
   ]
  },
  {
   "cell_type": "markdown",
   "metadata": {},
   "source": [
    "***\n",
    "\n",
    "**Utility Functions**\n",
    "\n",
    "***"
   ]
  },
  {
   "cell_type": "code",
   "execution_count": 5,
   "metadata": {},
   "outputs": [],
   "source": [
    "def custom_f1_score(preds, d_train):\n",
    "    labels = d_train.get_label().astype(np.int)\n",
    "    preds = (preds >= 0.5).astype(np.int)\n",
    "    return [('f1_score', f1_score(labels, preds))]"
   ]
  },
  {
   "cell_type": "code",
   "execution_count": 6,
   "metadata": {},
   "outputs": [],
   "source": [
    "# setup color scheme and standard figure size for all figures\n",
    "mpl.rcParams['figure.figsize'] = (12, 10)\n",
    "colors = plt.rcParams['axes.prop_cycle'].by_key()['color']"
   ]
  },
  {
   "cell_type": "code",
   "execution_count": 7,
   "metadata": {},
   "outputs": [],
   "source": [
    "def plot_cfm(labels, predictions, p = 0.5):\n",
    "    cfm = metrics.confusion_matrix(labels, predictions > p)\n",
    "    plt.figure(figsize = (5,5))\n",
    "    sns.heatmap(cfm, annot = True, fmt = \"d\")\n",
    "    plt.title('Confusion matrix @{:.2f}'.format(p))\n",
    "    plt.ylabel('Actual values')\n",
    "    plt.xlabel('Predicted values')\n",
    "\n",
    "    print('True Negatives: ', cfm[0][0])\n",
    "    print('False Positives: ', cfm[0][1])\n",
    "    print('False Negatives: ', cfm[1][0])\n",
    "    print('True Positives: ', cfm[1][1])"
   ]
  },
  {
   "cell_type": "code",
   "execution_count": 8,
   "metadata": {},
   "outputs": [],
   "source": [
    "def plot_roc(name, labels, predictions, **kwargs):\n",
    "    fp, tp, _ = roc_curve(labels, predictions)\n",
    "    roc_auc = metrics.auc(fp, tp)    \n",
    "    plt.title('Receiver Operating Characteristic')\n",
    "    plt.plot(fp, tp, label = name + ' AUC = %0.2f' % roc_auc, linewidth=2, **kwargs)\n",
    "    plt.legend(loc = 'lower right')\n",
    "    plt.plot([0, 1], [0, 1], linewidth=2, color=colors[6], linestyle=':')\n",
    "    plt.xlabel('False positives [%]')\n",
    "    plt.ylabel('True positives [%]')\n",
    "    plt.grid(True)\n",
    "    ax = plt.gca()\n",
    "    ax.set_aspect('equal')"
   ]
  },
  {
   "cell_type": "code",
   "execution_count": 9,
   "metadata": {},
   "outputs": [],
   "source": [
    "def init_params():\n",
    "#     Initialize with default parameters\n",
    "    PARAMETERS['max_depth'] = 6\n",
    "    PARAMETERS['min_child_weight'] = 1\n",
    "    PARAMETERS['eta'] = .3\n",
    "    PARAMETERS['subsample'] = 1\n",
    "    PARAMETERS['colsample_bytree'] = 1\n",
    "    return PARAMETERS"
   ]
  },
  {
   "cell_type": "code",
   "execution_count": 10,
   "metadata": {},
   "outputs": [],
   "source": [
    "def cross_validation(PARAMETERS, d_train):\n",
    "    cv_results = xgb.cv(PARAMETERS,\n",
    "        d_train,\n",
    "        feval = custom_f1_score,\n",
    "        num_boost_round = NUM_BOOST_ROUNDS,\n",
    "        maximize = True,\n",
    "        seed = RANDOM_SEED,\n",
    "        nfold = 5,\n",
    "        early_stopping_rounds = EARLY_STOPPING_ROUNDS\n",
    "    )\n",
    "    return cv_results"
   ]
  },
  {
   "cell_type": "markdown",
   "metadata": {},
   "source": [
    "***\n",
    "\n",
    "**TF-IDF**\n",
    "\n",
    "***"
   ]
  },
  {
   "cell_type": "markdown",
   "metadata": {},
   "source": [
    "**Prepare the data set and DMatrices**\n",
    "\n",
    "**Notice the difference here with respect to the 05.1. XGBoost notebook. Here I will use the imbalanced TF-IDF features to see if this improves the performance of the model.**"
   ]
  },
  {
   "cell_type": "code",
   "execution_count": 11,
   "metadata": {},
   "outputs": [],
   "source": [
    "train_tfidf_features = np.load('train_dataset_unbalanced_tfidf_features.npy', allow_pickle=True)\n",
    "train_tfidf_labels = np.load('train_dataset_unbalanced_tfidf_labels.npy', allow_pickle=True)"
   ]
  },
  {
   "cell_type": "code",
   "execution_count": 12,
   "metadata": {},
   "outputs": [],
   "source": [
    "test_tfidf_features = np.load('test_dataset_tfidf_features.npy', allow_pickle=True)\n",
    "test_tfidf_labels = np.load('test_dataset_tfidf_labels.npy', allow_pickle=True)"
   ]
  },
  {
   "cell_type": "code",
   "execution_count": 13,
   "metadata": {},
   "outputs": [],
   "source": [
    "val_tfidf_features = np.load('val_dataset_tfidf_features.npy', allow_pickle=True)\n",
    "val_tfidf_labels = np.load('val_dataset_tfidf_labels.npy', allow_pickle=True)"
   ]
  },
  {
   "cell_type": "code",
   "execution_count": 14,
   "metadata": {},
   "outputs": [
    {
     "name": "stdout",
     "output_type": "stream",
     "text": [
      "x: (7943, 1000) float64\n",
      "y: (7943,) int64\n"
     ]
    }
   ],
   "source": [
    "# Create X/y arrays\n",
    "x_train_tfidf = train_tfidf_features.item()\n",
    "y_train_tfidf = train_tfidf_labels\n",
    "\n",
    "print('x:', x_train_tfidf.shape, x_train_tfidf.dtype)\n",
    "print('y:', y_train_tfidf.shape, y_train_tfidf.dtype)"
   ]
  },
  {
   "cell_type": "code",
   "execution_count": 15,
   "metadata": {},
   "outputs": [
    {
     "name": "stdout",
     "output_type": "stream",
     "text": [
      "x: (1104, 1000) float64\n",
      "y: (1104,) int64\n"
     ]
    }
   ],
   "source": [
    "# Create X/y arrays\n",
    "x_test_tfidf = test_tfidf_features.item()\n",
    "y_test_tfidf = test_tfidf_labels\n",
    "\n",
    "print('x:', x_test_tfidf.shape, x_test_tfidf.dtype)\n",
    "print('y:', y_test_tfidf.shape, y_test_tfidf.dtype)"
   ]
  },
  {
   "cell_type": "code",
   "execution_count": 16,
   "metadata": {},
   "outputs": [
    {
     "name": "stdout",
     "output_type": "stream",
     "text": [
      "x: (1986, 1000) float64\n",
      "y: (1986,) int64\n"
     ]
    }
   ],
   "source": [
    "# Create X/y arrays\n",
    "x_val_tfidf = val_tfidf_features.item()\n",
    "y_val_tfidf = val_tfidf_labels\n",
    "\n",
    "print('x:', x_val_tfidf.shape, x_val_tfidf.dtype)\n",
    "print('y:', y_val_tfidf.shape, y_val_tfidf.dtype)"
   ]
  },
  {
   "cell_type": "markdown",
   "metadata": {},
   "source": [
    "Instead of numpy arrays or pandas data frames, XGBoost uses DMatrices. A DMatrix can contain both the features and the target. The data is already loaded into arrays, so I can use them to create the DMatrix. "
   ]
  },
  {
   "cell_type": "code",
   "execution_count": 17,
   "metadata": {},
   "outputs": [],
   "source": [
    "# A DMatrix can contain both the features and the target.\n",
    "d_train_tfidf = xgb.DMatrix(x_train_tfidf, label = y_train_tfidf) \n",
    "d_test_tfidf = xgb.DMatrix(x_test_tfidf, label = y_test_tfidf)\n",
    "d_val_tfidf = xgb.DMatrix(x_val_tfidf, label = y_val_tfidf)\n",
    "watchlist_tfidf = [(d_train_tfidf, 'train'), (d_val_tfidf, 'val')]"
   ]
  },
  {
   "cell_type": "code",
   "execution_count": 18,
   "metadata": {},
   "outputs": [],
   "source": [
    "# Initialize with default parameters\n",
    "PARAMETERS = {\n",
    "     'objective':'binary:logistic',\n",
    "     'max_depth':6,\n",
    "     'min_child_weight': 1,\n",
    "     'eta':.3,\n",
    "     'subsample': 1,\n",
    "     'colsample_bytree': 1\n",
    "  }"
   ]
  },
  {
   "cell_type": "code",
   "execution_count": 19,
   "metadata": {},
   "outputs": [],
   "source": [
    "RANDOM_SEED = 12\n",
    "NUM_BOOST_ROUNDS = 1000\n",
    "EARLY_STOPPING_ROUNDS = 20"
   ]
  },
  {
   "cell_type": "markdown",
   "metadata": {},
   "source": [
    "**Tune max_depth and min_child_weight** \n",
    "\n",
    "I'll tune these concurrently using a basic grid search, meaning I'll test all combinations of the two variables in a certain range. Whichever combination has the best cross validation score, will be set as values for the next round.\n",
    "\n",
    "\n",
    "- max_depth is the largest depth allowed on any decision tree in the ensemble, where tree depth is the number of nodes from the root down to the farthest away leaf. Larger max_depth values allow for more complex trees, which means a larger chance of capturing complicated features but also a larger chance of overfitting.\n",
    "- min_child_weight is a regularization factor that changes how often tree nodes split in tree creation. "
   ]
  },
  {
   "cell_type": "code",
   "execution_count": 20,
   "metadata": {},
   "outputs": [
    {
     "name": "stdout",
     "output_type": "stream",
     "text": [
      "Performing cross validation for parameters max_depth = 3, min_child_weight = 1\n",
      "\tF1 Score 0.35540399999999994 reached after 313 rounds\n",
      "Performing cross validation for parameters max_depth = 3, min_child_weight = 3\n",
      "\tF1 Score 0.35531480000000004 reached after 316 rounds\n",
      "Performing cross validation for parameters max_depth = 3, min_child_weight = 5\n",
      "\tF1 Score 0.3733664 reached after 338 rounds\n",
      "Performing cross validation for parameters max_depth = 5, min_child_weight = 1\n",
      "\tF1 Score 0.352269 reached after 185 rounds\n",
      "Performing cross validation for parameters max_depth = 5, min_child_weight = 3\n",
      "\tF1 Score 0.3458536 reached after 135 rounds\n",
      "Performing cross validation for parameters max_depth = 5, min_child_weight = 5\n",
      "\tF1 Score 0.37391979999999997 reached after 207 rounds\n",
      "Performing cross validation for parameters max_depth = 7, min_child_weight = 1\n",
      "\tF1 Score 0.3714034 reached after 176 rounds\n",
      "Performing cross validation for parameters max_depth = 7, min_child_weight = 3\n",
      "\tF1 Score 0.37848620000000005 reached after 248 rounds\n",
      "Performing cross validation for parameters max_depth = 7, min_child_weight = 5\n",
      "\tF1 Score 0.3813828 reached after 170 rounds\n",
      "Performing cross validation for parameters max_depth = 9, min_child_weight = 1\n",
      "\tF1 Score 0.37672779999999995 reached after 154 rounds\n",
      "Performing cross validation for parameters max_depth = 9, min_child_weight = 3\n",
      "\tF1 Score 0.3068654 reached after 0 rounds\n",
      "Performing cross validation for parameters max_depth = 9, min_child_weight = 5\n",
      "\tF1 Score 0.29474959999999994 reached after 0 rounds\n",
      "Best params: 7, 5, F1 Score: 0.3813828\n"
     ]
    }
   ],
   "source": [
    "# Tune max_depth and min_child_weight\n",
    "gs_space = [\n",
    "    (max_depth, min_child_weight)\n",
    "    for max_depth in range(3,10,2)\n",
    "        for min_child_weight in range(1,6,2)\n",
    "]\n",
    "max_f1 = 0. # initializing with 0 \n",
    "best_params = None \n",
    "for max_depth, min_child_weight in gs_space:\n",
    "    print(\"Performing cross validation for parameters max_depth = {}, min_child_weight = {}\".format(max_depth, min_child_weight))\n",
    "    \n",
    "    # Update parameters\n",
    "    PARAMETERS['max_depth'] = max_depth\n",
    "    PARAMETERS['min_child_weight'] = min_child_weight\n",
    "    \n",
    "    # Run cross validation\n",
    "    cv_results = cross_validation(PARAMETERS, d_train_tfidf)\n",
    "    \n",
    "    # Find best F1 Score\n",
    "    mean_f1 = cv_results['test-f1_score-mean'].max()\n",
    "    \n",
    "    boost_rounds = np.argmax(cv_results['test-f1_score-mean'])    \n",
    "    print(\"\\tF1 Score {} reached after {} rounds\".format(mean_f1, boost_rounds))    \n",
    "    if mean_f1 > max_f1:\n",
    "        max_f1 = mean_f1\n",
    "        best_params = (max_depth, min_child_weight) \n",
    "\n",
    "print(\"Best params: {}, {}, F1 Score: {}\".format(best_params[0], best_params[1], max_f1))"
   ]
  },
  {
   "cell_type": "code",
   "execution_count": 21,
   "metadata": {},
   "outputs": [],
   "source": [
    "# Update max_depth and min_child_weight parameters.\n",
    "PARAMETERS['max_depth'] = best_params[0]\n",
    "PARAMETERS['min_child_weight'] = best_params[1]"
   ]
  },
  {
   "cell_type": "markdown",
   "metadata": {},
   "source": [
    "**Tune subsample and colsample**\n",
    "\n",
    "- subsample is the fraction of datapoints (rows of the training data) to sample at each round (each tree), with 0 meaning no rows are sampled and 1 meaning all rows are sampled. The higher the value, the more likely to overfit the data.\n",
    "- colsample_bytree is the fraction of features (columns of the training data) to sample at each round (each tree), with 0 meaning no columns are sampled and 1 meaning all columns are sampled. The higher the value, the more likely to overfit the data."
   ]
  },
  {
   "cell_type": "code",
   "execution_count": 22,
   "metadata": {},
   "outputs": [
    {
     "name": "stdout",
     "output_type": "stream",
     "text": [
      "Performing cross validation for parameters subsample = 0.5, colsample_bytree = 0.5\n",
      "\tF1 Score 0.3778256 reached after 88 rounds\n",
      "Performing cross validation for parameters subsample = 0.5, colsample_bytree = 0.6\n",
      "\tF1 Score 0.3612684 reached after 97 rounds\n",
      "Performing cross validation for parameters subsample = 0.5, colsample_bytree = 0.7\n",
      "\tF1 Score 0.3582862 reached after 82 rounds\n",
      "Performing cross validation for parameters subsample = 0.5, colsample_bytree = 0.8\n",
      "\tF1 Score 0.36965480000000006 reached after 103 rounds\n",
      "Performing cross validation for parameters subsample = 0.5, colsample_bytree = 0.9\n",
      "\tF1 Score 0.357854 reached after 61 rounds\n",
      "Performing cross validation for parameters subsample = 0.6, colsample_bytree = 0.5\n",
      "\tF1 Score 0.3439574 reached after 62 rounds\n",
      "Performing cross validation for parameters subsample = 0.6, colsample_bytree = 0.6\n",
      "\tF1 Score 0.3668634 reached after 106 rounds\n",
      "Performing cross validation for parameters subsample = 0.6, colsample_bytree = 0.7\n",
      "\tF1 Score 0.3720436 reached after 107 rounds\n",
      "Performing cross validation for parameters subsample = 0.6, colsample_bytree = 0.8\n",
      "\tF1 Score 0.3703278 reached after 95 rounds\n",
      "Performing cross validation for parameters subsample = 0.6, colsample_bytree = 0.9\n",
      "\tF1 Score 0.3679046 reached after 97 rounds\n",
      "Performing cross validation for parameters subsample = 0.7, colsample_bytree = 0.5\n",
      "\tF1 Score 0.3662646 reached after 102 rounds\n",
      "Performing cross validation for parameters subsample = 0.7, colsample_bytree = 0.6\n",
      "\tF1 Score 0.3688244 reached after 101 rounds\n",
      "Performing cross validation for parameters subsample = 0.7, colsample_bytree = 0.7\n",
      "\tF1 Score 0.37301980000000007 reached after 140 rounds\n",
      "Performing cross validation for parameters subsample = 0.7, colsample_bytree = 0.8\n",
      "\tF1 Score 0.29508639999999997 reached after 0 rounds\n",
      "Performing cross validation for parameters subsample = 0.7, colsample_bytree = 0.9\n",
      "\tF1 Score 0.37745780000000007 reached after 143 rounds\n",
      "Performing cross validation for parameters subsample = 0.8, colsample_bytree = 0.5\n",
      "\tF1 Score 0.3720144 reached after 135 rounds\n",
      "Performing cross validation for parameters subsample = 0.8, colsample_bytree = 0.6\n",
      "\tF1 Score 0.3794318 reached after 194 rounds\n",
      "Performing cross validation for parameters subsample = 0.8, colsample_bytree = 0.7\n",
      "\tF1 Score 0.3800994 reached after 223 rounds\n",
      "Performing cross validation for parameters subsample = 0.8, colsample_bytree = 0.8\n",
      "\tF1 Score 0.2941416 reached after 0 rounds\n",
      "Performing cross validation for parameters subsample = 0.8, colsample_bytree = 0.9\n",
      "\tF1 Score 0.3044448 reached after 0 rounds\n",
      "Performing cross validation for parameters subsample = 0.9, colsample_bytree = 0.5\n",
      "\tF1 Score 0.374267 reached after 141 rounds\n",
      "Performing cross validation for parameters subsample = 0.9, colsample_bytree = 0.6\n",
      "\tF1 Score 0.367087 reached after 116 rounds\n",
      "Performing cross validation for parameters subsample = 0.9, colsample_bytree = 0.7\n",
      "\tF1 Score 0.38573620000000003 reached after 209 rounds\n",
      "Performing cross validation for parameters subsample = 0.9, colsample_bytree = 0.8\n",
      "\tF1 Score 0.289576 reached after 0 rounds\n",
      "Performing cross validation for parameters subsample = 0.9, colsample_bytree = 0.9\n",
      "\tF1 Score 0.2999038 reached after 0 rounds\n",
      "Best params: 0.9, 0.7, F1 Score: 0.38573620000000003\n"
     ]
    }
   ],
   "source": [
    "# Tuning subsample and colsample\n",
    "gs_space = [\n",
    "    (subsample, colsample_bytree)\n",
    "    for subsample in [i/10. for i in range(5,10)]\n",
    "    for colsample_bytree in [i/10. for i in range(5,10)] \n",
    "]\n",
    "max_f1 = 0. \n",
    "best_params = None \n",
    "for subsample, colsample_bytree in gs_space:\n",
    "    print(\"Performing cross validation for parameters subsample = {}, colsample_bytree = {}\".format(subsample, colsample_bytree))\n",
    "    \n",
    "    # Update parameters\n",
    "    PARAMETERS['colsample_bytree'] = colsample_bytree\n",
    "    PARAMETERS['subsample'] = subsample\n",
    "    \n",
    "    # Run cross validation\n",
    "    cv_results = cross_validation(PARAMETERS, d_train_tfidf)\n",
    "\n",
    "    # Find best F1 Score\n",
    "    mean_f1 = cv_results['test-f1_score-mean'].max()\n",
    "    boost_rounds = np.argmax(cv_results['test-f1_score-mean'])    \n",
    "    print(\"\\tF1 Score {} reached after {} rounds\".format(mean_f1, boost_rounds))\n",
    "    if mean_f1 > max_f1:\n",
    "        max_f1 = mean_f1\n",
    "        best_params = (subsample, colsample_bytree) \n",
    "\n",
    "print(\"Best params: {}, {}, F1 Score: {}\".format(best_params[0], best_params[1], max_f1))"
   ]
  },
  {
   "cell_type": "code",
   "execution_count": 23,
   "metadata": {},
   "outputs": [],
   "source": [
    "# Update subsample and colsample_bytree\n",
    "PARAMETERS['subsample'] = best_params[0]\n",
    "PARAMETERS['colsample_bytree'] = best_params[1]"
   ]
  },
  {
   "cell_type": "markdown",
   "metadata": {},
   "source": [
    "**Tune eta**\n",
    "\n",
    "Eta in XGBoost works the same way as a learning rate, in the sense that it controls how quickly each step changes. The smaller the eta, the smaller each step, which means the algorithm will likely take more steps to converge."
   ]
  },
  {
   "cell_type": "code",
   "execution_count": 24,
   "metadata": {},
   "outputs": [
    {
     "name": "stdout",
     "output_type": "stream",
     "text": [
      "Performing cross validation for parameter eta = 0.3\n",
      "\tF1 Score 0.38573620000000003 reached after 209 rounds\n",
      "Performing cross validation for parameter eta = 0.2\n",
      "\tF1 Score 0.37864020000000004 reached after 208 rounds\n",
      "Performing cross validation for parameter eta = 0.1\n",
      "\tF1 Score 0.35652500000000004 reached after 241 rounds\n",
      "Performing cross validation for parameter eta = 0.05\n",
      "\tF1 Score 0.2565382 reached after 53 rounds\n",
      "Performing cross validation for parameter eta = 0.01\n",
      "\tF1 Score 0.23659060000000004 reached after 11 rounds\n",
      "Performing cross validation for parameter eta = 0.005\n",
      "\tF1 Score 0.23765260000000002 reached after 11 rounds\n",
      "Best params: 0.3, F1 Score: 0.38573620000000003\n"
     ]
    }
   ],
   "source": [
    "# Tune the learning rate.\n",
    "max_f1 = 0. \n",
    "best_params = None \n",
    "for eta in [.3, .2, .1, .05, .01, .005]:\n",
    "    print(\"Performing cross validation for parameter eta = {}\".format(eta))\n",
    "    \n",
    "    # Update ETA\n",
    "    PARAMETERS['eta'] = eta\n",
    "    \n",
    "    # Run cross validation\n",
    "    cv_results = cross_validation(PARAMETERS, d_train_tfidf)\n",
    "\n",
    "    # Find best F1 Score\n",
    "    mean_f1 = cv_results['test-f1_score-mean'].max()\n",
    "    boost_rounds = np.argmax(cv_results['test-f1_score-mean'])    \n",
    "    print(\"\\tF1 Score {} reached after {} rounds\".format(mean_f1, boost_rounds))\n",
    "    if mean_f1 > max_f1:\n",
    "        max_f1 = mean_f1\n",
    "        best_params = eta \n",
    "print(\"Best params: {}, F1 Score: {}\".format(best_params, max_f1))"
   ]
  },
  {
   "cell_type": "code",
   "execution_count": 25,
   "metadata": {},
   "outputs": [],
   "source": [
    "# Update eta.\n",
    "PARAMETERS['eta'] = best_params"
   ]
  },
  {
   "cell_type": "markdown",
   "metadata": {},
   "source": [
    "Let’s have a look at the final list of tuned parameters."
   ]
  },
  {
   "cell_type": "code",
   "execution_count": 26,
   "metadata": {},
   "outputs": [
    {
     "data": {
      "text/plain": [
       "{'objective': 'binary:logistic',\n",
       " 'max_depth': 7,\n",
       " 'min_child_weight': 5,\n",
       " 'eta': 0.3,\n",
       " 'subsample': 0.9,\n",
       " 'colsample_bytree': 0.7}"
      ]
     },
     "execution_count": 26,
     "metadata": {},
     "output_type": "execute_result"
    }
   ],
   "source": [
    "PARAMETERS"
   ]
  },
  {
   "cell_type": "markdown",
   "metadata": {},
   "source": [
    "Finally I can now use these tuned parameters in the xgboost model. I will set a very high num_boost_round and rely on early stopping to stop the model if its performance doesn’t improve in 20 rounds."
   ]
  },
  {
   "cell_type": "code",
   "execution_count": 27,
   "metadata": {},
   "outputs": [
    {
     "name": "stdout",
     "output_type": "stream",
     "text": [
      "[0]\ttrain-error:0.25746\tval-error:0.26032\ttrain-f1_score:0.26781\tval-f1_score:0.26667\n",
      "Multiple eval metrics have been passed: 'val-f1_score' will be used for early stopping.\n",
      "\n",
      "Will train until val-f1_score hasn't improved in 20 rounds.\n",
      "[1]\ttrain-error:0.25267\tval-error:0.25932\ttrain-f1_score:0.24860\tval-f1_score:0.23019\n",
      "[2]\ttrain-error:0.24902\tval-error:0.25629\ttrain-f1_score:0.26139\tval-f1_score:0.24815\n",
      "[3]\ttrain-error:0.24500\tval-error:0.25831\ttrain-f1_score:0.29185\tval-f1_score:0.26187\n",
      "[4]\ttrain-error:0.24437\tval-error:0.26083\ttrain-f1_score:0.29648\tval-f1_score:0.25575\n",
      "[5]\ttrain-error:0.24323\tval-error:0.25730\ttrain-f1_score:0.29127\tval-f1_score:0.25183\n",
      "[6]\ttrain-error:0.23983\tval-error:0.25932\ttrain-f1_score:0.30702\tval-f1_score:0.25685\n",
      "[7]\ttrain-error:0.23933\tval-error:0.25982\ttrain-f1_score:0.30544\tval-f1_score:0.25000\n",
      "[8]\ttrain-error:0.23429\tval-error:0.26083\ttrain-f1_score:0.34356\tval-f1_score:0.26836\n",
      "[9]\ttrain-error:0.23341\tval-error:0.25932\ttrain-f1_score:0.34672\tval-f1_score:0.26950\n",
      "[10]\ttrain-error:0.23316\tval-error:0.26133\ttrain-f1_score:0.34789\tval-f1_score:0.26591\n",
      "[11]\ttrain-error:0.23228\tval-error:0.26385\ttrain-f1_score:0.35104\tval-f1_score:0.26404\n",
      "[12]\ttrain-error:0.23153\tval-error:0.26234\ttrain-f1_score:0.35587\tval-f1_score:0.26723\n",
      "[13]\ttrain-error:0.23178\tval-error:0.26133\ttrain-f1_score:0.35381\tval-f1_score:0.27209\n",
      "[14]\ttrain-error:0.23140\tval-error:0.26083\ttrain-f1_score:0.35463\tval-f1_score:0.27451\n",
      "[15]\ttrain-error:0.22863\tval-error:0.25982\ttrain-f1_score:0.36944\tval-f1_score:0.27324\n",
      "[16]\ttrain-error:0.22787\tval-error:0.26032\ttrain-f1_score:0.37327\tval-f1_score:0.27692\n",
      "[17]\ttrain-error:0.22624\tval-error:0.25881\ttrain-f1_score:0.37927\tval-f1_score:0.28011\n",
      "[18]\ttrain-error:0.22586\tval-error:0.25982\ttrain-f1_score:0.38181\tval-f1_score:0.27731\n",
      "[19]\ttrain-error:0.22473\tval-error:0.25982\ttrain-f1_score:0.38639\tval-f1_score:0.27731\n",
      "[20]\ttrain-error:0.22435\tval-error:0.26032\ttrain-f1_score:0.38847\tval-f1_score:0.27490\n",
      "[21]\ttrain-error:0.22372\tval-error:0.26032\ttrain-f1_score:0.39123\tval-f1_score:0.27490\n",
      "[22]\ttrain-error:0.22359\tval-error:0.25982\ttrain-f1_score:0.39303\tval-f1_score:0.27528\n",
      "[23]\ttrain-error:0.22246\tval-error:0.26183\ttrain-f1_score:0.39959\tval-f1_score:0.27374\n",
      "[24]\ttrain-error:0.22133\tval-error:0.26183\ttrain-f1_score:0.40326\tval-f1_score:0.27374\n",
      "[25]\ttrain-error:0.22019\tval-error:0.26183\ttrain-f1_score:0.40812\tval-f1_score:0.27374\n",
      "[26]\ttrain-error:0.22045\tval-error:0.26234\ttrain-f1_score:0.40825\tval-f1_score:0.27336\n",
      "[27]\ttrain-error:0.22032\tval-error:0.26083\ttrain-f1_score:0.41117\tval-f1_score:0.28056\n",
      "[28]\ttrain-error:0.21893\tval-error:0.26234\ttrain-f1_score:0.41625\tval-f1_score:0.27739\n",
      "[29]\ttrain-error:0.21768\tval-error:0.26133\ttrain-f1_score:0.42309\tval-f1_score:0.28414\n",
      "[30]\ttrain-error:0.21616\tval-error:0.26586\ttrain-f1_score:0.43240\tval-f1_score:0.28065\n",
      "[31]\ttrain-error:0.21516\tval-error:0.26485\ttrain-f1_score:0.43875\tval-f1_score:0.28919\n",
      "[32]\ttrain-error:0.21402\tval-error:0.26485\ttrain-f1_score:0.44299\tval-f1_score:0.29111\n",
      "[33]\ttrain-error:0.21352\tval-error:0.26385\ttrain-f1_score:0.44539\tval-f1_score:0.29570\n",
      "[34]\ttrain-error:0.21327\tval-error:0.26435\ttrain-f1_score:0.44604\tval-f1_score:0.29530\n",
      "[35]\ttrain-error:0.21251\tval-error:0.26435\ttrain-f1_score:0.44909\tval-f1_score:0.29530\n",
      "[36]\ttrain-error:0.21264\tval-error:0.26435\ttrain-f1_score:0.44858\tval-f1_score:0.29719\n",
      "[37]\ttrain-error:0.21214\tval-error:0.26334\ttrain-f1_score:0.45168\tval-f1_score:0.29799\n",
      "[38]\ttrain-error:0.21176\tval-error:0.26485\ttrain-f1_score:0.45319\tval-f1_score:0.29679\n",
      "[39]\ttrain-error:0.21113\tval-error:0.26435\ttrain-f1_score:0.45605\tval-f1_score:0.29719\n",
      "[40]\ttrain-error:0.21113\tval-error:0.26385\ttrain-f1_score:0.45711\tval-f1_score:0.29759\n",
      "[41]\ttrain-error:0.20987\tval-error:0.26485\ttrain-f1_score:0.46104\tval-f1_score:0.29679\n",
      "[42]\ttrain-error:0.20974\tval-error:0.26435\ttrain-f1_score:0.46154\tval-f1_score:0.29719\n",
      "[43]\ttrain-error:0.20937\tval-error:0.26385\ttrain-f1_score:0.46372\tval-f1_score:0.29759\n",
      "[44]\ttrain-error:0.20886\tval-error:0.26284\ttrain-f1_score:0.46536\tval-f1_score:0.30214\n",
      "[45]\ttrain-error:0.20685\tval-error:0.26536\ttrain-f1_score:0.47390\tval-f1_score:0.30199\n",
      "[46]\ttrain-error:0.20660\tval-error:0.26536\ttrain-f1_score:0.47656\tval-f1_score:0.30199\n",
      "[47]\ttrain-error:0.20584\tval-error:0.26435\ttrain-f1_score:0.47814\tval-f1_score:0.30279\n",
      "[48]\ttrain-error:0.20559\tval-error:0.26485\ttrain-f1_score:0.48109\tval-f1_score:0.30607\n",
      "[49]\ttrain-error:0.20597\tval-error:0.26485\ttrain-f1_score:0.47865\tval-f1_score:0.30789\n",
      "[50]\ttrain-error:0.20471\tval-error:0.26637\ttrain-f1_score:0.48512\tval-f1_score:0.30486\n",
      "[51]\ttrain-error:0.20433\tval-error:0.26737\ttrain-f1_score:0.48427\tval-f1_score:0.30223\n",
      "[52]\ttrain-error:0.20307\tval-error:0.26586\ttrain-f1_score:0.48907\tval-f1_score:0.30890\n",
      "[53]\ttrain-error:0.20320\tval-error:0.26586\ttrain-f1_score:0.48989\tval-f1_score:0.30709\n",
      "[54]\ttrain-error:0.20269\tval-error:0.26637\ttrain-f1_score:0.49211\tval-f1_score:0.30668\n",
      "[55]\ttrain-error:0.20232\tval-error:0.26687\ttrain-f1_score:0.49450\tval-f1_score:0.30628\n",
      "[56]\ttrain-error:0.20219\tval-error:0.26637\ttrain-f1_score:0.49433\tval-f1_score:0.30668\n",
      "[57]\ttrain-error:0.20181\tval-error:0.26586\ttrain-f1_score:0.49416\tval-f1_score:0.30709\n",
      "[58]\ttrain-error:0.20131\tval-error:0.26536\ttrain-f1_score:0.49669\tval-f1_score:0.31291\n",
      "[59]\ttrain-error:0.20081\tval-error:0.26637\ttrain-f1_score:0.49922\tval-f1_score:0.31209\n",
      "[60]\ttrain-error:0.20068\tval-error:0.26637\ttrain-f1_score:0.50031\tval-f1_score:0.31388\n",
      "[61]\ttrain-error:0.20005\tval-error:0.26838\ttrain-f1_score:0.50328\tval-f1_score:0.30869\n",
      "[62]\ttrain-error:0.19955\tval-error:0.26787\ttrain-f1_score:0.50484\tval-f1_score:0.31088\n",
      "[63]\ttrain-error:0.19879\tval-error:0.26838\ttrain-f1_score:0.50764\tval-f1_score:0.31048\n",
      "[64]\ttrain-error:0.19854\tval-error:0.26787\ttrain-f1_score:0.50979\tval-f1_score:0.31443\n",
      "[65]\ttrain-error:0.19816\tval-error:0.26838\ttrain-f1_score:0.51057\tval-f1_score:0.31226\n",
      "[66]\ttrain-error:0.19766\tval-error:0.26787\ttrain-f1_score:0.51393\tval-f1_score:0.31443\n",
      "[67]\ttrain-error:0.19728\tval-error:0.26687\ttrain-f1_score:0.51591\tval-f1_score:0.32051\n",
      "[68]\ttrain-error:0.19627\tval-error:0.26234\ttrain-f1_score:0.52339\tval-f1_score:0.34630\n",
      "[69]\ttrain-error:0.19539\tval-error:0.26133\ttrain-f1_score:0.52654\tval-f1_score:0.35206\n",
      "[70]\ttrain-error:0.19439\tval-error:0.26183\ttrain-f1_score:0.52927\tval-f1_score:0.35162\n",
      "[71]\ttrain-error:0.19388\tval-error:0.26083\ttrain-f1_score:0.53220\tval-f1_score:0.35732\n",
      "[72]\ttrain-error:0.19476\tval-error:0.26083\ttrain-f1_score:0.52734\tval-f1_score:0.35250\n",
      "[73]\ttrain-error:0.19439\tval-error:0.25982\ttrain-f1_score:0.52955\tval-f1_score:0.35500\n",
      "[74]\ttrain-error:0.19413\tval-error:0.26032\ttrain-f1_score:0.53131\tval-f1_score:0.35294\n",
      "[75]\ttrain-error:0.19275\tval-error:0.25982\ttrain-f1_score:0.53592\tval-f1_score:0.35500\n",
      "[76]\ttrain-error:0.19300\tval-error:0.25982\ttrain-f1_score:0.53531\tval-f1_score:0.35500\n",
      "[77]\ttrain-error:0.19262\tval-error:0.25932\ttrain-f1_score:0.53664\tval-f1_score:0.36025\n",
      "[78]\ttrain-error:0.19250\tval-error:0.26032\ttrain-f1_score:0.53765\tval-f1_score:0.35776\n",
      "[79]\ttrain-error:0.19199\tval-error:0.25932\ttrain-f1_score:0.54080\tval-f1_score:0.36341\n",
      "[80]\ttrain-error:0.19111\tval-error:0.26083\ttrain-f1_score:0.54387\tval-f1_score:0.36049\n",
      "[81]\ttrain-error:0.19136\tval-error:0.26083\ttrain-f1_score:0.54272\tval-f1_score:0.36049\n",
      "[82]\ttrain-error:0.19048\tval-error:0.26133\ttrain-f1_score:0.54605\tval-f1_score:0.36162\n",
      "[83]\ttrain-error:0.18872\tval-error:0.26133\ttrain-f1_score:0.55160\tval-f1_score:0.36005\n",
      "[84]\ttrain-error:0.18796\tval-error:0.26284\ttrain-f1_score:0.55419\tval-f1_score:0.35556\n",
      "[85]\ttrain-error:0.18796\tval-error:0.26284\ttrain-f1_score:0.55446\tval-f1_score:0.35556\n",
      "[86]\ttrain-error:0.18721\tval-error:0.26334\ttrain-f1_score:0.55783\tval-f1_score:0.35670\n",
      "[87]\ttrain-error:0.18570\tval-error:0.26536\ttrain-f1_score:0.56296\tval-f1_score:0.35496\n",
      "[88]\ttrain-error:0.18645\tval-error:0.26586\ttrain-f1_score:0.56066\tval-f1_score:0.35452\n",
      "[89]\ttrain-error:0.18645\tval-error:0.26536\ttrain-f1_score:0.56093\tval-f1_score:0.35653\n",
      "[90]\ttrain-error:0.18595\tval-error:0.26385\ttrain-f1_score:0.56341\tval-f1_score:0.36408\n",
      "[91]\ttrain-error:0.18469\tval-error:0.26234\ttrain-f1_score:0.56713\tval-f1_score:0.36695\n",
      "[92]\ttrain-error:0.18457\tval-error:0.26234\ttrain-f1_score:0.56755\tval-f1_score:0.36849\n"
     ]
    },
    {
     "name": "stdout",
     "output_type": "stream",
     "text": [
      "[93]\ttrain-error:0.18469\tval-error:0.26183\ttrain-f1_score:0.56815\tval-f1_score:0.37198\n",
      "[94]\ttrain-error:0.18494\tval-error:0.26133\ttrain-f1_score:0.56781\tval-f1_score:0.37545\n",
      "[95]\ttrain-error:0.18469\tval-error:0.26183\ttrain-f1_score:0.56840\tval-f1_score:0.37349\n",
      "[96]\ttrain-error:0.18444\tval-error:0.26234\ttrain-f1_score:0.56950\tval-f1_score:0.37305\n",
      "[97]\ttrain-error:0.18368\tval-error:0.26435\ttrain-f1_score:0.57202\tval-f1_score:0.37276\n",
      "[98]\ttrain-error:0.18368\tval-error:0.26284\ttrain-f1_score:0.57352\tval-f1_score:0.37857\n",
      "[99]\ttrain-error:0.18318\tval-error:0.26234\ttrain-f1_score:0.57518\tval-f1_score:0.38050\n",
      "[100]\ttrain-error:0.18305\tval-error:0.26083\ttrain-f1_score:0.57560\tval-f1_score:0.38186\n",
      "[101]\ttrain-error:0.18305\tval-error:0.26234\ttrain-f1_score:0.57609\tval-f1_score:0.37902\n",
      "[102]\ttrain-error:0.18318\tval-error:0.26234\ttrain-f1_score:0.57568\tval-f1_score:0.37902\n",
      "[103]\ttrain-error:0.18268\tval-error:0.26385\ttrain-f1_score:0.57635\tval-f1_score:0.37321\n",
      "[104]\ttrain-error:0.18268\tval-error:0.26284\ttrain-f1_score:0.57660\tval-f1_score:0.37709\n",
      "[105]\ttrain-error:0.18268\tval-error:0.26234\ttrain-f1_score:0.57685\tval-f1_score:0.37605\n",
      "[106]\ttrain-error:0.18217\tval-error:0.26385\ttrain-f1_score:0.57850\tval-f1_score:0.37321\n",
      "[107]\ttrain-error:0.18167\tval-error:0.26284\ttrain-f1_score:0.58186\tval-f1_score:0.37857\n",
      "[108]\ttrain-error:0.18154\tval-error:0.26234\ttrain-f1_score:0.58130\tval-f1_score:0.38050\n",
      "[109]\ttrain-error:0.18054\tval-error:0.26083\ttrain-f1_score:0.58555\tval-f1_score:0.38771\n",
      "[110]\ttrain-error:0.18029\tval-error:0.26032\ttrain-f1_score:0.58613\tval-f1_score:0.39105\n",
      "[111]\ttrain-error:0.18016\tval-error:0.26183\ttrain-f1_score:0.58725\tval-f1_score:0.38967\n",
      "[112]\ttrain-error:0.18003\tval-error:0.26284\ttrain-f1_score:0.58742\tval-f1_score:0.38732\n",
      "[113]\ttrain-error:0.18066\tval-error:0.26435\ttrain-f1_score:0.58562\tval-f1_score:0.38162\n",
      "[114]\ttrain-error:0.18029\tval-error:0.26183\ttrain-f1_score:0.58684\tval-f1_score:0.38389\n",
      "[115]\ttrain-error:0.17991\tval-error:0.26234\ttrain-f1_score:0.58807\tval-f1_score:0.38343\n",
      "[116]\ttrain-error:0.17978\tval-error:0.26183\ttrain-f1_score:0.58871\tval-f1_score:0.38389\n",
      "[117]\ttrain-error:0.17978\tval-error:0.26183\ttrain-f1_score:0.58966\tval-f1_score:0.38679\n",
      "[118]\ttrain-error:0.17940\tval-error:0.26284\ttrain-f1_score:0.59087\tval-f1_score:0.38876\n",
      "[119]\ttrain-error:0.17890\tval-error:0.26435\ttrain-f1_score:0.59272\tval-f1_score:0.39024\n",
      "[120]\ttrain-error:0.17852\tval-error:0.26485\ttrain-f1_score:0.59416\tval-f1_score:0.38837\n",
      "[121]\ttrain-error:0.17827\tval-error:0.26586\ttrain-f1_score:0.59450\tval-f1_score:0.38747\n",
      "[122]\ttrain-error:0.17764\tval-error:0.26687\ttrain-f1_score:0.59674\tval-f1_score:0.38515\n",
      "[123]\ttrain-error:0.17777\tval-error:0.26687\ttrain-f1_score:0.59680\tval-f1_score:0.38515\n",
      "[124]\ttrain-error:0.17688\tval-error:0.26637\ttrain-f1_score:0.59869\tval-f1_score:0.38702\n",
      "[125]\ttrain-error:0.17726\tval-error:0.26787\ttrain-f1_score:0.59794\tval-f1_score:0.38283\n",
      "[126]\ttrain-error:0.17626\tval-error:0.26737\ttrain-f1_score:0.60137\tval-f1_score:0.38327\n",
      "[127]\ttrain-error:0.17676\tval-error:0.26737\ttrain-f1_score:0.60023\tval-f1_score:0.38471\n",
      "[128]\ttrain-error:0.17651\tval-error:0.26687\ttrain-f1_score:0.60057\tval-f1_score:0.38657\n",
      "[129]\ttrain-error:0.17588\tval-error:0.26737\ttrain-f1_score:0.60233\tval-f1_score:0.38613\n",
      "[130]\ttrain-error:0.17588\tval-error:0.26687\ttrain-f1_score:0.60211\tval-f1_score:0.38515\n",
      "Stopping. Best iteration:\n",
      "[110]\ttrain-error:0.18029\tval-error:0.26032\ttrain-f1_score:0.58613\tval-f1_score:0.39105\n",
      "\n"
     ]
    }
   ],
   "source": [
    "xgb_model = xgb.train(\n",
    "    PARAMETERS,\n",
    "    d_train_tfidf,\n",
    "    feval = custom_f1_score,\n",
    "    num_boost_round = NUM_BOOST_ROUNDS,\n",
    "    maximize = True,\n",
    "    evals = watchlist_tfidf,\n",
    "    early_stopping_rounds = EARLY_STOPPING_ROUNDS, \n",
    "    verbose_eval = True)"
   ]
  },
  {
   "cell_type": "code",
   "execution_count": 28,
   "metadata": {},
   "outputs": [],
   "source": [
    "# XGBoost returns probabilities by default.\n",
    "y_probas_train_tfidf = xgb_model.predict(d_train_tfidf)\n",
    "y_probas_test_tfidf = xgb_model.predict(d_test_tfidf)"
   ]
  },
  {
   "cell_type": "code",
   "execution_count": 29,
   "metadata": {},
   "outputs": [],
   "source": [
    "y_pred_test_tfidf = np.round(y_probas_test_tfidf)"
   ]
  },
  {
   "cell_type": "code",
   "execution_count": 30,
   "metadata": {},
   "outputs": [
    {
     "name": "stdout",
     "output_type": "stream",
     "text": [
      "True Negatives:  729\n",
      "False Positives:  56\n",
      "False Negatives:  220\n",
      "True Positives:  99\n"
     ]
    },
    {
     "data": {
      "image/png": "[encoded data removed]",
      "text/plain": [
       "<Figure size 360x360 with 2 Axes>"
      ]
     },
     "metadata": {
      "needs_background": "light"
     },
     "output_type": "display_data"
    }
   ],
   "source": [
    "plot_cfm(y_test_tfidf, y_probas_test_tfidf)"
   ]
  },
  {
   "cell_type": "code",
   "execution_count": 31,
   "metadata": {},
   "outputs": [
    {
     "name": "stdout",
     "output_type": "stream",
     "text": [
      "              precision    recall  f1-score   support\n",
      "\n",
      "           0       0.77      0.93      0.84       785\n",
      "           1       0.64      0.31      0.42       319\n",
      "\n",
      "    accuracy                           0.75      1104\n",
      "   macro avg       0.70      0.62      0.63      1104\n",
      "weighted avg       0.73      0.75      0.72      1104\n",
      "\n"
     ]
    }
   ],
   "source": [
    "print(classification_report(y_test_tfidf, y_pred_test_tfidf))"
   ]
  },
  {
   "cell_type": "markdown",
   "metadata": {},
   "source": [
    "This is the only model where weighted precision and recall across both classes come closer to the values reported in the orginal paper, at 73% precision and 75% recall. "
   ]
  },
  {
   "cell_type": "code",
   "execution_count": 32,
   "metadata": {},
   "outputs": [
    {
     "name": "stdout",
     "output_type": "stream",
     "text": [
      "TFDIF F1: 0.72\n"
     ]
    }
   ],
   "source": [
    "f1_tfidf = f1_score(y_test_tfidf, y_pred_test_tfidf, average = 'weighted')\n",
    "print('TFDIF F1: %.2f' % f1_tfidf)"
   ]
  },
  {
   "cell_type": "code",
   "execution_count": 33,
   "metadata": {},
   "outputs": [
    {
     "name": "stdout",
     "output_type": "stream",
     "text": [
      "TFIDF AUC: 0.72\n"
     ]
    }
   ],
   "source": [
    "auc_tfidf = roc_auc_score(y_test_tfidf, y_probas_test_tfidf)\n",
    "print('TFIDF AUC: %.2f' % auc_tfidf)"
   ]
  },
  {
   "cell_type": "code",
   "execution_count": 34,
   "metadata": {},
   "outputs": [
    {
     "data": {
      "image/png": "[encoded data removed]",
      "text/plain": [
       "<Figure size 864x720 with 1 Axes>"
      ]
     },
     "metadata": {
      "needs_background": "light"
     },
     "output_type": "display_data"
    }
   ],
   "source": [
    "plot_roc(\"Train TFIDF\", y_train_tfidf, y_probas_train_tfidf, color = colors[0])\n",
    "plot_roc(\"Test TFIDF\", y_test_tfidf, y_probas_test_tfidf, color = colors[0], linestyle = '--')"
   ]
  },
  {
   "cell_type": "markdown",
   "metadata": {},
   "source": [
    "Interestingly enough, compared to the other models where the train and test curves followed a similar curve, XGBoost seems to achieve an extremely good ROC AUC curve for the training data, but fails to generalize for the test data. "
   ]
  },
  {
   "cell_type": "markdown",
   "metadata": {},
   "source": [
    "***\n",
    "\n",
    "**Word2Vec**\n",
    "\n",
    "***"
   ]
  },
  {
   "cell_type": "markdown",
   "metadata": {},
   "source": [
    "Apply the same steps for the Word2Vec vectors."
   ]
  },
  {
   "cell_type": "markdown",
   "metadata": {},
   "source": [
    "**Prepare the datasets**\n",
    "\n",
    "Preparing the datasets here also needs to account for the train-validation-test split, as well as applying SMOTE to the training data only."
   ]
  },
  {
   "cell_type": "code",
   "execution_count": 35,
   "metadata": {},
   "outputs": [],
   "source": [
    "w2v_features = np.load('w2v_features.npy', allow_pickle=True)"
   ]
  },
  {
   "cell_type": "code",
   "execution_count": 36,
   "metadata": {},
   "outputs": [
    {
     "name": "stdout",
     "output_type": "stream",
     "text": [
      "x: (11033, 100) float64\n",
      "y: (11033,) int64\n"
     ]
    }
   ],
   "source": [
    "# Create X/y arrays\n",
    "comments_w2v = w2v_features\n",
    "labels_w2v = labels\n",
    "print('x:', comments_w2v.shape, comments_w2v.dtype) \n",
    "print('y:', labels_w2v.shape, labels_w2v.dtype)"
   ]
  },
  {
   "cell_type": "code",
   "execution_count": 37,
   "metadata": {},
   "outputs": [],
   "source": [
    "x_train_val_w2v, x_test_w2v, y_train_val_w2v, y_test_w2v = train_test_split(comments_w2v, labels_w2v,\n",
    "                                                  test_size = TRAIN_TEST_SPLIT_SIZE, stratify = labels_w2v,\n",
    "                                                  random_state = RANDOM_STATE)"
   ]
  },
  {
   "cell_type": "code",
   "execution_count": 38,
   "metadata": {},
   "outputs": [],
   "source": [
    "x_train_w2v, x_val_w2v, y_train_w2v, y_val_w2v = train_test_split(x_train_val_w2v, y_train_val_w2v,\n",
    "                                                  test_size = VALIDATION_SPLIT_SIZE, stratify = y_train_val_w2v,\n",
    "                                                  random_state = RANDOM_STATE)"
   ]
  },
  {
   "cell_type": "code",
   "execution_count": 39,
   "metadata": {},
   "outputs": [],
   "source": [
    "# A DMatrix can contain both the features and the target.\n",
    "d_train_w2v = xgb.DMatrix(x_train_w2v, label = y_train_w2v) \n",
    "d_test_w2v = xgb.DMatrix(x_test_w2v, label = y_test_w2v)\n",
    "d_val_w2v = xgb.DMatrix(x_val_w2v, label = y_val_w2v)\n",
    "watchlist_w2v = [(d_train_w2v, 'train'), (d_val_w2v, 'val')]"
   ]
  },
  {
   "cell_type": "code",
   "execution_count": 40,
   "metadata": {},
   "outputs": [
    {
     "data": {
      "text/plain": [
       "{'objective': 'binary:logistic',\n",
       " 'max_depth': 6,\n",
       " 'min_child_weight': 1,\n",
       " 'eta': 0.3,\n",
       " 'subsample': 1,\n",
       " 'colsample_bytree': 1}"
      ]
     },
     "execution_count": 40,
     "metadata": {},
     "output_type": "execute_result"
    }
   ],
   "source": [
    "# initialize parameters to default values\n",
    "init_params()"
   ]
  },
  {
   "cell_type": "code",
   "execution_count": 41,
   "metadata": {},
   "outputs": [
    {
     "name": "stdout",
     "output_type": "stream",
     "text": [
      "Performing cross validation for parameters max_depth = 3, min_child_weight = 1\n",
      "\tF1 Score 0.357265 reached after 0 rounds\n",
      "Performing cross validation for parameters max_depth = 3, min_child_weight = 3\n",
      "\tF1 Score 0.357265 reached after 0 rounds\n",
      "Performing cross validation for parameters max_depth = 3, min_child_weight = 5\n",
      "\tF1 Score 0.357265 reached after 0 rounds\n",
      "Performing cross validation for parameters max_depth = 5, min_child_weight = 1\n",
      "\tF1 Score 0.3919796 reached after 28 rounds\n",
      "Performing cross validation for parameters max_depth = 5, min_child_weight = 3\n",
      "\tF1 Score 0.4056762 reached after 40 rounds\n",
      "Performing cross validation for parameters max_depth = 5, min_child_weight = 5\n",
      "\tF1 Score 0.41466899999999995 reached after 51 rounds\n",
      "Performing cross validation for parameters max_depth = 7, min_child_weight = 1\n",
      "\tF1 Score 0.4009314 reached after 56 rounds\n",
      "Performing cross validation for parameters max_depth = 7, min_child_weight = 3\n",
      "\tF1 Score 0.39246980000000004 reached after 9 rounds\n",
      "Performing cross validation for parameters max_depth = 7, min_child_weight = 5\n",
      "\tF1 Score 0.4120114 reached after 37 rounds\n",
      "Performing cross validation for parameters max_depth = 9, min_child_weight = 1\n",
      "\tF1 Score 0.3886608 reached after 4 rounds\n",
      "Performing cross validation for parameters max_depth = 9, min_child_weight = 3\n",
      "\tF1 Score 0.3864666 reached after 10 rounds\n",
      "Performing cross validation for parameters max_depth = 9, min_child_weight = 5\n",
      "\tF1 Score 0.4055262 reached after 47 rounds\n",
      "Best params: 5, 5, F1 Score: 0.41466899999999995\n"
     ]
    }
   ],
   "source": [
    "# Tune max_depth and min_child_weight\n",
    "gs_space = [\n",
    "    (max_depth, min_child_weight)\n",
    "    for max_depth in range(3,10,2)\n",
    "        for min_child_weight in range(1,6,2)\n",
    "]\n",
    "max_f1 = 0. # initializing with 0 \n",
    "best_params = None \n",
    "for max_depth, min_child_weight in gs_space:\n",
    "    print(\"Performing cross validation for parameters max_depth = {}, min_child_weight = {}\".format(max_depth, min_child_weight))\n",
    "    \n",
    "    # Update  parameters\n",
    "    PARAMETERS['max_depth'] = max_depth\n",
    "    PARAMETERS['min_child_weight'] = min_child_weight\n",
    "    \n",
    "    # Run cross validation\n",
    "    cv_results = cross_validation(PARAMETERS, d_train_w2v)\n",
    "\n",
    "    # Find best F1 Score\n",
    "    mean_f1 = cv_results['test-f1_score-mean'].max()\n",
    "    \n",
    "    boost_rounds = np.argmax(cv_results['test-f1_score-mean'])    \n",
    "    print(\"\\tF1 Score {} reached after {} rounds\".format(mean_f1, boost_rounds))    \n",
    "    if mean_f1 > max_f1:\n",
    "        max_f1 = mean_f1\n",
    "        best_params = (max_depth, min_child_weight) \n",
    "\n",
    "print(\"Best params: {}, {}, F1 Score: {}\".format(best_params[0], best_params[1], max_f1))"
   ]
  },
  {
   "cell_type": "code",
   "execution_count": 42,
   "metadata": {},
   "outputs": [],
   "source": [
    "# Update max_depth and min_child_weight parameters.\n",
    "PARAMETERS['max_depth'] = best_params[0]\n",
    "PARAMETERS['min_child_weight'] = best_params[1]"
   ]
  },
  {
   "cell_type": "code",
   "execution_count": 43,
   "metadata": {},
   "outputs": [
    {
     "name": "stdout",
     "output_type": "stream",
     "text": [
      "Performing cross validation for parameters subsample = 0.5, colsample_bytree = 0.5\n",
      "\tF1 Score 0.397432 reached after 45 rounds\n",
      "Performing cross validation for parameters subsample = 0.5, colsample_bytree = 0.6\n",
      "\tF1 Score 0.4070882 reached after 42 rounds\n",
      "Performing cross validation for parameters subsample = 0.5, colsample_bytree = 0.7\n",
      "\tF1 Score 0.398482 reached after 42 rounds\n",
      "Performing cross validation for parameters subsample = 0.5, colsample_bytree = 0.8\n",
      "\tF1 Score 0.40418380000000004 reached after 33 rounds\n",
      "Performing cross validation for parameters subsample = 0.5, colsample_bytree = 0.9\n",
      "\tF1 Score 0.4146832 reached after 86 rounds\n",
      "Performing cross validation for parameters subsample = 0.6, colsample_bytree = 0.5\n",
      "\tF1 Score 0.40379319999999996 reached after 39 rounds\n",
      "Performing cross validation for parameters subsample = 0.6, colsample_bytree = 0.6\n",
      "\tF1 Score 0.40724879999999997 reached after 46 rounds\n",
      "Performing cross validation for parameters subsample = 0.6, colsample_bytree = 0.7\n",
      "\tF1 Score 0.41687700000000005 reached after 86 rounds\n",
      "Performing cross validation for parameters subsample = 0.6, colsample_bytree = 0.8\n",
      "\tF1 Score 0.40902479999999997 reached after 40 rounds\n",
      "Performing cross validation for parameters subsample = 0.6, colsample_bytree = 0.9\n",
      "\tF1 Score 0.39981479999999997 reached after 45 rounds\n",
      "Performing cross validation for parameters subsample = 0.7, colsample_bytree = 0.5\n",
      "\tF1 Score 0.4138415999999999 reached after 105 rounds\n",
      "Performing cross validation for parameters subsample = 0.7, colsample_bytree = 0.6\n",
      "\tF1 Score 0.40676939999999995 reached after 49 rounds\n",
      "Performing cross validation for parameters subsample = 0.7, colsample_bytree = 0.7\n",
      "\tF1 Score 0.40985259999999996 reached after 39 rounds\n",
      "Performing cross validation for parameters subsample = 0.7, colsample_bytree = 0.8\n",
      "\tF1 Score 0.4338316 reached after 105 rounds\n",
      "Performing cross validation for parameters subsample = 0.7, colsample_bytree = 0.9\n",
      "\tF1 Score 0.40365719999999994 reached after 52 rounds\n",
      "Performing cross validation for parameters subsample = 0.8, colsample_bytree = 0.5\n",
      "\tF1 Score 0.423146 reached after 97 rounds\n",
      "Performing cross validation for parameters subsample = 0.8, colsample_bytree = 0.6\n",
      "\tF1 Score 0.41310159999999996 reached after 54 rounds\n",
      "Performing cross validation for parameters subsample = 0.8, colsample_bytree = 0.7\n",
      "\tF1 Score 0.4055256 reached after 112 rounds\n",
      "Performing cross validation for parameters subsample = 0.8, colsample_bytree = 0.8\n",
      "\tF1 Score 0.40964999999999996 reached after 58 rounds\n",
      "Performing cross validation for parameters subsample = 0.8, colsample_bytree = 0.9\n",
      "\tF1 Score 0.41190239999999995 reached after 46 rounds\n",
      "Performing cross validation for parameters subsample = 0.9, colsample_bytree = 0.5\n",
      "\tF1 Score 0.406554 reached after 94 rounds\n",
      "Performing cross validation for parameters subsample = 0.9, colsample_bytree = 0.6\n",
      "\tF1 Score 0.4075658 reached after 59 rounds\n",
      "Performing cross validation for parameters subsample = 0.9, colsample_bytree = 0.7\n",
      "\tF1 Score 0.40793799999999997 reached after 84 rounds\n",
      "Performing cross validation for parameters subsample = 0.9, colsample_bytree = 0.8\n",
      "\tF1 Score 0.4012041999999999 reached after 57 rounds\n",
      "Performing cross validation for parameters subsample = 0.9, colsample_bytree = 0.9\n",
      "\tF1 Score 0.4147776 reached after 58 rounds\n",
      "Best params: 0.7, 0.8, F1 Score: 0.4338316\n"
     ]
    }
   ],
   "source": [
    "# Tune subsample and colsample\n",
    "gs_space = [\n",
    "    (subsample, colsample_bytree)\n",
    "    for subsample in [i/10. for i in range(5,10)]\n",
    "    for colsample_bytree in [i/10. for i in range(5,10)] \n",
    "]\n",
    "max_f1 = 0. \n",
    "best_params = None \n",
    "for subsample, colsample_bytree in gs_space:\n",
    "    print(\"Performing cross validation for parameters subsample = {}, colsample_bytree = {}\".format(subsample, colsample_bytree))\n",
    "    \n",
    "    # Update parameters\n",
    "    PARAMETERS['colsample_bytree'] = colsample_bytree\n",
    "    PARAMETERS['subsample'] = subsample\n",
    "\n",
    "    # Run cross validation\n",
    "    cv_results = cross_validation(PARAMETERS, d_train_w2v)\n",
    "\n",
    "    # Find best F1 Score\n",
    "    mean_f1 = cv_results['test-f1_score-mean'].max()\n",
    "    boost_rounds = np.argmax(cv_results['test-f1_score-mean'])    \n",
    "    print(\"\\tF1 Score {} reached after {} rounds\".format(mean_f1, boost_rounds))\n",
    "    if mean_f1 > max_f1:\n",
    "        max_f1 = mean_f1\n",
    "        best_params = (subsample, colsample_bytree) \n",
    "\n",
    "print(\"Best params: {}, {}, F1 Score: {}\".format(best_params[0], best_params[1], max_f1))"
   ]
  },
  {
   "cell_type": "code",
   "execution_count": 44,
   "metadata": {},
   "outputs": [],
   "source": [
    "# Update subsample and colsample_bytree\n",
    "PARAMETERS['subsample'] = best_params[0]\n",
    "PARAMETERS['colsample_bytree'] = best_params[1]"
   ]
  },
  {
   "cell_type": "code",
   "execution_count": 45,
   "metadata": {},
   "outputs": [
    {
     "name": "stdout",
     "output_type": "stream",
     "text": [
      "Performing cross validation for parameter eta = 0.3\n",
      "\tF1 Score 0.4338316 reached after 105 rounds\n",
      "Performing cross validation for parameter eta = 0.2\n",
      "\tF1 Score 0.40244360000000007 reached after 76 rounds\n",
      "Performing cross validation for parameter eta = 0.1\n",
      "\tF1 Score 0.4015974 reached after 143 rounds\n",
      "Performing cross validation for parameter eta = 0.05\n",
      "\tF1 Score 0.3178374 reached after 0 rounds\n",
      "Performing cross validation for parameter eta = 0.01\n",
      "\tF1 Score 0.3178374 reached after 0 rounds\n",
      "Performing cross validation for parameter eta = 0.005\n",
      "\tF1 Score 0.3178374 reached after 0 rounds\n",
      "Best params: 0.3, F1 Score: 0.4338316\n"
     ]
    }
   ],
   "source": [
    "# Tune the learning rate.\n",
    "max_f1 = 0. \n",
    "best_params = None \n",
    "for eta in [.3, .2, .1, .05, .01, .005]:\n",
    "    print(\"Performing cross validation for parameter eta = {}\".format(eta))\n",
    "    \n",
    "    # Update ETA\n",
    "    PARAMETERS['eta'] = eta\n",
    "\n",
    "    # Run cross validation\n",
    "    cv_results = cross_validation(PARAMETERS, d_train_w2v)\n",
    "\n",
    "    # Find best F1 Score\n",
    "    mean_f1 = cv_results['test-f1_score-mean'].max()\n",
    "    boost_rounds = np.argmax(cv_results['test-f1_score-mean'])    \n",
    "    print(\"\\tF1 Score {} reached after {} rounds\".format(mean_f1, boost_rounds))\n",
    "    if mean_f1 > max_f1:\n",
    "        max_f1 = mean_f1\n",
    "        best_params = eta \n",
    "print(\"Best params: {}, F1 Score: {}\".format(best_params, max_f1))"
   ]
  },
  {
   "cell_type": "code",
   "execution_count": 46,
   "metadata": {},
   "outputs": [],
   "source": [
    "# Update eta.\n",
    "PARAMETERS['eta'] = best_params"
   ]
  },
  {
   "cell_type": "code",
   "execution_count": 47,
   "metadata": {},
   "outputs": [
    {
     "data": {
      "text/plain": [
       "{'objective': 'binary:logistic',\n",
       " 'max_depth': 5,\n",
       " 'min_child_weight': 5,\n",
       " 'eta': 0.3,\n",
       " 'subsample': 0.7,\n",
       " 'colsample_bytree': 0.8}"
      ]
     },
     "execution_count": 47,
     "metadata": {},
     "output_type": "execute_result"
    }
   ],
   "source": [
    "PARAMETERS"
   ]
  },
  {
   "cell_type": "code",
   "execution_count": 48,
   "metadata": {},
   "outputs": [
    {
     "name": "stdout",
     "output_type": "stream",
     "text": [
      "[0]\ttrain-error:0.26325\tval-error:0.27643\ttrain-f1_score:0.35002\tval-f1_score:0.31801\n",
      "Multiple eval metrics have been passed: 'val-f1_score' will be used for early stopping.\n",
      "\n",
      "Will train until val-f1_score hasn't improved in 20 rounds.\n",
      "[1]\ttrain-error:0.24840\tval-error:0.26989\ttrain-f1_score:0.39939\tval-f1_score:0.35422\n",
      "[2]\ttrain-error:0.24575\tval-error:0.25881\ttrain-f1_score:0.38885\tval-f1_score:0.34772\n",
      "[3]\ttrain-error:0.23996\tval-error:0.25831\ttrain-f1_score:0.40512\tval-f1_score:0.35955\n",
      "[4]\ttrain-error:0.23505\tval-error:0.25680\ttrain-f1_score:0.42607\tval-f1_score:0.36567\n",
      "[5]\ttrain-error:0.23115\tval-error:0.25730\ttrain-f1_score:0.43228\tval-f1_score:0.37146\n",
      "[6]\ttrain-error:0.22964\tval-error:0.25629\ttrain-f1_score:0.44118\tval-f1_score:0.37083\n",
      "[7]\ttrain-error:0.22548\tval-error:0.25227\ttrain-f1_score:0.45809\tval-f1_score:0.39125\n",
      "[8]\ttrain-error:0.22246\tval-error:0.26032\ttrain-f1_score:0.46793\tval-f1_score:0.37333\n",
      "[9]\ttrain-error:0.21755\tval-error:0.25478\ttrain-f1_score:0.48936\tval-f1_score:0.38592\n",
      "[10]\ttrain-error:0.21415\tval-error:0.25932\ttrain-f1_score:0.50595\tval-f1_score:0.38617\n",
      "[11]\ttrain-error:0.21214\tval-error:0.26133\ttrain-f1_score:0.50889\tval-f1_score:0.38288\n",
      "[12]\ttrain-error:0.20760\tval-error:0.26334\ttrain-f1_score:0.52519\tval-f1_score:0.38687\n",
      "[13]\ttrain-error:0.20609\tval-error:0.25781\ttrain-f1_score:0.52919\tval-f1_score:0.39623\n",
      "[14]\ttrain-error:0.20181\tval-error:0.25277\ttrain-f1_score:0.54291\tval-f1_score:0.40802\n",
      "[15]\ttrain-error:0.20030\tval-error:0.25579\ttrain-f1_score:0.54685\tval-f1_score:0.41204\n",
      "[16]\ttrain-error:0.19791\tval-error:0.25730\ttrain-f1_score:0.55086\tval-f1_score:0.40788\n",
      "[17]\ttrain-error:0.19413\tval-error:0.25378\ttrain-f1_score:0.56193\tval-f1_score:0.41395\n",
      "[18]\ttrain-error:0.19250\tval-error:0.25831\ttrain-f1_score:0.56917\tval-f1_score:0.41102\n",
      "[19]\ttrain-error:0.19099\tval-error:0.25680\ttrain-f1_score:0.57400\tval-f1_score:0.41514\n",
      "[20]\ttrain-error:0.19010\tval-error:0.25277\ttrain-f1_score:0.57608\tval-f1_score:0.42563\n",
      "[21]\ttrain-error:0.18746\tval-error:0.25831\ttrain-f1_score:0.58350\tval-f1_score:0.41505\n",
      "[22]\ttrain-error:0.18658\tval-error:0.25982\ttrain-f1_score:0.58534\tval-f1_score:0.41230\n",
      "[23]\ttrain-error:0.18519\tval-error:0.25680\ttrain-f1_score:0.58945\tval-f1_score:0.42177\n",
      "[24]\ttrain-error:0.18368\tval-error:0.25781\ttrain-f1_score:0.59371\tval-f1_score:0.41818\n",
      "[25]\ttrain-error:0.17877\tval-error:0.25478\ttrain-f1_score:0.60424\tval-f1_score:0.42889\n",
      "[26]\ttrain-error:0.17638\tval-error:0.25831\ttrain-f1_score:0.61330\tval-f1_score:0.42295\n",
      "[27]\ttrain-error:0.17449\tval-error:0.25982\ttrain-f1_score:0.61902\tval-f1_score:0.42152\n",
      "[28]\ttrain-error:0.17374\tval-error:0.25881\ttrain-f1_score:0.61962\tval-f1_score:0.41723\n",
      "[29]\ttrain-error:0.17109\tval-error:0.25629\ttrain-f1_score:0.62798\tval-f1_score:0.43255\n",
      "[30]\ttrain-error:0.16883\tval-error:0.25781\ttrain-f1_score:0.63510\tval-f1_score:0.43237\n",
      "[31]\ttrain-error:0.16543\tval-error:0.25881\ttrain-f1_score:0.64582\tval-f1_score:0.43640\n",
      "[32]\ttrain-error:0.16354\tval-error:0.25982\ttrain-f1_score:0.64996\tval-f1_score:0.43421\n",
      "[33]\ttrain-error:0.16178\tval-error:0.25982\ttrain-f1_score:0.65466\tval-f1_score:0.43791\n",
      "[34]\ttrain-error:0.15800\tval-error:0.26536\ttrain-f1_score:0.66560\tval-f1_score:0.42404\n",
      "[35]\ttrain-error:0.15599\tval-error:0.26183\ttrain-f1_score:0.67161\tval-f1_score:0.43231\n",
      "[36]\ttrain-error:0.15347\tval-error:0.26586\ttrain-f1_score:0.67828\tval-f1_score:0.42484\n",
      "[37]\ttrain-error:0.15196\tval-error:0.26687\ttrain-f1_score:0.68195\tval-f1_score:0.41630\n",
      "[38]\ttrain-error:0.14894\tval-error:0.26385\ttrain-f1_score:0.68827\tval-f1_score:0.42291\n",
      "[39]\ttrain-error:0.14730\tval-error:0.26234\ttrain-f1_score:0.69259\tval-f1_score:0.42935\n",
      "[40]\ttrain-error:0.14642\tval-error:0.26485\ttrain-f1_score:0.69674\tval-f1_score:0.42826\n",
      "[41]\ttrain-error:0.14428\tval-error:0.26637\ttrain-f1_score:0.70156\tval-f1_score:0.42312\n",
      "[42]\ttrain-error:0.14176\tval-error:0.26133\ttrain-f1_score:0.70844\tval-f1_score:0.43030\n",
      "[43]\ttrain-error:0.13849\tval-error:0.26485\ttrain-f1_score:0.71693\tval-f1_score:0.42576\n",
      "[44]\ttrain-error:0.13572\tval-error:0.26435\ttrain-f1_score:0.72316\tval-f1_score:0.42623\n",
      "[45]\ttrain-error:0.13320\tval-error:0.26939\ttrain-f1_score:0.72900\tval-f1_score:0.41658\n",
      "[46]\ttrain-error:0.13244\tval-error:0.27039\ttrain-f1_score:0.73204\tval-f1_score:0.42071\n",
      "[47]\ttrain-error:0.13043\tval-error:0.27090\ttrain-f1_score:0.73799\tval-f1_score:0.41649\n",
      "[48]\ttrain-error:0.13005\tval-error:0.26838\ttrain-f1_score:0.73815\tval-f1_score:0.42627\n",
      "[49]\ttrain-error:0.12627\tval-error:0.26888\ttrain-f1_score:0.74550\tval-f1_score:0.42208\n",
      "[50]\ttrain-error:0.12502\tval-error:0.26435\ttrain-f1_score:0.74880\tval-f1_score:0.43243\n",
      "[51]\ttrain-error:0.12338\tval-error:0.26637\ttrain-f1_score:0.75290\tval-f1_score:0.42811\n",
      "[52]\ttrain-error:0.11797\tval-error:0.26385\ttrain-f1_score:0.76581\tval-f1_score:0.43412\n",
      "[53]\ttrain-error:0.11797\tval-error:0.26435\ttrain-f1_score:0.76651\tval-f1_score:0.43850\n",
      "[54]\ttrain-error:0.11797\tval-error:0.26485\ttrain-f1_score:0.76639\tval-f1_score:0.43803\n",
      "[55]\ttrain-error:0.11696\tval-error:0.26536\ttrain-f1_score:0.76896\tval-f1_score:0.43394\n",
      "[56]\ttrain-error:0.11646\tval-error:0.26787\ttrain-f1_score:0.76915\tval-f1_score:0.42549\n",
      "[57]\ttrain-error:0.11658\tval-error:0.26838\ttrain-f1_score:0.76827\tval-f1_score:0.42378\n",
      "[58]\ttrain-error:0.11129\tval-error:0.26939\ttrain-f1_score:0.78097\tval-f1_score:0.43146\n",
      "[59]\ttrain-error:0.10726\tval-error:0.26888\ttrain-f1_score:0.79056\tval-f1_score:0.42827\n",
      "[60]\ttrain-error:0.10663\tval-error:0.27039\ttrain-f1_score:0.79204\tval-f1_score:0.43175\n",
      "[61]\ttrain-error:0.10399\tval-error:0.26888\ttrain-f1_score:0.79745\tval-f1_score:0.43312\n",
      "[62]\ttrain-error:0.10512\tval-error:0.27039\ttrain-f1_score:0.79439\tval-f1_score:0.43175\n",
      "[63]\ttrain-error:0.10298\tval-error:0.27291\ttrain-f1_score:0.79931\tval-f1_score:0.43067\n",
      "[64]\ttrain-error:0.10097\tval-error:0.27543\ttrain-f1_score:0.80197\tval-f1_score:0.41746\n",
      "[65]\ttrain-error:0.09845\tval-error:0.27996\ttrain-f1_score:0.80729\tval-f1_score:0.40598\n",
      "[66]\ttrain-error:0.09782\tval-error:0.27643\ttrain-f1_score:0.80923\tval-f1_score:0.41534\n",
      "[67]\ttrain-error:0.09593\tval-error:0.27140\ttrain-f1_score:0.81287\tval-f1_score:0.42229\n",
      "[68]\ttrain-error:0.09367\tval-error:0.27543\ttrain-f1_score:0.81800\tval-f1_score:0.41372\n",
      "[69]\ttrain-error:0.09228\tval-error:0.27643\ttrain-f1_score:0.82187\tval-f1_score:0.41283\n",
      "[70]\ttrain-error:0.09153\tval-error:0.27795\ttrain-f1_score:0.82350\tval-f1_score:0.41026\n",
      "[71]\ttrain-error:0.08976\tval-error:0.27593\ttrain-f1_score:0.82757\tval-f1_score:0.41578\n",
      "[72]\ttrain-error:0.08888\tval-error:0.27492\ttrain-f1_score:0.82955\tval-f1_score:0.41290\n",
      "[73]\ttrain-error:0.08951\tval-error:0.27492\ttrain-f1_score:0.82797\tval-f1_score:0.41290\n",
      "Stopping. Best iteration:\n",
      "[53]\ttrain-error:0.11797\tval-error:0.26435\ttrain-f1_score:0.76651\tval-f1_score:0.43850\n",
      "\n"
     ]
    }
   ],
   "source": [
    "xgb_model = xgb.train(\n",
    "    PARAMETERS,\n",
    "    d_train_w2v,\n",
    "    feval = custom_f1_score,\n",
    "    num_boost_round = NUM_BOOST_ROUNDS,\n",
    "    maximize = True,\n",
    "    evals = watchlist_w2v,\n",
    "    early_stopping_rounds = EARLY_STOPPING_ROUNDS, \n",
    "    verbose_eval = True)"
   ]
  },
  {
   "cell_type": "code",
   "execution_count": 49,
   "metadata": {},
   "outputs": [],
   "source": [
    "y_probas_train_w2v = xgb_model.predict(d_train_w2v)\n",
    "y_probas_test_w2v = xgb_model.predict(d_test_w2v)"
   ]
  },
  {
   "cell_type": "code",
   "execution_count": 50,
   "metadata": {},
   "outputs": [],
   "source": [
    "y_pred_test_w2v = np.round(y_probas_test_w2v)"
   ]
  },
  {
   "cell_type": "code",
   "execution_count": 51,
   "metadata": {},
   "outputs": [
    {
     "name": "stdout",
     "output_type": "stream",
     "text": [
      "True Negatives:  689\n",
      "False Positives:  96\n",
      "False Negatives:  212\n",
      "True Positives:  107\n"
     ]
    },
    {
     "data": {
      "image/png": "[encoded data removed]",
      "text/plain": [
       "<Figure size 360x360 with 2 Axes>"
      ]
     },
     "metadata": {
      "needs_background": "light"
     },
     "output_type": "display_data"
    }
   ],
   "source": [
    "plot_cfm(y_test_w2v, y_probas_test_w2v)"
   ]
  },
  {
   "cell_type": "code",
   "execution_count": 52,
   "metadata": {},
   "outputs": [
    {
     "name": "stdout",
     "output_type": "stream",
     "text": [
      "              precision    recall  f1-score   support\n",
      "\n",
      "           0       0.76      0.88      0.82       785\n",
      "           1       0.53      0.34      0.41       319\n",
      "\n",
      "    accuracy                           0.72      1104\n",
      "   macro avg       0.65      0.61      0.61      1104\n",
      "weighted avg       0.70      0.72      0.70      1104\n",
      "\n"
     ]
    }
   ],
   "source": [
    "print(classification_report(y_test_w2v, y_pred_test_w2v))"
   ]
  },
  {
   "cell_type": "code",
   "execution_count": 53,
   "metadata": {},
   "outputs": [
    {
     "name": "stdout",
     "output_type": "stream",
     "text": [
      "W2V F1: 0.70\n"
     ]
    }
   ],
   "source": [
    "f1_w2v = f1_score(y_test_w2v, y_pred_test_w2v, average = 'weighted')\n",
    "print('W2V F1: %.2f' % f1_w2v)"
   ]
  },
  {
   "cell_type": "code",
   "execution_count": 54,
   "metadata": {},
   "outputs": [
    {
     "name": "stdout",
     "output_type": "stream",
     "text": [
      "W2V AUC: 0.67\n"
     ]
    }
   ],
   "source": [
    "auc_w2v = roc_auc_score(y_test_w2v, y_probas_test_w2v)\n",
    "print('W2V AUC: %.2f' % auc_w2v)"
   ]
  },
  {
   "cell_type": "code",
   "execution_count": 55,
   "metadata": {},
   "outputs": [
    {
     "data": {
      "image/png": "[encoded data removed]",
      "text/plain": [
       "<Figure size 864x720 with 1 Axes>"
      ]
     },
     "metadata": {
      "needs_background": "light"
     },
     "output_type": "display_data"
    }
   ],
   "source": [
    "plot_roc(\"Train W2V\", y_train_w2v, y_probas_train_w2v, color = colors[0])\n",
    "plot_roc(\"Test W2V\", y_test_w2v, y_probas_test_w2v, color = colors[0], linestyle='--')"
   ]
  },
  {
   "cell_type": "markdown",
   "metadata": {},
   "source": [
    "Here we notice a similar behaviour as for the TF-IDF features: XGBoost seems to achieve a perfect ROC AUC curve for the training data, but fails to generalize for the test data."
   ]
  },
  {
   "cell_type": "markdown",
   "metadata": {},
   "source": [
    "***\n",
    "\n",
    "**Glove/FastText Embeddings**\n",
    "\n",
    "***"
   ]
  },
  {
   "cell_type": "code",
   "execution_count": 56,
   "metadata": {},
   "outputs": [],
   "source": [
    "gft_features = np.load('gloveft_features.npy', allow_pickle=True)"
   ]
  },
  {
   "cell_type": "code",
   "execution_count": 57,
   "metadata": {},
   "outputs": [
    {
     "name": "stdout",
     "output_type": "stream",
     "text": [
      "x: (11033, 100) float64\n",
      "y: (11033,) int64\n"
     ]
    }
   ],
   "source": [
    "# Create X/y arrays\n",
    "comments_gft = gft_features\n",
    "labels_gft = labels\n",
    "print('x:', comments_gft.shape, comments_gft.dtype) \n",
    "print('y:', labels_gft.shape, labels_gft.dtype)"
   ]
  },
  {
   "cell_type": "code",
   "execution_count": 58,
   "metadata": {},
   "outputs": [],
   "source": [
    "x_train_val_gft, x_test_gft, y_train_val_gft, y_test_gft = train_test_split(comments_gft, labels_gft,\n",
    "                                                  test_size = TRAIN_TEST_SPLIT_SIZE, stratify = labels_gft,\n",
    "                                                  random_state = RANDOM_STATE)"
   ]
  },
  {
   "cell_type": "code",
   "execution_count": 59,
   "metadata": {},
   "outputs": [],
   "source": [
    "x_train_gft, x_val_gft, y_train_gft, y_val_gft = train_test_split(x_train_val_gft, y_train_val_gft,\n",
    "                                                  test_size = VALIDATION_SPLIT_SIZE, stratify = y_train_val_gft,\n",
    "                                                  random_state = RANDOM_STATE)"
   ]
  },
  {
   "cell_type": "code",
   "execution_count": 60,
   "metadata": {},
   "outputs": [],
   "source": [
    "# A DMatrix can contain both the features and the target.\n",
    "d_train_gft = xgb.DMatrix(x_train_gft, label = y_train_gft) \n",
    "d_test_gft = xgb.DMatrix(x_test_gft, label = y_test_gft)\n",
    "d_val_gft = xgb.DMatrix(x_val_gft, label = y_val_gft)\n",
    "watchlist_gft = [(d_train_gft, 'train'), (d_val_gft, 'val')]"
   ]
  },
  {
   "cell_type": "code",
   "execution_count": 61,
   "metadata": {},
   "outputs": [
    {
     "data": {
      "text/plain": [
       "{'objective': 'binary:logistic',\n",
       " 'max_depth': 6,\n",
       " 'min_child_weight': 1,\n",
       " 'eta': 0.3,\n",
       " 'subsample': 1,\n",
       " 'colsample_bytree': 1}"
      ]
     },
     "execution_count": 61,
     "metadata": {},
     "output_type": "execute_result"
    }
   ],
   "source": [
    "# initialize parameters to default values\n",
    "init_params()"
   ]
  },
  {
   "cell_type": "code",
   "execution_count": 62,
   "metadata": {},
   "outputs": [
    {
     "name": "stdout",
     "output_type": "stream",
     "text": [
      "Performing cross validation for parameters max_depth = 3, min_child_weight = 1\n",
      "\tF1 Score 0.3372966 reached after 0 rounds\n",
      "Performing cross validation for parameters max_depth = 3, min_child_weight = 3\n",
      "\tF1 Score 0.3373845999999999 reached after 0 rounds\n",
      "Performing cross validation for parameters max_depth = 3, min_child_weight = 5\n",
      "\tF1 Score 0.33705379999999996 reached after 0 rounds\n",
      "Performing cross validation for parameters max_depth = 5, min_child_weight = 1\n",
      "\tF1 Score 0.3933238 reached after 29 rounds\n",
      "Performing cross validation for parameters max_depth = 5, min_child_weight = 3\n",
      "\tF1 Score 0.39621199999999995 reached after 71 rounds\n",
      "Performing cross validation for parameters max_depth = 5, min_child_weight = 5\n",
      "\tF1 Score 0.3979212 reached after 63 rounds\n",
      "Performing cross validation for parameters max_depth = 7, min_child_weight = 1\n",
      "\tF1 Score 0.39862840000000005 reached after 20 rounds\n",
      "Performing cross validation for parameters max_depth = 7, min_child_weight = 3\n",
      "\tF1 Score 0.39318660000000005 reached after 28 rounds\n",
      "Performing cross validation for parameters max_depth = 7, min_child_weight = 5\n",
      "\tF1 Score 0.3967144 reached after 40 rounds\n",
      "Performing cross validation for parameters max_depth = 9, min_child_weight = 1\n",
      "\tF1 Score 0.389241 reached after 18 rounds\n",
      "Performing cross validation for parameters max_depth = 9, min_child_weight = 3\n",
      "\tF1 Score 0.3879342 reached after 0 rounds\n",
      "Performing cross validation for parameters max_depth = 9, min_child_weight = 5\n",
      "\tF1 Score 0.3956525999999999 reached after 56 rounds\n",
      "Best params: 7, 1, F1 Score: 0.39862840000000005\n"
     ]
    }
   ],
   "source": [
    "# Tune max_depth and min_child_weight\n",
    "gs_space = [\n",
    "    (max_depth, min_child_weight)\n",
    "    for max_depth in range(3,10,2)\n",
    "        for min_child_weight in range(1,6,2)\n",
    "]\n",
    "max_f1 = 0. # initializing with 0 \n",
    "best_params = None \n",
    "for max_depth, min_child_weight in gs_space:\n",
    "    print(\"Performing cross validation for parameters max_depth = {}, min_child_weight = {}\".format(max_depth, min_child_weight))\n",
    "    \n",
    "    # Update parameters\n",
    "    PARAMETERS['max_depth'] = max_depth\n",
    "    PARAMETERS['min_child_weight'] = min_child_weight\n",
    "\n",
    "    # Run cross validation\n",
    "    cv_results = cross_validation(PARAMETERS, d_train_gft)\n",
    "\n",
    "    # Find best F1 Score\n",
    "    mean_f1 = cv_results['test-f1_score-mean'].max()\n",
    "    \n",
    "    boost_rounds = np.argmax(cv_results['test-f1_score-mean'])    \n",
    "    print(\"\\tF1 Score {} reached after {} rounds\".format(mean_f1, boost_rounds))    \n",
    "    if mean_f1 > max_f1:\n",
    "        max_f1 = mean_f1\n",
    "        best_params = (max_depth, min_child_weight) \n",
    "\n",
    "print(\"Best params: {}, {}, F1 Score: {}\".format(best_params[0], best_params[1], max_f1))"
   ]
  },
  {
   "cell_type": "code",
   "execution_count": 63,
   "metadata": {},
   "outputs": [],
   "source": [
    "# Update max_depth and min_child_weight parameters.\n",
    "PARAMETERS['max_depth'] = best_params[0]\n",
    "PARAMETERS['min_child_weight'] = best_params[1]"
   ]
  },
  {
   "cell_type": "code",
   "execution_count": 64,
   "metadata": {},
   "outputs": [
    {
     "name": "stdout",
     "output_type": "stream",
     "text": [
      "Performing cross validation for parameters subsample = 0.5, colsample_bytree = 0.5\n",
      "\tF1 Score 0.4030028 reached after 35 rounds\n",
      "Performing cross validation for parameters subsample = 0.5, colsample_bytree = 0.6\n",
      "\tF1 Score 0.4046684 reached after 64 rounds\n",
      "Performing cross validation for parameters subsample = 0.5, colsample_bytree = 0.7\n",
      "\tF1 Score 0.40156220000000004 reached after 27 rounds\n",
      "Performing cross validation for parameters subsample = 0.5, colsample_bytree = 0.8\n",
      "\tF1 Score 0.40338139999999995 reached after 44 rounds\n",
      "Performing cross validation for parameters subsample = 0.5, colsample_bytree = 0.9\n",
      "\tF1 Score 0.3962852 reached after 32 rounds\n",
      "Performing cross validation for parameters subsample = 0.6, colsample_bytree = 0.5\n",
      "\tF1 Score 0.39233700000000005 reached after 40 rounds\n",
      "Performing cross validation for parameters subsample = 0.6, colsample_bytree = 0.6\n",
      "\tF1 Score 0.4014828 reached after 32 rounds\n",
      "Performing cross validation for parameters subsample = 0.6, colsample_bytree = 0.7\n",
      "\tF1 Score 0.40387700000000004 reached after 25 rounds\n",
      "Performing cross validation for parameters subsample = 0.6, colsample_bytree = 0.8\n",
      "\tF1 Score 0.4020258 reached after 37 rounds\n",
      "Performing cross validation for parameters subsample = 0.6, colsample_bytree = 0.9\n",
      "\tF1 Score 0.4013006 reached after 30 rounds\n",
      "Performing cross validation for parameters subsample = 0.7, colsample_bytree = 0.5\n",
      "\tF1 Score 0.40966500000000006 reached after 62 rounds\n",
      "Performing cross validation for parameters subsample = 0.7, colsample_bytree = 0.6\n",
      "\tF1 Score 0.3988048 reached after 30 rounds\n",
      "Performing cross validation for parameters subsample = 0.7, colsample_bytree = 0.7\n",
      "\tF1 Score 0.39513399999999993 reached after 41 rounds\n",
      "Performing cross validation for parameters subsample = 0.7, colsample_bytree = 0.8\n",
      "\tF1 Score 0.39166219999999996 reached after 25 rounds\n",
      "Performing cross validation for parameters subsample = 0.7, colsample_bytree = 0.9\n",
      "\tF1 Score 0.40644600000000003 reached after 24 rounds\n",
      "Performing cross validation for parameters subsample = 0.8, colsample_bytree = 0.5\n",
      "\tF1 Score 0.397618 reached after 39 rounds\n",
      "Performing cross validation for parameters subsample = 0.8, colsample_bytree = 0.6\n",
      "\tF1 Score 0.39922199999999997 reached after 37 rounds\n",
      "Performing cross validation for parameters subsample = 0.8, colsample_bytree = 0.7\n",
      "\tF1 Score 0.3923784 reached after 30 rounds\n",
      "Performing cross validation for parameters subsample = 0.8, colsample_bytree = 0.8\n",
      "\tF1 Score 0.39263580000000003 reached after 41 rounds\n",
      "Performing cross validation for parameters subsample = 0.8, colsample_bytree = 0.9\n",
      "\tF1 Score 0.3855632 reached after 22 rounds\n",
      "Performing cross validation for parameters subsample = 0.9, colsample_bytree = 0.5\n",
      "\tF1 Score 0.3960782 reached after 29 rounds\n",
      "Performing cross validation for parameters subsample = 0.9, colsample_bytree = 0.6\n",
      "\tF1 Score 0.3986872 reached after 32 rounds\n",
      "Performing cross validation for parameters subsample = 0.9, colsample_bytree = 0.7\n",
      "\tF1 Score 0.3869798 reached after 19 rounds\n",
      "Performing cross validation for parameters subsample = 0.9, colsample_bytree = 0.8\n",
      "\tF1 Score 0.39863919999999997 reached after 32 rounds\n",
      "Performing cross validation for parameters subsample = 0.9, colsample_bytree = 0.9\n",
      "\tF1 Score 0.3876752 reached after 16 rounds\n",
      "Best params: 0.7, 0.5, F1 Score: 0.40966500000000006\n"
     ]
    }
   ],
   "source": [
    "# Tune subsample and colsample\n",
    "gs_space = [\n",
    "    (subsample, colsample_bytree)\n",
    "    for subsample in [i/10. for i in range(5,10)]\n",
    "    for colsample_bytree in [i/10. for i in range(5,10)]\n",
    "]\n",
    "max_f1 = 0. \n",
    "best_params = None \n",
    "for subsample, colsample_bytree in gs_space:\n",
    "    print(\"Performing cross validation for parameters subsample = {}, colsample_bytree = {}\".format(subsample, colsample_bytree))\n",
    "    \n",
    "    # Update parameters\n",
    "    PARAMETERS['colsample_bytree'] = colsample_bytree\n",
    "    PARAMETERS['subsample'] = subsample\n",
    "    \n",
    "    # Run cross validation\n",
    "    cv_results = cross_validation(PARAMETERS, d_train_gft)\n",
    "\n",
    "    # Find best F1 Score\n",
    "    mean_f1 = cv_results['test-f1_score-mean'].max()\n",
    "    boost_rounds = np.argmax(cv_results['test-f1_score-mean'])    \n",
    "    print(\"\\tF1 Score {} reached after {} rounds\".format(mean_f1, boost_rounds))\n",
    "    if mean_f1 > max_f1:\n",
    "        max_f1 = mean_f1\n",
    "        best_params = (subsample, colsample_bytree) \n",
    "\n",
    "print(\"Best params: {}, {}, F1 Score: {}\".format(best_params[0], best_params[1], max_f1))"
   ]
  },
  {
   "cell_type": "code",
   "execution_count": 65,
   "metadata": {},
   "outputs": [],
   "source": [
    "# Update subsample and colsample_bytree\n",
    "PARAMETERS['subsample'] = best_params[0]\n",
    "PARAMETERS['colsample_bytree'] = best_params[1]"
   ]
  },
  {
   "cell_type": "code",
   "execution_count": 66,
   "metadata": {},
   "outputs": [
    {
     "name": "stdout",
     "output_type": "stream",
     "text": [
      "Performing cross validation for parameter eta = 0.3\n",
      "\tF1 Score 0.40966500000000006 reached after 62 rounds\n",
      "Performing cross validation for parameter eta = 0.2\n",
      "\tF1 Score 0.3873648 reached after 60 rounds\n",
      "Performing cross validation for parameter eta = 0.1\n",
      "\tF1 Score 0.359674 reached after 0 rounds\n",
      "Performing cross validation for parameter eta = 0.05\n",
      "\tF1 Score 0.359674 reached after 0 rounds\n",
      "Performing cross validation for parameter eta = 0.01\n",
      "\tF1 Score 0.359674 reached after 0 rounds\n",
      "Performing cross validation for parameter eta = 0.005\n",
      "\tF1 Score 0.359674 reached after 0 rounds\n",
      "Best params: 0.3, F1 Score: 0.40966500000000006\n"
     ]
    }
   ],
   "source": [
    "# Tune the learning rate.\n",
    "max_f1 = 0. \n",
    "best_params = None \n",
    "for eta in [.3, .2, .1, .05, .01, .005]:\n",
    "    print(\"Performing cross validation for parameter eta = {}\".format(eta))\n",
    "    \n",
    "    # Update ETA\n",
    "    PARAMETERS['eta'] = eta\n",
    "\n",
    "    # Run cross validation\n",
    "    cv_results = cross_validation(PARAMETERS, d_train_gft)\n",
    "\n",
    "    # Find best F1 Score\n",
    "    mean_f1 = cv_results['test-f1_score-mean'].max()\n",
    "    boost_rounds = np.argmax(cv_results['test-f1_score-mean'])    \n",
    "    print(\"\\tF1 Score {} reached after {} rounds\".format(mean_f1, boost_rounds))\n",
    "    if mean_f1 > max_f1:\n",
    "        max_f1 = mean_f1\n",
    "        best_params = eta \n",
    "print(\"Best params: {}, F1 Score: {}\".format(best_params, max_f1))"
   ]
  },
  {
   "cell_type": "code",
   "execution_count": 67,
   "metadata": {},
   "outputs": [],
   "source": [
    "# Update eta.\n",
    "PARAMETERS['eta'] = best_params"
   ]
  },
  {
   "cell_type": "code",
   "execution_count": 68,
   "metadata": {},
   "outputs": [
    {
     "data": {
      "text/plain": [
       "{'objective': 'binary:logistic',\n",
       " 'max_depth': 7,\n",
       " 'min_child_weight': 1,\n",
       " 'eta': 0.3,\n",
       " 'subsample': 0.7,\n",
       " 'colsample_bytree': 0.5}"
      ]
     },
     "execution_count": 68,
     "metadata": {},
     "output_type": "execute_result"
    }
   ],
   "source": [
    "PARAMETERS"
   ]
  },
  {
   "cell_type": "code",
   "execution_count": 69,
   "metadata": {},
   "outputs": [
    {
     "name": "stdout",
     "output_type": "stream",
     "text": [
      "[0]\ttrain-error:0.23794\tval-error:0.28751\ttrain-f1_score:0.44386\tval-f1_score:0.34783\n",
      "Multiple eval metrics have been passed: 'val-f1_score' will be used for early stopping.\n",
      "\n",
      "Will train until val-f1_score hasn't improved in 20 rounds.\n",
      "[1]\ttrain-error:0.20949\tval-error:0.28097\ttrain-f1_score:0.53311\tval-f1_score:0.37584\n",
      "[2]\ttrain-error:0.20055\tval-error:0.27946\ttrain-f1_score:0.54834\tval-f1_score:0.36280\n",
      "[3]\ttrain-error:0.19099\tval-error:0.27593\ttrain-f1_score:0.56471\tval-f1_score:0.35981\n",
      "[4]\ttrain-error:0.18419\tval-error:0.27140\ttrain-f1_score:0.58116\tval-f1_score:0.36364\n",
      "[5]\ttrain-error:0.17323\tval-error:0.27090\ttrain-f1_score:0.61042\tval-f1_score:0.37296\n",
      "[6]\ttrain-error:0.16996\tval-error:0.27090\ttrain-f1_score:0.62248\tval-f1_score:0.38303\n",
      "[7]\ttrain-error:0.16039\tval-error:0.26737\ttrain-f1_score:0.64846\tval-f1_score:0.39314\n",
      "[8]\ttrain-error:0.15334\tval-error:0.26385\ttrain-f1_score:0.66776\tval-f1_score:0.39211\n",
      "[9]\ttrain-error:0.14579\tval-error:0.27039\ttrain-f1_score:0.68652\tval-f1_score:0.37631\n",
      "[10]\ttrain-error:0.13861\tval-error:0.27190\ttrain-f1_score:0.70601\tval-f1_score:0.37644\n",
      "[11]\ttrain-error:0.13509\tval-error:0.26838\ttrain-f1_score:0.71606\tval-f1_score:0.38524\n",
      "[12]\ttrain-error:0.12816\tval-error:0.26989\ttrain-f1_score:0.73323\tval-f1_score:0.38673\n",
      "[13]\ttrain-error:0.12426\tval-error:0.26687\ttrain-f1_score:0.74568\tval-f1_score:0.40181\n",
      "[14]\ttrain-error:0.11620\tval-error:0.27241\ttrain-f1_score:0.76327\tval-f1_score:0.38732\n",
      "[15]\ttrain-error:0.11255\tval-error:0.27241\ttrain-f1_score:0.77252\tval-f1_score:0.38732\n",
      "[16]\ttrain-error:0.10714\tval-error:0.27442\ttrain-f1_score:0.78666\tval-f1_score:0.39106\n",
      "[17]\ttrain-error:0.09996\tval-error:0.27543\ttrain-f1_score:0.80268\tval-f1_score:0.38608\n",
      "[18]\ttrain-error:0.09467\tval-error:0.27492\ttrain-f1_score:0.81542\tval-f1_score:0.40000\n",
      "[19]\ttrain-error:0.09191\tval-error:0.27845\ttrain-f1_score:0.82125\tval-f1_score:0.39164\n",
      "[20]\ttrain-error:0.09039\tval-error:0.27946\ttrain-f1_score:0.82496\tval-f1_score:0.38402\n",
      "[21]\ttrain-error:0.08700\tval-error:0.27946\ttrain-f1_score:0.83273\tval-f1_score:0.38265\n",
      "[22]\ttrain-error:0.08322\tval-error:0.28348\ttrain-f1_score:0.83952\tval-f1_score:0.37095\n",
      "[23]\ttrain-error:0.07944\tval-error:0.27845\ttrain-f1_score:0.84821\tval-f1_score:0.38212\n",
      "[24]\ttrain-error:0.07717\tval-error:0.27643\ttrain-f1_score:0.85401\tval-f1_score:0.39604\n",
      "[25]\ttrain-error:0.07415\tval-error:0.27341\ttrain-f1_score:0.86059\tval-f1_score:0.40000\n",
      "[26]\ttrain-error:0.06962\tval-error:0.27090\ttrain-f1_score:0.86979\tval-f1_score:0.40487\n",
      "[27]\ttrain-error:0.06811\tval-error:0.26787\ttrain-f1_score:0.87315\tval-f1_score:0.40090\n",
      "[28]\ttrain-error:0.06572\tval-error:0.27241\ttrain-f1_score:0.87769\tval-f1_score:0.39553\n",
      "[29]\ttrain-error:0.06396\tval-error:0.27291\ttrain-f1_score:0.88047\tval-f1_score:0.38826\n",
      "[30]\ttrain-error:0.05980\tval-error:0.27543\ttrain-f1_score:0.88915\tval-f1_score:0.38192\n",
      "[31]\ttrain-error:0.05640\tval-error:0.27643\ttrain-f1_score:0.89610\tval-f1_score:0.38106\n",
      "[32]\ttrain-error:0.05363\tval-error:0.27442\ttrain-f1_score:0.90130\tval-f1_score:0.38279\n",
      "[33]\ttrain-error:0.05199\tval-error:0.27392\ttrain-f1_score:0.90482\tval-f1_score:0.39014\n",
      "[34]\ttrain-error:0.04885\tval-error:0.27392\ttrain-f1_score:0.91166\tval-f1_score:0.40351\n",
      "[35]\ttrain-error:0.04696\tval-error:0.27543\ttrain-f1_score:0.91548\tval-f1_score:0.39290\n",
      "[36]\ttrain-error:0.04557\tval-error:0.27895\ttrain-f1_score:0.91821\tval-f1_score:0.39913\n",
      "[37]\ttrain-error:0.04494\tval-error:0.27392\ttrain-f1_score:0.91914\tval-f1_score:0.40481\n",
      "[38]\ttrain-error:0.04155\tval-error:0.27392\ttrain-f1_score:0.92564\tval-f1_score:0.40351\n",
      "[39]\ttrain-error:0.03928\tval-error:0.27442\ttrain-f1_score:0.93005\tval-f1_score:0.40307\n",
      "[40]\ttrain-error:0.03903\tval-error:0.27492\ttrain-f1_score:0.93043\tval-f1_score:0.40393\n",
      "[41]\ttrain-error:0.03802\tval-error:0.27392\ttrain-f1_score:0.93186\tval-f1_score:0.40088\n",
      "[42]\ttrain-error:0.03525\tval-error:0.27795\ttrain-f1_score:0.93699\tval-f1_score:0.38667\n",
      "[43]\ttrain-error:0.03500\tval-error:0.27392\ttrain-f1_score:0.93756\tval-f1_score:0.39823\n",
      "[44]\ttrain-error:0.03374\tval-error:0.27341\ttrain-f1_score:0.93988\tval-f1_score:0.40132\n",
      "[45]\ttrain-error:0.03261\tval-error:0.27291\ttrain-f1_score:0.94199\tval-f1_score:0.40177\n",
      "[46]\ttrain-error:0.03173\tval-error:0.27442\ttrain-f1_score:0.94360\tval-f1_score:0.40307\n",
      "Stopping. Best iteration:\n",
      "[26]\ttrain-error:0.06962\tval-error:0.27090\ttrain-f1_score:0.86979\tval-f1_score:0.40487\n",
      "\n"
     ]
    }
   ],
   "source": [
    "xgb_model = xgb.train(\n",
    "    PARAMETERS,\n",
    "    d_train_gft,\n",
    "    feval = custom_f1_score,\n",
    "    num_boost_round = NUM_BOOST_ROUNDS,\n",
    "    maximize = True,\n",
    "    evals = watchlist_gft,\n",
    "    early_stopping_rounds = EARLY_STOPPING_ROUNDS, \n",
    "    verbose_eval = True)"
   ]
  },
  {
   "cell_type": "code",
   "execution_count": 70,
   "metadata": {},
   "outputs": [],
   "source": [
    "y_probas_train_gft = xgb_model.predict(d_train_gft)\n",
    "y_probas_test_gft = xgb_model.predict(d_test_gft)"
   ]
  },
  {
   "cell_type": "code",
   "execution_count": 71,
   "metadata": {},
   "outputs": [],
   "source": [
    "y_pred_test_gft = np.round(y_probas_test_gft)"
   ]
  },
  {
   "cell_type": "code",
   "execution_count": 72,
   "metadata": {},
   "outputs": [
    {
     "name": "stdout",
     "output_type": "stream",
     "text": [
      "True Negatives:  684\n",
      "False Positives:  101\n",
      "False Negatives:  216\n",
      "True Positives:  103\n"
     ]
    },
    {
     "data": {
      "image/png": "[encoded data removed]",
      "text/plain": [
       "<Figure size 360x360 with 2 Axes>"
      ]
     },
     "metadata": {
      "needs_background": "light"
     },
     "output_type": "display_data"
    }
   ],
   "source": [
    "plot_cfm(y_test_gft, y_probas_test_gft)"
   ]
  },
  {
   "cell_type": "code",
   "execution_count": 73,
   "metadata": {},
   "outputs": [
    {
     "name": "stdout",
     "output_type": "stream",
     "text": [
      "              precision    recall  f1-score   support\n",
      "\n",
      "           0       0.76      0.87      0.81       785\n",
      "           1       0.50      0.32      0.39       319\n",
      "\n",
      "    accuracy                           0.71      1104\n",
      "   macro avg       0.63      0.60      0.60      1104\n",
      "weighted avg       0.69      0.71      0.69      1104\n",
      "\n"
     ]
    }
   ],
   "source": [
    "print(classification_report(y_test_gft, y_pred_test_gft))"
   ]
  },
  {
   "cell_type": "code",
   "execution_count": 74,
   "metadata": {},
   "outputs": [
    {
     "name": "stdout",
     "output_type": "stream",
     "text": [
      "Glove/FastText F1: 0.69\n"
     ]
    }
   ],
   "source": [
    "f1_gft = f1_score(y_test_gft, y_pred_test_gft, average = 'weighted')\n",
    "print('Glove/FastText F1: %.2f' % f1_gft)"
   ]
  },
  {
   "cell_type": "code",
   "execution_count": 75,
   "metadata": {},
   "outputs": [
    {
     "name": "stdout",
     "output_type": "stream",
     "text": [
      "Glove/FastText AUC: 0.65\n"
     ]
    }
   ],
   "source": [
    "auc_gft = roc_auc_score(y_test_gft, y_probas_test_gft)\n",
    "print('Glove/FastText AUC: %.2f' % auc_gft)"
   ]
  },
  {
   "cell_type": "code",
   "execution_count": 76,
   "metadata": {},
   "outputs": [
    {
     "data": {
      "image/png": "[encoded data removed]",
      "text/plain": [
       "<Figure size 864x720 with 1 Axes>"
      ]
     },
     "metadata": {
      "needs_background": "light"
     },
     "output_type": "display_data"
    }
   ],
   "source": [
    "plot_roc(\"Train Glove/FastText\", y_train_gft, y_probas_train_gft, color = colors[0])\n",
    "plot_roc(\"Test Glove/FastText\", y_test_gft, y_probas_test_gft, color = colors[0], linestyle = '--')"
   ]
  },
  {
   "cell_type": "markdown",
   "metadata": {},
   "source": [
    "***\n",
    "\n",
    "**Summary**\n",
    "\n",
    "***"
   ]
  },
  {
   "cell_type": "code",
   "execution_count": 77,
   "metadata": {},
   "outputs": [
    {
     "name": "stdout",
     "output_type": "stream",
     "text": [
      "┌───────────────────────────┬────────────────────┬────────────────────┐\n",
      "│ Classifier                │ F1                 │ AUC                │\n",
      "├───────────────────────────┼────────────────────┼────────────────────┤\n",
      "│ XGBoost w. TFIDF          │ 0.7185734308615479 │ 0.7190982968272668 │\n",
      "├───────────────────────────┼────────────────────┼────────────────────┤\n",
      "│ XGBoost w. Word2Vec       │ 0.6996134692637865 │ 0.6720244394305454 │\n",
      "├───────────────────────────┼────────────────────┼────────────────────┤\n",
      "│ XGBoost w. Glove/FastText │ 0.6910921113902201 │ 0.6469300960405726 │\n",
      "└───────────────────────────┴────────────────────┴────────────────────┘\n"
     ]
    }
   ],
   "source": [
    "# !pip install tabletext\n",
    "import tabletext\n",
    "\n",
    "table = [[\"Classifier\", \"F1\", \"AUC\"],\n",
    "        [\"XGBoost w. TFIDF\", f1_tfidf, auc_tfidf],\n",
    "        [\"XGBoost w. Word2Vec\", f1_w2v, auc_w2v],\n",
    "        [\"XGBoost w. Glove/FastText\", f1_gft, auc_gft],\n",
    "        ]\n",
    "\n",
    "\n",
    "print (tabletext.to_text(table))"
   ]
  },
  {
   "cell_type": "code",
   "execution_count": 78,
   "metadata": {},
   "outputs": [
    {
     "data": {
      "image/png": "[encoded data removed]",
      "text/plain": [
       "<Figure size 864x720 with 1 Axes>"
      ]
     },
     "metadata": {
      "needs_background": "light"
     },
     "output_type": "display_data"
    }
   ],
   "source": [
    "plot_roc(\"Test TFIDF\", y_test_tfidf, y_probas_test_tfidf, color = colors[0], linestyle = '--')\n",
    "\n",
    "plot_roc(\"Test W2V\", y_test_w2v, y_probas_test_w2v, color = colors[1], linestyle = '--')\n",
    "\n",
    "plot_roc(\"Test Glove/FastText\", y_test_gft, y_probas_test_gft, color = colors[2], linestyle = '--')"
   ]
  },
  {
   "cell_type": "code",
   "execution_count": null,
   "metadata": {},
   "outputs": [],
   "source": []
  }
 ],
 "metadata": {
  "kernelspec": {
   "display_name": "Python 3",
   "language": "python",
   "name": "python3"
  },
  "language_info": {
   "codemirror_mode": {
    "name": "ipython",
    "version": 3
   },
   "file_extension": ".py",
   "mimetype": "text/x-python",
   "name": "python",
   "nbconvert_exporter": "python",
   "pygments_lexer": "ipython3",
   "version": "3.6.10"
  }
 },
 "nbformat": 4,
 "nbformat_minor": 2
}
