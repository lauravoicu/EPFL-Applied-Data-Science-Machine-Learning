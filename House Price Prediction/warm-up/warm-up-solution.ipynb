{
 "cells": [
  {
   "cell_type": "markdown",
   "metadata": {},
   "source": [
    "The first part of the project consists of two small tasks."
   ]
  },
  {
   "cell_type": "code",
   "execution_count": 1,
   "metadata": {},
   "outputs": [],
   "source": [
    "import pandas as pd\n",
    "import numpy as np\n",
    "import matplotlib.pyplot as plt\n",
    "import seaborn as sns\n",
    "from scipy import stats\n",
    "from sklearn.model_selection import train_test_split\n",
    "from sklearn.preprocessing import PolynomialFeatures\n",
    "from sklearn.linear_model import LinearRegression, HuberRegressor, Ridge\n",
    "from sklearn.metrics import mean_absolute_error as mae\n",
    "#sns.set()\n",
    "%matplotlib inline"
   ]
  },
  {
   "cell_type": "markdown",
   "metadata": {},
   "source": [
    "### TASK 1\n",
    "The first task consists of fitting the following equation to a set of 50 x/y data points:\n",
    "$ y  = a * log(x) + b $\n",
    "\n",
    "The curve should be optimal with respect to the residual sum of squares metric (RSS). Perform the following steps:\n",
    "\n",
    "- Fit the curve, plot it\n",
    "- Compute the RSS and $ R^2 $ measures\n",
    "- Discuss the results, is it a good $ R^2 $ score?"
   ]
  },
  {
   "cell_type": "code",
   "execution_count": 2,
   "metadata": {},
   "outputs": [
    {
     "data": {
      "text/html": [
       "<div>\n",
       "<style scoped>\n",
       "    .dataframe tbody tr th:only-of-type {\n",
       "        vertical-align: middle;\n",
       "    }\n",
       "\n",
       "    .dataframe tbody tr th {\n",
       "        vertical-align: top;\n",
       "    }\n",
       "\n",
       "    .dataframe thead th {\n",
       "        text-align: right;\n",
       "    }\n",
       "</style>\n",
       "<table border=\"1\" class=\"dataframe\">\n",
       "  <thead>\n",
       "    <tr style=\"text-align: right;\">\n",
       "      <th></th>\n",
       "      <th>x</th>\n",
       "      <th>y</th>\n",
       "    </tr>\n",
       "  </thead>\n",
       "  <tbody>\n",
       "    <tr>\n",
       "      <td>0</td>\n",
       "      <td>10.529</td>\n",
       "      <td>39.105</td>\n",
       "    </tr>\n",
       "    <tr>\n",
       "      <td>1</td>\n",
       "      <td>10.799</td>\n",
       "      <td>40.584</td>\n",
       "    </tr>\n",
       "    <tr>\n",
       "      <td>2</td>\n",
       "      <td>11.698</td>\n",
       "      <td>39.883</td>\n",
       "    </tr>\n",
       "    <tr>\n",
       "      <td>3</td>\n",
       "      <td>12.851</td>\n",
       "      <td>39.411</td>\n",
       "    </tr>\n",
       "    <tr>\n",
       "      <td>4</td>\n",
       "      <td>13.565</td>\n",
       "      <td>40.760</td>\n",
       "    </tr>\n",
       "  </tbody>\n",
       "</table>\n",
       "</div>"
      ],
      "text/plain": [
       "        x       y\n",
       "0  10.529  39.105\n",
       "1  10.799  40.584\n",
       "2  11.698  39.883\n",
       "3  12.851  39.411\n",
       "4  13.565  40.760"
      ]
     },
     "execution_count": 2,
     "metadata": {},
     "output_type": "execute_result"
    }
   ],
   "source": [
    "df_1 = pd.read_csv('task-1.csv')\n",
    "df_1.head()"
   ]
  },
  {
   "cell_type": "code",
   "execution_count": 3,
   "metadata": {},
   "outputs": [
    {
     "name": "stdout",
     "output_type": "stream",
     "text": [
      "3.3902409977137995 31.52920121929614\n"
     ]
    }
   ],
   "source": [
    "x_1 = df_1.x.values\n",
    "y_1 = df_1.y.values\n",
    "\n",
    "coefs_1 = np.polyfit(np.log(x_1),y_1, deg=1)\n",
    "a_1, b_1 = coefs_1\n",
    "\n",
    "print(a_1, b_1)"
   ]
  },
  {
   "cell_type": "code",
   "execution_count": 6,
   "metadata": {},
   "outputs": [
    {
     "data": {
      "image/png": "[encoded data removed]",
      "text/plain": [
       "<Figure size 432x288 with 1 Axes>"
      ]
     },
     "metadata": {
      "needs_background": "light"
     },
     "output_type": "display_data"
    }
   ],
   "source": [
    "x_values_1 = np.linspace(x_1.min(), x_1.max(), num=len(x_1))\n",
    "y_values_1 = np.polyval(coefs_1, np.log(x_values_1))\n",
    "\n",
    "plt.scatter(x_1,y_1)\n",
    "plt.plot(x_values_1, y_values_1, c='C3', label='po1yfit(deg=1)')\n",
    "\n",
    "\n",
    "plt.show()"
   ]
  },
  {
   "cell_type": "code",
   "execution_count": 5,
   "metadata": {},
   "outputs": [
    {
     "name": "stdout",
     "output_type": "stream",
     "text": [
      "0.9411567093138288\n"
     ]
    }
   ],
   "source": [
    "def RSS(y, y_pred):\n",
    "    return np.sum(np.square(np.subtract(y,y_pred)))\n",
    "\n",
    "rss_baseline_1 = RSS(y_1, y_1.mean())\n",
    "rss_model_1 = RSS(y_1, np.polyval(coefs_1, np.log(x_1)))\n",
    "\n",
    "\n",
    "R2_1 = 1 - (rss_model_1 / rss_baseline_1)\n",
    "print(R2_1)"
   ]
  },
  {
   "cell_type": "markdown",
   "metadata": {},
   "source": [
    "R-squared is a statistical measure of how close the data are to the fitted regression line. It is also known as the coefficient of determination, or the coefficient of multiple determination for multiple regression.\n",
    "R-squared is always between 0 and 100%:\n",
    "- 0 indicates that the model explains none of the variability of the response data around its mean.\n",
    "- 1 indicates that the model explains all the variability of the response data around its mean.\n",
    "\n",
    "In general, the higher the R-squared, the better the model fits the data, in our case R-squared is 0.94."
   ]
  },
  {
   "cell_type": "markdown",
   "metadata": {},
   "source": [
    "### TASK 2\n",
    "The second task consists of fitting a model to a set of data points that contains outliers.\n",
    "The goal is to try and compare different approaches to handle outliers. Use the train/test split methodology (ex. 80-20 splits) and compare the test MAE score for each one of the following approaches\n",
    "\n",
    "- Fit a linear regression with the outliers\n",
    "- Fit a huber regression with the outliers\n",
    "- Fit a linear regression without the outliers\n",
    "\n",
    "The linear regression without outliers and huber regression models should both perform better than the linear regression with outliers."
   ]
  },
  {
   "cell_type": "code",
   "execution_count": 7,
   "metadata": {},
   "outputs": [
    {
     "data": {
      "text/html": [
       "<div>\n",
       "<style scoped>\n",
       "    .dataframe tbody tr th:only-of-type {\n",
       "        vertical-align: middle;\n",
       "    }\n",
       "\n",
       "    .dataframe tbody tr th {\n",
       "        vertical-align: top;\n",
       "    }\n",
       "\n",
       "    .dataframe thead th {\n",
       "        text-align: right;\n",
       "    }\n",
       "</style>\n",
       "<table border=\"1\" class=\"dataframe\">\n",
       "  <thead>\n",
       "    <tr style=\"text-align: right;\">\n",
       "      <th></th>\n",
       "      <th>x1</th>\n",
       "      <th>x2</th>\n",
       "      <th>x3</th>\n",
       "      <th>y</th>\n",
       "    </tr>\n",
       "  </thead>\n",
       "  <tbody>\n",
       "    <tr>\n",
       "      <td>0</td>\n",
       "      <td>7.892</td>\n",
       "      <td>318.818</td>\n",
       "      <td>162.970</td>\n",
       "      <td>2112.420</td>\n",
       "    </tr>\n",
       "    <tr>\n",
       "      <td>1</td>\n",
       "      <td>8.830</td>\n",
       "      <td>303.180</td>\n",
       "      <td>181.399</td>\n",
       "      <td>2096.231</td>\n",
       "    </tr>\n",
       "    <tr>\n",
       "      <td>2</td>\n",
       "      <td>13.811</td>\n",
       "      <td>296.231</td>\n",
       "      <td>145.849</td>\n",
       "      <td>2067.045</td>\n",
       "    </tr>\n",
       "    <tr>\n",
       "      <td>3</td>\n",
       "      <td>12.863</td>\n",
       "      <td>325.830</td>\n",
       "      <td>167.996</td>\n",
       "      <td>2269.262</td>\n",
       "    </tr>\n",
       "    <tr>\n",
       "      <td>4</td>\n",
       "      <td>13.698</td>\n",
       "      <td>254.035</td>\n",
       "      <td>171.892</td>\n",
       "      <td>1966.604</td>\n",
       "    </tr>\n",
       "  </tbody>\n",
       "</table>\n",
       "</div>"
      ],
      "text/plain": [
       "       x1       x2       x3         y\n",
       "0   7.892  318.818  162.970  2112.420\n",
       "1   8.830  303.180  181.399  2096.231\n",
       "2  13.811  296.231  145.849  2067.045\n",
       "3  12.863  325.830  167.996  2269.262\n",
       "4  13.698  254.035  171.892  1966.604"
      ]
     },
     "execution_count": 7,
     "metadata": {},
     "output_type": "execute_result"
    }
   ],
   "source": [
    "df_2 = pd.read_csv('task-2.csv')\n",
    "df_2.head()"
   ]
  },
  {
   "cell_type": "code",
   "execution_count": 8,
   "metadata": {},
   "outputs": [
    {
     "name": "stdout",
     "output_type": "stream",
     "text": [
      "Train DataFrame: (800, 4)\n",
      "TestDataFrame: (200, 4)\n"
     ]
    }
   ],
   "source": [
    "train_df, test_df = train_test_split(df_2, train_size=0.8, test_size=0.2, random_state=0)\n",
    "\n",
    "print('Train DataFrame:', train_df.shape)\n",
    "print('TestDataFrame:', test_df.shape)\n",
    "\n",
    "X_tr = train_df.drop('y', axis=1).values\n",
    "y_tr = train_df.y.values\n",
    "\n",
    "X_te = test_df.drop('y', axis=1).values\n",
    "y_te = test_df.y.values"
   ]
  },
  {
   "cell_type": "code",
   "execution_count": 9,
   "metadata": {},
   "outputs": [
    {
     "name": "stdout",
     "output_type": "stream",
     "text": [
      "Coefficients: [ 3.18946219  0.72611244 -0.29586984]\n",
      "Intercept: 1982.1964160299176\n"
     ]
    }
   ],
   "source": [
    "# Linear regression\n",
    "lr = LinearRegression()\n",
    "lr.fit(X_tr,y_tr) \n",
    "y_pred_1r = lr.predict(X_te)\n",
    "\n",
    "print ('Coefficients:', lr.coef_)\n",
    "print ('Intercept:', lr.intercept_)"
   ]
  },
  {
   "cell_type": "code",
   "execution_count": 10,
   "metadata": {},
   "outputs": [
    {
     "name": "stdout",
     "output_type": "stream",
     "text": [
      "MAE linear regression: 104.788\n"
     ]
    }
   ],
   "source": [
    "mae_lr = mae(y_te, y_pred_1r)\n",
    "print('MAE linear regression: {:.3f}'.format(mae_lr))"
   ]
  },
  {
   "cell_type": "code",
   "execution_count": 11,
   "metadata": {},
   "outputs": [],
   "source": [
    "# Removing Outliers\n",
    "train_df_no_outliers = train_df[(np.abs(stats.zscore(train_df)) < 3).all(axis=1)]\n",
    "\n",
    "X_tr_n_o = train_df_no_outliers.drop('y', axis=1).values\n",
    "y_tr_n_o = train_df_no_outliers.y.values"
   ]
  },
  {
   "cell_type": "code",
   "execution_count": 12,
   "metadata": {},
   "outputs": [
    {
     "name": "stdout",
     "output_type": "stream",
     "text": [
      "MAE linear regression (without outliers): 70.997\n"
     ]
    }
   ],
   "source": [
    "# Linear regression without ourliers\n",
    "lr = LinearRegression()\n",
    "lr.fit(X_tr_n_o, y_tr_n_o)\n",
    "y_pred_1r_n_o = lr.predict(X_te)\n",
    "    \n",
    "mae_lr = mae(y_te, y_pred_1r_n_o)\n",
    "print('MAE linear regression (without outliers): {:.3f}'.format(mae_lr))"
   ]
  },
  {
   "cell_type": "code",
   "execution_count": 13,
   "metadata": {},
   "outputs": [
    {
     "name": "stdout",
     "output_type": "stream",
     "text": [
      "MAE Huber: 83.908\n"
     ]
    }
   ],
   "source": [
    "# Huber loss\n",
    "huber = HuberRegressor()\n",
    "huber.fit(X_tr, y_tr) \n",
    "y_pred_huber = huber.predict(X_te)\n",
    "\n",
    "mae_huber= mae(y_te, y_pred_huber) \n",
    "print('MAE Huber: {:.3f}'.format(mae_huber))"
   ]
  },
  {
   "cell_type": "markdown",
   "metadata": {},
   "source": [
    "As anticipated, both the linear regression without outliers and the huber regression models performed better than the linear regression with outliers."
   ]
  },
  {
   "cell_type": "code",
   "execution_count": null,
   "metadata": {},
   "outputs": [],
   "source": []
  }
 ],
 "metadata": {
  "kernelspec": {
   "display_name": "Python 3",
   "language": "python",
   "name": "python3"
  },
  "language_info": {
   "codemirror_mode": {
    "name": "ipython",
    "version": 3
   },
   "file_extension": ".py",
   "mimetype": "text/x-python",
   "name": "python",
   "nbconvert_exporter": "python",
   "pygments_lexer": "ipython3",
   "version": "3.7.4"
  }
 },
 "nbformat": 4,
 "nbformat_minor": 2
}
