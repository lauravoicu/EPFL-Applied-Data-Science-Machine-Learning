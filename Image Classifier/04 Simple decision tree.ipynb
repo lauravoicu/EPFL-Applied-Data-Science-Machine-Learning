{
 "cells": [
  {
   "cell_type": "markdown",
   "metadata": {},
   "source": [
    "**Tasks**\n",
    "\n",
    "**Simple decision trees**\n",
    "\n",
    "Can you do better than the k-NN baseline with decision trees?\n",
    "\n",
    "- What accuracy can you achieve with a depth of 3?\n",
    "- Plot the corresponding tree with graphviz\n",
    "- Do you get better results if you reduce the number of dimensions with PCA first?"
   ]
  },
  {
   "cell_type": "code",
   "execution_count": 1,
   "metadata": {},
   "outputs": [],
   "source": [
    "import pandas as pd\n",
    "import numpy as np\n",
    "import matplotlib.pyplot as plt\n",
    "import os\n",
    "\n",
    "import tensorflow as tf\n",
    "\n",
    "from sklearn.model_selection import train_test_split, ParameterGrid\n",
    "from sklearn.dummy import DummyClassifier\n",
    "from sklearn.decomposition import PCA\n",
    "from sklearn.pipeline import Pipeline\n",
    "from sklearn.ensemble import RandomForestClassifier\n",
    "from sklearn.preprocessing import StandardScaler\n",
    "from sklearn.tree import DecisionTreeClassifier, export_graphviz\n",
    "\n",
    "\n",
    "import graphviz\n",
    "\n",
    "%matplotlib inline"
   ]
  },
  {
   "cell_type": "code",
   "execution_count": 2,
   "metadata": {},
   "outputs": [],
   "source": [
    "# get the class label limit\n",
    "class_limit = 6\n",
    "\n",
    "# class names\n",
    "class_names = [\"car\", \"bike\", \"other\", \"van\", \"motorcycle\", \"truck\"]"
   ]
  },
  {
   "cell_type": "code",
   "execution_count": 3,
   "metadata": {},
   "outputs": [
    {
     "name": "stdout",
     "output_type": "stream",
     "text": [
      "Train data loaded\n"
     ]
    }
   ],
   "source": [
    "# Load the numpy .npy file\n",
    "train_dataset_array = np.load(\"train_dataset_array.npy\")\n",
    "train_dataset_array_labels = np.load(\"train_dataset_array_labels.npy\")\n",
    "train_dataset_array_features = np.load(\"train_features.npy\")\n",
    "\n",
    "print('Train data loaded')"
   ]
  },
  {
   "cell_type": "code",
   "execution_count": 4,
   "metadata": {},
   "outputs": [
    {
     "name": "stdout",
     "output_type": "stream",
     "text": [
      "Test data loaded\n"
     ]
    }
   ],
   "source": [
    "# Load the numpy .npy file\n",
    "test_dataset_array = np.load(\"test_dataset_array.npy\")\n",
    "test_dataset_array_labels = np.load(\"test_dataset_array_labels.npy\")\n",
    "test_dataset_array_features = np.load(\"test_features.npy\")\n",
    "\n",
    "print('Test data loaded')"
   ]
  },
  {
   "cell_type": "code",
   "execution_count": 5,
   "metadata": {},
   "outputs": [
    {
     "name": "stdout",
     "output_type": "stream",
     "text": [
      "Validation data loaded\n"
     ]
    }
   ],
   "source": [
    "# Load the numpy .npy file\n",
    "valid_dataset_array = np.load(\"valid_dataset_array.npy\")\n",
    "valid_dataset_array_labels = np.load(\"valid_dataset_array_labels.npy\")\n",
    "valid_dataset_array_features = np.load(\"valid_features.npy\")\n",
    "\n",
    "print('Validation data loaded')"
   ]
  },
  {
   "cell_type": "code",
   "execution_count": 6,
   "metadata": {},
   "outputs": [
    {
     "name": "stdout",
     "output_type": "stream",
     "text": [
      "X: (280, 1024) float32\n",
      "y: (280,) int64\n"
     ]
    }
   ],
   "source": [
    "# Create X/y arrays\n",
    "X_tr = train_dataset_array_features\n",
    "y_tr = train_dataset_array_labels\n",
    "\n",
    "print('X:', X_tr.shape, X_tr.dtype)\n",
    "print('y:', y_tr.shape, y_tr.dtype)"
   ]
  },
  {
   "cell_type": "code",
   "execution_count": 7,
   "metadata": {},
   "outputs": [
    {
     "name": "stdout",
     "output_type": "stream",
     "text": [
      "X_val: (139, 1024) float32\n",
      "y_val: (139,) int64\n"
     ]
    }
   ],
   "source": [
    "# Create X/y arrays\n",
    "X_val = valid_dataset_array_features\n",
    "y_val = valid_dataset_array_labels\n",
    "\n",
    "print('X_val:', X_val.shape, X_val.dtype)\n",
    "print('y_val:', y_val.shape, y_val.dtype)"
   ]
  },
  {
   "cell_type": "code",
   "execution_count": 8,
   "metadata": {},
   "outputs": [
    {
     "name": "stdout",
     "output_type": "stream",
     "text": [
      "X_te: (50, 1024) float32\n",
      "y_te: (50,) int64\n"
     ]
    }
   ],
   "source": [
    "# Create X/y arrays\n",
    "X_te = test_dataset_array_features\n",
    "y_te = test_dataset_array_labels\n",
    "\n",
    "print('X_te:', X_te.shape, X_te.dtype)\n",
    "print('y_te:', y_te.shape, y_te.dtype)"
   ]
  },
  {
   "cell_type": "code",
   "execution_count": 9,
   "metadata": {},
   "outputs": [],
   "source": [
    "def label_img(number):\n",
    "    # conversion \n",
    "    if number==0 : return 'car'\n",
    "    #                             \n",
    "    if number==1 : return 'bike'\n",
    "    #                             \n",
    "    if number==2 : return 'other'\n",
    "    #                             \n",
    "    if number==3 : return 'van'\n",
    "    #                             \n",
    "    if number==4 : return 'motorcycle'\n",
    "    #                             \n",
    "    if number==5 : return 'truck'"
   ]
  },
  {
   "cell_type": "code",
   "execution_count": 10,
   "metadata": {},
   "outputs": [],
   "source": [
    "# Create decision tree\n",
    "dt = DecisionTreeClassifier(\n",
    "    criterion='gini', max_depth=3, random_state=0)"
   ]
  },
  {
   "cell_type": "code",
   "execution_count": 11,
   "metadata": {},
   "outputs": [
    {
     "data": {
      "text/plain": [
       "0.7928571428571428"
      ]
     },
     "execution_count": 11,
     "metadata": {},
     "output_type": "execute_result"
    }
   ],
   "source": [
    "# Fit decision tree\n",
    "dt.fit(X_tr, y_tr)\n",
    "\n",
    "# Get score\n",
    "dt.score(X_tr, y_tr)"
   ]
  },
  {
   "cell_type": "code",
   "execution_count": 12,
   "metadata": {},
   "outputs": [
    {
     "data": {
      "text/plain": [
       "1    0.235714\n",
       "0    0.228571\n",
       "4    0.182143\n",
       "5    0.150000\n",
       "2    0.114286\n",
       "3    0.089286\n",
       "dtype: float64"
      ]
     },
     "execution_count": 12,
     "metadata": {},
     "output_type": "execute_result"
    }
   ],
   "source": [
    "pd.value_counts(y_tr, normalize=True)"
   ]
  },
  {
   "cell_type": "code",
   "execution_count": 13,
   "metadata": {},
   "outputs": [
    {
     "data": {
      "image/svg+xml": [
       "<?xml version=\"1.0\" encoding=\"UTF-8\" standalone=\"no\"?>\n",
       "<!DOCTYPE svg PUBLIC \"-//W3C//DTD SVG 1.1//EN\"\n",
       " \"http://www.w3.org/Graphics/SVG/1.1/DTD/svg11.dtd\">\n",
       "<!-- Generated by graphviz version 2.36.0 (20140111.2315)\n",
       " -->\n",
       "<!-- Title: Tree Pages: 1 -->\n",
       "<svg width=\"2266pt\" height=\"414pt\"\n",
       " viewBox=\"0.00 0.00 2266.00 414.00\" xmlns=\"http://www.w3.org/2000/svg\" xmlns:xlink=\"http://www.w3.org/1999/xlink\">\n",
       "<g id=\"graph0\" class=\"graph\" transform=\"scale(1 1) rotate(0) translate(4 410)\">\n",
       "<title>Tree</title>\n",
       "<polygon fill=\"white\" stroke=\"none\" points=\"-4,4 -4,-410 2262,-410 2262,4 -4,4\"/>\n",
       "<!-- 0 -->\n",
       "<g id=\"node1\" class=\"node\"><title>0</title>\n",
       "<path fill=\"#fefffd\" stroke=\"black\" d=\"M1269.61,-406C1269.61,-406 980.385,-406 980.385,-406 974.385,-406 968.385,-400 968.385,-394 968.385,-394 968.385,-340 968.385,-340 968.385,-334 974.385,-328 980.385,-328 980.385,-328 1269.61,-328 1269.61,-328 1275.61,-328 1281.61,-334 1281.61,-340 1281.61,-340 1281.61,-394 1281.61,-394 1281.61,-400 1275.61,-406 1269.61,-406\"/>\n",
       "<text text-anchor=\"middle\" x=\"1125\" y=\"-390.8\" font-family=\"Helvetica,sans-Serif\" font-size=\"14.00\">X[79] &lt;= 0.901</text>\n",
       "<text text-anchor=\"middle\" x=\"1125\" y=\"-376.8\" font-family=\"Helvetica,sans-Serif\" font-size=\"14.00\">gini = 0.815</text>\n",
       "<text text-anchor=\"middle\" x=\"1125\" y=\"-362.8\" font-family=\"Helvetica,sans-Serif\" font-size=\"14.00\">samples = 100.0%</text>\n",
       "<text text-anchor=\"middle\" x=\"1125\" y=\"-348.8\" font-family=\"Helvetica,sans-Serif\" font-size=\"14.00\">value = [0.229, 0.236, 0.114, 0.089, 0.182, 0.15]</text>\n",
       "<text text-anchor=\"middle\" x=\"1125\" y=\"-334.8\" font-family=\"Helvetica,sans-Serif\" font-size=\"14.00\">class = bike</text>\n",
       "</g>\n",
       "<!-- 1 -->\n",
       "<g id=\"node2\" class=\"node\"><title>1</title>\n",
       "<path fill=\"#fbe9dd\" stroke=\"black\" d=\"M1043.05,-292C1043.05,-292 760.95,-292 760.95,-292 754.95,-292 748.95,-286 748.95,-280 748.95,-280 748.95,-226 748.95,-226 748.95,-220 754.95,-214 760.95,-214 760.95,-214 1043.05,-214 1043.05,-214 1049.05,-214 1055.05,-220 1055.05,-226 1055.05,-226 1055.05,-280 1055.05,-280 1055.05,-286 1049.05,-292 1043.05,-292\"/>\n",
       "<text text-anchor=\"middle\" x=\"902\" y=\"-276.8\" font-family=\"Helvetica,sans-Serif\" font-size=\"14.00\">X[113] &lt;= 0.836</text>\n",
       "<text text-anchor=\"middle\" x=\"902\" y=\"-262.8\" font-family=\"Helvetica,sans-Serif\" font-size=\"14.00\">gini = 0.746</text>\n",
       "<text text-anchor=\"middle\" x=\"902\" y=\"-248.8\" font-family=\"Helvetica,sans-Serif\" font-size=\"14.00\">samples = 60.7%</text>\n",
       "<text text-anchor=\"middle\" x=\"902\" y=\"-234.8\" font-family=\"Helvetica,sans-Serif\" font-size=\"14.00\">value = [0.376, 0.0, 0.153, 0.147, 0.076, 0.247]</text>\n",
       "<text text-anchor=\"middle\" x=\"902\" y=\"-220.8\" font-family=\"Helvetica,sans-Serif\" font-size=\"14.00\">class = car</text>\n",
       "</g>\n",
       "<!-- 0&#45;&gt;1 -->\n",
       "<g id=\"edge1\" class=\"edge\"><title>0&#45;&gt;1</title>\n",
       "<path fill=\"none\" stroke=\"black\" d=\"M1049.19,-327.926C1029.17,-317.872 1007.44,-306.956 986.972,-296.676\"/>\n",
       "<polygon fill=\"black\" stroke=\"black\" points=\"988.485,-293.52 977.978,-292.159 985.343,-299.775 988.485,-293.52\"/>\n",
       "<text text-anchor=\"middle\" x=\"985.841\" y=\"-311.69\" font-family=\"Helvetica,sans-Serif\" font-size=\"14.00\">True</text>\n",
       "</g>\n",
       "<!-- 8 -->\n",
       "<g id=\"node9\" class=\"node\"><title>8</title>\n",
       "<path fill=\"#d9f5b2\" stroke=\"black\" d=\"M1602.01,-292C1602.01,-292 1365.99,-292 1365.99,-292 1359.99,-292 1353.99,-286 1353.99,-280 1353.99,-280 1353.99,-226 1353.99,-226 1353.99,-220 1359.99,-214 1365.99,-214 1365.99,-214 1602.01,-214 1602.01,-214 1608.01,-214 1614.01,-220 1614.01,-226 1614.01,-226 1614.01,-280 1614.01,-280 1614.01,-286 1608.01,-292 1602.01,-292\"/>\n",
       "<text text-anchor=\"middle\" x=\"1484\" y=\"-276.8\" font-family=\"Helvetica,sans-Serif\" font-size=\"14.00\">X[28] &lt;= 1.237</text>\n",
       "<text text-anchor=\"middle\" x=\"1484\" y=\"-262.8\" font-family=\"Helvetica,sans-Serif\" font-size=\"14.00\">gini = 0.518</text>\n",
       "<text text-anchor=\"middle\" x=\"1484\" y=\"-248.8\" font-family=\"Helvetica,sans-Serif\" font-size=\"14.00\">samples = 39.3%</text>\n",
       "<text text-anchor=\"middle\" x=\"1484\" y=\"-234.8\" font-family=\"Helvetica,sans-Serif\" font-size=\"14.00\">value = [0.0, 0.6, 0.055, 0.0, 0.345, 0.0]</text>\n",
       "<text text-anchor=\"middle\" x=\"1484\" y=\"-220.8\" font-family=\"Helvetica,sans-Serif\" font-size=\"14.00\">class = bike</text>\n",
       "</g>\n",
       "<!-- 0&#45;&gt;8 -->\n",
       "<g id=\"edge8\" class=\"edge\"><title>0&#45;&gt;8</title>\n",
       "<path fill=\"none\" stroke=\"black\" d=\"M1247.04,-327.926C1280.95,-317.347 1317.92,-305.814 1352.35,-295.072\"/>\n",
       "<polygon fill=\"black\" stroke=\"black\" points=\"1353.49,-298.384 1361.99,-292.064 1351.4,-291.701 1353.49,-298.384\"/>\n",
       "<text text-anchor=\"middle\" x=\"1350.38\" y=\"-310.004\" font-family=\"Helvetica,sans-Serif\" font-size=\"14.00\">False</text>\n",
       "</g>\n",
       "<!-- 2 -->\n",
       "<g id=\"node3\" class=\"node\"><title>2</title>\n",
       "<path fill=\"#f7c3e1\" stroke=\"black\" d=\"M579.05,-178C579.05,-178 296.95,-178 296.95,-178 290.95,-178 284.95,-172 284.95,-166 284.95,-166 284.95,-112 284.95,-112 284.95,-106 290.95,-100 296.95,-100 296.95,-100 579.05,-100 579.05,-100 585.05,-100 591.05,-106 591.05,-112 591.05,-112 591.05,-166 591.05,-166 591.05,-172 585.05,-178 579.05,-178\"/>\n",
       "<text text-anchor=\"middle\" x=\"438\" y=\"-162.8\" font-family=\"Helvetica,sans-Serif\" font-size=\"14.00\">X[331] &lt;= 1.84</text>\n",
       "<text text-anchor=\"middle\" x=\"438\" y=\"-148.8\" font-family=\"Helvetica,sans-Serif\" font-size=\"14.00\">gini = 0.633</text>\n",
       "<text text-anchor=\"middle\" x=\"438\" y=\"-134.8\" font-family=\"Helvetica,sans-Serif\" font-size=\"14.00\">samples = 27.1%</text>\n",
       "<text text-anchor=\"middle\" x=\"438\" y=\"-120.8\" font-family=\"Helvetica,sans-Serif\" font-size=\"14.00\">value = [0.039, 0.0, 0.303, 0.079, 0.066, 0.513]</text>\n",
       "<text text-anchor=\"middle\" x=\"438\" y=\"-106.8\" font-family=\"Helvetica,sans-Serif\" font-size=\"14.00\">class = truck</text>\n",
       "</g>\n",
       "<!-- 1&#45;&gt;2 -->\n",
       "<g id=\"edge2\" class=\"edge\"><title>1&#45;&gt;2</title>\n",
       "<path fill=\"none\" stroke=\"black\" d=\"M748.783,-215.017C701.367,-203.571 648.97,-190.924 600.922,-179.326\"/>\n",
       "<polygon fill=\"black\" stroke=\"black\" points=\"601.598,-175.889 591.056,-176.945 599.956,-182.693 601.598,-175.889\"/>\n",
       "</g>\n",
       "<!-- 5 -->\n",
       "<g id=\"node6\" class=\"node\"><title>5</title>\n",
       "<path fill=\"#f0b890\" stroke=\"black\" d=\"M1043.05,-178C1043.05,-178 760.95,-178 760.95,-178 754.95,-178 748.95,-172 748.95,-166 748.95,-166 748.95,-112 748.95,-112 748.95,-106 754.95,-100 760.95,-100 760.95,-100 1043.05,-100 1043.05,-100 1049.05,-100 1055.05,-106 1055.05,-112 1055.05,-112 1055.05,-166 1055.05,-166 1055.05,-172 1049.05,-178 1043.05,-178\"/>\n",
       "<text text-anchor=\"middle\" x=\"902\" y=\"-162.8\" font-family=\"Helvetica,sans-Serif\" font-size=\"14.00\">X[689] &lt;= 1.119</text>\n",
       "<text text-anchor=\"middle\" x=\"902\" y=\"-148.8\" font-family=\"Helvetica,sans-Serif\" font-size=\"14.00\">gini = 0.529</text>\n",
       "<text text-anchor=\"middle\" x=\"902\" y=\"-134.8\" font-family=\"Helvetica,sans-Serif\" font-size=\"14.00\">samples = 33.6%</text>\n",
       "<text text-anchor=\"middle\" x=\"902\" y=\"-120.8\" font-family=\"Helvetica,sans-Serif\" font-size=\"14.00\">value = [0.649, 0.0, 0.032, 0.202, 0.085, 0.032]</text>\n",
       "<text text-anchor=\"middle\" x=\"902\" y=\"-106.8\" font-family=\"Helvetica,sans-Serif\" font-size=\"14.00\">class = car</text>\n",
       "</g>\n",
       "<!-- 1&#45;&gt;5 -->\n",
       "<g id=\"edge5\" class=\"edge\"><title>1&#45;&gt;5</title>\n",
       "<path fill=\"none\" stroke=\"black\" d=\"M902,-213.769C902,-205.57 902,-196.803 902,-188.28\"/>\n",
       "<polygon fill=\"black\" stroke=\"black\" points=\"905.5,-188.058 902,-178.058 898.5,-188.059 905.5,-188.058\"/>\n",
       "</g>\n",
       "<!-- 3 -->\n",
       "<g id=\"node4\" class=\"node\"><title>3</title>\n",
       "<path fill=\"#8ef0b7\" stroke=\"black\" d=\"M254.352,-64C254.352,-64 11.6483,-64 11.6483,-64 5.64828,-64 -0.351725,-58 -0.351725,-52 -0.351725,-52 -0.351725,-12 -0.351725,-12 -0.351725,-6 5.64828,-0 11.6483,-0 11.6483,-0 254.352,-0 254.352,-0 260.352,-0 266.352,-6 266.352,-12 266.352,-12 266.352,-52 266.352,-52 266.352,-58 260.352,-64 254.352,-64\"/>\n",
       "<text text-anchor=\"middle\" x=\"133\" y=\"-48.8\" font-family=\"Helvetica,sans-Serif\" font-size=\"14.00\">gini = 0.472</text>\n",
       "<text text-anchor=\"middle\" x=\"133\" y=\"-34.8\" font-family=\"Helvetica,sans-Serif\" font-size=\"14.00\">samples = 10.0%</text>\n",
       "<text text-anchor=\"middle\" x=\"133\" y=\"-20.8\" font-family=\"Helvetica,sans-Serif\" font-size=\"14.00\">value = [0.0, 0.0, 0.679, 0.0, 0.071, 0.25]</text>\n",
       "<text text-anchor=\"middle\" x=\"133\" y=\"-6.8\" font-family=\"Helvetica,sans-Serif\" font-size=\"14.00\">class = other</text>\n",
       "</g>\n",
       "<!-- 2&#45;&gt;3 -->\n",
       "<g id=\"edge3\" class=\"edge\"><title>2&#45;&gt;3</title>\n",
       "<path fill=\"none\" stroke=\"black\" d=\"M327.457,-99.9441C296.537,-89.2995 263.121,-77.7958 232.858,-67.3774\"/>\n",
       "<polygon fill=\"black\" stroke=\"black\" points=\"233.745,-63.9813 223.151,-64.0355 231.467,-70.6 233.745,-63.9813\"/>\n",
       "</g>\n",
       "<!-- 4 -->\n",
       "<g id=\"node5\" class=\"node\"><title>4</title>\n",
       "<path fill=\"#ef84c2\" stroke=\"black\" d=\"M579.05,-64C579.05,-64 296.95,-64 296.95,-64 290.95,-64 284.95,-58 284.95,-52 284.95,-52 284.95,-12 284.95,-12 284.95,-6 290.95,-0 296.95,-0 296.95,-0 579.05,-0 579.05,-0 585.05,-0 591.05,-6 591.05,-12 591.05,-12 591.05,-52 591.05,-52 591.05,-58 585.05,-64 579.05,-64\"/>\n",
       "<text text-anchor=\"middle\" x=\"438\" y=\"-48.8\" font-family=\"Helvetica,sans-Serif\" font-size=\"14.00\">gini = 0.525</text>\n",
       "<text text-anchor=\"middle\" x=\"438\" y=\"-34.8\" font-family=\"Helvetica,sans-Serif\" font-size=\"14.00\">samples = 17.1%</text>\n",
       "<text text-anchor=\"middle\" x=\"438\" y=\"-20.8\" font-family=\"Helvetica,sans-Serif\" font-size=\"14.00\">value = [0.062, 0.0, 0.083, 0.125, 0.062, 0.667]</text>\n",
       "<text text-anchor=\"middle\" x=\"438\" y=\"-6.8\" font-family=\"Helvetica,sans-Serif\" font-size=\"14.00\">class = truck</text>\n",
       "</g>\n",
       "<!-- 2&#45;&gt;4 -->\n",
       "<g id=\"edge4\" class=\"edge\"><title>2&#45;&gt;4</title>\n",
       "<path fill=\"none\" stroke=\"black\" d=\"M438,-99.7956C438,-91.4581 438,-82.6 438,-74.1534\"/>\n",
       "<polygon fill=\"black\" stroke=\"black\" points=\"441.5,-74.1171 438,-64.1172 434.5,-74.1172 441.5,-74.1171\"/>\n",
       "</g>\n",
       "<!-- 6 -->\n",
       "<g id=\"node7\" class=\"node\"><title>6</title>\n",
       "<path fill=\"#e88e4e\" stroke=\"black\" d=\"M857.012,-64C857.012,-64 620.988,-64 620.988,-64 614.988,-64 608.988,-58 608.988,-52 608.988,-52 608.988,-12 608.988,-12 608.988,-6 614.988,-0 620.988,-0 620.988,-0 857.012,-0 857.012,-0 863.012,-0 869.012,-6 869.012,-12 869.012,-12 869.012,-52 869.012,-52 869.012,-58 863.012,-64 857.012,-64\"/>\n",
       "<text text-anchor=\"middle\" x=\"739\" y=\"-48.8\" font-family=\"Helvetica,sans-Serif\" font-size=\"14.00\">gini = 0.184</text>\n",
       "<text text-anchor=\"middle\" x=\"739\" y=\"-34.8\" font-family=\"Helvetica,sans-Serif\" font-size=\"14.00\">samples = 21.4%</text>\n",
       "<text text-anchor=\"middle\" x=\"739\" y=\"-20.8\" font-family=\"Helvetica,sans-Serif\" font-size=\"14.00\">value = [0.9, 0.0, 0.0, 0.067, 0.033, 0.0]</text>\n",
       "<text text-anchor=\"middle\" x=\"739\" y=\"-6.8\" font-family=\"Helvetica,sans-Serif\" font-size=\"14.00\">class = car</text>\n",
       "</g>\n",
       "<!-- 5&#45;&gt;6 -->\n",
       "<g id=\"edge6\" class=\"edge\"><title>5&#45;&gt;6</title>\n",
       "<path fill=\"none\" stroke=\"black\" d=\"M842.692,-99.7956C827.474,-89.9922 811.138,-79.469 796.036,-69.7413\"/>\n",
       "<polygon fill=\"black\" stroke=\"black\" points=\"797.608,-66.5902 787.306,-64.1172 793.817,-72.475 797.608,-66.5902\"/>\n",
       "</g>\n",
       "<!-- 7 -->\n",
       "<g id=\"node8\" class=\"node\"><title>7</title>\n",
       "<path fill=\"#c4e2f7\" stroke=\"black\" d=\"M1181.05,-64C1181.05,-64 898.95,-64 898.95,-64 892.95,-64 886.95,-58 886.95,-52 886.95,-52 886.95,-12 886.95,-12 886.95,-6 892.95,-0 898.95,-0 898.95,-0 1181.05,-0 1181.05,-0 1187.05,-0 1193.05,-6 1193.05,-12 1193.05,-12 1193.05,-52 1193.05,-52 1193.05,-58 1187.05,-64 1181.05,-64\"/>\n",
       "<text text-anchor=\"middle\" x=\"1040\" y=\"-48.8\" font-family=\"Helvetica,sans-Serif\" font-size=\"14.00\">gini = 0.716</text>\n",
       "<text text-anchor=\"middle\" x=\"1040\" y=\"-34.8\" font-family=\"Helvetica,sans-Serif\" font-size=\"14.00\">samples = 12.1%</text>\n",
       "<text text-anchor=\"middle\" x=\"1040\" y=\"-20.8\" font-family=\"Helvetica,sans-Serif\" font-size=\"14.00\">value = [0.206, 0.0, 0.088, 0.441, 0.176, 0.088]</text>\n",
       "<text text-anchor=\"middle\" x=\"1040\" y=\"-6.8\" font-family=\"Helvetica,sans-Serif\" font-size=\"14.00\">class = van</text>\n",
       "</g>\n",
       "<!-- 5&#45;&gt;7 -->\n",
       "<g id=\"edge7\" class=\"edge\"><title>5&#45;&gt;7</title>\n",
       "<path fill=\"none\" stroke=\"black\" d=\"M952.212,-99.7956C964.855,-90.1754 978.41,-79.8621 990.993,-70.2876\"/>\n",
       "<polygon fill=\"black\" stroke=\"black\" points=\"993.264,-72.9578 999.103,-64.1172 989.025,-67.387 993.264,-72.9578\"/>\n",
       "</g>\n",
       "<!-- 9 -->\n",
       "<g id=\"node10\" class=\"node\"><title>9</title>\n",
       "<path fill=\"#985dea\" stroke=\"black\" d=\"M1605.35,-178C1605.35,-178 1362.65,-178 1362.65,-178 1356.65,-178 1350.65,-172 1350.65,-166 1350.65,-166 1350.65,-112 1350.65,-112 1350.65,-106 1356.65,-100 1362.65,-100 1362.65,-100 1605.35,-100 1605.35,-100 1611.35,-100 1617.35,-106 1617.35,-112 1617.35,-112 1617.35,-166 1617.35,-166 1617.35,-172 1611.35,-178 1605.35,-178\"/>\n",
       "<text text-anchor=\"middle\" x=\"1484\" y=\"-162.8\" font-family=\"Helvetica,sans-Serif\" font-size=\"14.00\">X[22] &lt;= 0.312</text>\n",
       "<text text-anchor=\"middle\" x=\"1484\" y=\"-148.8\" font-family=\"Helvetica,sans-Serif\" font-size=\"14.00\">gini = 0.286</text>\n",
       "<text text-anchor=\"middle\" x=\"1484\" y=\"-134.8\" font-family=\"Helvetica,sans-Serif\" font-size=\"14.00\">samples = 15.4%</text>\n",
       "<text text-anchor=\"middle\" x=\"1484\" y=\"-120.8\" font-family=\"Helvetica,sans-Serif\" font-size=\"14.00\">value = [0.0, 0.07, 0.093, 0.0, 0.837, 0.0]</text>\n",
       "<text text-anchor=\"middle\" x=\"1484\" y=\"-106.8\" font-family=\"Helvetica,sans-Serif\" font-size=\"14.00\">class = motorcycle</text>\n",
       "</g>\n",
       "<!-- 8&#45;&gt;9 -->\n",
       "<g id=\"edge9\" class=\"edge\"><title>8&#45;&gt;9</title>\n",
       "<path fill=\"none\" stroke=\"black\" d=\"M1484,-213.769C1484,-205.57 1484,-196.803 1484,-188.28\"/>\n",
       "<polygon fill=\"black\" stroke=\"black\" points=\"1487.5,-188.058 1484,-178.058 1480.5,-188.059 1487.5,-188.058\"/>\n",
       "</g>\n",
       "<!-- 12 -->\n",
       "<g id=\"node13\" class=\"node\"><title>12</title>\n",
       "<path fill=\"#a3e745\" stroke=\"black\" d=\"M2011.17,-178C2011.17,-178 1782.83,-178 1782.83,-178 1776.83,-178 1770.83,-172 1770.83,-166 1770.83,-166 1770.83,-112 1770.83,-112 1770.83,-106 1776.83,-100 1782.83,-100 1782.83,-100 2011.17,-100 2011.17,-100 2017.17,-100 2023.17,-106 2023.17,-112 2023.17,-112 2023.17,-166 2023.17,-166 2023.17,-172 2017.17,-178 2011.17,-178\"/>\n",
       "<text text-anchor=\"middle\" x=\"1897\" y=\"-162.8\" font-family=\"Helvetica,sans-Serif\" font-size=\"14.00\">X[822] &lt;= 1.151</text>\n",
       "<text text-anchor=\"middle\" x=\"1897\" y=\"-148.8\" font-family=\"Helvetica,sans-Serif\" font-size=\"14.00\">gini = 0.114</text>\n",
       "<text text-anchor=\"middle\" x=\"1897\" y=\"-134.8\" font-family=\"Helvetica,sans-Serif\" font-size=\"14.00\">samples = 23.9%</text>\n",
       "<text text-anchor=\"middle\" x=\"1897\" y=\"-120.8\" font-family=\"Helvetica,sans-Serif\" font-size=\"14.00\">value = [0.0, 0.94, 0.03, 0.0, 0.03, 0.0]</text>\n",
       "<text text-anchor=\"middle\" x=\"1897\" y=\"-106.8\" font-family=\"Helvetica,sans-Serif\" font-size=\"14.00\">class = bike</text>\n",
       "</g>\n",
       "<!-- 8&#45;&gt;12 -->\n",
       "<g id=\"edge12\" class=\"edge\"><title>8&#45;&gt;12</title>\n",
       "<path fill=\"none\" stroke=\"black\" d=\"M1614.11,-216.716C1660.89,-204.029 1713.77,-189.69 1761.04,-176.871\"/>\n",
       "<polygon fill=\"black\" stroke=\"black\" points=\"1761.99,-180.24 1770.72,-174.245 1760.16,-173.484 1761.99,-180.24\"/>\n",
       "</g>\n",
       "<!-- 10 -->\n",
       "<g id=\"node11\" class=\"node\"><title>10</title>\n",
       "<path fill=\"#ffffff\" stroke=\"black\" d=\"M1474.19,-64C1474.19,-64 1223.81,-64 1223.81,-64 1217.81,-64 1211.81,-58 1211.81,-52 1211.81,-52 1211.81,-12 1211.81,-12 1211.81,-6 1217.81,-0 1223.81,-0 1223.81,-0 1474.19,-0 1474.19,-0 1480.19,-0 1486.19,-6 1486.19,-12 1486.19,-12 1486.19,-52 1486.19,-52 1486.19,-58 1480.19,-64 1474.19,-64\"/>\n",
       "<text text-anchor=\"middle\" x=\"1349\" y=\"-48.8\" font-family=\"Helvetica,sans-Serif\" font-size=\"14.00\">gini = 0.612</text>\n",
       "<text text-anchor=\"middle\" x=\"1349\" y=\"-34.8\" font-family=\"Helvetica,sans-Serif\" font-size=\"14.00\">samples = 2.5%</text>\n",
       "<text text-anchor=\"middle\" x=\"1349\" y=\"-20.8\" font-family=\"Helvetica,sans-Serif\" font-size=\"14.00\">value = [0.0, 0.429, 0.429, 0.0, 0.143, 0.0]</text>\n",
       "<text text-anchor=\"middle\" x=\"1349\" y=\"-6.8\" font-family=\"Helvetica,sans-Serif\" font-size=\"14.00\">class = bike</text>\n",
       "</g>\n",
       "<!-- 9&#45;&gt;10 -->\n",
       "<g id=\"edge10\" class=\"edge\"><title>9&#45;&gt;10</title>\n",
       "<path fill=\"none\" stroke=\"black\" d=\"M1434.88,-99.7956C1422.51,-90.1754 1409.25,-79.8621 1396.94,-70.2876\"/>\n",
       "<polygon fill=\"black\" stroke=\"black\" points=\"1399.05,-67.4939 1389.01,-64.1172 1394.75,-73.0194 1399.05,-67.4939\"/>\n",
       "</g>\n",
       "<!-- 11 -->\n",
       "<g id=\"node12\" class=\"node\"><title>11</title>\n",
       "<path fill=\"#853fe6\" stroke=\"black\" d=\"M1753.01,-64C1753.01,-64 1516.99,-64 1516.99,-64 1510.99,-64 1504.99,-58 1504.99,-52 1504.99,-52 1504.99,-12 1504.99,-12 1504.99,-6 1510.99,-0 1516.99,-0 1516.99,-0 1753.01,-0 1753.01,-0 1759.01,-0 1765.01,-6 1765.01,-12 1765.01,-12 1765.01,-52 1765.01,-52 1765.01,-58 1759.01,-64 1753.01,-64\"/>\n",
       "<text text-anchor=\"middle\" x=\"1635\" y=\"-48.8\" font-family=\"Helvetica,sans-Serif\" font-size=\"14.00\">gini = 0.054</text>\n",
       "<text text-anchor=\"middle\" x=\"1635\" y=\"-34.8\" font-family=\"Helvetica,sans-Serif\" font-size=\"14.00\">samples = 12.9%</text>\n",
       "<text text-anchor=\"middle\" x=\"1635\" y=\"-20.8\" font-family=\"Helvetica,sans-Serif\" font-size=\"14.00\">value = [0.0, 0.0, 0.028, 0.0, 0.972, 0.0]</text>\n",
       "<text text-anchor=\"middle\" x=\"1635\" y=\"-6.8\" font-family=\"Helvetica,sans-Serif\" font-size=\"14.00\">class = motorcycle</text>\n",
       "</g>\n",
       "<!-- 9&#45;&gt;11 -->\n",
       "<g id=\"edge11\" class=\"edge\"><title>9&#45;&gt;11</title>\n",
       "<path fill=\"none\" stroke=\"black\" d=\"M1538.94,-99.7956C1552.91,-90.0838 1567.89,-79.6656 1581.77,-70.0142\"/>\n",
       "<polygon fill=\"black\" stroke=\"black\" points=\"1584.04,-72.6998 1590.25,-64.1172 1580.04,-66.9527 1584.04,-72.6998\"/>\n",
       "</g>\n",
       "<!-- 13 -->\n",
       "<g id=\"node14\" class=\"node\"><title>13</title>\n",
       "<path fill=\"#9de539\" stroke=\"black\" d=\"M1999.15,-64C1999.15,-64 1794.85,-64 1794.85,-64 1788.85,-64 1782.85,-58 1782.85,-52 1782.85,-52 1782.85,-12 1782.85,-12 1782.85,-6 1788.85,-0 1794.85,-0 1794.85,-0 1999.15,-0 1999.15,-0 2005.15,-0 2011.15,-6 2011.15,-12 2011.15,-12 2011.15,-52 2011.15,-52 2011.15,-58 2005.15,-64 1999.15,-64\"/>\n",
       "<text text-anchor=\"middle\" x=\"1897\" y=\"-48.8\" font-family=\"Helvetica,sans-Serif\" font-size=\"14.00\">gini = 0.0</text>\n",
       "<text text-anchor=\"middle\" x=\"1897\" y=\"-34.8\" font-family=\"Helvetica,sans-Serif\" font-size=\"14.00\">samples = 22.1%</text>\n",
       "<text text-anchor=\"middle\" x=\"1897\" y=\"-20.8\" font-family=\"Helvetica,sans-Serif\" font-size=\"14.00\">value = [0.0, 1.0, 0.0, 0.0, 0.0, 0.0]</text>\n",
       "<text text-anchor=\"middle\" x=\"1897\" y=\"-6.8\" font-family=\"Helvetica,sans-Serif\" font-size=\"14.00\">class = bike</text>\n",
       "</g>\n",
       "<!-- 12&#45;&gt;13 -->\n",
       "<g id=\"edge13\" class=\"edge\"><title>12&#45;&gt;13</title>\n",
       "<path fill=\"none\" stroke=\"black\" d=\"M1897,-99.7956C1897,-91.4581 1897,-82.6 1897,-74.1534\"/>\n",
       "<polygon fill=\"black\" stroke=\"black\" points=\"1900.5,-74.1171 1897,-64.1172 1893.5,-74.1172 1900.5,-74.1171\"/>\n",
       "</g>\n",
       "<!-- 14 -->\n",
       "<g id=\"node15\" class=\"node\"><title>14</title>\n",
       "<path fill=\"#ffffff\" stroke=\"black\" d=\"M2246.15,-64C2246.15,-64 2041.85,-64 2041.85,-64 2035.85,-64 2029.85,-58 2029.85,-52 2029.85,-52 2029.85,-12 2029.85,-12 2029.85,-6 2035.85,-0 2041.85,-0 2041.85,-0 2246.15,-0 2246.15,-0 2252.15,-0 2258.15,-6 2258.15,-12 2258.15,-12 2258.15,-52 2258.15,-52 2258.15,-58 2252.15,-64 2246.15,-64\"/>\n",
       "<text text-anchor=\"middle\" x=\"2144\" y=\"-48.8\" font-family=\"Helvetica,sans-Serif\" font-size=\"14.00\">gini = 0.64</text>\n",
       "<text text-anchor=\"middle\" x=\"2144\" y=\"-34.8\" font-family=\"Helvetica,sans-Serif\" font-size=\"14.00\">samples = 1.8%</text>\n",
       "<text text-anchor=\"middle\" x=\"2144\" y=\"-20.8\" font-family=\"Helvetica,sans-Serif\" font-size=\"14.00\">value = [0.0, 0.2, 0.4, 0.0, 0.4, 0.0]</text>\n",
       "<text text-anchor=\"middle\" x=\"2144\" y=\"-6.8\" font-family=\"Helvetica,sans-Serif\" font-size=\"14.00\">class = other</text>\n",
       "</g>\n",
       "<!-- 12&#45;&gt;14 -->\n",
       "<g id=\"edge14\" class=\"edge\"><title>12&#45;&gt;14</title>\n",
       "<path fill=\"none\" stroke=\"black\" d=\"M1986.52,-99.9441C2011.02,-89.5299 2037.45,-78.2934 2061.54,-68.0555\"/>\n",
       "<polygon fill=\"black\" stroke=\"black\" points=\"2063.16,-71.1688 2070.99,-64.0355 2060.42,-64.7267 2063.16,-71.1688\"/>\n",
       "</g>\n",
       "</g>\n",
       "</svg>\n"
      ],
      "text/plain": [
       "<graphviz.files.Source at 0x1a41a1c210>"
      ]
     },
     "execution_count": 13,
     "metadata": {},
     "output_type": "execute_result"
    }
   ],
   "source": [
    "# Export decision tree\n",
    "dot_data = export_graphviz(\n",
    "    dt, out_file=None,\n",
    "    class_names=class_names,\n",
    "    filled=True, rounded=True, proportion=True   \n",
    ")\n",
    "\n",
    "# Display it\n",
    "graphviz.Source(dot_data)"
   ]
  },
  {
   "cell_type": "code",
   "execution_count": 14,
   "metadata": {},
   "outputs": [],
   "source": [
    "# We use pca as preproccessing and set it to 150 in order to retain 90+% of the variance and prevent overfitting\n",
    "pipe = Pipeline([('pca', PCA(n_components=150)),\n",
    "                 ('tree', DecisionTreeClassifier())])"
   ]
  },
  {
   "cell_type": "code",
   "execution_count": 15,
   "metadata": {},
   "outputs": [
    {
     "name": "stdout",
     "output_type": "stream",
     "text": [
      "Possible combinations: 5\n"
     ]
    }
   ],
   "source": [
    "# We try different levels of depth around 3\n",
    "n_depths = np.arange(1, 6)\n",
    "\n",
    "grid = ParameterGrid({'tree__max_depth': n_depths,\n",
    "                     })\n",
    "\n",
    "print ('Possible combinations:', len(grid))"
   ]
  },
  {
   "cell_type": "code",
   "execution_count": 16,
   "metadata": {},
   "outputs": [],
   "source": [
    "tree_score = []\n",
    "\n",
    "# Grid search\n",
    "for params_dict in grid:\n",
    "    pipe.set_params(**params_dict)\n",
    "    pipe.fit(X_tr, y_tr)\n",
    "    params_dict['train accuracy'] = pipe.score(X_tr, y_tr)\n",
    "    tree_score.append(params_dict)\n",
    "    params_dict['validation accuracy'] = pipe.score(X_val, y_val)\n",
    "    tree_score.append(params_dict)\n",
    "    params_dict['test accuracy'] = pipe.score(X_te, y_te)\n",
    "    tree_score.append(params_dict)"
   ]
  },
  {
   "cell_type": "code",
   "execution_count": 17,
   "metadata": {},
   "outputs": [
    {
     "data": {
      "text/html": [
       "<div>\n",
       "<style scoped>\n",
       "    .dataframe tbody tr th:only-of-type {\n",
       "        vertical-align: middle;\n",
       "    }\n",
       "\n",
       "    .dataframe tbody tr th {\n",
       "        vertical-align: top;\n",
       "    }\n",
       "\n",
       "    .dataframe thead th {\n",
       "        text-align: right;\n",
       "    }\n",
       "</style>\n",
       "<table border=\"1\" class=\"dataframe\">\n",
       "  <thead>\n",
       "    <tr style=\"text-align: right;\">\n",
       "      <th></th>\n",
       "      <th>tree__max_depth</th>\n",
       "      <th>train accuracy</th>\n",
       "      <th>validation accuracy</th>\n",
       "      <th>test accuracy</th>\n",
       "    </tr>\n",
       "  </thead>\n",
       "  <tbody>\n",
       "    <tr>\n",
       "      <td>12</td>\n",
       "      <td>5</td>\n",
       "      <td>0.932143</td>\n",
       "      <td>0.820144</td>\n",
       "      <td>0.84</td>\n",
       "    </tr>\n",
       "    <tr>\n",
       "      <td>13</td>\n",
       "      <td>5</td>\n",
       "      <td>0.932143</td>\n",
       "      <td>0.820144</td>\n",
       "      <td>0.84</td>\n",
       "    </tr>\n",
       "    <tr>\n",
       "      <td>14</td>\n",
       "      <td>5</td>\n",
       "      <td>0.932143</td>\n",
       "      <td>0.820144</td>\n",
       "      <td>0.84</td>\n",
       "    </tr>\n",
       "    <tr>\n",
       "      <td>6</td>\n",
       "      <td>3</td>\n",
       "      <td>0.800000</td>\n",
       "      <td>0.762590</td>\n",
       "      <td>0.82</td>\n",
       "    </tr>\n",
       "    <tr>\n",
       "      <td>7</td>\n",
       "      <td>3</td>\n",
       "      <td>0.800000</td>\n",
       "      <td>0.762590</td>\n",
       "      <td>0.82</td>\n",
       "    </tr>\n",
       "  </tbody>\n",
       "</table>\n",
       "</div>"
      ],
      "text/plain": [
       "    tree__max_depth  train accuracy  validation accuracy  test accuracy\n",
       "12                5        0.932143             0.820144           0.84\n",
       "13                5        0.932143             0.820144           0.84\n",
       "14                5        0.932143             0.820144           0.84\n",
       "6                 3        0.800000             0.762590           0.82\n",
       "7                 3        0.800000             0.762590           0.82"
      ]
     },
     "execution_count": 17,
     "metadata": {},
     "output_type": "execute_result"
    }
   ],
   "source": [
    "tree_df = pd.DataFrame(tree_score)\n",
    "tree_df.sort_values(by='test accuracy', ascending=False).head()"
   ]
  },
  {
   "cell_type": "code",
   "execution_count": 18,
   "metadata": {},
   "outputs": [
    {
     "data": {
      "image/png": "[encoded data removed]",
      "text/plain": [
       "<Figure size 1080x720 with 1 Axes>"
      ]
     },
     "metadata": {
      "needs_background": "light"
     },
     "output_type": "display_data"
    }
   ],
   "source": [
    "tree_df.plot(x='tree__max_depth', figsize=(15, 10) )\n",
    "plt.title('Validation Curve')\n",
    "plt.xlabel('Tree Depth')\n",
    "plt.xticks(range(6))\n",
    "plt.ylabel('Accuracy')\n",
    "plt.legend()\n",
    "plt.show()"
   ]
  },
  {
   "cell_type": "code",
   "execution_count": 19,
   "metadata": {},
   "outputs": [
    {
     "name": "stdout",
     "output_type": "stream",
     "text": [
      "Best accuracy on the train set: 0.9321428571428572 with a depth of 5\n"
     ]
    }
   ],
   "source": [
    "best_tr = tree_df['train accuracy'].idxmax()\n",
    "print ('Best accuracy on the train set: {} with a depth of {}'\n",
    "       .format(tree_df.loc[best_tr,'train accuracy'], tree_df.loc[best_tr,'tree__max_depth']))"
   ]
  },
  {
   "cell_type": "code",
   "execution_count": 20,
   "metadata": {},
   "outputs": [
    {
     "name": "stdout",
     "output_type": "stream",
     "text": [
      "Best accuracy on the test set: 0.84 with a depth of 5\n"
     ]
    }
   ],
   "source": [
    "best_te = tree_df['test accuracy'].idxmax()\n",
    "print ('Best accuracy on the test set: {} with a depth of {}'\n",
    "       .format(tree_df.loc[best_te,'test accuracy'], tree_df.loc[best_te,'tree__max_depth']))"
   ]
  },
  {
   "cell_type": "code",
   "execution_count": 21,
   "metadata": {},
   "outputs": [
    {
     "name": "stdout",
     "output_type": "stream",
     "text": [
      "Best accuracy on the validation set: 0.8201438848920863 with a depth of 5\n"
     ]
    }
   ],
   "source": [
    "best_val = tree_df['validation accuracy'].idxmax()\n",
    "print ('Best accuracy on the validation set: {} with a depth of {}'\n",
    "       .format(tree_df.loc[best_te,'validation accuracy'], tree_df.loc[best_val,'tree__max_depth']))"
   ]
  },
  {
   "cell_type": "code",
   "execution_count": 22,
   "metadata": {},
   "outputs": [
    {
     "data": {
      "text/plain": [
       "dict_keys(['memory', 'steps', 'verbose', 'pca', 'tree', 'pca__copy', 'pca__iterated_power', 'pca__n_components', 'pca__random_state', 'pca__svd_solver', 'pca__tol', 'pca__whiten', 'tree__class_weight', 'tree__criterion', 'tree__max_depth', 'tree__max_features', 'tree__max_leaf_nodes', 'tree__min_impurity_decrease', 'tree__min_impurity_split', 'tree__min_samples_leaf', 'tree__min_samples_split', 'tree__min_weight_fraction_leaf', 'tree__presort', 'tree__random_state', 'tree__splitter'])"
      ]
     },
     "execution_count": 22,
     "metadata": {},
     "output_type": "execute_result"
    }
   ],
   "source": [
    "pipe.get_params().keys()"
   ]
  },
  {
   "cell_type": "code",
   "execution_count": 23,
   "metadata": {},
   "outputs": [
    {
     "name": "stdout",
     "output_type": "stream",
     "text": [
      "Score on the training data:  0.9321428571428572\n",
      "Score on the validation data:  0.8129496402877698\n",
      "Score on the test data:  0.84\n"
     ]
    }
   ],
   "source": [
    "pipe.set_params(tree__max_depth=5)\n",
    "pipe.fit(X_tr, y_tr)\n",
    "\n",
    "train_score = pipe.score(X_tr, y_tr)\n",
    "print (\"Score on the training data: \", train_score)\n",
    "\n",
    "validation_score = pipe.score(X_val, y_val)\n",
    "print (\"Score on the validation data: \", validation_score)\n",
    "\n",
    "test_score = pipe.score(X_te, y_te)\n",
    "print (\"Score on the test data: \", test_score)"
   ]
  },
  {
   "cell_type": "code",
   "execution_count": null,
   "metadata": {},
   "outputs": [],
   "source": []
  }
 ],
 "metadata": {
  "kernelspec": {
   "display_name": "Python 3",
   "language": "python",
   "name": "python3"
  },
  "language_info": {
   "codemirror_mode": {
    "name": "ipython",
    "version": 3
   },
   "file_extension": ".py",
   "mimetype": "text/x-python",
   "name": "python",
   "nbconvert_exporter": "python",
   "pygments_lexer": "ipython3",
   "version": "3.7.4"
  }
 },
 "nbformat": 4,
 "nbformat_minor": 2
}
