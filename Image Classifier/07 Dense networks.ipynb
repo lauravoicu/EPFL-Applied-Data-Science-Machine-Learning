{
 "cells": [
  {
   "cell_type": "markdown",
   "metadata": {},
   "source": [
    "**Tasks**\n",
    "\n",
    "**Dense networks**\n",
    "\n",
    "Finally, try with neural networks\n",
    "\n",
    "- 1-layer dense network i.e. no hidden layer, just the input and output ones\n",
    "- 2-layer dense network i.e. one hidden layer"
   ]
  },
  {
   "cell_type": "code",
   "execution_count": 1,
   "metadata": {},
   "outputs": [],
   "source": [
    "import pandas as pd\n",
    "import numpy as np\n",
    "import matplotlib.pyplot as plt\n",
    "import seaborn as sns\n",
    "from sklearn.model_selection import train_test_split\n",
    "from sklearn.preprocessing import StandardScaler\n",
    "import tensorflow as tf\n",
    "%matplotlib inline"
   ]
  },
  {
   "cell_type": "code",
   "execution_count": 2,
   "metadata": {},
   "outputs": [
    {
     "name": "stdout",
     "output_type": "stream",
     "text": [
      "Train data loaded\n"
     ]
    }
   ],
   "source": [
    "# Load the numpy .npy file\n",
    "train_dataset_array = np.load(\"train_dataset_array.npy\")\n",
    "train_dataset_array_labels = np.load(\"train_dataset_array_labels.npy\")\n",
    "train_dataset_array_features = np.load(\"train_features.npy\")\n",
    "\n",
    "print('Train data loaded')"
   ]
  },
  {
   "cell_type": "code",
   "execution_count": 3,
   "metadata": {},
   "outputs": [
    {
     "name": "stdout",
     "output_type": "stream",
     "text": [
      "Test data loaded\n"
     ]
    }
   ],
   "source": [
    "# Load the numpy .npy file\n",
    "test_dataset_array = np.load(\"test_dataset_array.npy\")\n",
    "test_dataset_array_labels = np.load(\"test_dataset_array_labels.npy\")\n",
    "test_dataset_array_features = np.load(\"test_features.npy\")\n",
    "\n",
    "print('Test data loaded')"
   ]
  },
  {
   "cell_type": "code",
   "execution_count": 4,
   "metadata": {},
   "outputs": [
    {
     "name": "stdout",
     "output_type": "stream",
     "text": [
      "Validation data loaded\n"
     ]
    }
   ],
   "source": [
    "# Load the numpy .npy file\n",
    "valid_dataset_array = np.load(\"valid_dataset_array.npy\")\n",
    "valid_dataset_array_labels = np.load(\"valid_dataset_array_labels.npy\")\n",
    "valid_dataset_array_features = np.load(\"valid_features.npy\")\n",
    "\n",
    "print('Validation data loaded')"
   ]
  },
  {
   "cell_type": "code",
   "execution_count": 5,
   "metadata": {},
   "outputs": [
    {
     "name": "stdout",
     "output_type": "stream",
     "text": [
      "X: (280, 1024) float32\n",
      "y: (280,) int64\n"
     ]
    }
   ],
   "source": [
    "# Create X/y arrays\n",
    "X_tr = train_dataset_array_features\n",
    "y_tr = train_dataset_array_labels\n",
    "\n",
    "print('X:', X_tr.shape, X_tr.dtype)\n",
    "print('y:', y_tr.shape, y_tr.dtype)"
   ]
  },
  {
   "cell_type": "code",
   "execution_count": 6,
   "metadata": {},
   "outputs": [
    {
     "name": "stdout",
     "output_type": "stream",
     "text": [
      "X: (50, 1024) float32\n",
      "y: (50,) int64\n"
     ]
    }
   ],
   "source": [
    "# Create X/y arrays\n",
    "X_te = test_dataset_array_features\n",
    "y_te = test_dataset_array_labels\n",
    "\n",
    "print('X:', X_te.shape, X_te.dtype)\n",
    "print('y:', y_te.shape, y_te.dtype)"
   ]
  },
  {
   "cell_type": "code",
   "execution_count": 7,
   "metadata": {},
   "outputs": [
    {
     "name": "stdout",
     "output_type": "stream",
     "text": [
      "X_val: (139, 1024) float32\n",
      "y_val: (139,) int64\n"
     ]
    }
   ],
   "source": [
    "# Create X/y arrays\n",
    "X_val = valid_dataset_array_features\n",
    "y_val = valid_dataset_array_labels\n",
    "\n",
    "print('X_val:', X_val.shape, X_val.dtype)\n",
    "print('y_val:', y_val.shape, y_val.dtype)"
   ]
  },
  {
   "cell_type": "code",
   "execution_count": 8,
   "metadata": {},
   "outputs": [
    {
     "name": "stdout",
     "output_type": "stream",
     "text": [
      "Train shape: (280, 1024)\n",
      "Validation shape: (139, 1024)\n",
      "Test shape: (50, 1024)\n"
     ]
    }
   ],
   "source": [
    "# We scale our features since gradient descent is sensitive to the scale of the data\n",
    "scaler = StandardScaler()\n",
    "X_tr = scaler.fit_transform(X_tr)\n",
    "X_val = scaler.transform(X_val)\n",
    "X_te = scaler.transform(X_te)\n",
    "print('Train shape:', X_tr.shape)\n",
    "print('Validation shape:', X_val.shape)\n",
    "print('Test shape:', X_te.shape)"
   ]
  },
  {
   "cell_type": "code",
   "execution_count": 9,
   "metadata": {},
   "outputs": [],
   "source": [
    "# Batch generator\n",
    "def get_batches(X, y, batch_size):\n",
    "    # Shuffle X,y\n",
    "    shuffled_idx = np.arange(len(y)) # 1,2,...,n \n",
    "    np.random.shuffle(shuffled_idx)\n",
    "    # Enumerate indexes by steps of batch_size\n",
    "    # i: e, b, 2b, 3b, 4b, .. where b is the batch size \n",
    "    for i in range(0, len(y), batch_size):\n",
    "    # Batch indexes\n",
    "        batch_idx = shuffled_idx[i :i+batch_size] \n",
    "        yield X[batch_idx], y[batch_idx]"
   ]
  },
  {
   "cell_type": "code",
   "execution_count": 10,
   "metadata": {},
   "outputs": [
    {
     "name": "stdout",
     "output_type": "stream",
     "text": [
      "WARNING:tensorflow:From /Users/laura/opt/anaconda3/lib/python3.7/site-packages/tensorflow_core/python/compat/v2_compat.py:65: disable_resource_variables (from tensorflow.python.ops.variable_scope) is deprecated and will be removed in a future version.\n",
      "Instructions for updating:\n",
      "non-resource variables are not supported in the long term\n",
      "WARNING:tensorflow:From <ipython-input-10-4b1b3bda2c9d>:18: dense (from tensorflow.python.layers.core) is deprecated and will be removed in a future version.\n",
      "Instructions for updating:\n",
      "Use keras.layers.Dense instead.\n",
      "WARNING:tensorflow:From /Users/laura/opt/anaconda3/lib/python3.7/site-packages/tensorflow_core/python/layers/core.py:187: Layer.apply (from tensorflow.python.keras.engine.base_layer) is deprecated and will be removed in a future version.\n",
      "Instructions for updating:\n",
      "Please use `layer.__call__` method instead.\n"
     ]
    }
   ],
   "source": [
    "# first create 1-layer dense network i.e. no hidden layer, just the input and output ones\n",
    "import tensorflow.compat.v1 as tf\n",
    "tf.disable_v2_behavior() \n",
    "\n",
    "# Create new graph\n",
    "graph = tf.Graph()\n",
    "\n",
    "with graph.as_default():\n",
    "    # Create placeholders\n",
    "    X = tf.placeholder(dtype = tf.float32, shape=[None, X_tr.shape[1]])\n",
    "    y = tf.placeholder(dtype = tf.int32, shape=[None])    \n",
    "    \n",
    "    # Output layer, no hidden layer\n",
    "    logits = tf.layers.dense(\n",
    "        X, 6, activation = None, #No activation function\n",
    "        kernel_initializer = tf.variance_scaling_initializer(scale = 1, seed = 0),\n",
    "        bias_initializer = tf.zeros_initializer(),\n",
    "        name = 'output') \n",
    "    \n",
    "    # Get weights/biases of the output layer\n",
    "    with tf.variable_scope('output', reuse = True):\n",
    "        W2 = tf.get_variable('kernel')\n",
    "        b2 = tf.get_variable('bias')"
   ]
  },
  {
   "cell_type": "code",
   "execution_count": 11,
   "metadata": {},
   "outputs": [
    {
     "name": "stdout",
     "output_type": "stream",
     "text": [
      "WARNING:tensorflow:From <ipython-input-11-2526571595bc>:7: dropout (from tensorflow.python.layers.core) is deprecated and will be removed in a future version.\n",
      "Instructions for updating:\n",
      "Use keras.layers.dropout instead.\n"
     ]
    }
   ],
   "source": [
    "with graph.as_default():\n",
    "    \n",
    "    # Create training placeholder\n",
    "    training = tf.placeholder(dtype=tf.bool)\n",
    "    \n",
    "    # Applying dropout \n",
    "    inputs = tf.layers.dropout(X, rate=0.5, seed=0.5, training=training)\n",
    "    \n",
    "    # Mean cross-entropy\n",
    "    mean_ce = tf.reduce_mean(\n",
    "        tf.nn.sparse_softmax_cross_entropy_with_logits(\n",
    "            labels=y, logits=logits))\n",
    "    \n",
    "    # Learning rate placeholder\n",
    "    lr = tf.placeholder(dtype=tf.float32)\n",
    "    # Create the optimizer\n",
    "    gd = tf.train.GradientDescentOptimizer(learning_rate=lr)\n",
    "    \n",
    "    # L2 term\n",
    "    l2_term_W2 = tf.nn.l2_loss(W2)\n",
    "    \n",
    "    # Regularization strength\n",
    "    alpha = tf.placeholder(dtype=tf.float32)\n",
    "    \n",
    "    # Loss function\n",
    "    loss = mean_ce + alpha * (l2_term_W2)\n",
    "        \n",
    "    # Create a training operation\n",
    "    train_op = gd.minimize(loss)\n",
    "    \n",
    "    # Computing predictions/accuracy\n",
    "    predictions = tf.argmax(logits, axis=1, output_type=tf.int32)\n",
    "    is_correct = tf.equal(y, predictions)\n",
    "    accuracy = tf.reduce_mean(tf.cast(is_correct, dtype=tf.float32))"
   ]
  },
  {
   "cell_type": "code",
   "execution_count": 12,
   "metadata": {},
   "outputs": [
    {
     "name": "stdout",
     "output_type": "stream",
     "text": [
      "Epoch5 - valid: 0.547 train: 0.537 (mean)\n",
      "Epoch10 - valid: 0.705 train: 0.744 (mean)\n",
      "Epoch15 - valid: 0.748 train: 0.836 (mean)\n",
      "Epoch20 - valid: 0.748 train: 0.867 (mean)\n",
      "Epoch25 - valid: 0.799 train: 0.889 (mean)\n",
      "Epoch30 - valid: 0.827 train: 0.905 (mean)\n",
      "Epoch35 - valid: 0.827 train: 0.927 (mean)\n",
      "Epoch40 - valid: 0.827 train: 0.939 (mean)\n",
      "Epoch45 - valid: 0.849 train: 0.943 (mean)\n",
      "Epoch50 - valid: 0.849 train: 0.972 (mean)\n",
      "Epoch55 - valid: 0.849 train: 0.979 (mean)\n",
      "Epoch60 - valid: 0.849 train: 0.983 (mean)\n",
      "Epoch65 - valid: 0.856 train: 0.986 (mean)\n",
      "Epoch70 - valid: 0.856 train: 0.990 (mean)\n",
      "Epoch75 - valid: 0.856 train: 0.990 (mean)\n",
      "Epoch80 - valid: 0.856 train: 0.988 (mean)\n",
      "Epoch85 - valid: 0.856 train: 0.990 (mean)\n",
      "Epoch90 - valid: 0.849 train: 0.993 (mean)\n",
      "Epoch95 - valid: 0.856 train: 0.993 (mean)\n",
      "Epoch100 - valid: 0.856 train: 0.997 (mean)\n",
      "Epoch105 - valid: 0.849 train: 0.997 (mean)\n",
      "Epoch110 - valid: 0.849 train: 0.997 (mean)\n",
      "Epoch115 - valid: 0.849 train: 0.997 (mean)\n",
      "Epoch120 - valid: 0.849 train: 0.997 (mean)\n",
      "Epoch125 - valid: 0.849 train: 0.997 (mean)\n",
      "Epoch130 - valid: 0.849 train: 0.997 (mean)\n",
      "Epoch135 - valid: 0.849 train: 1.000 (mean)\n",
      "Epoch140 - valid: 0.849 train: 1.000 (mean)\n",
      "Epoch145 - valid: 0.856 train: 1.000 (mean)\n",
      "Epoch150 - valid: 0.856 train: 1.000 (mean)\n",
      "Epoch155 - valid: 0.856 train: 1.000 (mean)\n",
      "Epoch160 - valid: 0.856 train: 1.000 (mean)\n",
      "Epoch165 - valid: 0.856 train: 1.000 (mean)\n",
      "Epoch170 - valid: 0.856 train: 1.000 (mean)\n",
      "Epoch175 - valid: 0.856 train: 1.000 (mean)\n",
      "Epoch180 - valid: 0.856 train: 1.000 (mean)\n",
      "Epoch185 - valid: 0.856 train: 1.000 (mean)\n",
      "Epoch190 - valid: 0.856 train: 1.000 (mean)\n",
      "Epoch195 - valid: 0.856 train: 1.000 (mean)\n",
      "Epoch200 - valid: 0.856 train: 1.000 (mean)\n",
      "Accuracy of our Network on the test set: 0.860\n",
      "Accuracy of our Network on the validation set: 0.856\n"
     ]
    }
   ],
   "source": [
    "# Validation Accuracy\n",
    "valid_acc_values = []\n",
    "\n",
    "with tf.Session(graph=graph) as sess:\n",
    "    # Initialize variables\n",
    "    sess.run(tf.global_variables_initializer())\n",
    "    \n",
    "    # Set seed\n",
    "    np.random.seed(0)\n",
    "    \n",
    "    # Train several epochs\n",
    "    for epoch in range(200):\n",
    "        batch_acc = []\n",
    "        \n",
    "        for X_batch,y_batch in get_batches(X_tr, y_tr, 32):\n",
    "            # Run training and evaluate accuracy\n",
    "            _, acc_value = sess.run([train_op, accuracy],\n",
    "                                     feed_dict={X: X_batch,\n",
    "                                                y: y_batch, lr: 0.001,\n",
    "                                                training: True,\n",
    "                                                alpha: 0.001})\n",
    "            \n",
    "            # Save accuracy (current batch)\n",
    "            batch_acc.append(acc_value)\n",
    "            \n",
    "        # Evaluate validation accuracy\n",
    "        valid_acc = sess.run(accuracy, \n",
    "                             feed_dict={X: X_val, \n",
    "                                        y: y_val, \n",
    "                                        training:False})\n",
    "        \n",
    "        valid_acc_values.append(valid_acc)\n",
    "              \n",
    "        \n",
    "        if (epoch+1)%5==0: \n",
    "            print('Epoch{} - valid: {:.3f} train: {:.3f} (mean)'.format(epoch+1, \n",
    "                                                                    valid_acc, \n",
    "                                                                    np.mean(batch_acc)))   \n",
    "        \n",
    "    weights_hidden = W2.eval()\n",
    "    \n",
    "    # Evaluate test accuracy\n",
    "    test_acc = sess.run(accuracy, \n",
    "                        feed_dict={X: X_te, \n",
    "                                   y: y_te})\n",
    "    \n",
    "    print('Accuracy of our Network on the test set: {:.3f}'.format(test_acc))   \n",
    "    print('Accuracy of our Network on the validation set: {:.3f}'.format(valid_acc))   "
   ]
  },
  {
   "cell_type": "code",
   "execution_count": 13,
   "metadata": {},
   "outputs": [
    {
     "data": {
      "image/png": "[encoded data removed]",
      "text/plain": [
       "<Figure size 1080x720 with 1 Axes>"
      ]
     },
     "metadata": {
      "needs_background": "light"
     },
     "output_type": "display_data"
    }
   ],
   "source": [
    "fig = plt.figure(figsize=(15, 10))\n",
    "plt.plot(valid_acc_values)\n",
    "plt.title('Validation accuracy {:.3f} (mean last 20)'.format(np.mean(valid_acc_values[-20:])))\n",
    "plt.xlabel('Epoch')\n",
    "plt.ylabel('Accuracy')\n",
    "plt.show()"
   ]
  },
  {
   "cell_type": "code",
   "execution_count": 14,
   "metadata": {},
   "outputs": [],
   "source": [
    "# Create a 2-layer dense network i.e. one hidden layer\n",
    "import tensorflow.compat.v1 as tf\n",
    "tf.disable_v2_behavior() \n",
    "\n",
    "# Create new graph\n",
    "graph = tf.Graph()\n",
    "\n",
    "with graph.as_default():\n",
    "    # Create placeholders\n",
    "    X = tf.placeholder(dtype = tf.float32, shape=[None, X_tr.shape[1]])\n",
    "    y = tf.placeholder(dtype = tf.int32, shape=[None])\n",
    "    \n",
    "    # Hidden layer with 64 units\n",
    "    hidden = tf.layers.dense(\n",
    "        X, 64, activation = tf.nn.relu,  # ReLu\n",
    "        kernel_initializer = tf.variance_scaling_initializer(scale = 2, seed = 0),\n",
    "        bias_initializer=tf.zeros_initializer(), \n",
    "        name = 'hidden')\n",
    "    \n",
    "    # Output layer\n",
    "    logits = tf.layers.dense(\n",
    "        hidden, 6, activation = None, #No activation function\n",
    "        kernel_initializer = tf.variance_scaling_initializer(scale = 1, seed = 0),\n",
    "        bias_initializer = tf.zeros_initializer(),\n",
    "        name = 'output') \n",
    "    \n",
    "    # Get weights/biases of the hidden layer\n",
    "    with tf.variable_scope('hidden', reuse = True):\n",
    "        W1 = tf.get_variable('kernel')\n",
    "        b1 = tf.get_variable('bias')\n",
    "   \n",
    "    # Get weights/biases of the output layer\n",
    "    with tf.variable_scope('output', reuse = True):\n",
    "        W2 = tf.get_variable('kernel')\n",
    "        b2 = tf.get_variable('bias')"
   ]
  },
  {
   "cell_type": "code",
   "execution_count": 15,
   "metadata": {},
   "outputs": [],
   "source": [
    "with graph.as_default():\n",
    "    \n",
    "    # Create training placeholder\n",
    "    training = tf.placeholder(dtype=tf.bool)\n",
    "    \n",
    "    # Applying dropout \n",
    "    inputs = tf.layers.dropout(X, rate=0.5, seed=0.5, training=training)\n",
    "    hidden = tf.layers.dropout(hidden, rate=0.5, seed=0.5, training=training) \n",
    "    \n",
    "    # Mean cross-entropy\n",
    "    mean_ce = tf.reduce_mean(\n",
    "        tf.nn.sparse_softmax_cross_entropy_with_logits(\n",
    "            labels=y, logits=logits))\n",
    "    \n",
    "    # Learning rate placeholder\n",
    "    lr = tf.placeholder(dtype=tf.float32)\n",
    "    # Create the optimizer\n",
    "    gd = tf.train.GradientDescentOptimizer(learning_rate=lr)\n",
    "    \n",
    "    # L2 term\n",
    "    l2_term_W1 = tf.nn.l2_loss(W1)\n",
    "    l2_term_W2 = tf.nn.l2_loss(W2)\n",
    "    \n",
    "    # Regularization strength\n",
    "    alpha = tf.placeholder(dtype=tf.float32)\n",
    "    \n",
    "    # Loss function\n",
    "    loss = mean_ce + alpha * (l2_term_W1 + l2_term_W2)\n",
    "        \n",
    "    # Create a training operation\n",
    "    train_op = gd.minimize(loss)\n",
    "    \n",
    "    # Computing predictions/accuracy\n",
    "    predictions = tf.argmax(logits, axis=1, output_type=tf.int32)\n",
    "    is_correct = tf.equal(y, predictions)\n",
    "    accuracy = tf.reduce_mean(tf.cast(is_correct, dtype=tf.float32))"
   ]
  },
  {
   "cell_type": "code",
   "execution_count": 16,
   "metadata": {},
   "outputs": [
    {
     "name": "stdout",
     "output_type": "stream",
     "text": [
      "Epoch5 - valid: 0.317 train: 0.358 (mean)\n",
      "Epoch10 - valid: 0.475 train: 0.542 (mean)\n",
      "Epoch15 - valid: 0.604 train: 0.699 (mean)\n",
      "Epoch20 - valid: 0.669 train: 0.760 (mean)\n",
      "Epoch25 - valid: 0.712 train: 0.811 (mean)\n",
      "Epoch30 - valid: 0.748 train: 0.844 (mean)\n",
      "Epoch35 - valid: 0.755 train: 0.876 (mean)\n",
      "Epoch40 - valid: 0.777 train: 0.898 (mean)\n",
      "Epoch45 - valid: 0.784 train: 0.914 (mean)\n",
      "Epoch50 - valid: 0.791 train: 0.922 (mean)\n",
      "Epoch55 - valid: 0.799 train: 0.940 (mean)\n",
      "Epoch60 - valid: 0.799 train: 0.941 (mean)\n",
      "Epoch65 - valid: 0.799 train: 0.947 (mean)\n",
      "Epoch70 - valid: 0.806 train: 0.955 (mean)\n",
      "Epoch75 - valid: 0.799 train: 0.959 (mean)\n",
      "Epoch80 - valid: 0.806 train: 0.964 (mean)\n",
      "Epoch85 - valid: 0.820 train: 0.969 (mean)\n",
      "Epoch90 - valid: 0.820 train: 0.972 (mean)\n",
      "Epoch95 - valid: 0.827 train: 0.973 (mean)\n",
      "Epoch100 - valid: 0.827 train: 0.981 (mean)\n",
      "Epoch105 - valid: 0.835 train: 0.986 (mean)\n",
      "Epoch110 - valid: 0.835 train: 0.986 (mean)\n",
      "Epoch115 - valid: 0.835 train: 0.986 (mean)\n",
      "Epoch120 - valid: 0.835 train: 0.990 (mean)\n",
      "Epoch125 - valid: 0.835 train: 0.993 (mean)\n",
      "Epoch130 - valid: 0.835 train: 0.993 (mean)\n",
      "Epoch135 - valid: 0.835 train: 0.993 (mean)\n",
      "Epoch140 - valid: 0.827 train: 0.997 (mean)\n",
      "Epoch145 - valid: 0.827 train: 0.997 (mean)\n",
      "Epoch150 - valid: 0.827 train: 0.997 (mean)\n",
      "Epoch155 - valid: 0.827 train: 0.997 (mean)\n",
      "Epoch160 - valid: 0.827 train: 0.997 (mean)\n",
      "Epoch165 - valid: 0.820 train: 0.997 (mean)\n",
      "Epoch170 - valid: 0.820 train: 0.997 (mean)\n",
      "Epoch175 - valid: 0.820 train: 1.000 (mean)\n",
      "Epoch180 - valid: 0.820 train: 1.000 (mean)\n",
      "Epoch185 - valid: 0.820 train: 1.000 (mean)\n",
      "Epoch190 - valid: 0.820 train: 1.000 (mean)\n",
      "Epoch195 - valid: 0.820 train: 1.000 (mean)\n",
      "Epoch200 - valid: 0.820 train: 1.000 (mean)\n",
      "Accuracy of our Network on the test set: 0.900\n",
      "Accuracy of our Network on the validation set: 0.820\n"
     ]
    }
   ],
   "source": [
    "# Validation Accuracy\n",
    "valid_acc_values = []\n",
    "\n",
    "with tf.Session(graph=graph) as sess:\n",
    "    # Initialize variables\n",
    "    sess.run(tf.global_variables_initializer())\n",
    "    \n",
    "    # Set seed\n",
    "    np.random.seed(0)\n",
    "    \n",
    "    # Train several epochs\n",
    "    for epoch in range(200):\n",
    "        batch_acc = []\n",
    "        \n",
    "        for X_batch,y_batch in get_batches(X_tr, y_tr, 32):\n",
    "            # Run training and evaluate accuracy\n",
    "            _, acc_value = sess.run([train_op, accuracy],\n",
    "                                     feed_dict={X: X_batch,\n",
    "                                                y: y_batch, lr: 0.001,\n",
    "                                                training: True,\n",
    "                                                alpha: 0.001})\n",
    "            \n",
    "            # Save accuracy (current batch)\n",
    "            batch_acc.append(acc_value)\n",
    "            \n",
    "        # Evaluate validation accuracy\n",
    "        valid_acc = sess.run(accuracy, \n",
    "                             feed_dict={X: X_val, \n",
    "                                        y: y_val, \n",
    "                                        training:False})\n",
    "        \n",
    "        valid_acc_values.append(valid_acc)\n",
    "              \n",
    "        \n",
    "        if (epoch+1)%5==0: \n",
    "            print('Epoch{} - valid: {:.3f} train: {:.3f} (mean)'.format(epoch+1, \n",
    "                                                                    valid_acc, \n",
    "                                                                    np.mean(batch_acc)))   \n",
    "        \n",
    "    # Evaluate test accuracy\n",
    "    test_acc = sess.run(accuracy, \n",
    "                        feed_dict={X: X_te, \n",
    "                                   y: y_te})\n",
    "    \n",
    "    print('Accuracy of our Network on the test set: {:.3f}'.format(test_acc))   \n",
    "    print('Accuracy of our Network on the validation set: {:.3f}'.format(valid_acc))   \n",
    "\n",
    "    weights_hidden = W1.eval()\n",
    "    weights_hidden = W2.eval()"
   ]
  },
  {
   "cell_type": "code",
   "execution_count": 17,
   "metadata": {},
   "outputs": [
    {
     "data": {
      "image/png": "[encoded data removed]",
      "text/plain": [
       "<Figure size 1080x720 with 1 Axes>"
      ]
     },
     "metadata": {
      "needs_background": "light"
     },
     "output_type": "display_data"
    }
   ],
   "source": [
    "fig = plt.figure(figsize=(15, 10))\n",
    "plt.plot(valid_acc_values)\n",
    "plt.title('Validation accuracy {:.3f} (mean last 20)'.format(np.mean(valid_acc_values[-20:])))\n",
    "plt.xlabel('Epoch')\n",
    "plt.ylabel('Accuracy')\n",
    "plt.show()"
   ]
  },
  {
   "cell_type": "code",
   "execution_count": null,
   "metadata": {},
   "outputs": [],
   "source": []
  }
 ],
 "metadata": {
  "kernelspec": {
   "display_name": "Python 3",
   "language": "python",
   "name": "python3"
  },
  "language_info": {
   "codemirror_mode": {
    "name": "ipython",
    "version": 3
   },
   "file_extension": ".py",
   "mimetype": "text/x-python",
   "name": "python",
   "nbconvert_exporter": "python",
   "pygments_lexer": "ipython3",
   "version": "3.7.4"
  }
 },
 "nbformat": 4,
 "nbformat_minor": 2
}
